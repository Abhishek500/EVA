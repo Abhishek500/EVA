{
  "nbformat": 4,
  "nbformat_minor": 0,
  "metadata": {
    "colab": {
      "name": "C(capture) Profile+suffleNet",
      "provenance": [],
      "collapsed_sections": []
    },
    "kernelspec": {
      "name": "python3",
      "display_name": "Python 3"
    },
    "accelerator": "GPU"
  },
  "cells": [
    {
      "cell_type": "code",
      "metadata": {
        "id": "OKIefcxLDps7",
        "colab_type": "code",
        "outputId": "2bc53529-dbf7-4927-8e54-84ccc6f83e0f",
        "colab": {
          "base_uri": "https://localhost:8080/",
          "height": 68
        }
      },
      "source": [
        "# Ensure latest TensorFlow is installed.\n",
        "# !pip install -q tf-nightly-gpu-2.0-preview\n",
        "# Load the TensorBoard notebook extension.\n",
        "# %load_ext tensorboard"
      ],
      "execution_count": 0,
      "outputs": [
        {
          "output_type": "stream",
          "text": [
            "\u001b[K     |████████████████████████████████| 391.5MB 50kB/s \n",
            "\u001b[K     |████████████████████████████████| 3.8MB 27.9MB/s \n",
            "\u001b[K     |████████████████████████████████| 450kB 44.0MB/s \n",
            "\u001b[?25h"
          ],
          "name": "stdout"
        }
      ]
    },
    {
      "cell_type": "code",
      "metadata": {
        "id": "dZ3eQzmOJits",
        "colab_type": "code",
        "colab": {}
      },
      "source": [
        "import tensorflow as tf\n",
        "import datetime, os"
      ],
      "execution_count": 0,
      "outputs": []
    },
    {
      "cell_type": "code",
      "metadata": {
        "id": "MqzGUMXnJizn",
        "colab_type": "code",
        "outputId": "a2cb47d0-cd53-401d-ce7e-2a2ec66db653",
        "colab": {
          "base_uri": "https://localhost:8080/",
          "height": 153
        }
      },
      "source": [
        "fashion_mnist = tf.keras.datasets.fashion_mnist\n",
        "\n",
        "(x_train, y_train),(x_test, y_test) = fashion_mnist.load_data()\n",
        "x_train, x_test = x_train / 255.0, x_test / 255.0"
      ],
      "execution_count": 0,
      "outputs": [
        {
          "output_type": "stream",
          "text": [
            "Downloading data from https://storage.googleapis.com/tensorflow/tf-keras-datasets/train-labels-idx1-ubyte.gz\n",
            "32768/29515 [=================================] - 0s 0us/step\n",
            "Downloading data from https://storage.googleapis.com/tensorflow/tf-keras-datasets/train-images-idx3-ubyte.gz\n",
            "26427392/26421880 [==============================] - 0s 0us/step\n",
            "Downloading data from https://storage.googleapis.com/tensorflow/tf-keras-datasets/t10k-labels-idx1-ubyte.gz\n",
            "8192/5148 [===============================================] - 0s 0us/step\n",
            "Downloading data from https://storage.googleapis.com/tensorflow/tf-keras-datasets/t10k-images-idx3-ubyte.gz\n",
            "4423680/4422102 [==============================] - 0s 0us/step\n"
          ],
          "name": "stdout"
        }
      ]
    },
    {
      "cell_type": "code",
      "metadata": {
        "id": "1lvTXFO3JiyE",
        "colab_type": "code",
        "colab": {}
      },
      "source": [
        "def create_model():\n",
        "  return tf.keras.models.Sequential([\n",
        "    tf.keras.layers.Flatten(input_shape=(28, 28)),\n",
        "    tf.keras.layers.Dense(512, activation='relu'),\n",
        "    tf.keras.layers.Dropout(0.2),\n",
        "    tf.keras.layers.Dense(10, activation='softmax')\n",
        "  ])"
      ],
      "execution_count": 0,
      "outputs": []
    },
    {
      "cell_type": "code",
      "metadata": {
        "id": "zePN_FdBJirR",
        "colab_type": "code",
        "outputId": "1774a6e9-e81a-42ab-a3f2-7a04f9e0d9f2",
        "colab": {
          "base_uri": "https://localhost:8080/",
          "height": 309
        }
      },
      "source": [
        "def train_model():\n",
        "  \n",
        "  model = create_model()\n",
        "  model.compile(optimizer='adam',\n",
        "                loss='sparse_categorical_crossentropy',\n",
        "                metrics=['accuracy'])\n",
        "\n",
        "  logdir = os.path.join(\"./Graph\", datetime.datetime.now().strftime(\"%Y%m%d-%H%M%S\"))\n",
        "  tensorboard_callback = tf.keras.callbacks.TensorBoard(logdir, histogram_freq=1)\n",
        "\n",
        "  model.fit(x=x_train, \n",
        "            y=y_train, \n",
        "            epochs=5, \n",
        "            validation_data=(x_test, y_test), \n",
        "            callbacks=[tensorboard_callback])\n",
        "\n",
        "train_model()"
      ],
      "execution_count": 0,
      "outputs": [
        {
          "output_type": "stream",
          "text": [
            "WARNING:tensorflow:From /usr/local/lib/python3.6/dist-packages/tensorflow/python/ops/init_ops.py:1251: calling VarianceScaling.__init__ (from tensorflow.python.ops.init_ops) with dtype is deprecated and will be removed in a future version.\n",
            "Instructions for updating:\n",
            "Call initializer instance with the dtype argument instead of passing it to the constructor\n",
            "Train on 60000 samples, validate on 10000 samples\n",
            "Epoch 1/5\n",
            "   32/60000 [..............................] - ETA: 28:30 - loss: 2.3321 - acc: 0.1250WARNING:tensorflow:Method (on_train_batch_end) is slow compared to the batch update (0.143472). Check your callbacks.\n",
            "   64/60000 [..............................] - ETA: 16:18 - loss: 2.5209 - acc: 0.1406WARNING:tensorflow:Method (on_train_batch_end) is slow compared to the batch update (0.121118). Check your callbacks.\n",
            "60000/60000 [==============================] - 15s 248us/sample - loss: 0.5007 - acc: 0.8205 - val_loss: 0.4185 - val_acc: 0.8516\n",
            "Epoch 2/5\n",
            "60000/60000 [==============================] - 14s 234us/sample - loss: 0.3839 - acc: 0.8601 - val_loss: 0.4268 - val_acc: 0.8460\n",
            "Epoch 3/5\n",
            "60000/60000 [==============================] - 14s 232us/sample - loss: 0.3527 - acc: 0.8702 - val_loss: 0.3677 - val_acc: 0.8628\n",
            "Epoch 4/5\n",
            "60000/60000 [==============================] - 14s 234us/sample - loss: 0.3260 - acc: 0.8798 - val_loss: 0.3755 - val_acc: 0.8655\n",
            "Epoch 5/5\n",
            "60000/60000 [==============================] - 14s 233us/sample - loss: 0.3136 - acc: 0.8847 - val_loss: 0.3686 - val_acc: 0.8656\n"
          ],
          "name": "stdout"
        }
      ]
    },
    {
      "cell_type": "code",
      "metadata": {
        "id": "RUr5PCxGJiom",
        "colab_type": "code",
        "colab": {}
      },
      "source": [
        "# !ls"
      ],
      "execution_count": 0,
      "outputs": []
    },
    {
      "cell_type": "markdown",
      "metadata": {
        "id": "6kbNyFVcbno9",
        "colab_type": "text"
      },
      "source": [
        "# Graph on Tensorbord"
      ]
    },
    {
      "cell_type": "code",
      "metadata": {
        "id": "eqdbwop1JWlm",
        "colab_type": "code",
        "colab": {}
      },
      "source": [
        "LOG_DIR = './Graph'\n",
        "get_ipython().system_raw(\n",
        "    'tensorboard --logdir {} --host 0.0.0.0 --port 6006 &'\n",
        "    .format(LOG_DIR)\n",
        ")\n",
        "\n"
      ],
      "execution_count": 0,
      "outputs": []
    },
    {
      "cell_type": "code",
      "metadata": {
        "id": "Xx55yYJ5KJOk",
        "colab_type": "code",
        "outputId": "d7944889-79a1-4784-990a-debaa351c1a6",
        "colab": {
          "base_uri": "https://localhost:8080/",
          "height": 238
        }
      },
      "source": [
        "! wget https://bin.equinox.io/c/4VmDzA7iaHb/ngrok-stable-linux-amd64.zip\n",
        "! unzip ngrok-stable-linux-amd64.zip"
      ],
      "execution_count": 0,
      "outputs": [
        {
          "output_type": "stream",
          "text": [
            "--2019-09-22 08:28:26--  https://bin.equinox.io/c/4VmDzA7iaHb/ngrok-stable-linux-amd64.zip\n",
            "Resolving bin.equinox.io (bin.equinox.io)... 52.54.237.49, 52.204.136.9, 52.204.38.150, ...\n",
            "Connecting to bin.equinox.io (bin.equinox.io)|52.54.237.49|:443... connected.\n",
            "HTTP request sent, awaiting response... 200 OK\n",
            "Length: 13607069 (13M) [application/octet-stream]\n",
            "Saving to: ‘ngrok-stable-linux-amd64.zip’\n",
            "\n",
            "\r          ngrok-sta   0%[                    ]       0  --.-KB/s               \r         ngrok-stab   0%[                    ] 100.77K   414KB/s               \r        ngrok-stabl   6%[>                   ] 884.16K  1.78MB/s               \r       ngrok-stable  48%[========>           ]   6.32M  8.66MB/s               \rngrok-stable-linux- 100%[===================>]  12.98M  14.5MB/s    in 0.9s    \n",
            "\n",
            "2019-09-22 08:28:27 (14.5 MB/s) - ‘ngrok-stable-linux-amd64.zip’ saved [13607069/13607069]\n",
            "\n",
            "Archive:  ngrok-stable-linux-amd64.zip\n",
            "  inflating: ngrok                   \n"
          ],
          "name": "stdout"
        }
      ]
    },
    {
      "cell_type": "code",
      "metadata": {
        "id": "_pxbow4xOZ3a",
        "colab_type": "code",
        "colab": {}
      },
      "source": [
        "get_ipython().system_raw('./ngrok http 6006 &')"
      ],
      "execution_count": 0,
      "outputs": []
    },
    {
      "cell_type": "code",
      "metadata": {
        "id": "sZ0_MeP6OsVQ",
        "colab_type": "code",
        "outputId": "d5e950fd-eaa4-4da1-ac7e-b806f0f6f51a",
        "colab": {
          "base_uri": "https://localhost:8080/",
          "height": 34
        }
      },
      "source": [
        "! curl -s http://localhost:4040/api/tunnels | python3 -c \\\n",
        "    \"import sys, json; print(json.load(sys.stdin)['tunnels'][0]['public_url'])\""
      ],
      "execution_count": 0,
      "outputs": [
        {
          "output_type": "stream",
          "text": [
            "http://f753dd34.ngrok.io\n"
          ],
          "name": "stdout"
        }
      ]
    },
    {
      "cell_type": "code",
      "metadata": {
        "id": "RMremew4QdeC",
        "colab_type": "code",
        "colab": {}
      },
      "source": [
        ""
      ],
      "execution_count": 0,
      "outputs": []
    },
    {
      "cell_type": "markdown",
      "metadata": {
        "id": "QQDciH2UQd0d",
        "colab_type": "text"
      },
      "source": [
        "# AUG in tf"
      ]
    },
    {
      "cell_type": "markdown",
      "metadata": {
        "id": "f3oC9hoiDqeL",
        "colab_type": "text"
      },
      "source": [
        "[FastNet](https://github.com/faizanahemad/FastNet/blob/master/examples/TFRecords_Image_augmentations.ipynb)\n",
        "\n",
        "[FastNet](https://github.com/faizanahemad/FastNet)\n",
        "\n",
        "[FastNet](https://github.com/faizanahemad/FastNet/blob/master/examples/TFRecord_Benchmarks.ipynb)\n",
        "\n",
        "[tensorboard_profiling_keras](https://www.tensorflow.org/tensorboard/r2/tensorboard_profiling_keras)\n",
        "\n",
        "[Aug_in_TF](https://www.wouterbulten.nl/blog/tech/data-augmentation-using-tensorflow-data-dataset/)\n",
        "\n",
        "\n",
        "[tflearn](https://github.com/tflearn/tflearn/tree/master/tflearn)"
      ]
    },
    {
      "cell_type": "code",
      "metadata": {
        "id": "YtfedoOikOYg",
        "colab_type": "code",
        "colab": {}
      },
      "source": [
        "import tensorflow as tf"
      ],
      "execution_count": 0,
      "outputs": []
    },
    {
      "cell_type": "code",
      "metadata": {
        "id": "DITu7UA5lr1_",
        "colab_type": "code",
        "outputId": "5a3b297c-e1ca-4970-d780-b5d6e80e2ee8",
        "colab": {
          "base_uri": "https://localhost:8080/",
          "height": 34
        }
      },
      "source": [
        "tf.__version__"
      ],
      "execution_count": 0,
      "outputs": [
        {
          "output_type": "execute_result",
          "data": {
            "text/plain": [
              "'1.14.0'"
            ]
          },
          "metadata": {
            "tags": []
          },
          "execution_count": 3
        }
      ]
    },
    {
      "cell_type": "code",
      "metadata": {
        "id": "qKPkFrKFluk6",
        "colab_type": "code",
        "colab": {}
      },
      "source": [
        "import numpy as np\n",
        "import tensorflow as tf\n",
        "import os\n",
        "\n",
        "import logging\n",
        "logger = logging.getLogger(\"Image Augmentations\")\n",
        "logger.setLevel(logging.INFO)\n",
        "import tensorflow_datasets as tfds\n",
        "\n",
        "def replace_slice(input_: tf.Tensor, replacement, begin) -> tf.Tensor:\n",
        "    inp_shape = tf.shape(input_)\n",
        "    size = tf.shape(replacement)\n",
        "    padding = tf.stack([begin, inp_shape - (begin + size)], axis=1)\n",
        "    replacement_pad = tf.pad(replacement, padding)\n",
        "    mask = tf.pad(tf.ones_like(replacement, dtype=tf.bool), padding)\n",
        "    return tf.where(mask, replacement_pad, input_)\n",
        "\n",
        "\n",
        "def get_cutout_eraser(minimum, maximum, area: int = 81, c: int = 3, min_aspect_ratio=0.5, max_aspect_ratio=1 / 0.5):\n",
        "    sqrt_area = np.sqrt(area)\n",
        "\n",
        "    def get_h_w(aspect_ratio):\n",
        "        h = sqrt_area / aspect_ratio\n",
        "        w = tf.math.round(area / h)\n",
        "        h = tf.math.round(h)\n",
        "        h = tf.cast(h, tf.int32)\n",
        "        w = tf.cast(w, tf.int32)\n",
        "        return h, w\n",
        "\n",
        "    def tf_cutout(x: tf.Tensor) -> tf.Tensor:\n",
        "        \"\"\"\n",
        "        Cutout data augmentation. Randomly cuts a h by w whole in the image, and fill the whole with zeros.\n",
        "        :param x: Input image.\n",
        "        :param h: Height of the hole.\n",
        "        :param w: Width of the hole\n",
        "        :param c: Number of color channels in the image. Default: 3 (RGB).\n",
        "        :return: Transformed image.\n",
        "        \"\"\"\n",
        "        dtype = x.dtype\n",
        "        minval = tf.cast(minimum, dtype=dtype)\n",
        "        maxval = tf.cast(maximum, dtype=dtype)\n",
        "\n",
        "        aspect_ratio = tf.random.uniform([], min_aspect_ratio, max_aspect_ratio)\n",
        "        h, w = get_h_w(aspect_ratio)\n",
        "\n",
        "        shape = tf.shape(x)\n",
        "        x0 = tf.random.uniform([], 0, shape[1] + 1 - h, dtype=tf.int32)\n",
        "        y0 = tf.random.uniform([], 0, shape[2] + 1 - w, dtype=tf.int32)\n",
        "\n",
        "        slic = tf.random.uniform([shape[0], h, w, c], minval=minval, maxval=maxval, dtype=dtype)\n",
        "        x = replace_slice(x, slic, [0, x0, y0, 0])\n",
        "        return x\n",
        "\n",
        "    return tf_cutout\n",
        "\n",
        "\n",
        "def get_hue_aug(max_delta):\n",
        "    return lambda x: tf.image.random_hue(x,max_delta=max_delta)\n",
        "\n",
        "\n",
        "def get_brightness_aug(max_delta):\n",
        "    return lambda x: tf.image.random_brightness(x,max_delta=max_delta)\n",
        "\n",
        "\n",
        "def get_contrast_aug(max_delta):\n",
        "    return lambda x: tf.image.random_contrast(x,max_delta=max_delta)\n",
        "\n",
        "\n",
        "def get_saturation_aug(lower,upper):\n",
        "    return lambda x: tf.image.random_saturation(x,lower=lower,upper=upper)\n",
        "\n",
        "\n",
        "def get_hflip_aug():\n",
        "    return lambda x: tf.image.random_flip_left_right(x)\n",
        "\n",
        "\n",
        "def get_random_pad_crop(pad_height,pad_width, cropped_height,cropped_width):\n",
        "    def transformer(x):\n",
        "        shape = tf.shape(x)\n",
        "        paddings = [[0,0],[pad_height,pad_height],[pad_width,pad_width],[0,0]]\n",
        "        x = tf.pad(x,paddings,mode='REFLECT',)\n",
        "        return tf.image.random_crop(x, [shape[0], cropped_height, cropped_width, shape[3]])\n",
        "    return transformer\n",
        "\n",
        "\n",
        "def get_first_argument_transformer(fn):\n",
        "    def transformer_wrapper(x: tf.Tensor, *args):\n",
        "        return tuple([fn(x)]+list(args))\n",
        "    return transformer_wrapper\n",
        "\n",
        "\n",
        "def combine_transformers(*transformers):\n",
        "    # wraping all indivisual aug #Taking more time copare to map.\n",
        "    def wrapper(*args):\n",
        "        for t in transformers:\n",
        "            args = t(*args)\n",
        "        return tuple(args)\n",
        "    return wrapper"
      ],
      "execution_count": 0,
      "outputs": []
    },
    {
      "cell_type": "code",
      "metadata": {
        "id": "Dhp9Dp8S7UZQ",
        "colab_type": "code",
        "colab": {}
      },
      "source": [
        "# pip install --upgrade --upgrade-strategy only-if-needed https://github.com/faizanahemad/FastNet/tarball/master"
      ],
      "execution_count": 0,
      "outputs": []
    },
    {
      "cell_type": "code",
      "metadata": {
        "id": "B4X0h4N_l_GV",
        "colab_type": "code",
        "colab": {}
      },
      "source": [
        "import fastnet as fn\n",
        "random_pad_crop = get_first_argument_transformer(get_random_pad_crop(4,4,32,32))\n",
        "cutout = get_first_argument_transformer(get_cutout_eraser(0,255))\n",
        "hflip = get_first_argument_transformer(get_hflip_aug())\n",
        "\n",
        "transformations = combine_transformers(random_pad_crop,hflip,cutout)\n",
        "\n",
        "transformation = combine_transformers(get_hflip_aug, get_random_pad_crop)"
      ],
      "execution_count": 0,
      "outputs": []
    },
    {
      "cell_type": "code",
      "metadata": {
        "id": "kx1yiY8qtMGa",
        "colab_type": "code",
        "colab": {}
      },
      "source": [
        "cifar_builder = tfds.builder('cifar10')\n",
        "cifar_builder.download_and_prepare()"
      ],
      "execution_count": 0,
      "outputs": []
    },
    {
      "cell_type": "code",
      "metadata": {
        "id": "Tpo9bdbh48ds",
        "colab_type": "code",
        "colab": {}
      },
      "source": [
        "train_data = cifar_builder.as_dataset(split=tfds.Split.TRAIN)"
      ],
      "execution_count": 0,
      "outputs": []
    },
    {
      "cell_type": "code",
      "metadata": {
        "id": "4s40H2zX5zow",
        "colab_type": "code",
        "outputId": "30cb0d81-f677-41da-8caf-4928083cbf5a",
        "colab": {
          "base_uri": "https://localhost:8080/",
          "height": 34
        }
      },
      "source": [
        "train_data"
      ],
      "execution_count": 0,
      "outputs": [
        {
          "output_type": "execute_result",
          "data": {
            "text/plain": [
              "<_OptionsDataset shapes: {image: (32, 32, 3), label: ()}, types: {image: tf.uint8, label: tf.int64}>"
            ]
          },
          "metadata": {
            "tags": []
          },
          "execution_count": 165
        }
      ]
    },
    {
      "cell_type": "code",
      "metadata": {
        "id": "2HRqPYMu51_x",
        "colab_type": "code",
        "colab": {}
      },
      "source": [
        "%%timeit\n",
        "batch_size = 512\n",
        "imgs = 50000\n",
        "batches = imgs//batch_size\n",
        "cf10_ex = []\n",
        "train,test = fn.get_cifar10(\"cifar10\",batch_size)\n",
        "for x,y in train.map(random_pad_crop).map(cutout).map(hflip).take(batches):\n",
        "    cf10_ex.append(tf.shape(x))"
      ],
      "execution_count": 0,
      "outputs": []
    },
    {
      "cell_type": "code",
      "metadata": {
        "id": "lUaLVv_W6oWd",
        "colab_type": "code",
        "colab": {}
      },
      "source": [
        ""
      ],
      "execution_count": 0,
      "outputs": []
    },
    {
      "cell_type": "markdown",
      "metadata": {
        "id": "SuP-pfiyfA9c",
        "colab_type": "text"
      },
      "source": [
        "# testing repo."
      ]
    },
    {
      "cell_type": "code",
      "metadata": {
        "id": "2m65lg03fCnm",
        "colab_type": "code",
        "outputId": "641a30ed-dd91-4679-b13b-a66a2b728fd5",
        "colab": {
          "base_uri": "https://localhost:8080/",
          "height": 1000
        }
      },
      "source": [
        "# \n",
        "pip install --upgrade --upgrade-strategy only-if-needed https://github.com/kkrunal77/data_science_utils/tarball/master\n"
      ],
      "execution_count": 0,
      "outputs": [
        {
          "output_type": "stream",
          "text": [
            "Collecting https://github.com/kkrunal77/data_science_utils/tarball/master\n",
            "\u001b[?25l  Downloading https://github.com/kkrunal77/data_science_utils/tarball/master\n",
            "\u001b[K     - 10kB 2.7MB/s\n",
            "\u001b[?25hRequirement already satisfied, skipping upgrade: numpy in /usr/local/lib/python3.6/dist-packages (from data-science-utils==0.0.0) (1.16.5)\n",
            "Requirement already satisfied, skipping upgrade: tensorflow in /usr/local/lib/python3.6/dist-packages (from data-science-utils==0.0.0) (1.14.0)\n",
            "Requirement already satisfied, skipping upgrade: tensorflow_datasets in /usr/local/lib/python3.6/dist-packages (from data-science-utils==0.0.0) (1.2.0)\n",
            "Requirement already satisfied, skipping upgrade: pandas in /usr/local/lib/python3.6/dist-packages (from data-science-utils==0.0.0) (0.24.2)\n",
            "Requirement already satisfied, skipping upgrade: more-itertools in /usr/local/lib/python3.6/dist-packages (from data-science-utils==0.0.0) (7.2.0)\n",
            "Requirement already satisfied, skipping upgrade: dill in /usr/local/lib/python3.6/dist-packages (from data-science-utils==0.0.0) (0.3.0)\n",
            "Requirement already satisfied, skipping upgrade: seaborn in /usr/local/lib/python3.6/dist-packages (from data-science-utils==0.0.0) (0.9.0)\n",
            "Requirement already satisfied, skipping upgrade: joblib in /usr/local/lib/python3.6/dist-packages (from data-science-utils==0.0.0) (0.13.2)\n",
            "Requirement already satisfied, skipping upgrade: opencv-python in /usr/local/lib/python3.6/dist-packages (from data-science-utils==0.0.0) (3.4.5.20)\n",
            "Requirement already satisfied, skipping upgrade: astor>=0.6.0 in /usr/local/lib/python3.6/dist-packages (from tensorflow->data-science-utils==0.0.0) (0.8.0)\n",
            "Requirement already satisfied, skipping upgrade: keras-preprocessing>=1.0.5 in /usr/local/lib/python3.6/dist-packages (from tensorflow->data-science-utils==0.0.0) (1.1.0)\n",
            "Requirement already satisfied, skipping upgrade: tensorboard<1.15.0,>=1.14.0 in /usr/local/lib/python3.6/dist-packages (from tensorflow->data-science-utils==0.0.0) (1.14.0)\n",
            "Requirement already satisfied, skipping upgrade: protobuf>=3.6.1 in /usr/local/lib/python3.6/dist-packages (from tensorflow->data-science-utils==0.0.0) (3.7.1)\n",
            "Requirement already satisfied, skipping upgrade: termcolor>=1.1.0 in /usr/local/lib/python3.6/dist-packages (from tensorflow->data-science-utils==0.0.0) (1.1.0)\n",
            "Requirement already satisfied, skipping upgrade: wheel>=0.26 in /usr/local/lib/python3.6/dist-packages (from tensorflow->data-science-utils==0.0.0) (0.33.6)\n",
            "Requirement already satisfied, skipping upgrade: tensorflow-estimator<1.15.0rc0,>=1.14.0rc0 in /usr/local/lib/python3.6/dist-packages (from tensorflow->data-science-utils==0.0.0) (1.14.0)\n",
            "Requirement already satisfied, skipping upgrade: six>=1.10.0 in /usr/local/lib/python3.6/dist-packages (from tensorflow->data-science-utils==0.0.0) (1.12.0)\n",
            "Requirement already satisfied, skipping upgrade: gast>=0.2.0 in /usr/local/lib/python3.6/dist-packages (from tensorflow->data-science-utils==0.0.0) (0.2.2)\n",
            "Requirement already satisfied, skipping upgrade: grpcio>=1.8.6 in /usr/local/lib/python3.6/dist-packages (from tensorflow->data-science-utils==0.0.0) (1.15.0)\n",
            "Requirement already satisfied, skipping upgrade: wrapt>=1.11.1 in /usr/local/lib/python3.6/dist-packages (from tensorflow->data-science-utils==0.0.0) (1.11.2)\n",
            "Requirement already satisfied, skipping upgrade: keras-applications>=1.0.6 in /usr/local/lib/python3.6/dist-packages (from tensorflow->data-science-utils==0.0.0) (1.0.8)\n",
            "Requirement already satisfied, skipping upgrade: absl-py>=0.7.0 in /usr/local/lib/python3.6/dist-packages (from tensorflow->data-science-utils==0.0.0) (0.8.0)\n",
            "Requirement already satisfied, skipping upgrade: google-pasta>=0.1.6 in /usr/local/lib/python3.6/dist-packages (from tensorflow->data-science-utils==0.0.0) (0.1.7)\n",
            "Requirement already satisfied, skipping upgrade: promise in /usr/local/lib/python3.6/dist-packages (from tensorflow_datasets->data-science-utils==0.0.0) (2.2.1)\n",
            "Requirement already satisfied, skipping upgrade: attrs in /usr/local/lib/python3.6/dist-packages (from tensorflow_datasets->data-science-utils==0.0.0) (19.1.0)\n",
            "Requirement already satisfied, skipping upgrade: psutil in /usr/local/lib/python3.6/dist-packages (from tensorflow_datasets->data-science-utils==0.0.0) (5.4.8)\n",
            "Requirement already satisfied, skipping upgrade: tensorflow-metadata in /usr/local/lib/python3.6/dist-packages (from tensorflow_datasets->data-science-utils==0.0.0) (0.14.0)\n",
            "Requirement already satisfied, skipping upgrade: future in /usr/local/lib/python3.6/dist-packages (from tensorflow_datasets->data-science-utils==0.0.0) (0.16.0)\n",
            "Requirement already satisfied, skipping upgrade: tqdm in /usr/local/lib/python3.6/dist-packages (from tensorflow_datasets->data-science-utils==0.0.0) (4.28.1)\n",
            "Requirement already satisfied, skipping upgrade: requests>=2.19.0 in /usr/local/lib/python3.6/dist-packages (from tensorflow_datasets->data-science-utils==0.0.0) (2.21.0)\n",
            "Requirement already satisfied, skipping upgrade: python-dateutil>=2.5.0 in /usr/local/lib/python3.6/dist-packages (from pandas->data-science-utils==0.0.0) (2.5.3)\n",
            "Requirement already satisfied, skipping upgrade: pytz>=2011k in /usr/local/lib/python3.6/dist-packages (from pandas->data-science-utils==0.0.0) (2018.9)\n",
            "Requirement already satisfied, skipping upgrade: matplotlib>=1.4.3 in /usr/local/lib/python3.6/dist-packages (from seaborn->data-science-utils==0.0.0) (3.0.3)\n",
            "Requirement already satisfied, skipping upgrade: scipy>=0.14.0 in /usr/local/lib/python3.6/dist-packages (from seaborn->data-science-utils==0.0.0) (1.3.1)\n",
            "Requirement already satisfied, skipping upgrade: markdown>=2.6.8 in /usr/local/lib/python3.6/dist-packages (from tensorboard<1.15.0,>=1.14.0->tensorflow->data-science-utils==0.0.0) (3.1.1)\n",
            "Requirement already satisfied, skipping upgrade: werkzeug>=0.11.15 in /usr/local/lib/python3.6/dist-packages (from tensorboard<1.15.0,>=1.14.0->tensorflow->data-science-utils==0.0.0) (0.15.6)\n",
            "Requirement already satisfied, skipping upgrade: setuptools>=41.0.0 in /usr/local/lib/python3.6/dist-packages (from tensorboard<1.15.0,>=1.14.0->tensorflow->data-science-utils==0.0.0) (41.2.0)\n",
            "Requirement already satisfied, skipping upgrade: h5py in /usr/local/lib/python3.6/dist-packages (from keras-applications>=1.0.6->tensorflow->data-science-utils==0.0.0) (2.8.0)\n",
            "Requirement already satisfied, skipping upgrade: googleapis-common-protos in /usr/local/lib/python3.6/dist-packages (from tensorflow-metadata->tensorflow_datasets->data-science-utils==0.0.0) (1.6.0)\n",
            "Requirement already satisfied, skipping upgrade: certifi>=2017.4.17 in /usr/local/lib/python3.6/dist-packages (from requests>=2.19.0->tensorflow_datasets->data-science-utils==0.0.0) (2019.6.16)\n",
            "Requirement already satisfied, skipping upgrade: idna<2.9,>=2.5 in /usr/local/lib/python3.6/dist-packages (from requests>=2.19.0->tensorflow_datasets->data-science-utils==0.0.0) (2.8)\n",
            "Requirement already satisfied, skipping upgrade: chardet<3.1.0,>=3.0.2 in /usr/local/lib/python3.6/dist-packages (from requests>=2.19.0->tensorflow_datasets->data-science-utils==0.0.0) (3.0.4)\n",
            "Requirement already satisfied, skipping upgrade: urllib3<1.25,>=1.21.1 in /usr/local/lib/python3.6/dist-packages (from requests>=2.19.0->tensorflow_datasets->data-science-utils==0.0.0) (1.24.3)\n",
            "Requirement already satisfied, skipping upgrade: kiwisolver>=1.0.1 in /usr/local/lib/python3.6/dist-packages (from matplotlib>=1.4.3->seaborn->data-science-utils==0.0.0) (1.1.0)\n",
            "Requirement already satisfied, skipping upgrade: pyparsing!=2.0.4,!=2.1.2,!=2.1.6,>=2.0.1 in /usr/local/lib/python3.6/dist-packages (from matplotlib>=1.4.3->seaborn->data-science-utils==0.0.0) (2.4.2)\n",
            "Requirement already satisfied, skipping upgrade: cycler>=0.10 in /usr/local/lib/python3.6/dist-packages (from matplotlib>=1.4.3->seaborn->data-science-utils==0.0.0) (0.10.0)\n",
            "Building wheels for collected packages: data-science-utils\n",
            "  Building wheel for data-science-utils (setup.py) ... \u001b[?25l\u001b[?25hdone\n",
            "  Created wheel for data-science-utils: filename=data_science_utils-0.0.0-cp36-none-any.whl size=7473 sha256=6788ff52c40db5ef54ea385bfd2ee7773b232a43c58c00b01fa2bd74441c6cac\n",
            "  Stored in directory: /tmp/pip-ephem-wheel-cache-wj6v8tyn/wheels/72/1a/9f/4d1aadec4afb9693f42c521c5be90d606f56f435ba21e38756\n",
            "Successfully built data-science-utils\n",
            "Installing collected packages: data-science-utils\n",
            "  Found existing installation: data-science-utils 0.0.0\n",
            "    Uninstalling data-science-utils-0.0.0:\n",
            "      Successfully uninstalled data-science-utils-0.0.0\n",
            "Successfully installed data-science-utils-0.0.0\n"
          ],
          "name": "stdout"
        }
      ]
    },
    {
      "cell_type": "code",
      "metadata": {
        "id": "mtotnnawfDd0",
        "colab_type": "code",
        "outputId": "2395d655-6df6-4c60-e0bf-063f24444a61",
        "colab": {
          "base_uri": "https://localhost:8080/",
          "height": 153
        }
      },
      "source": [
        "import data_science_utils as kk\n"
      ],
      "execution_count": 0,
      "outputs": [
        {
          "output_type": "stream",
          "text": [
            "WARNING:tensorflow:\n",
            "The TensorFlow contrib module will not be included in TensorFlow 2.0.\n",
            "For more information, please see:\n",
            "  * https://github.com/tensorflow/community/blob/master/rfcs/20180907-contrib-sunset.md\n",
            "  * https://github.com/tensorflow/addons\n",
            "  * https://github.com/tensorflow/io (for I/O related ops)\n",
            "If you depend on functionality not listed there, please file an issue.\n",
            "\n"
          ],
          "name": "stdout"
        }
      ]
    },
    {
      "cell_type": "code",
      "metadata": {
        "id": "n1NqKZVdf4GA",
        "colab_type": "code",
        "outputId": "bfa3805b-5a37-40e4-a47c-1d68c1605aa2",
        "colab": {
          "base_uri": "https://localhost:8080/",
          "height": 34
        }
      },
      "source": [
        "kk.combine_transformers"
      ],
      "execution_count": 0,
      "outputs": [
        {
          "output_type": "execute_result",
          "data": {
            "text/plain": [
              "<function data_science_utils.data.augmentations.augmentations.combine_transformers>"
            ]
          },
          "metadata": {
            "tags": []
          },
          "execution_count": 3
        }
      ]
    },
    {
      "cell_type": "code",
      "metadata": {
        "id": "GYm2IScwmHPL",
        "colab_type": "code",
        "colab": {}
      },
      "source": [
        "train, test = kk.get_cifar10(\"./\",batch_size=128)"
      ],
      "execution_count": 0,
      "outputs": []
    },
    {
      "cell_type": "markdown",
      "metadata": {
        "id": "Tmcsgbk5NMmF",
        "colab_type": "text"
      },
      "source": [
        "# Sufflenet"
      ]
    },
    {
      "cell_type": "code",
      "metadata": {
        "id": "jW5SRjTJNP59",
        "colab_type": "code",
        "outputId": "fb744d2e-0e3f-4136-f469-a804ab500282",
        "colab": {
          "base_uri": "https://localhost:8080/",
          "height": 34
        }
      },
      "source": [
        "# !pip install -q tf-nightly-gpu-2.0-preview\n",
        "import tensorflow as tf\n",
        "print(tf.__version__)"
      ],
      "execution_count": 0,
      "outputs": [
        {
          "output_type": "stream",
          "text": [
            "1.14.0\n"
          ],
          "name": "stdout"
        }
      ]
    },
    {
      "cell_type": "code",
      "metadata": {
        "id": "SoKzNNaPZ0YZ",
        "colab_type": "code",
        "outputId": "b0e5d085-abc5-4789-a574-454127a36d34",
        "colab": {
          "base_uri": "https://localhost:8080/",
          "height": 204
        }
      },
      "source": [
        "!wget http://models.tensorpack.com/ImageNetModels/ShuffleNetV1-1x-g=8.npz"
      ],
      "execution_count": 0,
      "outputs": [
        {
          "output_type": "stream",
          "text": [
            "--2019-09-19 16:42:39--  http://models.tensorpack.com/ImageNetModels/ShuffleNetV1-1x-g=8.npz\n",
            "Resolving models.tensorpack.com (models.tensorpack.com)... 185.207.105.29\n",
            "Connecting to models.tensorpack.com (models.tensorpack.com)|185.207.105.29|:80... connected.\n",
            "HTTP request sent, awaiting response... 200 OK\n",
            "Length: 9248798 (8.8M) [application/octet-stream]\n",
            "Saving to: ‘ShuffleNetV1-1x-g=8.npz’\n",
            "\n",
            "\rShuffleNetV1-1x-g=8   0%[                    ]       0  --.-KB/s               \rShuffleNetV1-1x-g=8   0%[                    ]  42.17K   195KB/s               \rShuffleNetV1-1x-g=8   2%[                    ] 197.71K   455KB/s               \rShuffleNetV1-1x-g=8   8%[>                   ] 784.55K  1.17MB/s               \rShuffleNetV1-1x-g=8  27%[====>               ]   2.43M  2.79MB/s               \rShuffleNetV1-1x-g=8  87%[================>   ]   7.72M  7.02MB/s               \rShuffleNetV1-1x-g=8 100%[===================>]   8.82M  7.23MB/s    in 1.2s    \n",
            "\n",
            "2019-09-19 16:42:40 (7.23 MB/s) - ‘ShuffleNetV1-1x-g=8.npz’ saved [9248798/9248798]\n",
            "\n"
          ],
          "name": "stdout"
        }
      ]
    },
    {
      "cell_type": "code",
      "metadata": {
        "id": "fzskoqLYZ5zo",
        "colab_type": "code",
        "outputId": "f553982e-a122-40e5-cdb4-c908e9588031",
        "colab": {
          "base_uri": "https://localhost:8080/",
          "height": 34
        }
      },
      "source": [
        "!ls"
      ],
      "execution_count": 0,
      "outputs": [
        {
          "output_type": "stream",
          "text": [
            " sample_data  'ShuffleNetV1-1x-g=8.npz'\n"
          ],
          "name": "stdout"
        }
      ]
    },
    {
      "cell_type": "markdown",
      "metadata": {
        "id": "Sokr46XJU9oN",
        "colab_type": "text"
      },
      "source": [
        "[Tensorflow-Shufflenet](https://github.com/europa1610/Tensorflow-Shufflenet)"
      ]
    },
    {
      "cell_type": "code",
      "metadata": {
        "id": "ecW0vSgpNS8H",
        "colab_type": "code",
        "colab": {}
      },
      "source": [
        "import tensorflow as tf\n",
        "import numpy as np\n",
        "import time\n",
        "\n",
        "SHUFFLENET_MEAN = [103.939, 116.779, 123.68]\n",
        "NORMALIZER = 0.017\n",
        "#Parameters credits to https://github.com/MG2033/ShuffleNet\n",
        "\n",
        "class Shufflenet:\n",
        "    #Load pretrained model on initialization. Model downloaded from http://models.tensorpack.com/ImageNetModels/ShuffleNetV1-1x-g=8.npz\n",
        "    def __init__(self, model_loc):\n",
        "        self.trained_model = np.load(model_loc, encoding = 'latin1')\n",
        "        print(\"Pre-trained npz model loaded\")\n",
        "#       Uncomment below 2 lines to check model entries (Kernels for conv), (mean, variance, beta and gamma for BN) and (weights and biases) for final FC layer\n",
        "        for x in self.trained_model.files:\n",
        "            print(x + \" \" + str(self.trained_model[x].shape))\n",
        "\n",
        "    '''\n",
        "    Point-wise group convolution operation.\n",
        "    Inputs:     Activations of shape [N, H, W, C], Stage in format\n",
        "            'stagex', block in format 'blockx' and layer in\n",
        "            format 'convx', num_groups are the number of\n",
        "            groups to split the activations and kernels in.\n",
        "    Outputs:    Output activations of group convolution result\n",
        "    '''\n",
        "    def pw_gconv(self, activations, stage, block, layer, num_groups, name):\n",
        "        with tf.name_scope(name):\n",
        "            layer_name = str(stage) + '/' + str(block) + '/' + str(layer) + '/W:0'\n",
        "            kernels = self.trained_model[layer_name]\n",
        "            print(kernels.shape)\n",
        "            ch_per_group = activations.shape[3] // num_groups\n",
        "            act_split = tf.split(activations, num_or_size_splits = num_groups, axis = 3)\n",
        "            kernels_split = tf.split(kernels, num_or_size_splits = num_groups, axis = 3)\n",
        "            convs = []\n",
        "            for grp in range(0, num_groups):\n",
        "                convs.append(tf.nn.conv2d(act_split[grp], kernels_split[grp], padding = 'SAME', strides = [1, 1, 1, 1], data_format = 'NHWC', name='pw_gconv_' + str(grp)))\n",
        "            return tf.concat(convs, axis = 3)\n",
        "\n",
        "    '''\n",
        "    Depth-wise convolution operation.\n",
        "    Inputs:     Activations of shape [N, H, W, C], stage in format 'stagex',\n",
        "            block in format 'blockx', padding, stride and name to give to\n",
        "            the node in tensorboard visualization\n",
        "    Outputs:    Output activations of the dw conv operation\n",
        "    '''\n",
        "    def dw_conv(self, activations, stage, block, padding = 'SAME', stride = 1, name=\"dw_conv\"):\n",
        "        with tf.name_scope(name):\n",
        "            inp_ch = activations.shape[3]\n",
        "            act_shape = activations.shape\n",
        "            layer_name = str(stage) + '/' + str(block) + '/dconv/W:0'\n",
        "            kernels = self.trained_model[layer_name]\n",
        "            print(kernels.shape)\n",
        "            kernel_size = kernels.shape[0]\n",
        "            conv_result = tf.nn.depthwise_conv2d(activations, kernels, [1, stride, stride, 1], padding = padding, data_format = 'NHWC', name='dw_conv_' + stage + '_' + block)\n",
        "            return conv_result\n",
        "\n",
        "    '''\n",
        "    Batch Normalization operations\n",
        "    Inputs:     Activations of shape [N, H, W, C], stage in format 'stagex',\n",
        "            block in format 'blockx', layer in format 'convx' and name to\n",
        "            give to the node in tensorboard graph summary.\n",
        "    Outputs:    Output activations of BN operation\n",
        "    '''\n",
        "    def batch_normalization(self, activations, stage, block, layer, name):\n",
        "        with tf.name_scope(name):\n",
        "            layer_name = str(stage) + '/' + str(block) + '/' if stage is not '' else ''\n",
        "            layer_name = layer_name + 'conv1/bn/' if layer == 'conv1' else layer_name + layer+'_bn/'\n",
        "            bn_out = tf.nn.batch_normalization(activations, self.trained_model[layer_name + 'mean/EMA:0'], self.trained_model[layer_name + 'variance/EMA:0'], self.trained_model[layer_name + 'beta:0'], self.trained_model[layer_name + 'gamma:0'], variance_epsilon=0.001, name = 'bn_' + stage + '_' + block + '_' + layer if stage is not '' else 'bn_conv1')\n",
        "            return bn_out\n",
        "\n",
        "    '''\n",
        "    Channel Shuffle Operation. (Credits to Tensorpack Shufflenet Implementation https://github.com/tensorpack/tensorpack/blob/master/examples/ImageNetModels/shufflenet.py)\n",
        "    Inputs:     Activations of shape [N, H, W, C], num_groups = 8,\n",
        "            Name to give to the node in tensorboard graph summary.\n",
        "    Outputs     Activations after ch shuffle op.\n",
        "    '''\n",
        "    def channel_shuffle(self, activations, num_groups = 8, name='ch_shuffle'):\n",
        "        with tf.name_scope(name):\n",
        "            activations = tf.transpose(activations, perm = [0, 3, 1, 2])\n",
        "            in_shape = activations.get_shape().as_list()\n",
        "            in_channel = in_shape[1]\n",
        "            l = tf.reshape(activations, [-1, in_channel // num_groups, num_groups] + in_shape[-2:])\n",
        "            l = tf.transpose(l, [0, 2, 1, 3, 4])\n",
        "            l = tf.reshape(l, [-1, in_channel] + in_shape[-2:])\n",
        "            l = tf.transpose(l, perm = [0, 2, 3, 1])\n",
        "            return l\n",
        "\n",
        "    def shufflenet_unit(self, activations, stage, block, stride, num_groups=8, name=\"shufflenet_unit\"):\n",
        "        with tf.name_scope(name):\n",
        "            residual = activations\n",
        "            num_split = num_groups if activations.shape[3] > 24 else 1\n",
        "            print(\"Stage: \" + stage + \" block: \" + block)\n",
        "            print(\"inp_act size: \" + str(activations.shape))\n",
        "            pwgconv1 = self.pw_gconv(activations, stage, block, 'conv1', num_split, name= stage + \"_\" + block + \"_pwgconv1\")\n",
        "            print(\"pwgconv1 size: \" + str(pwgconv1.shape))\n",
        "            bnconv1 = self.batch_normalization(pwgconv1, stage, block, 'conv1', name = stage + \"_\" + block + \"_pwgconv1_batch_norm\")\n",
        "            reluconv1 = tf.nn.relu(bnconv1)\n",
        "            ch_sh = self.channel_shuffle(reluconv1, num_groups, name = stage + '_' + block + '_ch_shuffle')\n",
        "            dconv = self.dw_conv(ch_sh, stage, block, padding = 'SAME', stride = stride, name = stage + \"_\" + block + \"_dwconv\")\n",
        "            print(\"dconv size: \" + str(dconv.shape))\n",
        "            bndconv = self.batch_normalization(dconv, stage, block, 'dconv', name = stage + \"_\" + block + \"_dconv_batch_norm\")\n",
        "            pwgconv2 = self.pw_gconv(bndconv, stage, block, 'conv2', num_groups, name= stage + \"_\" + block + \"_pwgconv2\")\n",
        "            print(\"pwgconv2 size: \" + str(pwgconv2.shape))\n",
        "            bnconv2 = self.batch_normalization(pwgconv2, stage, block, 'conv2', name = stage + \"_\" + block + \"_pwgconv2_batch_norm\")\n",
        "\n",
        "            if stride == 1:\n",
        "                return tf.nn.relu(bnconv2 + residual, name = 'relu_' + stage + '_' + block)\n",
        "            elif stride == 2:\n",
        "                residual = tf.nn.avg_pool(residual, [1, 3, 3, 1], strides = [1, 2, 2, 1], padding = 'SAME', data_format = 'NHWC', name = 'avg_pool_' + stage + '_' + block)\n",
        "                return tf.concat([residual, tf.nn.relu(bnconv2)], axis = 3, name = 'concat_' + stage + '_' + block)\n",
        "            else:\n",
        "                raise ValueError(\"Stride value can only be 1 or 2 for Shufflenet\")\n",
        "\n",
        "    def shufflenet_stage(self, activations, stage, repeat, num_groups=8, name = \"shufflenet_stage\"):\n",
        "        with tf.name_scope(name):\n",
        "            first_block = self.shufflenet_unit(activations, stage, 'block0', stride = 2, num_groups = 8, name = \"shufflenet_unit_\" + stage + \"_block0\")\n",
        "            res = first_block\n",
        "            for b in range(1, repeat+1):\n",
        "                res = self.shufflenet_unit(res, stage, 'block' + str(b), stride = 1, num_groups = 8, name = \"shufflenet_unit_\" + stage + \"_block\" + str(b))\n",
        "            return res\n",
        "\n",
        "    def shufflenet_stage1(self, activations):\n",
        "        with tf.name_scope(\"shufflenet_stage1\"):\n",
        "            kernels = self.trained_model['conv1/W:0']\n",
        "            res = tf.nn.conv2d(activations, kernels, padding = 'SAME', strides = [1, 2, 2, 1], data_format = 'NHWC', name = 'Conv1')\n",
        "            res = self.batch_normalization(res, '', '', 'conv1', name = 'stage1_conv2d_batch_norm')\n",
        "            res = tf.nn.max_pool(res, [1, 3, 3, 1], strides = [1, 2, 2, 1], padding = 'SAME', data_format = 'NHWC', name = 'MaxPool1')\n",
        "            return res\n",
        "\n",
        "    def fc_layer(self, activations):\n",
        "        with tf.name_scope('fc_layer'):\n",
        "            layer_name = 'linear'\n",
        "            weights = self.trained_model[layer_name + '/W:0']\n",
        "            biases = self.trained_model[layer_name + '/b:0']\n",
        "            flattened_out = tf.contrib.layers.flatten(activations)\n",
        "            return tf.nn.bias_add(tf.matmul(flattened_out, weights), biases)\n",
        "\n",
        "    def build(self, image):\n",
        "        red, green, blue = tf.split(axis=3, num_or_size_splits=3, value=image)\n",
        "        bgr = tf.concat(axis=3, values=[(blue - SHUFFLENET_MEAN[0])*NORMALIZER, (green - SHUFFLENET_MEAN[1])*NORMALIZER, (red - SHUFFLENET_MEAN[2])*NORMALIZER])\n",
        "        stage1 = self.shufflenet_stage1(bgr)\n",
        "        stage2 = self.shufflenet_stage(stage1, 'stage2', repeat = 3, num_groups = 8, name = \"shufflenet_stage2\")\n",
        "        stage3 = self.shufflenet_stage(stage2, 'stage3', repeat = 7, num_groups = 8, name = \"shufflenet_stage3\")\n",
        "        stage4 = self.shufflenet_stage(stage3, 'stage4', repeat = 3, num_groups = 8, name = \"shufflenet_stage4\")\n",
        "        g_pool = tf.nn.avg_pool(stage4, [1, 7, 7, 1], strides = [1, 1, 1, 1], padding = 'VALID', data_format = 'NHWC', name = 'GlobalPool')\n",
        "        logits = self.fc_layer(g_pool)\n",
        "        logits = tf.nn.softmax(logits, name = \"SoftMax_unit\")\n",
        "        return logits\n"
      ],
      "execution_count": 0,
      "outputs": []
    },
    {
      "cell_type": "code",
      "metadata": {
        "id": "zCQnmDcWT2-U",
        "colab_type": "code",
        "outputId": "748c9816-617d-4c57-8e7b-93b02a92c0d0",
        "colab": {
          "base_uri": "https://localhost:8080/",
          "height": 306
        }
      },
      "source": [
        "model = Shufflenet(\"./\")"
      ],
      "execution_count": 0,
      "outputs": [
        {
          "output_type": "error",
          "ename": "IsADirectoryError",
          "evalue": "ignored",
          "traceback": [
            "\u001b[0;31m---------------------------------------------------------------------------\u001b[0m",
            "\u001b[0;31mIsADirectoryError\u001b[0m                         Traceback (most recent call last)",
            "\u001b[0;32m<ipython-input-13-45edaec357a8>\u001b[0m in \u001b[0;36m<module>\u001b[0;34m()\u001b[0m\n\u001b[0;32m----> 1\u001b[0;31m \u001b[0mmodel\u001b[0m \u001b[0;34m=\u001b[0m \u001b[0mShufflenet\u001b[0m\u001b[0;34m(\u001b[0m\u001b[0;34m\"./\"\u001b[0m\u001b[0;34m)\u001b[0m\u001b[0;34m\u001b[0m\u001b[0;34m\u001b[0m\u001b[0m\n\u001b[0m",
            "\u001b[0;32m<ipython-input-8-b36593fe55a2>\u001b[0m in \u001b[0;36m__init__\u001b[0;34m(self, model_loc)\u001b[0m\n\u001b[1;32m     10\u001b[0m     \u001b[0;31m#Load pretrained model on initialization. Model downloaded from http://models.tensorpack.com/ImageNetModels/ShuffleNetV1-1x-g=8.npz\u001b[0m\u001b[0;34m\u001b[0m\u001b[0;34m\u001b[0m\u001b[0;34m\u001b[0m\u001b[0m\n\u001b[1;32m     11\u001b[0m     \u001b[0;32mdef\u001b[0m \u001b[0m__init__\u001b[0m\u001b[0;34m(\u001b[0m\u001b[0mself\u001b[0m\u001b[0;34m,\u001b[0m \u001b[0mmodel_loc\u001b[0m\u001b[0;34m)\u001b[0m\u001b[0;34m:\u001b[0m\u001b[0;34m\u001b[0m\u001b[0;34m\u001b[0m\u001b[0m\n\u001b[0;32m---> 12\u001b[0;31m         \u001b[0mself\u001b[0m\u001b[0;34m.\u001b[0m\u001b[0mtrained_model\u001b[0m \u001b[0;34m=\u001b[0m \u001b[0mnp\u001b[0m\u001b[0;34m.\u001b[0m\u001b[0mload\u001b[0m\u001b[0;34m(\u001b[0m\u001b[0mmodel_loc\u001b[0m\u001b[0;34m,\u001b[0m \u001b[0mencoding\u001b[0m \u001b[0;34m=\u001b[0m \u001b[0;34m'latin1'\u001b[0m\u001b[0;34m)\u001b[0m\u001b[0;34m\u001b[0m\u001b[0;34m\u001b[0m\u001b[0m\n\u001b[0m\u001b[1;32m     13\u001b[0m         \u001b[0mprint\u001b[0m\u001b[0;34m(\u001b[0m\u001b[0;34m\"Pre-trained npz model loaded\"\u001b[0m\u001b[0;34m)\u001b[0m\u001b[0;34m\u001b[0m\u001b[0;34m\u001b[0m\u001b[0m\n\u001b[1;32m     14\u001b[0m \u001b[0;31m#       Uncomment below 2 lines to check model entries (Kernels for conv), (mean, variance, beta and gamma for BN) and (weights and biases) for final FC layer\u001b[0m\u001b[0;34m\u001b[0m\u001b[0;34m\u001b[0m\u001b[0;34m\u001b[0m\u001b[0m\n",
            "\u001b[0;32m/usr/local/lib/python3.6/dist-packages/numpy/lib/npyio.py\u001b[0m in \u001b[0;36mload\u001b[0;34m(file, mmap_mode, allow_pickle, fix_imports, encoding)\u001b[0m\n\u001b[1;32m    420\u001b[0m         \u001b[0mown_fid\u001b[0m \u001b[0;34m=\u001b[0m \u001b[0;32mFalse\u001b[0m\u001b[0;34m\u001b[0m\u001b[0;34m\u001b[0m\u001b[0m\n\u001b[1;32m    421\u001b[0m     \u001b[0;32melse\u001b[0m\u001b[0;34m:\u001b[0m\u001b[0;34m\u001b[0m\u001b[0;34m\u001b[0m\u001b[0m\n\u001b[0;32m--> 422\u001b[0;31m         \u001b[0mfid\u001b[0m \u001b[0;34m=\u001b[0m \u001b[0mopen\u001b[0m\u001b[0;34m(\u001b[0m\u001b[0mos_fspath\u001b[0m\u001b[0;34m(\u001b[0m\u001b[0mfile\u001b[0m\u001b[0;34m)\u001b[0m\u001b[0;34m,\u001b[0m \u001b[0;34m\"rb\"\u001b[0m\u001b[0;34m)\u001b[0m\u001b[0;34m\u001b[0m\u001b[0;34m\u001b[0m\u001b[0m\n\u001b[0m\u001b[1;32m    423\u001b[0m         \u001b[0mown_fid\u001b[0m \u001b[0;34m=\u001b[0m \u001b[0;32mTrue\u001b[0m\u001b[0;34m\u001b[0m\u001b[0;34m\u001b[0m\u001b[0m\n\u001b[1;32m    424\u001b[0m \u001b[0;34m\u001b[0m\u001b[0m\n",
            "\u001b[0;31mIsADirectoryError\u001b[0m: [Errno 21] Is a directory: './'"
          ]
        }
      ]
    },
    {
      "cell_type": "code",
      "metadata": {
        "id": "MDeQKTyLXD6g",
        "colab_type": "code",
        "colab": {}
      },
      "source": [
        "import json\n",
        "import codecs\n",
        "import requests\n",
        "import numpy as np\n",
        "import pandas as pd \n",
        "from PIL import Image\n",
        "from tqdm import tqdm\n",
        "from io import BytesIO"
      ],
      "execution_count": 0,
      "outputs": []
    },
    {
      "cell_type": "code",
      "metadata": {
        "id": "QWd9P2p0GFOw",
        "colab_type": "code",
        "outputId": "699e67d5-556b-4402-9463-d781c7204438",
        "colab": {
          "resources": {
            "http://localhost:8080/nbextensions/google.colab/files.js": {
              "data": "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",
              "ok": true,
              "headers": [
                [
                  "content-type",
                  "application/javascript"
                ]
              ],
              "status": 200,
              "status_text": ""
            }
          },
          "base_uri": "https://localhost:8080/",
          "height": 111
        }
      },
      "source": [
        "from google.colab import files\n",
        "files.upload()"
      ],
      "execution_count": 0,
      "outputs": [
        {
          "output_type": "display_data",
          "data": {
            "text/html": [
              "\n",
              "     <input type=\"file\" id=\"files-9db342d9-5ffc-43ee-9ba3-b5d31b3f8443\" name=\"files[]\" multiple disabled />\n",
              "     <output id=\"result-9db342d9-5ffc-43ee-9ba3-b5d31b3f8443\">\n",
              "      Upload widget is only available when the cell has been executed in the\n",
              "      current browser session. Please rerun this cell to enable.\n",
              "      </output>\n",
              "      <script src=\"/nbextensions/google.colab/files.js\"></script> "
            ],
            "text/plain": [
              "<IPython.core.display.HTML object>"
            ]
          },
          "metadata": {
            "tags": []
          }
        },
        {
          "output_type": "stream",
          "text": [
            "Saving face_detection.json to face_detection.json\n"
          ],
          "name": "stdout"
        },
        {
          "output_type": "execute_result",
          "data": {
            "text/plain": [
              "{'face_detection.json': b'{\"content\": \"http://com.dataturks.a96-i23.open.s3.amazonaws.com/2c9fafb064277d86016431e33e4e003d/8186c3d1-e9d4-4550-8ec1-a062a7628787___0-26.jpg.jpeg\",\"annotation\":[{\"label\":[\"Face\"],\"notes\":\"\",\"points\":[{\"x\":0.08615384615384615,\"y\":0.3063063063063063},{\"x\":0.1723076923076923,\"y\":0.45345345345345345}],\"imageWidth\":650,\"imageHeight\":333},{\"label\":[\"Face\"],\"notes\":\"\",\"points\":[{\"x\":0.583076923076923,\"y\":0.2912912912912913},{\"x\":0.6584615384615384,\"y\":0.46846846846846846}],\"imageWidth\":650,\"imageHeight\":333}],\"extras\":null}\\n{\"content\": \"http://com.dataturks.a96-i23.open.s3.amazonaws.com/2c9fafb064277d86016431e33e4e003d/d1c32c8e-8050-482d-a6c8-b101ccba5b65___0de0ee708a4a47039e441d488615ebb7.png\",\"annotation\":[{\"label\":[\"Face\"],\"notes\":\"\",\"points\":[{\"x\":0.7053087757313109,\"y\":0.23260437375745527},{\"x\":0.7692307692307693,\"y\":0.36182902584493043}],\"imageWidth\":1280,\"imageHeight\":697}],\"extras\":null}\\n{\"content\": \"http://com.dataturks.a96-i23.open.s3.amazonaws.com/2c9fafb064277d86016431e33e4e003d/aaa5a997-b248-4724-9002-b29117725102___0rCMbYS7vkSINlu61.jpg.jpeg\",\"annotation\":[{\"label\":[\"Face\"],\"notes\":\"\",\"points\":[{\"x\":0.46956521739130436,\"y\":0.05},{\"x\":0.6065217391304348,\"y\":0.3333333333333333}],\"imageWidth\":460,\"imageHeight\":240},{\"label\":[\"Face\"],\"notes\":\"\",\"points\":[{\"x\":0.6282608695652174,\"y\":0.008333333333333333},{\"x\":0.7456521739130435,\"y\":0.30833333333333335}],\"imageWidth\":460,\"imageHeight\":240}],\"extras\":null}\\n{\"content\": \"http://com.dataturks.a96-i23.open.s3.amazonaws.com/2c9fafb064277d86016431e33e4e003d/c4efa88f-8218-4675-b5ce-30a03bf8b8f4___1.png\",\"annotation\":[{\"label\":[\"Face\"],\"notes\":\"\",\"points\":[{\"x\":0.495,\"y\":0.27147766323024053},{\"x\":0.595,\"y\":0.46048109965635736}],\"imageWidth\":600,\"imageHeight\":291}],\"extras\":null}\\n{\"content\": \"http://com.dataturks.a96-i23.open.s3.amazonaws.com/2c9fafb064277d86016431e33e4e003d/dcc9b187-29fe-4734-83f4-3bc7ad117457___1f913f304d4265684fea960106d1132a_when-families-live-together_featuredImage.jpg.jpeg\",\"annotation\":[{\"label\":[\"Face\"],\"notes\":\"\",\"points\":[{\"x\":0.5586206896551724,\"y\":0.19938650306748465},{\"x\":0.6603448275862069,\"y\":0.3773006134969325}],\"imageWidth\":580,\"imageHeight\":326},{\"label\":[\"Face\"],\"notes\":\"\",\"points\":[{\"x\":0.38620689655172413,\"y\":0.18711656441717792},{\"x\":0.4896551724137931,\"y\":0.4049079754601227}],\"imageWidth\":580,\"imageHeight\":326},{\"label\":[\"Face\"],\"notes\":\"\",\"points\":[{\"x\":0.1724137931034483,\"y\":0.23006134969325154},{\"x\":0.2775862068965517,\"y\":0.44171779141104295}],\"imageWidth\":580,\"imageHeight\":326},{\"label\":[\"Face\"],\"notes\":\"\",\"points\":[{\"x\":0.7155172413793104,\"y\":0.19938650306748465},{\"x\":0.8448275862068966,\"y\":0.41411042944785276}],\"imageWidth\":580,\"imageHeight\":326},{\"label\":[\"Face\"],\"notes\":\"\",\"points\":[{\"x\":0.2982758620689655,\"y\":0.44171779141104295},{\"x\":0.4189655172413793,\"y\":0.6533742331288344}],\"imageWidth\":580,\"imageHeight\":326},{\"label\":[\"Face\"],\"notes\":\"\",\"points\":[{\"x\":0.6362068965517241,\"y\":0.4233128834355828},{\"x\":0.7362068965517241,\"y\":0.6104294478527608}],\"imageWidth\":580,\"imageHeight\":326}],\"extras\":null}\\n{\"content\": \"http://com.dataturks.a96-i23.open.s3.amazonaws.com/2c9fafb064277d86016431e33e4e003d/4ca2f5aa-83cf-4348-8241-d98a0cf9e2e7___2a63b028915ebd600062f8a552ba097c.jpg.jpeg\",\"annotation\":[{\"label\":[\"Face\"],\"notes\":\"\",\"points\":[{\"x\":0.486,\"y\":0.046},{\"x\":0.678,\"y\":0.272}],\"imageWidth\":500,\"imageHeight\":500},{\"label\":[\"Face\"],\"notes\":\"\",\"points\":[{\"x\":0.374,\"y\":0.524},{\"x\":0.542,\"y\":0.794}],\"imageWidth\":500,\"imageHeight\":500}],\"extras\":null}\\n{\"content\": \"http://com.dataturks.a96-i23.open.s3.amazonaws.com/2c9fafb064277d86016431e33e4e003d/45ffc4ac-e24f-4239-b4cc-8dbe597f629a___2B67CA8F00000578-3199800-image-a-1_1439712734572.jpg.jpeg\",\"annotation\":[{\"label\":[\"Face\"],\"notes\":\"\",\"points\":[{\"x\":0.09779179810725552,\"y\":0.06162464985994398},{\"x\":0.31230283911671924,\"y\":0.42296918767507}],\"imageWidth\":634,\"imageHeight\":357},{\"label\":[\"Face\"],\"notes\":\"\",\"points\":[{\"x\":0.30441640378548895,\"y\":0.03361344537815126},{\"x\":0.4668769716088328,\"y\":0.4061624649859944}],\"imageWidth\":634,\"imageHeight\":357},{\"label\":[\"Face\"],\"notes\":\"\",\"points\":[{\"x\":0.416403785488959,\"y\":0.48179271708683474},{\"x\":0.5599369085173501,\"y\":0.7871148459383753}],\"imageWidth\":634,\"imageHeight\":357},{\"label\":[\"Face\"],\"notes\":\"\",\"points\":[{\"x\":0.5157728706624606,\"y\":0.21288515406162464},{\"x\":0.6845425867507886,\"y\":0.5798319327731093}],\"imageWidth\":634,\"imageHeight\":357},{\"label\":[\"Face\"],\"notes\":\"\",\"points\":[{\"x\":0.6719242902208202,\"y\":0.022408963585434174},{\"x\":0.8012618296529969,\"y\":0.40336134453781514}],\"imageWidth\":634,\"imageHeight\":357}],\"extras\":null}\\n{\"content\": \"http://com.dataturks.a96-i23.open.s3.amazonaws.com/2c9fafb064277d86016431e33e4e003d/d5f6e7eb-f17d-4bed-872b-17a43366ba17___2-hd9pmj.jpg.jpeg\",\"annotation\":[{\"label\":[\"Face\"],\"notes\":\"\",\"points\":[{\"x\":0.46875,\"y\":0.27111111111111114},{\"x\":0.565,\"y\":0.4622222222222222}],\"imageWidth\":800,\"imageHeight\":450}],\"extras\":null}\\n{\"content\": \"http://com.dataturks.a96-i23.open.s3.amazonaws.com/2c9fafb064277d86016431e33e4e003d/5b6d8f2e-ae21-44ae-bcf1-19d8e8e98b65___3c4f3c819d8771e425ba09462ce2148e--funny-man-so-funny.jpg.jpeg\",\"annotation\":[{\"label\":[\"Face\"],\"notes\":\"\",\"points\":[{\"x\":0.136,\"y\":0.32456140350877194},{\"x\":0.4704,\"y\":0.5555555555555556}],\"imageWidth\":625,\"imageHeight\":1026},{\"label\":[\"Face\"],\"notes\":\"\",\"points\":[{\"x\":0.5552,\"y\":0.7066276803118908},{\"x\":0.8608,\"y\":0.8489278752436648}],\"imageWidth\":625,\"imageHeight\":1026}],\"extras\":null}\\n{\"content\": \"http://com.dataturks.a96-i23.open.s3.amazonaws.com/2c9fafb064277d86016431e33e4e003d/93927e0d-c774-49b6-8c4d-a299d00a58e8___3d---4K---2D-HD-DTS-ATMOS-4000--MOVIES---9632354635-FIRST-CONFIRM-VB201705171774173-ak_WBP638920203-1524385027.jpeg\",\"annotation\":[{\"label\":[\"Face\"],\"notes\":\"\",\"points\":[{\"x\":0.13043478260869565,\"y\":0.025547445255474453},{\"x\":0.3858695652173913,\"y\":0.22992700729927007}],\"imageWidth\":184,\"imageHeight\":274},{\"label\":[\"Face\"],\"notes\":\"\",\"points\":[{\"x\":0.6141304347826086,\"y\":0.0948905109489051},{\"x\":0.9293478260869565,\"y\":0.38321167883211676}],\"imageWidth\":184,\"imageHeight\":274}],\"extras\":null}\\n{\"content\": \"http://com.dataturks.a96-i23.open.s3.amazonaws.com/2c9fafb064277d86016431e33e4e003d/28242218-0c0c-4530-8095-504ef6ba5c78___4.jpg.jpeg\",\"annotation\":[{\"label\":[\"Face\"],\"notes\":\"\",\"points\":[{\"x\":0.48,\"y\":0.10385756676557864},{\"x\":0.7716666666666666,\"y\":0.6795252225519288}],\"imageWidth\":600,\"imageHeight\":337}],\"extras\":null}\\n{\"content\": \"http://com.dataturks.a96-i23.open.s3.amazonaws.com/2c9fafb064277d86016431e33e4e003d/bfbdca44-4614-4cea-a0fa-e30a31b663d2___4ac2f735-8419-4c89-910e-a9e6174f3017-1.jpg.jpeg\",\"annotation\":[{\"label\":[\"Face\"],\"notes\":\"\",\"points\":[{\"x\":0.046296296296296294,\"y\":0.16354166666666667},{\"x\":0.2037037037037037,\"y\":0.2989583333333333}],\"imageWidth\":648,\"imageHeight\":960},{\"label\":[\"Face\"],\"notes\":\"\",\"points\":[{\"x\":0.3194444444444444,\"y\":0.1375},{\"x\":0.5570987654320988,\"y\":0.29583333333333334}],\"imageWidth\":648,\"imageHeight\":960},{\"label\":[\"Face\"],\"notes\":\"\",\"points\":[{\"x\":0.5648148148148148,\"y\":0.1875},{\"x\":0.7145061728395061,\"y\":0.30520833333333336}],\"imageWidth\":648,\"imageHeight\":960},{\"label\":[\"Face\"],\"notes\":\"\",\"points\":[{\"x\":0.7160493827160493,\"y\":0.209375},{\"x\":0.8333333333333334,\"y\":0.30625}],\"imageWidth\":648,\"imageHeight\":960},{\"label\":[\"Face\"],\"notes\":\"\",\"points\":[{\"x\":0.8225308641975309,\"y\":0.23125},{\"x\":0.9429012345679012,\"y\":0.3177083333333333}],\"imageWidth\":648,\"imageHeight\":960}],\"extras\":null}\\n{\"content\": \"http://com.dataturks.a96-i23.open.s3.amazonaws.com/2c9fafb064277d86016431e33e4e003d/49d8b065-f074-4f93-9f72-85c117ca6877___05-families-fighting-for-change-vogue-february-2018.jpg.jpeg\",\"annotation\":[{\"label\":[\"Face\"],\"notes\":\"\",\"points\":[{\"x\":0.027709861450692746,\"y\":0.10357142857142858},{\"x\":0.17277913610431947,\"y\":0.38095238095238093}],\"imageWidth\":5000,\"imageHeight\":3423},{\"label\":[\"Face\"],\"notes\":\"\",\"points\":[{\"x\":0.20048899755501223,\"y\":0.22023809523809523},{\"x\":0.3154034229828851,\"y\":0.4845238095238095}],\"imageWidth\":5000,\"imageHeight\":3423},{\"label\":[\"Face\"],\"notes\":\"\",\"points\":[{\"x\":0.530562347188264,\"y\":0.11666666666666667},{\"x\":0.6674816625916871,\"y\":0.40595238095238095}],\"imageWidth\":5000,\"imageHeight\":3423},{\"label\":[\"Face\"],\"notes\":\"\",\"points\":[{\"x\":0.6764466177669112,\"y\":0.2904761904761905},{\"x\":0.7685411572942136,\"y\":0.49166666666666664}],\"imageWidth\":5000,\"imageHeight\":3423},{\"label\":[\"Face\"],\"notes\":\"\",\"points\":[{\"x\":0.778321108394458,\"y\":0.1773809523809524},{\"x\":0.9176854115729421,\"y\":0.42142857142857143}],\"imageWidth\":5000,\"imageHeight\":3423}],\"extras\":null}\\n{\"content\": \"http://com.dataturks.a96-i23.open.s3.amazonaws.com/2c9fafb064277d86016431e33e4e003d/be506eb0-d5a8-432e-8a88-6f262af39484___05HelpingFamiliesGetAhead_0.jpg.jpeg\",\"annotation\":[{\"label\":[\"Face\"],\"notes\":\"\",\"points\":[{\"x\":0.24268689057421453,\"y\":0.14420803782505912},{\"x\":0.3531960996749729,\"y\":0.3640661938534279}],\"imageWidth\":1400,\"imageHeight\":642},{\"label\":[\"Face\"],\"notes\":\"\",\"points\":[{\"x\":0.3531960996749729,\"y\":0.34988179669030733},{\"x\":0.4626218851570964,\"y\":0.6430260047281324}],\"imageWidth\":1400,\"imageHeight\":642},{\"label\":[\"Face\"],\"notes\":\"\",\"points\":[{\"x\":0.49945828819068255,\"y\":0.41371158392434987},{\"x\":0.628385698808234,\"y\":0.6832151300236406}],\"imageWidth\":1400,\"imageHeight\":642},{\"label\":[\"Face\"],\"notes\":\"\",\"points\":[{\"x\":0.6392199349945829,\"y\":0.10638297872340426},{\"x\":0.7356446370530878,\"y\":0.3664302600472813}],\"imageWidth\":1400,\"imageHeight\":642}],\"extras\":null}\\n{\"content\": \"http://com.dataturks.a96-i23.open.s3.amazonaws.com/2c9fafb064277d86016431e33e4e003d/80c7d616-ed44-4b15-9a35-0c60641cc5e4___5_job_interview_movie_scenes.jpg.jpeg\",\"annotation\":[{\"label\":[\"Face\"],\"notes\":\"\",\"points\":[{\"x\":0.6389568052159739,\"y\":0.1568627450980392},{\"x\":0.7237163814180929,\"y\":0.40641711229946526}],\"imageWidth\":1920,\"imageHeight\":878},{\"label\":[\"Face\"],\"notes\":\"\",\"points\":[{\"x\":0.5403422982885085,\"y\":0.27450980392156865},{\"x\":0.6226568867155664,\"y\":0.4563279857397504}],\"imageWidth\":1920,\"imageHeight\":878}],\"extras\":null}\\n{\"content\": \"http://com.dataturks.a96-i23.open.s3.amazonaws.com/2c9fafb064277d86016431e33e4e003d/a7417de6-d3d2-469f-872c-8445add6bbe4___5a0bcde9a83fcd89048b464e-750-375.jpg.jpeg\",\"annotation\":[{\"label\":[\"Face\"],\"notes\":\"\",\"points\":[{\"x\":0.26266666666666666,\"y\":0.08266666666666667},{\"x\":0.3973333333333333,\"y\":0.3893333333333333}],\"imageWidth\":750,\"imageHeight\":375},{\"label\":[\"Face\"],\"notes\":\"\",\"points\":[{\"x\":0.49866666666666665,\"y\":0.050666666666666665},{\"x\":0.5973333333333334,\"y\":0.2613333333333333}],\"imageWidth\":750,\"imageHeight\":375},{\"label\":[\"Face\"],\"notes\":\"\",\"points\":[{\"x\":0.6773333333333333,\"y\":0.112},{\"x\":0.7906666666666666,\"y\":0.368}],\"imageWidth\":750,\"imageHeight\":375}],\"extras\":null}\\n{\"content\": \"http://com.dataturks.a96-i23.open.s3.amazonaws.com/2c9fafb064277d86016431e33e4e003d/c8cc5f4f-6684-443f-8f41-622e780fb59e___5b2d5ccb1a0000c504ce261f.jpeg\",\"annotation\":[{\"label\":[\"Face\"],\"notes\":\"\",\"points\":[{\"x\":0.218851570964247,\"y\":0.16720257234726688},{\"x\":0.30985915492957744,\"y\":0.3086816720257235}],\"imageWidth\":5040,\"imageHeight\":3396},{\"label\":[\"Face\"],\"notes\":\"\",\"points\":[{\"x\":0.6608884073672806,\"y\":0.20739549839228297},{\"x\":0.7367280606717227,\"y\":0.3408360128617363}],\"imageWidth\":5040,\"imageHeight\":3396}],\"extras\":null}\\n{\"content\": \"http://com.dataturks.a96-i23.open.s3.amazonaws.com/2c9fafb064277d86016431e33e4e003d/4379b57c-a6e2-449a-8fb7-d58153da5b3b___5c8670b4917b6d7efe68c4f73042f96f.jpg.jpeg\",\"annotation\":[{\"label\":[\"Face\"],\"notes\":\"\",\"points\":[{\"x\":0.3066088840736728,\"y\":0.1348747591522158},{\"x\":0.3640303358613218,\"y\":0.24277456647398843}],\"imageWidth\":1280,\"imageHeight\":720}],\"extras\":null}\\n{\"content\": \"http://com.dataturks.a96-i23.open.s3.amazonaws.com/2c9fafb064277d86016431e33e4e003d/584e1406-faf8-4613-9e9d-4e79620a2f44___6c9f5fafffdf652e5bbf672fd355e4de.jpg.jpeg\",\"annotation\":[{\"label\":[\"Face\"],\"notes\":\"\",\"points\":[{\"x\":0.42174629324546953,\"y\":0.036243822075782535},{\"x\":0.5354200988467874,\"y\":0.18616144975288304}],\"imageWidth\":607,\"imageHeight\":607},{\"label\":[\"Face\"],\"notes\":\"\",\"points\":[{\"x\":0.47775947281713343,\"y\":0.5947281713344317},{\"x\":0.6359143327841845,\"y\":0.7446457990115322}],\"imageWidth\":607,\"imageHeight\":607}],\"extras\":null}\\n{\"content\": \"http://com.dataturks.a96-i23.open.s3.amazonaws.com/2c9fafb064277d86016431e33e4e003d/14d82e7b-17b5-48ed-b755-777921f8fe58___07d4fe77dce1c871944c80c3f5596b5c--funny-movie-quotes-funny-movies.jpg.jpeg\",\"annotation\":[{\"label\":[\"Face\"],\"notes\":\"\",\"points\":[{\"x\":0.39454545454545453,\"y\":0.13819095477386933},{\"x\":0.6854545454545454,\"y\":0.6256281407035176}],\"imageWidth\":550,\"imageHeight\":398}],\"extras\":null}\\n{\"content\": \"http://com.dataturks.a96-i23.open.s3.amazonaws.com/2c9fafb064277d86016431e33e4e003d/5dcb5230-c3d2-4f78-8c9a-37c35e852289___7c9e84ab6a1d7cd45032c69f612893bc--the-train-cousin.jpg.jpeg\",\"annotation\":[{\"label\":[\"Face\"],\"notes\":\"\",\"points\":[{\"x\":0.4979166666666667,\"y\":0.20833333333333334},{\"x\":0.7854166666666667,\"y\":0.6888888888888889}],\"imageWidth\":480,\"imageHeight\":360}],\"extras\":null}\\n{\"content\": \"http://com.dataturks.a96-i23.open.s3.amazonaws.com/2c9fafb064277d86016431e33e4e003d/b4bf497b-42df-46ee-a039-34804a1992c1___7e09d2b84-1.jpg.jpeg\",\"annotation\":[{\"label\":[\"Face\"],\"notes\":\"\",\"points\":[{\"x\":0.10833333333333334,\"y\":0.18055555555555555},{\"x\":0.3729166666666667,\"y\":0.4083333333333333}],\"imageWidth\":480,\"imageHeight\":360}],\"extras\":null}\\n{\"content\": \"http://com.dataturks.a96-i23.open.s3.amazonaws.com/2c9fafb064277d86016431e33e4e003d/98c726f1-44ef-42b7-99ef-ce14f4bfb6ff___08slid1.jpg.jpeg\",\"annotation\":[{\"label\":[\"Face\"],\"notes\":\"\",\"points\":[{\"x\":0.7904761904761904,\"y\":0.19948186528497408},{\"x\":0.8990476190476191,\"y\":0.37305699481865284}],\"imageWidth\":525,\"imageHeight\":386},{\"label\":[\"Face\"],\"notes\":\"\",\"points\":[{\"x\":0.11047619047619048,\"y\":0.14507772020725387},{\"x\":0.259047619047619,\"y\":0.30569948186528495}],\"imageWidth\":525,\"imageHeight\":386}],\"extras\":null}\\n{\"content\": \"http://com.dataturks.a96-i23.open.s3.amazonaws.com/2c9fafb064277d86016431e33e4e003d/084f7266-e971-4057-b089-f396296bcc3c___10-coverfield-lane-275x350.jpg.jpeg\",\"annotation\":[{\"label\":[\"Face\"],\"notes\":\"\",\"points\":[{\"x\":0.22545454545454546,\"y\":0.37142857142857144},{\"x\":0.49454545454545457,\"y\":0.7971428571428572}],\"imageWidth\":275,\"imageHeight\":350},{\"label\":[\"Face\"],\"notes\":\"\",\"points\":[{\"x\":0.4218181818181818,\"y\":0.5228571428571429},{\"x\":0.7527272727272727,\"y\":0.8628571428571429}],\"imageWidth\":275,\"imageHeight\":350}],\"extras\":null}\\n{\"content\": \"http://com.dataturks.a96-i23.open.s3.amazonaws.com/2c9fafb064277d86016431e33e4e003d/e5389def-c898-4bd1-b7ca-bf0dfd226ef8___12familyseparation-sub-articleLarge.jpg.jpeg\",\"annotation\":[{\"label\":[\"Face\"],\"notes\":\"\",\"points\":[{\"x\":0.06333333333333334,\"y\":0.115},{\"x\":0.20333333333333334,\"y\":0.3425}],\"imageWidth\":600,\"imageHeight\":400},{\"label\":[\"Face\"],\"notes\":\"\",\"points\":[{\"x\":0.21666666666666667,\"y\":0.3275},{\"x\":0.27,\"y\":0.46}],\"imageWidth\":600,\"imageHeight\":400},{\"label\":[\"Face\"],\"notes\":\"\",\"points\":[{\"x\":0.395,\"y\":0.08},{\"x\":0.5016666666666667,\"y\":0.2625}],\"imageWidth\":600,\"imageHeight\":400},{\"label\":[\"Face\"],\"notes\":\"\",\"points\":[{\"x\":0.875,\"y\":0.1475},{\"x\":0.9666666666666667,\"y\":0.3475}],\"imageWidth\":600,\"imageHeight\":400},{\"label\":[\"Face\"],\"notes\":\"\",\"points\":[{\"x\":0.74,\"y\":0.545},{\"x\":0.8683333333333333,\"y\":0.69}],\"imageWidth\":600,\"imageHeight\":400},{\"label\":[\"Face\"],\"notes\":\"\",\"points\":[{\"x\":0.6516666666666666,\"y\":0.22},{\"x\":0.6966666666666667,\"y\":0.305}],\"imageWidth\":600,\"imageHeight\":400}],\"extras\":null}\\n{\"content\": \"http://com.dataturks.a96-i23.open.s3.amazonaws.com/2c9fafb064277d86016431e33e4e003d/df785cd1-117c-4e3d-a607-2690f8a1b397___0013.jpg.jpeg\",\"annotation\":[{\"label\":[\"Face\"],\"notes\":\"\",\"points\":[{\"x\":0.49,\"y\":0.20285714285714285},{\"x\":0.58,\"y\":0.41714285714285715}],\"imageWidth\":600,\"imageHeight\":350}],\"extras\":null}\\n{\"content\": \"http://com.dataturks.a96-i23.open.s3.amazonaws.com/2c9fafb064277d86016431e33e4e003d/6baf0532-4198-4404-b262-d483b79ec960___13_Favorite_Memorable_Movie_Scenes_Misery.jpg.jpeg\",\"annotation\":[{\"label\":[\"Face\"],\"notes\":\"\",\"points\":[{\"x\":0.335,\"y\":0.15333333333333332},{\"x\":0.6825,\"y\":0.7533333333333333}],\"imageWidth\":400,\"imageHeight\":300}],\"extras\":null}\\n{\"content\": \"http://com.dataturks.a96-i23.open.s3.amazonaws.com/2c9fafb064277d86016431e33e4e003d/66fab77d-5908-4760-a3d6-eb29886cf4ec___014a8f16-c5ce-43fc-bf88-a4950cac2394.jpg.jpeg\",\"annotation\":[{\"label\":[\"Face\"],\"notes\":\"\",\"points\":[{\"x\":0.31,\"y\":0.13428571428571429},{\"x\":0.42714285714285716,\"y\":0.24571428571428572}],\"imageWidth\":700,\"imageHeight\":700},{\"label\":[\"Face\"],\"notes\":\"\",\"points\":[{\"x\":0.5,\"y\":0.6457142857142857},{\"x\":0.6328571428571429,\"y\":0.7957142857142857}],\"imageWidth\":700,\"imageHeight\":700}],\"extras\":null}\\n{\"content\": \"http://com.dataturks.a96-i23.open.s3.amazonaws.com/2c9fafb064277d86016431e33e4e003d/4cd25046-dd87-464c-b619-fe8e8903c918___14-scenes-from-movies-and-tv-that-made-us-cry-in--2-28533-1513793846-10_dblbig.jpg.jpeg\",\"annotation\":[{\"label\":[\"Face\"],\"notes\":\"\",\"points\":[{\"x\":0.28,\"y\":0.02650602409638554},{\"x\":0.8096,\"y\":0.9518072289156626}],\"imageWidth\":625,\"imageHeight\":415}],\"extras\":null}\\n{\"content\": \"http://com.dataturks.a96-i23.open.s3.amazonaws.com/2c9fafb064277d86016431e33e4e003d/4d8d9740-8905-49a1-bd07-03d508b2ff7f___16best-scenes14.jpg.jpeg\",\"annotation\":[{\"label\":[\"Face\"],\"notes\":\"\",\"points\":[{\"x\":0.6402985074626866,\"y\":0.05630026809651475},{\"x\":0.817910447761194,\"y\":0.38605898123324395}],\"imageWidth\":670,\"imageHeight\":373},{\"label\":[\"Face\"],\"notes\":\"\",\"points\":[{\"x\":0.32686567164179103,\"y\":0.2064343163538874},{\"x\":0.4746268656716418,\"y\":0.48525469168900803}],\"imageWidth\":670,\"imageHeight\":373},{\"label\":[\"Face\"],\"notes\":\"\",\"points\":[{\"x\":0.10895522388059702,\"y\":0.26005361930294907},{\"x\":0.24477611940298508,\"y\":0.5522788203753352}],\"imageWidth\":670,\"imageHeight\":373}],\"extras\":null}\\n{\"content\": \"http://com.dataturks.a96-i23.open.s3.amazonaws.com/2c9fafb064277d86016431e33e4e003d/130f1009-0a91-4c2f-b4ee-6b8453a6534a___17de631fb19a739677253ce30453c38d--famous-movie-scenes-iconic-movies.jpg.jpeg\",\"annotation\":[{\"label\":[\"Face\"],\"notes\":\"\",\"points\":[{\"x\":0.3390625,\"y\":0.16354166666666667},{\"x\":0.5375,\"y\":0.32395833333333335}],\"imageWidth\":640,\"imageHeight\":960},{\"label\":[\"Face\"],\"notes\":\"\",\"points\":[{\"x\":0.5453125,\"y\":0.20520833333333333},{\"x\":0.6828125,\"y\":0.3333333333333333}],\"imageWidth\":640,\"imageHeight\":960}],\"extras\":null}\\n{\"content\": \"http://com.dataturks.a96-i23.open.s3.amazonaws.com/2c9fafb064277d86016431e33e4e003d/e53eb4ea-9e38-4f94-a102-529a878b1fbd___18q0dngvi7ic2jpg.jpg.jpeg\",\"annotation\":[{\"label\":[\"Face\"],\"notes\":\"\",\"points\":[{\"x\":0.3725,\"y\":0.2746268656716418},{\"x\":0.5425,\"y\":0.7283582089552239}],\"imageWidth\":800,\"imageHeight\":335}],\"extras\":null}\\n{\"content\": \"http://com.dataturks.a96-i23.open.s3.amazonaws.com/2c9fafb064277d86016431e33e4e003d/33017740-60d0-436a-9d05-2e59772ce471___19c50e32afad4fb81558d57296645da8.jpg.jpeg\",\"annotation\":[{\"label\":[\"Face\"],\"notes\":\"\",\"points\":[{\"x\":0.14685314685314685,\"y\":0.3291592128801431},{\"x\":0.26573426573426573,\"y\":0.4212880143112701}],\"imageWidth\":715,\"imageHeight\":1118},{\"label\":[\"Face\"],\"notes\":\"\",\"points\":[{\"x\":0.4111888111888112,\"y\":0.2880143112701252},{\"x\":0.6139860139860139,\"y\":0.40966010733452596}],\"imageWidth\":715,\"imageHeight\":1118},{\"label\":[\"Face\"],\"notes\":\"\",\"points\":[{\"x\":0.2699300699300699,\"y\":0.16815742397137745},{\"x\":0.4307692307692308,\"y\":0.2898032200357782}],\"imageWidth\":715,\"imageHeight\":1118},{\"label\":[\"Face\"],\"notes\":\"\",\"points\":[{\"x\":0.7398601398601399,\"y\":0.29874776386404295},{\"x\":0.8909090909090909,\"y\":0.3962432915921288}],\"imageWidth\":715,\"imageHeight\":1118}],\"extras\":null}\\n{\"content\": \"http://com.dataturks.a96-i23.open.s3.amazonaws.com/2c9fafb064277d86016431e33e4e003d/2c10a7a0-c3ea-4659-a457-df45dcfd998d___19-EOY-sex-scenes.nocrop.w710.h2147483647.jpg.jpeg\",\"annotation\":[{\"label\":[\"Face\"],\"notes\":\"\",\"points\":[{\"x\":0.07042253521126761,\"y\":0.5126760563380282},{\"x\":0.24084507042253522,\"y\":0.7281690140845071}],\"imageWidth\":710,\"imageHeight\":710},{\"label\":[\"Face\"],\"notes\":\"\",\"points\":[{\"x\":0.5549295774647888,\"y\":0.4450704225352113},{\"x\":0.7591549295774648,\"y\":0.7915492957746478}],\"imageWidth\":710,\"imageHeight\":710},{\"label\":[\"Face\"],\"notes\":\"\",\"points\":[{\"x\":0.7788732394366197,\"y\":0.48732394366197185},{\"x\":0.9704225352112676,\"y\":0.7774647887323943}],\"imageWidth\":710,\"imageHeight\":710},{\"label\":[\"Face\"],\"notes\":\"\",\"points\":[{\"x\":0.5380281690140845,\"y\":0.12394366197183099},{\"x\":0.7619718309859155,\"y\":0.423943661971831}],\"imageWidth\":710,\"imageHeight\":710},{\"label\":[\"Face\"],\"notes\":\"\",\"points\":[{\"x\":0.7408450704225352,\"y\":0.14929577464788732},{\"x\":0.9014084507042254,\"y\":0.4028169014084507}],\"imageWidth\":710,\"imageHeight\":710},{\"label\":[\"Face\"],\"notes\":\"\",\"points\":[{\"x\":0.1704225352112676,\"y\":0.28450704225352114},{\"x\":0.35070422535211265,\"y\":0.5690140845070423}],\"imageWidth\":710,\"imageHeight\":710},{\"label\":[\"Face\"],\"notes\":\"\",\"points\":[{\"x\":0.34507042253521125,\"y\":0.3816901408450704},{\"x\":0.4563380281690141,\"y\":0.5521126760563381}],\"imageWidth\":710,\"imageHeight\":710},{\"label\":[\"Face\"],\"notes\":\"\",\"points\":[{\"x\":0.10845070422535211,\"y\":0.10140845070422536},{\"x\":0.21267605633802816,\"y\":0.23380281690140844}],\"imageWidth\":710,\"imageHeight\":710},{\"label\":[\"Face\"],\"notes\":\"\",\"points\":[{\"x\":0.23943661971830985,\"y\":0.10422535211267606},{\"x\":0.4084507042253521,\"y\":0.22253521126760564}],\"imageWidth\":710,\"imageHeight\":710}],\"extras\":null}\\n{\"content\": \"http://com.dataturks.a96-i23.open.s3.amazonaws.com/2c9fafb064277d86016431e33e4e003d/1ec3874f-ed0e-42eb-8ec3-883913718979___22-reunification-migrant-families.w710.h473.jpg.jpeg\",\"annotation\":[{\"label\":[\"Face\"],\"notes\":\"\",\"points\":[{\"x\":0.3873239436619718,\"y\":0.266384778012685},{\"x\":0.48450704225352115,\"y\":0.49471458773784355}],\"imageWidth\":710,\"imageHeight\":473},{\"label\":[\"Face\"],\"notes\":\"\",\"points\":[{\"x\":0.5183098591549296,\"y\":0.010570824524312896},{\"x\":0.6352112676056338,\"y\":0.2219873150105708}],\"imageWidth\":710,\"imageHeight\":473},{\"label\":[\"Face\"],\"notes\":\"\",\"points\":[{\"x\":0.3056338028169014,\"y\":0.23890063424947147},{\"x\":0.352112676056338,\"y\":0.3150105708245243}],\"imageWidth\":710,\"imageHeight\":473}],\"extras\":null}\\n{\"content\": \"http://com.dataturks.a96-i23.open.s3.amazonaws.com/2c9fafb064277d86016431e33e4e003d/6e816016-ef50-4bb9-8e09-0f4829d22c62___22-reunite-families.w710.h473.jpg.jpeg\",\"annotation\":[{\"label\":[\"Face\"],\"notes\":\"\",\"points\":[{\"x\":0.1619718309859155,\"y\":0.16279069767441862},{\"x\":0.28732394366197184,\"y\":0.39323467230443976}],\"imageWidth\":710,\"imageHeight\":473},{\"label\":[\"Face\"],\"notes\":\"\",\"points\":[{\"x\":0.8112676056338028,\"y\":0.05919661733615222},{\"x\":0.928169014084507,\"y\":0.24312896405919662}],\"imageWidth\":710,\"imageHeight\":473},{\"label\":[\"Face\"],\"notes\":\"\",\"points\":[{\"x\":0.3028169014084507,\"y\":0.7906976744186046},{\"x\":0.4971830985915493,\"y\":1}],\"imageWidth\":710,\"imageHeight\":473}],\"extras\":null}\\n{\"content\": \"http://com.dataturks.a96-i23.open.s3.amazonaws.com/2c9fafb064277d86016431e33e4e003d/21f8a760-25a7-4bd3-9764-35e86605bf42___28b85ee949e00e97b8437542d375794e.jpg.jpeg\",\"annotation\":[{\"label\":[\"Face\"],\"notes\":\"\",\"points\":[{\"x\":0.0875,\"y\":0.044293015332197615},{\"x\":0.165625,\"y\":0.2061328790459966}],\"imageWidth\":640,\"imageHeight\":587},{\"label\":[\"Face\"],\"notes\":\"\",\"points\":[{\"x\":0.19375,\"y\":0.04088586030664395},{\"x\":0.3421875,\"y\":0.24701873935264054}],\"imageWidth\":640,\"imageHeight\":587},{\"label\":[\"Face\"],\"notes\":\"\",\"points\":[{\"x\":0.478125,\"y\":0.03236797274275979},{\"x\":0.7859375,\"y\":0.37137989778534924}],\"imageWidth\":640,\"imageHeight\":587},{\"label\":[\"Face\"],\"notes\":\"\",\"points\":[{\"x\":0.759375,\"y\":0.5996592844974447},{\"x\":0.95,\"y\":0.8603066439522998}],\"imageWidth\":640,\"imageHeight\":587},{\"label\":[\"Face\"],\"notes\":\"\",\"points\":[{\"x\":0.53125,\"y\":0.5315161839863713},{\"x\":0.6453125,\"y\":0.6592844974446337}],\"imageWidth\":640,\"imageHeight\":587},{\"label\":[\"Face\"],\"notes\":\"\",\"points\":[{\"x\":0.0734375,\"y\":0.5264054514480409},{\"x\":0.19375,\"y\":0.6473594548551959}],\"imageWidth\":640,\"imageHeight\":587},{\"label\":[\"Face\"],\"notes\":\"\",\"points\":[{\"x\":0.075,\"y\":0.666098807495741},{\"x\":0.2421875,\"y\":0.9165247018739353}],\"imageWidth\":640,\"imageHeight\":587}],\"extras\":null}\\n{\"content\": \"http://com.dataturks.a96-i23.open.s3.amazonaws.com/2c9fafb064277d86016431e33e4e003d/cc91c9fd-fc00-45d1-baac-5f0de38f8f52___34_American_Beauty.jpg.jpeg\",\"annotation\":[{\"label\":[\"Face\"],\"notes\":\"\",\"points\":[{\"x\":0.7638136511375948,\"y\":0.21923076923076923},{\"x\":0.8591549295774648,\"y\":0.425}],\"imageWidth\":1296,\"imageHeight\":730}],\"extras\":null}\\n{\"content\": \"http://com.dataturks.a96-i23.open.s3.amazonaws.com/2c9fafb064277d86016431e33e4e003d/c03e0ba4-cdad-4943-80fc-782de0f30e5a___57_dark_knight.jpg.jpeg\",\"annotation\":[{\"label\":[\"Face\"],\"notes\":\"\",\"points\":[{\"x\":0.4263888888888889,\"y\":0.37465309898242366},{\"x\":0.6680555555555555,\"y\":0.5689176688251619}],\"imageWidth\":720,\"imageHeight\":1081},{\"label\":[\"Face\"],\"notes\":\"\",\"points\":[{\"x\":0.4791666666666667,\"y\":0.09435707678075855},{\"x\":0.6930555555555555,\"y\":0.2664199814986124}],\"imageWidth\":720,\"imageHeight\":1081}],\"extras\":null}\\n{\"content\": \"http://com.dataturks.a96-i23.open.s3.amazonaws.com/2c9fafb064277d86016431e33e4e003d/b1f3e57f-3275-4206-942e-ae11a26aa375___065b36-20180619-activists-in-l-a-protest-separation-of-migrant-children-from-families.jpg.jpeg\",\"annotation\":[{\"label\":[\"Face\"],\"notes\":\"\",\"points\":[{\"x\":0.7475622968580715,\"y\":0.06051873198847262},{\"x\":0.8039003250270856,\"y\":0.22622478386167147}],\"imageWidth\":2000,\"imageHeight\":1504}],\"extras\":null}\\n{\"content\": \"http://com.dataturks.a96-i23.open.s3.amazonaws.com/2c9fafb064277d86016431e33e4e003d/8d8861ba-d6e8-491d-b9f7-569d3144c87c___067efdb73cb3b14502617091325bcb78365827bfb4dc6a8eedae87269a810331.jpg.jpeg\",\"annotation\":[{\"label\":[\"Face\"],\"notes\":\"\",\"points\":[{\"x\":0.21875,\"y\":0.263681592039801},{\"x\":0.3140625,\"y\":0.599502487562189}],\"imageWidth\":640,\"imageHeight\":402},{\"label\":[\"Face\"],\"notes\":\"\",\"points\":[{\"x\":0.5671875,\"y\":0.39054726368159204},{\"x\":0.6796875,\"y\":0.6517412935323383}],\"imageWidth\":640,\"imageHeight\":402}],\"extras\":null}\\n{\"content\": \"http://com.dataturks.a96-i23.open.s3.amazonaws.com/2c9fafb064277d86016431e33e4e003d/40573453-e40f-4d61-af9a-15098ac03ca1___80smovies.png\",\"annotation\":[{\"label\":[\"Face\"],\"notes\":\"\",\"points\":[{\"x\":0.6996124031007752,\"y\":0.36176470588235293},{\"x\":0.8430232558139535,\"y\":0.5647058823529412}],\"imageWidth\":516,\"imageHeight\":340}],\"extras\":null}\\n{\"content\": \"http://com.dataturks.a96-i23.open.s3.amazonaws.com/2c9fafb064277d86016431e33e4e003d/56c521d8-3647-47af-a1c6-a0950866e102___82-5.jpg.jpeg\",\"annotation\":[{\"label\":[\"Face\"],\"notes\":\"\",\"points\":[{\"x\":0.31716417910447764,\"y\":0.2885714285714286},{\"x\":0.3818407960199005,\"y\":0.4514285714285714}],\"imageWidth\":804,\"imageHeight\":350},{\"label\":[\"Face\"],\"notes\":\"\",\"points\":[{\"x\":0.4689054726368159,\"y\":0.15142857142857144},{\"x\":0.5422885572139303,\"y\":0.30857142857142855}],\"imageWidth\":804,\"imageHeight\":350},{\"label\":[\"Face\"],\"notes\":\"\",\"points\":[{\"x\":0.1890547263681592,\"y\":0.64},{\"x\":0.2512437810945274,\"y\":0.7857142857142857}],\"imageWidth\":804,\"imageHeight\":350},{\"label\":[\"Face\"],\"notes\":\"\",\"points\":[{\"x\":0.5883084577114428,\"y\":0.6085714285714285},{\"x\":0.654228855721393,\"y\":0.7485714285714286}],\"imageWidth\":804,\"imageHeight\":350}],\"extras\":null}\\n{\"content\": \"http://com.dataturks.a96-i23.open.s3.amazonaws.com/2c9fafb064277d86016431e33e4e003d/c0a01876-0580-4ee7-bc43-7be3940d1c59___94e2c06402f1b04c585fa9c1895d7967.png\",\"annotation\":[{\"label\":[\"Face\"],\"notes\":\"\",\"points\":[{\"x\":0.1797979797979798,\"y\":0.029017857142857144},{\"x\":0.4404040404040404,\"y\":0.31919642857142855}],\"imageWidth\":495,\"imageHeight\":448},{\"label\":[\"Face\"],\"notes\":\"\",\"points\":[{\"x\":0.006060606060606061,\"y\":0.6138392857142857},{\"x\":0.1595959595959596,\"y\":0.7879464285714286}],\"imageWidth\":495,\"imageHeight\":448},{\"label\":[\"Face\"],\"notes\":\"\",\"points\":[{\"x\":0.23030303030303031,\"y\":0.7098214285714286},{\"x\":0.3717171717171717,\"y\":0.8660714285714286}],\"imageWidth\":495,\"imageHeight\":448},{\"label\":[\"Face\"],\"notes\":\"\",\"points\":[{\"x\":0.42424242424242425,\"y\":0.6696428571428571},{\"x\":0.5575757575757576,\"y\":0.8169642857142857}],\"imageWidth\":495,\"imageHeight\":448},{\"label\":[\"Face\"],\"notes\":\"\",\"points\":[{\"x\":0.6707070707070707,\"y\":0.5625},{\"x\":0.8202020202020202,\"y\":0.7723214285714286}],\"imageWidth\":495,\"imageHeight\":448},{\"label\":[\"Face\"],\"notes\":\"\",\"points\":[{\"x\":0.8888888888888888,\"y\":0.5558035714285714},{\"x\":1,\"y\":0.7410714285714286}],\"imageWidth\":495,\"imageHeight\":448}],\"extras\":null}\\n{\"content\": \"http://com.dataturks.a96-i23.open.s3.amazonaws.com/2c9fafb064277d86016431e33e4e003d/73f9b5b7-0455-4033-bf52-6c5cc9b52ecd___825a26941df80f8fdb3569ed6c1ee999.jpg.jpeg\",\"annotation\":[{\"label\":[\"Face\"],\"notes\":\"\",\"points\":[{\"x\":0.29516129032258065,\"y\":0.5163147792706334},{\"x\":0.4290322580645161,\"y\":0.7370441458733206}],\"imageWidth\":620,\"imageHeight\":521},{\"label\":[\"Face\"],\"notes\":\"\",\"points\":[{\"x\":0.7693548387096775,\"y\":0.6890595009596929},{\"x\":0.9,\"y\":0.8483685220729367}],\"imageWidth\":620,\"imageHeight\":521}],\"extras\":null}\\n{\"content\": \"http://com.dataturks.a96-i23.open.s3.amazonaws.com/2c9fafb064277d86016431e33e4e003d/14380875-99c2-4802-aa6f-3c9201d1901f___920x920.jpg.jpeg\",\"annotation\":[{\"label\":[\"Face\"],\"notes\":\"\",\"points\":[{\"x\":0.1608695652173913,\"y\":0.1104199066874028},{\"x\":0.23695652173913043,\"y\":0.2099533437013997}],\"imageWidth\":920,\"imageHeight\":643},{\"label\":[\"Face\"],\"notes\":\"\",\"points\":[{\"x\":0.11956521739130435,\"y\":0.4276827371695179},{\"x\":0.21739130434782608,\"y\":0.552099533437014}],\"imageWidth\":920,\"imageHeight\":643}],\"extras\":null}\\n{\"content\": \"http://com.dataturks.a96-i23.open.s3.amazonaws.com/2c9fafb064277d86016431e33e4e003d/78656f85-dff5-471a-ba7b-4cc8f639c8a5___920x9200.jpg.jpeg\",\"annotation\":[{\"label\":[\"Face\"],\"notes\":\"\",\"points\":[{\"x\":0.3282608695652174,\"y\":0.4609120521172638},{\"x\":0.3804347826086957,\"y\":0.5602605863192183}],\"imageWidth\":920,\"imageHeight\":614},{\"label\":[\"Face\"],\"notes\":\"\",\"points\":[{\"x\":0.6184782608695653,\"y\":0.4185667752442997},{\"x\":0.6858695652173913,\"y\":0.5244299674267101}],\"imageWidth\":920,\"imageHeight\":614}],\"extras\":null}\\n{\"content\": \"http://com.dataturks.a96-i23.open.s3.amazonaws.com/2c9fafb064277d86016431e33e4e003d/b58e2281-b339-4d93-ba04-668147d3797e___0936f9262caeb92d83ff005216a9a6f0.png\",\"annotation\":[{\"label\":[\"Face\"],\"notes\":\"\",\"points\":[{\"x\":0.4078125,\"y\":0.058098591549295774},{\"x\":0.640625,\"y\":0.2535211267605634}],\"imageWidth\":640,\"imageHeight\":1136},{\"label\":[\"Face\"],\"notes\":\"\",\"points\":[{\"x\":0.471875,\"y\":0.40316901408450706},{\"x\":0.771875,\"y\":0.5677816901408451}],\"imageWidth\":640,\"imageHeight\":1136},{\"label\":[\"Face\"],\"notes\":\"\",\"points\":[{\"x\":0.0734375,\"y\":0.3873239436619718},{\"x\":0.3453125,\"y\":0.5862676056338029}],\"imageWidth\":640,\"imageHeight\":1136},{\"label\":[\"Face\"],\"notes\":\"\",\"points\":[{\"x\":0.4953125,\"y\":0.7200704225352113},{\"x\":0.73125,\"y\":0.8890845070422535}],\"imageWidth\":640,\"imageHeight\":1136}],\"extras\":null}\\n{\"content\": \"http://com.dataturks.a96-i23.open.s3.amazonaws.com/2c9fafb064277d86016431e33e4e003d/0e8edae8-89f7-4927-93c2-1a6d716f00aa___1000-families-project-dalia-al-mouaswas-800x600.jpg.jpeg\",\"annotation\":[{\"label\":[\"Face\"],\"notes\":\"\",\"points\":[{\"x\":0.05375,\"y\":0.2683333333333333},{\"x\":0.26625,\"y\":0.49333333333333335}],\"imageWidth\":800,\"imageHeight\":600},{\"label\":[\"Face\"],\"notes\":\"\",\"points\":[{\"x\":0.33125,\"y\":0.36333333333333334},{\"x\":0.4575,\"y\":0.49333333333333335}],\"imageWidth\":800,\"imageHeight\":600},{\"label\":[\"Face\"],\"notes\":\"\",\"points\":[{\"x\":0.45625,\"y\":0.11166666666666666},{\"x\":0.56375,\"y\":0.24166666666666667}],\"imageWidth\":800,\"imageHeight\":600},{\"label\":[\"Face\"],\"notes\":\"\",\"points\":[{\"x\":0.58,\"y\":0.35333333333333333},{\"x\":0.71375,\"y\":0.5183333333333333}],\"imageWidth\":800,\"imageHeight\":600},{\"label\":[\"Face\"],\"notes\":\"\",\"points\":[{\"x\":0.71,\"y\":0.165},{\"x\":0.85625,\"y\":0.3383333333333333}],\"imageWidth\":800,\"imageHeight\":600}],\"extras\":null}\\n{\"content\": \"http://com.dataturks.a96-i23.open.s3.amazonaws.com/2c9fafb064277d86016431e33e4e003d/7439982f-e43a-4618-8079-74d74b9e8db2___1000-families-project-lisa-durante-800x600.png\",\"annotation\":[{\"label\":[\"Face\"],\"notes\":\"\",\"points\":[{\"x\":0.095,\"y\":0.23},{\"x\":0.335,\"y\":0.5783333333333334}],\"imageWidth\":800,\"imageHeight\":600},{\"label\":[\"Face\"],\"notes\":\"\",\"points\":[{\"x\":0.3525,\"y\":0.315},{\"x\":0.54625,\"y\":0.6066666666666667}],\"imageWidth\":800,\"imageHeight\":600},{\"label\":[\"Face\"],\"notes\":\"\",\"points\":[{\"x\":0.5575,\"y\":0.25333333333333335},{\"x\":0.79625,\"y\":0.66}],\"imageWidth\":800,\"imageHeight\":600},{\"label\":[\"Face\"],\"notes\":\"\",\"points\":[{\"x\":0.77,\"y\":0.18666666666666668},{\"x\":0.93625,\"y\":0.505}],\"imageWidth\":800,\"imageHeight\":600}],\"extras\":null}\\n{\"content\": \"http://com.dataturks.a96-i23.open.s3.amazonaws.com/2c9fafb064277d86016431e33e4e003d/ff12851b-2d6d-421a-a767-48feea31ea4d___1112.jpg.jpeg\",\"annotation\":[{\"label\":[\"Face\"],\"notes\":\"\",\"points\":[{\"x\":0.685807150595883,\"y\":0.24209486166007904},{\"x\":0.7865655471289275,\"y\":0.43379446640316205}],\"imageWidth\":1000,\"imageHeight\":1096}],\"extras\":null}\\n{\"content\": \"http://com.dataturks.a96-i23.open.s3.amazonaws.com/2c9fafb064277d86016431e33e4e003d/ae8ac58d-0d9f-49e9-a83f-9e15e456214f___1179_11_077.jpg.jpeg\",\"annotation\":[{\"label\":[\"Face\"],\"notes\":\"\",\"points\":[{\"x\":0.28927410617551463,\"y\":0.26991869918699185},{\"x\":0.4160346695557963,\"y\":0.48292682926829267}],\"imageWidth\":1125,\"imageHeight\":750},{\"label\":[\"Face\"],\"notes\":\"\",\"points\":[{\"x\":0.17551462621885158,\"y\":0.5528455284552846},{\"x\":0.2990249187432286,\"y\":0.7252032520325203}],\"imageWidth\":1125,\"imageHeight\":750},{\"label\":[\"Face\"],\"notes\":\"\",\"points\":[{\"x\":0.46045503791982667,\"y\":0.3056910569105691},{\"x\":0.580715059588299,\"y\":0.4813008130081301}],\"imageWidth\":1125,\"imageHeight\":750},{\"label\":[\"Face\"],\"notes\":\"\",\"points\":[{\"x\":0.6088840736728061,\"y\":0.2552845528455285},{\"x\":0.7345612134344529,\"y\":0.46016260162601624}],\"imageWidth\":1125,\"imageHeight\":750}],\"extras\":null}\\n{\"content\": \"http://com.dataturks.a96-i23.open.s3.amazonaws.com/2c9fafb064277d86016431e33e4e003d/6eef74f9-a23d-4f6e-be7a-aad3b47c6e82___1280x720-5Ws.jpg.jpeg\",\"annotation\":[{\"label\":[\"Face\"],\"notes\":\"\",\"points\":[{\"x\":0.1820151679306609,\"y\":0.06936416184971098},{\"x\":0.26977248104008666,\"y\":0.2504816955684008}],\"imageWidth\":1280,\"imageHeight\":720},{\"label\":[\"Face\"],\"notes\":\"\",\"points\":[{\"x\":0.7031419284940412,\"y\":0.04046242774566474},{\"x\":0.80931744312026,\"y\":0.24470134874759153}],\"imageWidth\":1280,\"imageHeight\":720}],\"extras\":null}\\n{\"content\": \"http://com.dataturks.a96-i23.open.s3.amazonaws.com/2c9fafb064277d86016431e33e4e003d/d8ffacc8-56e5-40b6-ba60-ac6e61654bf1___2001-mothersday-all4smiling.jpeg\",\"annotation\":[{\"label\":[\"Face\"],\"notes\":\"\",\"points\":[{\"x\":0.30119176598049835,\"y\":0.5197934595524957},{\"x\":0.41278439869989164,\"y\":0.6454388984509466}],\"imageWidth\":1728,\"imageHeight\":1088},{\"label\":[\"Face\"],\"notes\":\"\",\"points\":[{\"x\":0.551462621885157,\"y\":0.4991394148020654},{\"x\":0.647887323943662,\"y\":0.6299483648881239}],\"imageWidth\":1728,\"imageHeight\":1088},{\"label\":[\"Face\"],\"notes\":\"\",\"points\":[{\"x\":0.3781148429035753,\"y\":0.18932874354561102},{\"x\":0.48645720476706394,\"y\":0.3528399311531842}],\"imageWidth\":1728,\"imageHeight\":1088},{\"label\":[\"Face\"],\"notes\":\"\",\"points\":[{\"x\":0.6305525460455038,\"y\":0.09466437177280551},{\"x\":0.7226435536294691,\"y\":0.23752151462994836}],\"imageWidth\":1728,\"imageHeight\":1088},{\"label\":[\"Face\"],\"notes\":\"\",\"points\":[{\"x\":0.49729144095341277,\"y\":0.04991394148020654},{\"x\":0.6023835319609967,\"y\":0.22030981067125646}],\"imageWidth\":1728,\"imageHeight\":1088}],\"extras\":null}\\n{\"content\": \"http://com.dataturks.a96-i23.open.s3.amazonaws.com/2c9fafb064277d86016431e33e4e003d/4940c2b6-d6ad-460d-b788-2579c5439f23___2002_chicago_007.jpg.jpeg\",\"annotation\":[{\"label\":[\"Face\"],\"notes\":\"\",\"points\":[{\"x\":0.32,\"y\":0.28415300546448086},{\"x\":0.4127272727272727,\"y\":0.44808743169398907}],\"imageWidth\":550,\"imageHeight\":366},{\"label\":[\"Face\"],\"notes\":\"\",\"points\":[{\"x\":0.7418181818181818,\"y\":0.4180327868852459},{\"x\":0.8127272727272727,\"y\":0.5382513661202186}],\"imageWidth\":550,\"imageHeight\":366}],\"extras\":null}\\n{\"content\": \"http://com.dataturks.a96-i23.open.s3.amazonaws.com/2c9fafb064277d86016431e33e4e003d/21107511-e107-47b2-a51c-50bc4c075ad2___2018-06-19T17-01-31.7Z--1280x720.jpg.jpeg\",\"annotation\":[{\"label\":[\"Face\"],\"notes\":\"\",\"points\":[{\"x\":0.4084507042253521,\"y\":0.17341040462427745},{\"x\":0.5644637053087758,\"y\":0.4123314065510597}],\"imageWidth\":1280,\"imageHeight\":720}],\"extras\":null}\\n{\"content\": \"http://com.dataturks.a96-i23.open.s3.amazonaws.com/2c9fafb064277d86016431e33e4e003d/42edbc03-3d73-4274-a538-a513c544aee3___2246.jpg.jpeg\",\"annotation\":[{\"label\":[\"Face\"],\"notes\":\"\",\"points\":[{\"x\":0.39375,\"y\":0.17370892018779344},{\"x\":0.5296875,\"y\":0.38028169014084506}],\"imageWidth\":640,\"imageHeight\":426},{\"label\":[\"Face\"],\"notes\":\"\",\"points\":[{\"x\":0.2578125,\"y\":0.11737089201877934},{\"x\":0.3625,\"y\":0.3403755868544601}],\"imageWidth\":640,\"imageHeight\":426}],\"extras\":null}\\n{\"content\": \"http://com.dataturks.a96-i23.open.s3.amazonaws.com/2c9fafb064277d86016431e33e4e003d/7344fd47-5495-4770-a009-323a1b54a49e___3263fce5505707d4c21858b5bcea9311.jpg.jpeg\",\"annotation\":[{\"label\":[\"Face\"],\"notes\":\"\",\"points\":[{\"x\":0.5326876513317191,\"y\":0.4232876712328767},{\"x\":0.7142857142857143,\"y\":0.5438356164383562}],\"imageWidth\":413,\"imageHeight\":730},{\"label\":[\"Face\"],\"notes\":\"\",\"points\":[{\"x\":0.49878934624697335,\"y\":0.7547945205479452},{\"x\":0.6973365617433414,\"y\":0.8767123287671232}],\"imageWidth\":413,\"imageHeight\":730}],\"extras\":null}\\n{\"content\": \"http://com.dataturks.a96-i23.open.s3.amazonaws.com/2c9fafb064277d86016431e33e4e003d/5f34d8d5-7cc6-46ed-a3a3-bdb286100331___7216f974f6b575985c80d3d70914e3a9.jpg.jpeg\",\"annotation\":[{\"label\":[\"Face\"],\"notes\":\"\",\"points\":[{\"x\":0.2674897119341564,\"y\":0.16923076923076924},{\"x\":0.3868312757201646,\"y\":0.28376068376068375}],\"imageWidth\":486,\"imageHeight\":585}],\"extras\":null}\\n{\"content\": \"http://com.dataturks.a96-i23.open.s3.amazonaws.com/2c9fafb064277d86016431e33e4e003d/06a49b64-1170-4590-addb-8a67d493675f___7466Nurturing-Families.jpg.jpeg\",\"annotation\":[{\"label\":[\"Face\"],\"notes\":\"\",\"points\":[{\"x\":0.69875,\"y\":0.24390243902439024},{\"x\":0.89625,\"y\":0.5590994371482176}],\"imageWidth\":800,\"imageHeight\":533},{\"label\":[\"Face\"],\"notes\":\"\",\"points\":[{\"x\":0.435,\"y\":0.2176360225140713},{\"x\":0.67125,\"y\":0.600375234521576}],\"imageWidth\":800,\"imageHeight\":533},{\"label\":[\"Face\"],\"notes\":\"\",\"points\":[{\"x\":0.195,\"y\":0.2589118198874296},{\"x\":0.41875,\"y\":0.7091932457786116}],\"imageWidth\":800,\"imageHeight\":533}],\"extras\":null}\\n{\"content\": \"http://com.dataturks.a96-i23.open.s3.amazonaws.com/2c9fafb064277d86016431e33e4e003d/aad183a7-7054-44c4-873e-2bb77bce9ca6___7849e11f3-1.jpg.jpeg\",\"annotation\":[{\"label\":[\"Face\"],\"notes\":\"\",\"points\":[{\"x\":0.671875,\"y\":0.20555555555555555},{\"x\":0.846875,\"y\":0.5111111111111111}],\"imageWidth\":320,\"imageHeight\":180},{\"label\":[\"Face\"],\"notes\":\"\",\"points\":[{\"x\":0.159375,\"y\":0.16666666666666666},{\"x\":0.2875,\"y\":0.4888888888888889}],\"imageWidth\":320,\"imageHeight\":180}],\"extras\":null}\\n{\"content\": \"http://com.dataturks.a96-i23.open.s3.amazonaws.com/2c9fafb064277d86016431e33e4e003d/29e610e6-66b0-41ad-a36d-99bfea9c5cf7___10501_medium.png\",\"annotation\":[{\"label\":[\"Face\"],\"notes\":\"\",\"points\":[{\"x\":0.4230769230769231,\"y\":0.024},{\"x\":0.6051282051282051,\"y\":0.4}],\"imageWidth\":390,\"imageHeight\":250},{\"label\":[\"Face\"],\"notes\":\"\",\"points\":[{\"x\":0.7461538461538462,\"y\":0.144},{\"x\":0.9307692307692308,\"y\":0.492}],\"imageWidth\":390,\"imageHeight\":250}],\"extras\":null}\\n{\"content\": \"http://com.dataturks.a96-i23.open.s3.amazonaws.com/2c9fafb064277d86016431e33e4e003d/0b61c2de-be60-4436-b32a-c2b75f7b1376___23181bdffe3e99a98d87cf92cc2d2fff--movie-scenes-funny-funny-movies.jpg.jpeg\",\"annotation\":[{\"label\":[\"Face\"],\"notes\":\"\",\"points\":[{\"x\":0.18137254901960784,\"y\":0.42105263157894735},{\"x\":0.3562091503267974,\"y\":0.5824561403508772}],\"imageWidth\":612,\"imageHeight\":570},{\"label\":[\"Face\"],\"notes\":\"\",\"points\":[{\"x\":0.1388888888888889,\"y\":0.7614035087719299},{\"x\":0.32352941176470584,\"y\":0.9122807017543859}],\"imageWidth\":612,\"imageHeight\":570}],\"extras\":null}\\n{\"content\": \"http://com.dataturks.a96-i23.open.s3.amazonaws.com/2c9fafb064277d86016431e33e4e003d/6be2ed18-bf8f-4284-bf99-f4ac4fa7eb19___24861_full.jpg.jpeg\",\"annotation\":[{\"label\":[\"Face\"],\"notes\":\"\",\"points\":[{\"x\":0.25166666666666665,\"y\":0.05676126878130217},{\"x\":0.395,\"y\":0.21869782971619364}],\"imageWidth\":600,\"imageHeight\":599},{\"label\":[\"Face\"],\"notes\":\"\",\"points\":[{\"x\":0.3566666666666667,\"y\":0.11853088480801335},{\"x\":0.495,\"y\":0.27545909849749584}],\"imageWidth\":600,\"imageHeight\":599},{\"label\":[\"Face\"],\"notes\":\"\",\"points\":[{\"x\":0.6166666666666667,\"y\":0.12520868113522537},{\"x\":0.7783333333333333,\"y\":0.335559265442404}],\"imageWidth\":600,\"imageHeight\":599}],\"extras\":null}\\n{\"content\": \"http://com.dataturks.a96-i23.open.s3.amazonaws.com/2c9fafb064277d86016431e33e4e003d/78dfed3c-0cae-4041-b86c-1364f7ee5f3c___57941e88dd0895057c8b4803-750-312.png\",\"annotation\":[{\"label\":[\"Face\"],\"notes\":\"\",\"points\":[{\"x\":0.19066666666666668,\"y\":0.038461538461538464},{\"x\":0.43466666666666665,\"y\":0.6955128205128205}],\"imageWidth\":750,\"imageHeight\":312}],\"extras\":null}\\n{\"content\": \"http://com.dataturks.a96-i23.open.s3.amazonaws.com/2c9fafb064277d86016431e33e4e003d/7c5e6b07-1b6a-46f5-a180-f205cc621866___062516_scilife_feat_free.jpg.jpeg\",\"annotation\":[{\"label\":[\"Face\"],\"notes\":\"\",\"points\":[{\"x\":0.0872093023255814,\"y\":0.08260869565217391},{\"x\":0.35348837209302325,\"y\":0.4934782608695652}],\"imageWidth\":860,\"imageHeight\":460}],\"extras\":null}\\n{\"content\": \"http://com.dataturks.a96-i23.open.s3.amazonaws.com/2c9fafb064277d86016431e33e4e003d/e3a4b6a9-95b1-4d77-9e3b-6a6d545c875c___081312-the-matrix.jpg.jpeg\",\"annotation\":[{\"label\":[\"Face\"],\"notes\":\"\",\"points\":[{\"x\":0.432258064516129,\"y\":0.13333333333333333},{\"x\":0.5693548387096774,\"y\":0.3973333333333333}],\"imageWidth\":620,\"imageHeight\":375}],\"extras\":null}\\n{\"content\": \"http://com.dataturks.a96-i23.open.s3.amazonaws.com/2c9fafb064277d86016431e33e4e003d/f76cff4d-4783-4b32-ab41-90bf8e882de3___82542.png\",\"annotation\":[{\"label\":[\"Face\"],\"notes\":\"\",\"points\":[{\"x\":0.4690082644628099,\"y\":0.17463235294117646},{\"x\":0.6621900826446281,\"y\":0.5533088235294118}],\"imageWidth\":2400,\"imageHeight\":1350},{\"label\":[\"Face\"],\"notes\":\"\",\"points\":[{\"x\":0.7231404958677686,\"y\":0.3492647058823529},{\"x\":0.8409090909090909,\"y\":0.6158088235294118}],\"imageWidth\":2400,\"imageHeight\":1350}],\"extras\":null}\\n{\"content\": \"http://com.dataturks.a96-i23.open.s3.amazonaws.com/2c9fafb064277d86016431e33e4e003d/428d2ced-ed93-4620-b99c-c89a1b72c2ab___112211_interrogation-2.jpg.jpeg\",\"annotation\":[{\"label\":[\"Face\"],\"notes\":\"\",\"points\":[{\"x\":0.4485049833887043,\"y\":0.06702412868632708},{\"x\":0.659468438538206,\"y\":0.5201072386058981}],\"imageWidth\":602,\"imageHeight\":373}],\"extras\":null}\\n{\"content\": \"http://com.dataturks.a96-i23.open.s3.amazonaws.com/2c9fafb064277d86016431e33e4e003d/0ade267e-bd90-4f8f-a010-797ce668afa4___120211_death-2.jpg.jpeg\",\"annotation\":[{\"label\":[\"Face\"],\"notes\":\"\",\"points\":[{\"x\":0.09302325581395349,\"y\":0.528},{\"x\":0.34717607973421927,\"y\":0.912}],\"imageWidth\":602,\"imageHeight\":375},{\"label\":[\"Face\"],\"notes\":\"\",\"points\":[{\"x\":0.48006644518272423,\"y\":0.5546666666666666},{\"x\":0.584717607973422,\"y\":0.7093333333333334}],\"imageWidth\":602,\"imageHeight\":375},{\"label\":[\"Face\"],\"notes\":\"\",\"points\":[{\"x\":0.7142857142857143,\"y\":0.5466666666666666},{\"x\":0.8687707641196013,\"y\":0.7813333333333333}],\"imageWidth\":602,\"imageHeight\":375},{\"label\":[\"Face\"],\"notes\":\"\",\"points\":[{\"x\":0.7475083056478405,\"y\":0.042666666666666665},{\"x\":0.9485049833887044,\"y\":0.32266666666666666}],\"imageWidth\":602,\"imageHeight\":375},{\"label\":[\"Face\"],\"notes\":\"\",\"points\":[{\"x\":0.49667774086378735,\"y\":0.04533333333333334},{\"x\":0.6528239202657807,\"y\":0.3626666666666667}],\"imageWidth\":602,\"imageHeight\":375},{\"label\":[\"Face\"],\"notes\":\"\",\"points\":[{\"x\":0.04983388704318937,\"y\":0},{\"x\":0.30398671096345514,\"y\":0.47733333333333333}],\"imageWidth\":602,\"imageHeight\":375}],\"extras\":null}\\n{\"content\": \"http://com.dataturks.a96-i23.open.s3.amazonaws.com/2c9fafb064277d86016431e33e4e003d/653a7c6a-a200-4b7c-9e4d-1f873ccb14a0___128296_v1.jpg.jpeg\",\"annotation\":[{\"label\":[\"Face\"],\"notes\":\"\",\"points\":[{\"x\":0.05901639344262295,\"y\":0.04433497536945813},{\"x\":0.460655737704918,\"y\":0.9753694581280788}],\"imageWidth\":610,\"imageHeight\":203},{\"label\":[\"Face\"],\"notes\":\"\",\"points\":[{\"x\":0.5131147540983606,\"y\":0.04926108374384237},{\"x\":0.760655737704918,\"y\":0.5812807881773399}],\"imageWidth\":610,\"imageHeight\":203},{\"label\":[\"Face\"],\"notes\":\"\",\"points\":[{\"x\":0.8967213114754098,\"y\":0.2315270935960591},{\"x\":1,\"y\":0.6600985221674877}],\"imageWidth\":610,\"imageHeight\":203}],\"extras\":null}\\n{\"content\": \"http://com.dataturks.a96-i23.open.s3.amazonaws.com/2c9fafb064277d86016431e33e4e003d/0b74dc77-9eeb-4611-b4a2-2d58463786ec___141366-425x282-extended-family.jpg.jpeg\",\"annotation\":[{\"label\":[\"Face\"],\"notes\":\"\",\"points\":[{\"x\":0.07529411764705882,\"y\":0.11702127659574468},{\"x\":0.2635294117647059,\"y\":0.43617021276595747}],\"imageWidth\":425,\"imageHeight\":282},{\"label\":[\"Face\"],\"notes\":\"\",\"points\":[{\"x\":0.2611764705882353,\"y\":0.31560283687943264},{\"x\":0.3835294117647059,\"y\":0.5886524822695035}],\"imageWidth\":425,\"imageHeight\":282},{\"label\":[\"Face\"],\"notes\":\"\",\"points\":[{\"x\":0.37411764705882355,\"y\":0.11702127659574468},{\"x\":0.49411764705882355,\"y\":0.40070921985815605}],\"imageWidth\":425,\"imageHeight\":282},{\"label\":[\"Face\"],\"notes\":\"\",\"points\":[{\"x\":0.5035294117647059,\"y\":0.1879432624113475},{\"x\":0.6447058823529411,\"y\":0.4574468085106383}],\"imageWidth\":425,\"imageHeight\":282},{\"label\":[\"Face\"],\"notes\":\"\",\"points\":[{\"x\":0.5976470588235294,\"y\":0.37943262411347517},{\"x\":0.7458823529411764,\"y\":0.6560283687943262}],\"imageWidth\":425,\"imageHeight\":282},{\"label\":[\"Face\"],\"notes\":\"\",\"points\":[{\"x\":0.7364705882352941,\"y\":0.1702127659574468},{\"x\":0.8870588235294118,\"y\":0.44680851063829785}],\"imageWidth\":425,\"imageHeight\":282}],\"extras\":null}\\n{\"content\": \"http://com.dataturks.a96-i23.open.s3.amazonaws.com/2c9fafb064277d86016431e33e4e003d/2e63de3e-9327-46eb-918c-396365167f6c___143402-425x282-multicultural-family.jpg.jpeg\",\"annotation\":[{\"label\":[\"Face\"],\"notes\":\"\",\"points\":[{\"x\":0.1388235294117647,\"y\":0.3475177304964539},{\"x\":0.3270588235294118,\"y\":0.6595744680851063}],\"imageWidth\":425,\"imageHeight\":282},{\"label\":[\"Face\"],\"notes\":\"\",\"points\":[{\"x\":0.29411764705882354,\"y\":0.20567375886524822},{\"x\":0.5152941176470588,\"y\":0.4716312056737589}],\"imageWidth\":425,\"imageHeight\":282},{\"label\":[\"Face\"],\"notes\":\"\",\"points\":[{\"x\":0.4894117647058824,\"y\":0.08156028368794327},{\"x\":0.6705882352941176,\"y\":0.450354609929078}],\"imageWidth\":425,\"imageHeight\":282},{\"label\":[\"Face\"],\"notes\":\"\",\"points\":[{\"x\":0.6988235294117647,\"y\":0.09929078014184398},{\"x\":0.8682352941176471,\"y\":0.4787234042553192}],\"imageWidth\":425,\"imageHeight\":282}],\"extras\":null}\\n{\"content\": \"http://com.dataturks.a96-i23.open.s3.amazonaws.com/2c9fafb064277d86016431e33e4e003d/c110ce8b-f4e7-4a2a-a402-76136e195559___148549d1245143725-english-movies-thread-no-spoilers-please-mongol2.jpg.jpeg\",\"annotation\":[{\"label\":[\"Face\"],\"notes\":\"\",\"points\":[{\"x\":0.395,\"y\":0.2617845117845118},{\"x\":0.64625,\"y\":0.5050505050505051}],\"imageWidth\":800,\"imageHeight\":1188}],\"extras\":null}\\n{\"content\": \"http://com.dataturks.a96-i23.open.s3.amazonaws.com/2c9fafb064277d86016431e33e4e003d/3986ab8d-b02b-4d64-bac3-537d586aecbb___180619-mcallen-catholic-charities-families-njs-1158_071cc378421f8e1fc96d44cda5c9a2c8.fit-760w.jpg.jpeg\",\"annotation\":[{\"label\":[\"Face\"],\"notes\":\"\",\"points\":[{\"x\":0.1736842105263158,\"y\":0.3214990138067061},{\"x\":0.24342105263157895,\"y\":0.46745562130177515}],\"imageWidth\":760,\"imageHeight\":507},{\"label\":[\"Face\"],\"notes\":\"\",\"points\":[{\"x\":0.2644736842105263,\"y\":0.34911242603550297},{\"x\":0.33421052631578946,\"y\":0.4516765285996055}],\"imageWidth\":760,\"imageHeight\":507},{\"label\":[\"Face\"],\"notes\":\"\",\"points\":[{\"x\":0.38026315789473686,\"y\":0.22485207100591717},{\"x\":0.5105263157894737,\"y\":0.4378698224852071}],\"imageWidth\":760,\"imageHeight\":507},{\"label\":[\"Face\"],\"notes\":\"\",\"points\":[{\"x\":0.5710526315789473,\"y\":0.26429980276134124},{\"x\":0.6973684210526315,\"y\":0.4536489151873767}],\"imageWidth\":760,\"imageHeight\":507},{\"label\":[\"Face\"],\"notes\":\"\",\"points\":[{\"x\":0.6815789473684211,\"y\":0.22287968441814596},{\"x\":0.7842105263157895,\"y\":0.39644970414201186}],\"imageWidth\":760,\"imageHeight\":507},{\"label\":[\"Face\"],\"notes\":\"\",\"points\":[{\"x\":0.8342105263157895,\"y\":0.03747534516765286},{\"x\":1,\"y\":0.2879684418145957}],\"imageWidth\":760,\"imageHeight\":507}],\"extras\":null}\\n{\"content\": \"http://com.dataturks.a96-i23.open.s3.amazonaws.com/2c9fafb064277d86016431e33e4e003d/81d5029e-6cc9-47d4-be48-85d492549e26___543645--e98c467e-2034-4ed5-a04b-6a23e59560e4-thumb.jpg.jpeg\",\"annotation\":[{\"label\":[\"Face\"],\"notes\":\"\",\"points\":[{\"x\":0.26571428571428574,\"y\":0.07103825136612021},{\"x\":0.5371428571428571,\"y\":0.6666666666666666}],\"imageWidth\":350,\"imageHeight\":183}],\"extras\":null}\\n{\"content\": \"http://com.dataturks.a96-i23.open.s3.amazonaws.com/2c9fafb064277d86016431e33e4e003d/4275d018-7a5b-46df-91ac-5c12af329762___548215c10f2bf_-_titanic-xl.jpg.jpeg\",\"annotation\":[{\"label\":[\"Face\"],\"notes\":\"\",\"points\":[{\"x\":0.2760233918128655,\"y\":0.1634782608695652},{\"x\":0.36023391812865496,\"y\":0.3165217391304348}],\"imageWidth\":855,\"imageHeight\":575},{\"label\":[\"Face\"],\"notes\":\"\",\"points\":[{\"x\":0.3543859649122807,\"y\":0.13391304347826086},{\"x\":0.43157894736842106,\"y\":0.31130434782608696}],\"imageWidth\":855,\"imageHeight\":575}],\"extras\":null}\\n{\"content\": \"http://com.dataturks.a96-i23.open.s3.amazonaws.com/2c9fafb064277d86016431e33e4e003d/ae1f91ea-7e47-46ee-9d68-466c07690d57___590460-english-movies-thread-no-spoilers-please-fastermovieposter1.jpg.jpeg\",\"annotation\":[{\"label\":[\"Face\"],\"notes\":\"\",\"points\":[{\"x\":0.7636363636363637,\"y\":0},{\"x\":1,\"y\":0.3712574850299401}],\"imageWidth\":550,\"imageHeight\":334}],\"extras\":null}\\n{\"content\": \"http://com.dataturks.a96-i23.open.s3.amazonaws.com/2c9fafb064277d86016431e33e4e003d/30976e37-88da-4a61-bdfb-fd990eb6b20f___1506905-0-650-3a945d8f0c-1484648749.jpg.jpeg\",\"annotation\":[{\"label\":[\"Face\"],\"notes\":\"\",\"points\":[{\"x\":0.19692307692307692,\"y\":0.177734375},{\"x\":0.36,\"y\":0.3515625}],\"imageWidth\":650,\"imageHeight\":512},{\"label\":[\"Face\"],\"notes\":\"\",\"points\":[{\"x\":0.4969230769230769,\"y\":0.18359375},{\"x\":0.6230769230769231,\"y\":0.3671875}],\"imageWidth\":650,\"imageHeight\":512}],\"extras\":null}\\n{\"content\": \"http://com.dataturks.a96-i23.open.s3.amazonaws.com/2c9fafb064277d86016431e33e4e003d/77e5be96-45d4-4163-b355-336ccb536a3f___1935663.jpg.jpeg\",\"annotation\":[{\"label\":[\"Face\"],\"notes\":\"\",\"points\":[{\"x\":0.2852664576802508,\"y\":0.12},{\"x\":0.6567398119122257,\"y\":0.6894117647058824}],\"imageWidth\":638,\"imageHeight\":425}],\"extras\":null}\\n{\"content\": \"http://com.dataturks.a96-i23.open.s3.amazonaws.com/2c9fafb064277d86016431e33e4e003d/c60efee9-6b8a-47e5-bf1d-4641d066b5fd___3060019-poster-p-1-selfie-sticks-in-famous-movie-scenes.jpg.jpeg\",\"annotation\":[{\"label\":[\"Face\"],\"notes\":\"\",\"points\":[{\"x\":0.24205378973105135,\"y\":0.20319303338171263},{\"x\":0.36593317033414835,\"y\":0.41654571843251087}],\"imageWidth\":1280,\"imageHeight\":719},{\"label\":[\"Face\"],\"notes\":\"\",\"points\":[{\"x\":0.40179299103504484,\"y\":0.04644412191582003},{\"x\":0.5362673186634067,\"y\":0.32365747460087085}],\"imageWidth\":1280,\"imageHeight\":719}],\"extras\":null}\\n{\"content\": \"http://com.dataturks.a96-i23.open.s3.amazonaws.com/2c9fafb064277d86016431e33e4e003d/b50f30fd-376d-4e84-b505-266834c37cf3___3629560_1280x720.jpg.jpeg\",\"annotation\":[{\"label\":[\"Face\"],\"notes\":\"\",\"points\":[{\"x\":0.45764462809917356,\"y\":0.375},{\"x\":0.5196280991735537,\"y\":0.4797794117647059}],\"imageWidth\":1280,\"imageHeight\":720},{\"label\":[\"Face\"],\"notes\":\"\",\"points\":[{\"x\":0.027892561983471075,\"y\":0.35294117647058826},{\"x\":0.06921487603305786,\"y\":0.45955882352941174}],\"imageWidth\":1280,\"imageHeight\":720}],\"extras\":null}\\n{\"content\": \"http://com.dataturks.a96-i23.open.s3.amazonaws.com/2c9fafb064277d86016431e33e4e003d/92f0d92b-10da-4145-92d7-a8c300f6a971___6889272ea5783e2ba354f30fa830c2b7.jpg.jpeg\",\"annotation\":[{\"label\":[\"Face\"],\"notes\":\"\",\"points\":[{\"x\":0.47,\"y\":0.03496503496503497},{\"x\":0.598,\"y\":0.2867132867132867}],\"imageWidth\":500,\"imageHeight\":286}],\"extras\":null}\\n{\"content\": \"http://com.dataturks.a96-i23.open.s3.amazonaws.com/2c9fafb064277d86016431e33e4e003d/934bd039-b1b0-4f3c-b772-efce0e392d38___9456624-3x2-940x627.jpg.jpeg\",\"annotation\":[{\"label\":[\"Face\"],\"notes\":\"\",\"points\":[{\"x\":0.2979414951245937,\"y\":0.11688311688311688},{\"x\":0.40303358613217766,\"y\":0.31006493506493504}],\"imageWidth\":940,\"imageHeight\":627},{\"label\":[\"Face\"],\"notes\":\"\",\"points\":[{\"x\":0.48320693391115926,\"y\":0.288961038961039},{\"x\":0.5763813651137595,\"y\":0.44642857142857145}],\"imageWidth\":940,\"imageHeight\":627},{\"label\":[\"Face\"],\"notes\":\"\",\"points\":[{\"x\":0.6977248104008668,\"y\":0.18831168831168832},{\"x\":0.8147345612134345,\"y\":0.349025974025974}],\"imageWidth\":940,\"imageHeight\":627},{\"label\":[\"Face\"],\"notes\":\"\",\"points\":[{\"x\":0.333694474539545,\"y\":0.4967532467532468},{\"x\":0.4387865655471289,\"y\":0.6314935064935064}],\"imageWidth\":940,\"imageHeight\":627}],\"extras\":null}\\n{\"content\": \"http://com.dataturks.a96-i23.open.s3.amazonaws.com/2c9fafb064277d86016431e33e4e003d/a2431064-5cd2-4f01-a971-e62739647dd9___9825094-3x2-700x467.jpg.jpeg\",\"annotation\":[{\"label\":[\"Face\"],\"notes\":\"\",\"points\":[{\"x\":0.44857142857142857,\"y\":0.28693790149892934},{\"x\":0.64,\"y\":0.5781584582441114}],\"imageWidth\":700,\"imageHeight\":467}],\"extras\":null}\\n{\"content\": \"http://com.dataturks.a96-i23.open.s3.amazonaws.com/2c9fafb064277d86016431e33e4e003d/9fc45bd2-e467-4d89-acb8-3363aaf8bc01___20140424-141617.jpg.jpeg\",\"annotation\":[{\"label\":[\"Face\"],\"notes\":\"\",\"points\":[{\"x\":0.2632436837815811,\"y\":0.14057971014492754},{\"x\":0.42461287693561534,\"y\":0.38405797101449274}],\"imageWidth\":1280,\"imageHeight\":720},{\"label\":[\"Face\"],\"notes\":\"\",\"points\":[{\"x\":0.6210268948655256,\"y\":0.05507246376811594},{\"x\":0.784841075794621,\"y\":0.3507246376811594}],\"imageWidth\":1280,\"imageHeight\":720}],\"extras\":null}\\n{\"content\": \"http://com.dataturks.a96-i23.open.s3.amazonaws.com/2c9fafb064277d86016431e33e4e003d/b63a5d56-ef35-4751-9f85-ded133aa6a05___20140704-favourite-coming-out-scenes-show-me-love-1998-001-girls-00m-gz3-1920x1080_0.jpg.jpeg\",\"annotation\":[{\"label\":[\"Face\"],\"notes\":\"\",\"points\":[{\"x\":0.37486457204767065,\"y\":0.23314065510597304},{\"x\":0.49079089924160346,\"y\":0.4508670520231214}],\"imageWidth\":1920,\"imageHeight\":1080},{\"label\":[\"Face\"],\"notes\":\"\",\"points\":[{\"x\":0.48970747562296857,\"y\":0.27167630057803466},{\"x\":0.5796316359696642,\"y\":0.5028901734104047}],\"imageWidth\":1920,\"imageHeight\":1080}],\"extras\":null}\\n{\"content\": \"http://com.dataturks.a96-i23.open.s3.amazonaws.com/2c9fafb064277d86016431e33e4e003d/6c18c442-e813-45ee-aab1-b51a1dd58dcb___20140829-Canon40D-00395.jpg.jpeg\",\"annotation\":[{\"label\":[\"Face\"],\"notes\":\"\",\"points\":[{\"x\":0.4588427057864711,\"y\":0.4468704512372635},{\"x\":0.6006519967400163,\"y\":0.7263464337700145}],\"imageWidth\":3783,\"imageHeight\":2118},{\"label\":[\"Face\"],\"notes\":\"\",\"points\":[{\"x\":0.6014669926650367,\"y\":0.28093158660844253},{\"x\":0.758761206193969,\"y\":0.5429403202328966}],\"imageWidth\":3783,\"imageHeight\":2118},{\"label\":[\"Face\"],\"notes\":\"\",\"points\":[{\"x\":0.4409127954360228,\"y\":0.10625909752547306},{\"x\":0.5753871230643847,\"y\":0.3406113537117904}],\"imageWidth\":3783,\"imageHeight\":2118},{\"label\":[\"Face\"],\"notes\":\"\",\"points\":[{\"x\":0.18255908720456399,\"y\":0.07132459970887918},{\"x\":0.3154034229828851,\"y\":0.37117903930131}],\"imageWidth\":3783,\"imageHeight\":2118}],\"extras\":null}\\n{\"content\": \"http://com.dataturks.a96-i23.open.s3.amazonaws.com/2c9fafb064277d86016431e33e4e003d/dbaba02a-09a1-438e-a93f-957830114223___20180430T0901-0040-CNS-MEXICO-CARAVAN_0.jpg.png\",\"annotation\":[{\"label\":[\"Face\"],\"notes\":\"\",\"points\":[{\"x\":0.076,\"y\":0.02404809619238477},{\"x\":0.16266666666666665,\"y\":0.18236472945891782}],\"imageWidth\":750,\"imageHeight\":499}],\"extras\":null}\\n{\"content\": \"http://com.dataturks.a96-i23.open.s3.amazonaws.com/2c9fafb064277d86016431e33e4e003d/8059a8df-8911-4184-b0f5-8361bef0319f___46438629.jpg.jpeg\",\"annotation\":[{\"label\":[\"Face\"],\"notes\":\"\",\"points\":[{\"x\":0.11775700934579439,\"y\":0.05548549810844893},{\"x\":0.6897196261682244,\"y\":0.5397225725094578}],\"imageWidth\":535,\"imageHeight\":793}],\"extras\":null}\\n{\"content\": \"http://com.dataturks.a96-i23.open.s3.amazonaws.com/2c9fafb064277d86016431e33e4e003d/c16a7afa-c230-40cb-a44d-23ecf910b0a6___55026371.jpg.jpeg\",\"annotation\":[{\"label\":[\"Face\"],\"notes\":\"\",\"points\":[{\"x\":0.3422982885085575,\"y\":0.24648469809760132},{\"x\":0.634881825590872,\"y\":0.5798180314309347}],\"imageWidth\":2741,\"imageHeight\":2700}],\"extras\":null}\\n{\"content\": \"http://com.dataturks.a96-i23.open.s3.amazonaws.com/2c9fafb064277d86016431e33e4e003d/4f94643e-a543-424e-bb76-c65bbd91e5c5___105284002-GettyImages-975072408.1910x1000.jpg.jpeg\",\"annotation\":[{\"label\":[\"Face\"],\"notes\":\"\",\"points\":[{\"x\":0.4387865655471289,\"y\":0.13250517598343686},{\"x\":0.5200433369447454,\"y\":0.3022774327122153}],\"imageWidth\":1910,\"imageHeight\":1000}],\"extras\":null}\\n{\"content\": \"http://com.dataturks.a96-i23.open.s3.amazonaws.com/2c9fafb064277d86016431e33e4e003d/3f3601c5-133d-4422-9a0e-178517611507___105284824-979572220.600x400.jpg.jpeg\",\"annotation\":[{\"label\":[\"Face\"],\"notes\":\"\",\"points\":[{\"x\":0.08166666666666667,\"y\":0.16},{\"x\":0.24666666666666667,\"y\":0.41}],\"imageWidth\":600,\"imageHeight\":400}],\"extras\":null}\\n{\"content\": \"http://com.dataturks.a96-i23.open.s3.amazonaws.com/2c9fafb064277d86016431e33e4e003d/7867e866-babf-4e2f-a670-5d202a89ce25___136094606-in-this-handout-provided-by-the-white-house-first-lady.jpg.CROP.promo-mediumlarge.jpg.jpeg\",\"annotation\":[{\"label\":[\"Face\"],\"notes\":\"\",\"points\":[{\"x\":0.27627118644067794,\"y\":0.15914489311163896},{\"x\":0.4186440677966101,\"y\":0.3847980997624703}],\"imageWidth\":590,\"imageHeight\":421},{\"label\":[\"Face\"],\"notes\":\"\",\"points\":[{\"x\":0.4033898305084746,\"y\":0.21140142517814728},{\"x\":0.5338983050847458,\"y\":0.46080760095011875}],\"imageWidth\":590,\"imageHeight\":421},{\"label\":[\"Face\"],\"notes\":\"\",\"points\":[{\"x\":0.6237288135593221,\"y\":0.17577197149643706},{\"x\":0.7661016949152543,\"y\":0.4489311163895487}],\"imageWidth\":590,\"imageHeight\":421},{\"label\":[\"Face\"],\"notes\":\"\",\"points\":[{\"x\":0.752542372881356,\"y\":0.12826603325415678},{\"x\":0.8847457627118644,\"y\":0.42755344418052255}],\"imageWidth\":590,\"imageHeight\":421}],\"extras\":null}\\n{\"content\": \"http://com.dataturks.a96-i23.open.s3.amazonaws.com/2c9fafb064277d86016431e33e4e003d/34a26549-a0d9-4162-af0b-602aa427edae___980561402.jpg.jpeg\",\"annotation\":[{\"label\":[\"Face\"],\"notes\":\"\",\"points\":[{\"x\":0.4517876489707476,\"y\":0.44390243902439025},{\"x\":0.5222101841820151,\"y\":0.5430894308943089}],\"imageWidth\":3000,\"imageHeight\":2000}],\"extras\":null}\\n{\"content\": \"http://com.dataturks.a96-i23.open.s3.amazonaws.com/2c9fafb064277d86016431e33e4e003d/6636cc88-9f3a-4b3a-a988-521473ecd1d2___1369381004_63055.jpg.jpeg\",\"annotation\":[{\"label\":[\"Face\"],\"notes\":\"\",\"points\":[{\"x\":0.24736842105263157,\"y\":0.3631578947368421},{\"x\":0.5789473684210527,\"y\":0.7473684210526316}],\"imageWidth\":570,\"imageHeight\":570}],\"extras\":null}\\n{\"content\": \"http://com.dataturks.a96-i23.open.s3.amazonaws.com/2c9fafb064277d86016431e33e4e003d/d07bedac-5c2d-4d39-9871-bd7b042090c3___1369381005_11614.jpg.jpeg\",\"annotation\":[{\"label\":[\"Face\"],\"notes\":\"\",\"points\":[{\"x\":0.25263157894736843,\"y\":0.02102803738317757},{\"x\":0.712280701754386,\"y\":0.616822429906542}],\"imageWidth\":570,\"imageHeight\":428}],\"extras\":null}\\n{\"content\": \"http://com.dataturks.a96-i23.open.s3.amazonaws.com/2c9fafb064277d86016431e33e4e003d/c03c70ad-7665-4d34-91a8-3d6fce2c1a0e___1426562792-funny-dialogues-for-english-movies-3ru9da.jpg.jpeg\",\"annotation\":[{\"label\":[\"Face\"],\"notes\":\"\",\"points\":[{\"x\":0.47285714285714286,\"y\":0.1598984771573604},{\"x\":0.7928571428571428,\"y\":0.7233502538071066}],\"imageWidth\":700,\"imageHeight\":394},{\"label\":[\"Face\"],\"notes\":\"\",\"points\":[{\"x\":0.30142857142857143,\"y\":0.007614213197969543},{\"x\":0.4585714285714286,\"y\":0.4720812182741117}],\"imageWidth\":700,\"imageHeight\":394}],\"extras\":null}\\n{\"content\": \"http://com.dataturks.a96-i23.open.s3.amazonaws.com/2c9fafb064277d86016431e33e4e003d/22a49433-82d4-481f-b187-8eae2469045b___1439012286_hqdefault.jpg.jpeg\",\"annotation\":[{\"label\":[\"Face\"],\"notes\":\"\",\"points\":[{\"x\":0.20625,\"y\":0.18888888888888888},{\"x\":0.6229166666666667,\"y\":0.8083333333333333}],\"imageWidth\":480,\"imageHeight\":360}],\"extras\":null}\\n{\"content\": \"http://com.dataturks.a96-i23.open.s3.amazonaws.com/2c9fafb064277d86016431e33e4e003d/4d8690e8-e2a0-4bd8-b95e-3cc723368b1f___1501681792-0.jpg.jpeg\",\"annotation\":[{\"label\":[\"Face\"],\"notes\":\"\",\"points\":[{\"x\":0.19833333333333333,\"y\":0.15776081424936386},{\"x\":0.31166666666666665,\"y\":0.5267175572519084}],\"imageWidth\":600,\"imageHeight\":393},{\"label\":[\"Face\"],\"notes\":\"\",\"points\":[{\"x\":0.405,\"y\":0.12213740458015267},{\"x\":0.635,\"y\":0.5572519083969466}],\"imageWidth\":600,\"imageHeight\":393},{\"label\":[\"Face\"],\"notes\":\"\",\"points\":[{\"x\":0.65,\"y\":0.10432569974554708},{\"x\":0.7933333333333333,\"y\":0.5165394402035624}],\"imageWidth\":600,\"imageHeight\":393}],\"extras\":null}\\n{\"content\": \"http://com.dataturks.a96-i23.open.s3.amazonaws.com/2c9fafb064277d86016431e33e4e003d/049cc7e9-7e41-4e2d-964b-aca3e0facfc3___1525330807_maxresdefault.jpg.jpeg\",\"annotation\":[{\"label\":[\"Face\"],\"notes\":\"\",\"points\":[{\"x\":0.26327193932827736,\"y\":0.18497109826589594},{\"x\":0.3206933911159263,\"y\":0.28516377649325625}],\"imageWidth\":1280,\"imageHeight\":720},{\"label\":[\"Face\"],\"notes\":\"\",\"points\":[{\"x\":0.4257854821235103,\"y\":0.23121387283236994},{\"x\":0.49837486457204766,\"y\":0.34104046242774566}],\"imageWidth\":1280,\"imageHeight\":720},{\"label\":[\"Face\"],\"notes\":\"\",\"points\":[{\"x\":0.6197183098591549,\"y\":0.29865125240847784},{\"x\":0.6988082340195017,\"y\":0.4624277456647399}],\"imageWidth\":1280,\"imageHeight\":720}],\"extras\":null}\\n{\"content\": \"http://com.dataturks.a96-i23.open.s3.amazonaws.com/2c9fafb064277d86016431e33e4e003d/39c0442e-7597-40da-b110-1ae47b787660___18213783832_215de8caf9_b.jpg.jpeg\",\"annotation\":[{\"label\":[\"Face\"],\"notes\":\"\",\"points\":[{\"x\":0.10978260869565218,\"y\":0.07317073170731707},{\"x\":0.19021739130434784,\"y\":0.191869918699187}],\"imageWidth\":920,\"imageHeight\":615},{\"label\":[\"Face\"],\"notes\":\"\",\"points\":[{\"x\":0.3141304347826087,\"y\":0.16910569105691056},{\"x\":0.38804347826086955,\"y\":0.2943089430894309}],\"imageWidth\":920,\"imageHeight\":615}],\"extras\":null}\\n{\"content\": \"http://com.dataturks.a96-i23.open.s3.amazonaws.com/2c9fafb064277d86016431e33e4e003d/625ad691-16e1-47c3-a08c-5baa755fdfff___131204175328-charlie-chaplin-tramp-city-lights-horizontal-gallery.jpg.jpeg\",\"annotation\":[{\"label\":[\"Face\"],\"notes\":\"\",\"points\":[{\"x\":0.3484375,\"y\":0.26666666666666666},{\"x\":0.6640625,\"y\":0.8444444444444444}],\"imageWidth\":640,\"imageHeight\":360}],\"extras\":null}\\n{\"content\": \"http://com.dataturks.a96-i23.open.s3.amazonaws.com/2c9fafb064277d86016431e33e4e003d/2d339928-212c-4f74-9002-4a95e2893d8c___180619103539-apaptow-ingraham-hannity-split-large-169.jpg.jpeg\",\"annotation\":[{\"label\":[\"Face\"],\"notes\":\"\",\"points\":[{\"x\":0.015217391304347827,\"y\":0.04633204633204633},{\"x\":0.27608695652173915,\"y\":0.555984555984556}],\"imageWidth\":460,\"imageHeight\":259},{\"label\":[\"Face\"],\"notes\":\"\",\"points\":[{\"x\":0.3760869565217391,\"y\":0.05405405405405406},{\"x\":0.5652173913043478,\"y\":0.5328185328185329}],\"imageWidth\":460,\"imageHeight\":259},{\"label\":[\"Face\"],\"notes\":\"\",\"points\":[{\"x\":0.7217391304347827,\"y\":0.05405405405405406},{\"x\":0.9934782608695653,\"y\":0.7065637065637066}],\"imageWidth\":460,\"imageHeight\":259}],\"extras\":null}\\n{\"content\": \"http://com.dataturks.a96-i23.open.s3.amazonaws.com/2c9fafb064277d86016431e33e4e003d/a6324953-0d38-4385-8cd9-29b7f7d6a932___180620152134-01-trump-immigration-exec-order-0620-exlarge-169.jpg.jpeg\",\"annotation\":[{\"label\":[\"Face\"],\"notes\":\"\",\"points\":[{\"x\":0.09230769230769231,\"y\":0.0228310502283105},{\"x\":0.20897435897435898,\"y\":0.24885844748858446}],\"imageWidth\":780,\"imageHeight\":438},{\"label\":[\"Face\"],\"notes\":\"\",\"points\":[{\"x\":0.39487179487179486,\"y\":0.19863013698630136},{\"x\":0.5371794871794872,\"y\":0.5}],\"imageWidth\":780,\"imageHeight\":438}],\"extras\":null}\\n{\"content\": \"http://com.dataturks.a96-i23.open.s3.amazonaws.com/2c9fafb064277d86016431e33e4e003d/cf4b21b6-4cd6-488c-8117-94850d6c3ef1___180623002236-erin-burnett-trump-reversal-separate-families-monologue-ebof-00002001-large-169.jpg.jpeg\",\"annotation\":[{\"label\":[\"Face\"],\"notes\":\"\",\"points\":[{\"x\":0.4217391304347826,\"y\":0.10038610038610038},{\"x\":0.6065217391304348,\"y\":0.5405405405405406}],\"imageWidth\":460,\"imageHeight\":259}],\"extras\":null}\\n{\"content\": \"http://com.dataturks.a96-i23.open.s3.amazonaws.com/2c9fafb064277d86016431e33e4e003d/2cb2b041-ef29-4b15-b853-a7ae83b9e761___1528815743456.jpg.jpeg\",\"annotation\":[{\"label\":[\"Face\"],\"notes\":\"\",\"points\":[{\"x\":0.20730397422126745,\"y\":0.10687022900763359},{\"x\":0.38990332975295383,\"y\":0.4732824427480916}],\"imageWidth\":931,\"imageHeight\":524},{\"label\":[\"Face\"],\"notes\":\"\",\"points\":[{\"x\":0.5080558539205156,\"y\":0.5629770992366412},{\"x\":0.6680988184747583,\"y\":0.851145038167939}],\"imageWidth\":931,\"imageHeight\":524},{\"label\":[\"Face\"],\"notes\":\"\",\"points\":[{\"x\":0.6498388829215896,\"y\":0.04389312977099236},{\"x\":0.8539205155746509,\"y\":0.45229007633587787}],\"imageWidth\":931,\"imageHeight\":524}],\"extras\":null}\\n{\"content\": \"http://com.dataturks.a96-i23.open.s3.amazonaws.com/2c9fafb064277d86016431e33e4e003d/e8bb5eb3-7ce1-4570-b60a-717a957fe38b___20160321135908kkkkkkkk.jpg.jpeg\",\"annotation\":[{\"label\":[\"Face\"],\"notes\":\"\",\"points\":[{\"x\":0.03,\"y\":0.06904231625835189},{\"x\":0.1575,\"y\":0.35412026726057905}],\"imageWidth\":800,\"imageHeight\":449},{\"label\":[\"Face\"],\"notes\":\"\",\"points\":[{\"x\":0.205,\"y\":0.48997772828507796},{\"x\":0.37375,\"y\":0.7015590200445434}],\"imageWidth\":800,\"imageHeight\":449},{\"label\":[\"Face\"],\"notes\":\"\",\"points\":[{\"x\":0.54,\"y\":0.053452115812917596},{\"x\":0.72,\"y\":0.36302895322939865}],\"imageWidth\":800,\"imageHeight\":449}],\"extras\":null}\\n{\"content\": \"http://com.dataturks.a96-i23.open.s3.amazonaws.com/2c9fafb064277d86016431e33e4e003d/56bdb63e-7d4f-4932-a922-6bbc306673b1___ace-ventura04.jpg.jpeg\",\"annotation\":[{\"label\":[\"Face\"],\"notes\":\"\",\"points\":[{\"x\":0.41,\"y\":0.1782178217821782},{\"x\":0.576,\"y\":0.43234323432343236}],\"imageWidth\":500,\"imageHeight\":303}],\"extras\":null}\\n{\"content\": \"http://com.dataturks.a96-i23.open.s3.amazonaws.com/2c9fafb064277d86016431e33e4e003d/d94c17c6-4ba5-4969-b00f-3d5102beeeaa___a-common-man1.jpg.jpeg\",\"annotation\":[{\"label\":[\"Face\"],\"notes\":\"\",\"points\":[{\"x\":0.4008667388949079,\"y\":0.1732283464566929},{\"x\":0.6522210184182016,\"y\":0.5795275590551181}],\"imageWidth\":1100,\"imageHeight\":757}],\"extras\":null}\\n{\"content\": \"http://com.dataturks.a96-i23.open.s3.amazonaws.com/2c9fafb064277d86016431e33e4e003d/df40b57f-b015-4c56-9835-f21c8898f37f___action-crime-movies-2017-full-english-hd-hollywood-action-movies-full-length0.jpg.jpeg\",\"annotation\":[{\"label\":[\"Face\"],\"notes\":\"\",\"points\":[{\"x\":0.425,\"y\":0.13333333333333333},{\"x\":0.6333333333333333,\"y\":0.4722222222222222}],\"imageWidth\":480,\"imageHeight\":360},{\"label\":[\"Face\"],\"notes\":\"\",\"points\":[{\"x\":0.0125,\"y\":0.1388888888888889},{\"x\":0.25,\"y\":0.5166666666666667}],\"imageWidth\":480,\"imageHeight\":360},{\"label\":[\"Face\"],\"notes\":\"\",\"points\":[{\"x\":0.3125,\"y\":0.14722222222222223},{\"x\":0.4375,\"y\":0.4083333333333333}],\"imageWidth\":480,\"imageHeight\":360},{\"label\":[\"Face\"],\"notes\":\"\",\"points\":[{\"x\":0.75,\"y\":0.13333333333333333},{\"x\":1,\"y\":0.5805555555555556}],\"imageWidth\":480,\"imageHeight\":360}],\"extras\":null}\\n{\"content\": \"http://com.dataturks.a96-i23.open.s3.amazonaws.com/2c9fafb064277d86016431e33e4e003d/8286d2cd-34a3-4fe6-9d59-89565b557de2___adoptiongreencard.jpg.jpeg\",\"annotation\":[{\"label\":[\"Face\"],\"notes\":\"\",\"points\":[{\"x\":0.06611570247933884,\"y\":0.07131782945736434},{\"x\":0.256198347107438,\"y\":0.40310077519379844}],\"imageWidth\":2376,\"imageHeight\":1584},{\"label\":[\"Face\"],\"notes\":\"\",\"points\":[{\"x\":0.2871900826446281,\"y\":0.16744186046511628},{\"x\":0.4318181818181818,\"y\":0.43410852713178294}],\"imageWidth\":2376,\"imageHeight\":1584},{\"label\":[\"Face\"],\"notes\":\"\",\"points\":[{\"x\":0.4287190082644628,\"y\":0.06821705426356589},{\"x\":0.6084710743801653,\"y\":0.3689922480620155}],\"imageWidth\":2376,\"imageHeight\":1584},{\"label\":[\"Face\"],\"notes\":\"\",\"points\":[{\"x\":0.5619834710743802,\"y\":0.21395348837209302},{\"x\":0.7252066115702479,\"y\":0.49147286821705427}],\"imageWidth\":2376,\"imageHeight\":1584},{\"label\":[\"Face\"],\"notes\":\"\",\"points\":[{\"x\":0.7737603305785123,\"y\":0.21705426356589147},{\"x\":0.9421487603305785,\"y\":0.5441860465116279}],\"imageWidth\":2376,\"imageHeight\":1584}],\"extras\":null}\\n{\"content\": \"http://com.dataturks.a96-i23.open.s3.amazonaws.com/2c9fafb064277d86016431e33e4e003d/686b3b5e-6651-4e78-8bca-73386b41c115___ae3dcb1ca4c760c590c896f8fff9b721--avengers-marvel-funny-moments.jpg.jpeg\",\"annotation\":[{\"label\":[\"Face\"],\"notes\":\"\",\"points\":[{\"x\":0.15930902111324377,\"y\":0.041666666666666664},{\"x\":0.4779270633397313,\"y\":0.3428030303030303}],\"imageWidth\":521,\"imageHeight\":528},{\"label\":[\"Face\"],\"notes\":\"\",\"points\":[{\"x\":0.46833013435700577,\"y\":0.5454545454545454},{\"x\":0.7485604606525912,\"y\":0.8200757575757576}],\"imageWidth\":521,\"imageHeight\":528}],\"extras\":null}\\n{\"content\": \"http://com.dataturks.a96-i23.open.s3.amazonaws.com/2c9fafb064277d86016431e33e4e003d/72616a79-cfc1-406b-a2d9-70d2092dd786___aj8Jbq9e.jpeg\",\"annotation\":[{\"label\":[\"Face\"],\"notes\":\"\",\"points\":[{\"x\":0.28494041170097506,\"y\":0.2914409534127844},{\"x\":0.38028169014084506,\"y\":0.3856988082340195}],\"imageWidth\":1252,\"imageHeight\":1252}],\"extras\":null}\\n{\"content\": \"http://com.dataturks.a96-i23.open.s3.amazonaws.com/2c9fafb064277d86016431e33e4e003d/3074ccbf-430c-448a-9472-7e4f4681fad4___alien-3-cinephilia-e1421050422112.jpg.jpeg\",\"annotation\":[{\"label\":[\"Face\"],\"notes\":\"\",\"points\":[{\"x\":0.6632231404958677,\"y\":0.30297029702970296},{\"x\":0.9514462809917356,\"y\":0.8871287128712871}],\"imageWidth\":1047,\"imageHeight\":546}],\"extras\":null}\\n{\"content\": \"http://com.dataturks.a96-i23.open.s3.amazonaws.com/2c9fafb064277d86016431e33e4e003d/fda68aef-4a07-4b49-a126-92b23e0961e9___Alita-Battle-Angel-Poster-Movie-Upcoming-Movies-Hollywood.jpg.jpeg\",\"annotation\":[{\"label\":[\"Face\"],\"notes\":\"\",\"points\":[{\"x\":0.6353111432706223,\"y\":0.0439453125},{\"x\":0.9377713458755427,\"y\":0.333984375}],\"imageWidth\":691,\"imageHeight\":1024}],\"extras\":null}\\n{\"content\": \"http://com.dataturks.a96-i23.open.s3.amazonaws.com/2c9fafb064277d86016431e33e4e003d/efadbc5b-eab0-4d92-90f5-a3bb97aee08f___Angel-FamiliesTrump-1250x650.jpg.jpeg\",\"annotation\":[{\"label\":[\"Face\"],\"notes\":\"\",\"points\":[{\"x\":0.48537378114842905,\"y\":0.06875},{\"x\":0.5514626218851572,\"y\":0.20625}],\"imageWidth\":1250,\"imageHeight\":650},{\"label\":[\"Face\"],\"notes\":\"\",\"points\":[{\"x\":0.10400866738894908,\"y\":0.725},{\"x\":0.1820151679306609,\"y\":0.9354166666666667}],\"imageWidth\":1250,\"imageHeight\":650},{\"label\":[\"Face\"],\"notes\":\"\",\"points\":[{\"x\":0.7919826652221018,\"y\":0.13125},{\"x\":0.856988082340195,\"y\":0.25833333333333336}],\"imageWidth\":1250,\"imageHeight\":650},{\"label\":[\"Face\"],\"notes\":\"\",\"points\":[{\"x\":0.1256771397616468,\"y\":0.2125},{\"x\":0.19284940411700974,\"y\":0.3333333333333333}],\"imageWidth\":1250,\"imageHeight\":650},{\"label\":[\"Face\"],\"notes\":\"\",\"points\":[{\"x\":0.03466955579631636,\"y\":0.09791666666666667},{\"x\":0.10509209100758396,\"y\":0.20625}],\"imageWidth\":1250,\"imageHeight\":650},{\"label\":[\"Face\"],\"notes\":\"\",\"points\":[{\"x\":0.27410617551462624,\"y\":0.14375},{\"x\":0.3304442036836403,\"y\":0.25625}],\"imageWidth\":1250,\"imageHeight\":650},{\"label\":[\"Face\"],\"notes\":\"\",\"points\":[{\"x\":0.7453954496208017,\"y\":0.6708333333333333},{\"x\":0.8060671722643553,\"y\":0.8}],\"imageWidth\":1250,\"imageHeight\":650},{\"label\":[\"Face\"],\"notes\":\"\",\"points\":[{\"x\":0.3477789815817985,\"y\":0.24375},{\"x\":0.41278439869989164,\"y\":0.3458333333333333}],\"imageWidth\":1250,\"imageHeight\":650}],\"extras\":null}\\n{\"content\": \"http://com.dataturks.a96-i23.open.s3.amazonaws.com/2c9fafb064277d86016431e33e4e003d/b049f0b8-17bf-45fb-995e-bce8aad0c270___aph_0.jpg.jpeg\",\"annotation\":[{\"label\":[\"Face\"],\"notes\":\"\",\"points\":[{\"x\":0.7107438016528925,\"y\":0.24806201550387597},{\"x\":0.7933884297520661,\"y\":0.37829457364341085}],\"imageWidth\":2700,\"imageHeight\":1800},{\"label\":[\"Face\"],\"notes\":\"\",\"points\":[{\"x\":0.4927685950413223,\"y\":0.262015503875969},{\"x\":0.5506198347107438,\"y\":0.3643410852713178}],\"imageWidth\":2700,\"imageHeight\":1800},{\"label\":[\"Face\"],\"notes\":\"\",\"points\":[{\"x\":0.1559917355371901,\"y\":0.289922480620155},{\"x\":0.2634297520661157,\"y\":0.4542635658914729}],\"imageWidth\":2700,\"imageHeight\":1800},{\"label\":[\"Face\"],\"notes\":\"\",\"points\":[{\"x\":0.2159090909090909,\"y\":0.5255813953488372},{\"x\":0.2902892561983471,\"y\":0.6108527131782946}],\"imageWidth\":2700,\"imageHeight\":1800}],\"extras\":null}\\n{\"content\": \"http://com.dataturks.a96-i23.open.s3.amazonaws.com/2c9fafb064277d86016431e33e4e003d/13224a02-ea2c-4b4c-8dab-6a4e9dc4401d___arrahmanian.jpg.jpeg\",\"annotation\":[{\"label\":[\"Face\"],\"notes\":\"\",\"points\":[{\"x\":0.37293388429752067,\"y\":0.04642857142857143},{\"x\":0.5619834710743802,\"y\":0.6392857142857142}],\"imageWidth\":1024,\"imageHeight\":296}],\"extras\":null}\\n{\"content\": \"http://com.dataturks.a96-i23.open.s3.amazonaws.com/2c9fafb064277d86016431e33e4e003d/4ef6d20e-2419-4089-9657-8ce343f596c3___article-0-15A4690B000005DC-190_634x339.jpg.jpeg\",\"annotation\":[{\"label\":[\"Face\"],\"notes\":\"\",\"points\":[{\"x\":0.08201892744479496,\"y\":0.15634218289085547},{\"x\":0.2444794952681388,\"y\":0.5575221238938053}],\"imageWidth\":634,\"imageHeight\":339},{\"label\":[\"Face\"],\"notes\":\"\",\"points\":[{\"x\":0.2618296529968454,\"y\":0.02654867256637168},{\"x\":0.42113564668769715,\"y\":0.4896755162241888}],\"imageWidth\":634,\"imageHeight\":339},{\"label\":[\"Face\"],\"notes\":\"\",\"points\":[{\"x\":0.44952681388012616,\"y\":0.06784660766961652},{\"x\":0.6277602523659306,\"y\":0.44542772861356933}],\"imageWidth\":634,\"imageHeight\":339},{\"label\":[\"Face\"],\"notes\":\"\",\"points\":[{\"x\":0.6309148264984227,\"y\":0.22713864306784662},{\"x\":0.7476340694006309,\"y\":0.5752212389380531}],\"imageWidth\":634,\"imageHeight\":339},{\"label\":[\"Face\"],\"notes\":\"\",\"points\":[{\"x\":0.7791798107255521,\"y\":0.1415929203539823},{\"x\":0.9037854889589906,\"y\":0.5309734513274337}],\"imageWidth\":634,\"imageHeight\":339}],\"extras\":null}\\n{\"content\": \"http://com.dataturks.a96-i23.open.s3.amazonaws.com/2c9fafb064277d86016431e33e4e003d/303d899b-d6e9-465b-837a-76fa2c8a44e1___article-2029433-0D8C459500000578-160_468x286.jpg.jpeg\",\"annotation\":[{\"label\":[\"Face\"],\"notes\":\"\",\"points\":[{\"x\":0.4658119658119658,\"y\":0.006993006993006993},{\"x\":0.9978632478632479,\"y\":0.958041958041958}],\"imageWidth\":468,\"imageHeight\":286}],\"extras\":null}\\n{\"content\": \"http://com.dataturks.a96-i23.open.s3.amazonaws.com/2c9fafb064277d86016431e33e4e003d/667ca8f2-400d-475c-9f8b-b4ddb6a0df61___article-2368232-1ADE3F7A000005DC-342_634x393.jpg.jpeg\",\"annotation\":[{\"label\":[\"Face\"],\"notes\":\"\",\"points\":[{\"x\":0.6813880126182965,\"y\":0.027989821882951654},{\"x\":0.9605678233438486,\"y\":0.5776081424936387}],\"imageWidth\":634,\"imageHeight\":393}],\"extras\":null}\\n{\"content\": \"http://com.dataturks.a96-i23.open.s3.amazonaws.com/2c9fafb064277d86016431e33e4e003d/ae1e3cee-1b64-4415-9cc2-f218ec8cb113___articles_fartsinmovies.jpg.jpeg\",\"annotation\":[{\"label\":[\"Face\"],\"notes\":\"\",\"points\":[{\"x\":0.30333333333333334,\"y\":0.04285714285714286},{\"x\":0.4033333333333333,\"y\":0.29428571428571426}],\"imageWidth\":600,\"imageHeight\":350},{\"label\":[\"Face\"],\"notes\":\"\",\"points\":[{\"x\":0.6066666666666667,\"y\":0.2857142857142857},{\"x\":0.7633333333333333,\"y\":0.5085714285714286}],\"imageWidth\":600,\"imageHeight\":350}],\"extras\":null}\\n{\"content\": \"http://com.dataturks.a96-i23.open.s3.amazonaws.com/2c9fafb064277d86016431e33e4e003d/349ad78a-d704-4518-b348-795e1fe13cd7___arts-graphics-2008_1130994a.jpg.jpeg\",\"annotation\":[{\"label\":[\"Face\"],\"notes\":\"\",\"points\":[{\"x\":0.7669172932330827,\"y\":0.2229965156794425},{\"x\":0.8947368421052632,\"y\":0.44947735191637633}],\"imageWidth\":399,\"imageHeight\":287}],\"extras\":null}\\n{\"content\": \"http://com.dataturks.a96-i23.open.s3.amazonaws.com/2c9fafb064277d86016431e33e4e003d/78580089-6288-41fc-93ec-26b33ec6161f___a-supercut-of-whistling-scenes-in-movies-tv-shows-and-music-videos.jpg.jpeg\",\"annotation\":[{\"label\":[\"Face\"],\"notes\":\"\",\"points\":[{\"x\":0.13739669421487602,\"y\":0.02022058823529412},{\"x\":0.6714876033057852,\"y\":0.9981617647058824}],\"imageWidth\":1920,\"imageHeight\":1080}],\"extras\":null}\\n{\"content\": \"http://com.dataturks.a96-i23.open.s3.amazonaws.com/2c9fafb064277d86016431e33e4e003d/516c8e37-3f10-45ff-9aa1-5986076388c7___a-wrinkle-in-time2.jpg.jpeg\",\"annotation\":[{\"label\":[\"Face\"],\"notes\":\"\",\"points\":[{\"x\":0.3175925925925926,\"y\":0.45037037037037037},{\"x\":0.45185185185185184,\"y\":0.5651851851851852}],\"imageWidth\":1080,\"imageHeight\":1350},{\"label\":[\"Face\"],\"notes\":\"\",\"points\":[{\"x\":0.2833333333333333,\"y\":0.25925925925925924},{\"x\":0.4287037037037037,\"y\":0.3985185185185185}],\"imageWidth\":1080,\"imageHeight\":1350},{\"label\":[\"Face\"],\"notes\":\"\",\"points\":[{\"x\":0.5796296296296296,\"y\":0.25037037037037035},{\"x\":0.6675925925925926,\"y\":0.3288888888888889}],\"imageWidth\":1080,\"imageHeight\":1350},{\"label\":[\"Face\"],\"notes\":\"\",\"points\":[{\"x\":0.4185185185185185,\"y\":0.17185185185185184},{\"x\":0.5148148148148148,\"y\":0.2577777777777778}],\"imageWidth\":1080,\"imageHeight\":1350},{\"label\":[\"Face\"],\"notes\":\"\",\"points\":[{\"x\":0.6277777777777778,\"y\":0.12666666666666668},{\"x\":0.7231481481481481,\"y\":0.2222222222222222}],\"imageWidth\":1080,\"imageHeight\":1350},{\"label\":[\"Face\"],\"notes\":\"\",\"points\":[{\"x\":0.6861111111111111,\"y\":0.46370370370370373},{\"x\":0.850925925925926,\"y\":0.5622222222222222}],\"imageWidth\":1080,\"imageHeight\":1350}],\"extras\":null}\\n{\"content\": \"http://com.dataturks.a96-i23.open.s3.amazonaws.com/2c9fafb064277d86016431e33e4e003d/27e9888b-351b-46c3-b465-ce683ae50fbf___b3a41c4f625e317ea212193b1a863be3.jpg.jpeg\",\"annotation\":[{\"label\":[\"Face\"],\"notes\":\"\",\"points\":[{\"x\":0.7096424702058505,\"y\":0.17533718689788053},{\"x\":0.7843986998916577,\"y\":0.31021194605009633}],\"imageWidth\":1280,\"imageHeight\":720},{\"label\":[\"Face\"],\"notes\":\"\",\"points\":[{\"x\":0.14734561213434452,\"y\":0.279383429672447},{\"x\":0.2047670639219935,\"y\":0.37572254335260113}],\"imageWidth\":1280,\"imageHeight\":720}],\"extras\":null}\\n{\"content\": \"http://com.dataturks.a96-i23.open.s3.amazonaws.com/2c9fafb064277d86016431e33e4e003d/83b38f57-41d8-4f23-838d-a9430bd1ce0e___b4ce3239130e3e5b41dc9dad6a9d6b78--kate-hudson.jpg.jpeg\",\"annotation\":[{\"label\":[\"Face\"],\"notes\":\"\",\"points\":[{\"x\":0.375,\"y\":0.14625850340136054},{\"x\":0.4986413043478261,\"y\":0.3979591836734694}],\"imageWidth\":736,\"imageHeight\":588},{\"label\":[\"Face\"],\"notes\":\"\",\"points\":[{\"x\":0.6100543478260869,\"y\":0.28401360544217685},{\"x\":0.7649456521739131,\"y\":0.48299319727891155}],\"imageWidth\":736,\"imageHeight\":588}],\"extras\":null}\\n{\"content\": \"http://com.dataturks.a96-i23.open.s3.amazonaws.com/2c9fafb064277d86016431e33e4e003d/0a4c98b4-703e-4271-a1c5-21344fc04d6a___b078140b365ac7f9eb5a7acaaf0ae673---jump-street-tv-movie.jpg.jpeg\",\"annotation\":[{\"label\":[\"Face\"],\"notes\":\"\",\"points\":[{\"x\":0.35451505016722407,\"y\":0.5790349417637272},{\"x\":0.459866220735786,\"y\":0.670549084858569}],\"imageWidth\":598,\"imageHeight\":601},{\"label\":[\"Face\"],\"notes\":\"\",\"points\":[{\"x\":0.7207357859531772,\"y\":0.5840266222961731},{\"x\":0.7976588628762542,\"y\":0.6655574043261231}],\"imageWidth\":598,\"imageHeight\":601},{\"label\":[\"Face\"],\"notes\":\"\",\"points\":[{\"x\":0.21906354515050167,\"y\":0.029950083194675542},{\"x\":0.3963210702341137,\"y\":0.23128119800332778}],\"imageWidth\":598,\"imageHeight\":601},{\"label\":[\"Face\"],\"notes\":\"\",\"points\":[{\"x\":0.7374581939799331,\"y\":0.16805324459234608},{\"x\":0.9297658862876255,\"y\":0.36772046589018303}],\"imageWidth\":598,\"imageHeight\":601}],\"extras\":null}\\n{\"content\": \"http://com.dataturks.a96-i23.open.s3.amazonaws.com/2c9fafb064277d86016431e33e4e003d/de09eb83-bbe1-40a6-a05a-768fa7b3e161___banner_img.jpg.jpeg\",\"annotation\":[{\"label\":[\"Face\"],\"notes\":\"\",\"points\":[{\"x\":0.4647887323943662,\"y\":0.1601423487544484},{\"x\":0.5417118093174431,\"y\":0.42704626334519574}],\"imageWidth\":1000,\"imageHeight\":304}],\"extras\":null}\\n{\"content\": \"http://com.dataturks.a96-i23.open.s3.amazonaws.com/2c9fafb064277d86016431e33e4e003d/df41031c-c82e-4208-90b5-99fd5ad305c8___bb7d783d-1c5e-4b88-b872-d1edccbec32f-getty-593252908.jpg.jpeg\",\"annotation\":[{\"label\":[\"Face\"],\"notes\":\"\",\"points\":[{\"x\":0.40736728060671723,\"y\":0.12180451127819548},{\"x\":0.5752979414951246,\"y\":0.3443609022556391}],\"imageWidth\":3000,\"imageHeight\":2161}],\"extras\":null}\\n{\"content\": \"http://com.dataturks.a96-i23.open.s3.amazonaws.com/2c9fafb064277d86016431e33e4e003d/ab4d5a15-1857-4239-a132-99b14611edd1___behind-the-scenes-classic-horror-movies-thumb640.jpg.jpeg\",\"annotation\":[{\"label\":[\"Face\"],\"notes\":\"\",\"points\":[{\"x\":0.2671875,\"y\":0.1325},{\"x\":0.5125,\"y\":0.5475}],\"imageWidth\":640,\"imageHeight\":400},{\"label\":[\"Face\"],\"notes\":\"\",\"points\":[{\"x\":0.0359375,\"y\":0.1775},{\"x\":0.13125,\"y\":0.325}],\"imageWidth\":640,\"imageHeight\":400},{\"label\":[\"Face\"],\"notes\":\"\",\"points\":[{\"x\":0.6734375,\"y\":0.25},{\"x\":0.7328125,\"y\":0.3675}],\"imageWidth\":640,\"imageHeight\":400},{\"label\":[\"Face\"],\"notes\":\"\",\"points\":[{\"x\":0.625,\"y\":0.2425},{\"x\":0.6796875,\"y\":0.3725}],\"imageWidth\":640,\"imageHeight\":400}],\"extras\":null}\\n{\"content\": \"http://com.dataturks.a96-i23.open.s3.amazonaws.com/2c9fafb064277d86016431e33e4e003d/5a2f8e16-97cb-4625-ad88-d81701beee02___behind-the-scenes-from-famous-movies-9.jpg.jpeg\",\"annotation\":[{\"label\":[\"Face\"],\"notes\":\"\",\"points\":[{\"x\":0.2512396694214876,\"y\":0.020080321285140562},{\"x\":0.5636363636363636,\"y\":0.2891566265060241}],\"imageWidth\":605,\"imageHeight\":747}],\"extras\":null}\\n{\"content\": \"http://com.dataturks.a96-i23.open.s3.amazonaws.com/2c9fafb064277d86016431e33e4e003d/14c0bdf3-510e-4cf8-8219-02f1d08695ad___behind-the-scenes-photos-from-horror-movies-7.jpg.jpeg\",\"annotation\":[{\"label\":[\"Face\"],\"notes\":\"\",\"points\":[{\"x\":0.11587301587301588,\"y\":0.09090909090909091},{\"x\":0.373015873015873,\"y\":0.562200956937799}],\"imageWidth\":630,\"imageHeight\":418},{\"label\":[\"Face\"],\"notes\":\"\",\"points\":[{\"x\":0.4365079365079365,\"y\":0.23684210526315788},{\"x\":0.7603174603174603,\"y\":0.7105263157894737}],\"imageWidth\":630,\"imageHeight\":418}],\"extras\":null}\\n{\"content\": \"http://com.dataturks.a96-i23.open.s3.amazonaws.com/2c9fafb064277d86016431e33e4e003d/f016528a-12c6-4f68-b460-6eed25b8f87b___behind-the-scenes-trivia-and-fun-facts-about-classic-movies-1.jpg.jpeg\",\"annotation\":[{\"label\":[\"Face\"],\"notes\":\"\",\"points\":[{\"x\":0.28285714285714286,\"y\":0.047619047619047616},{\"x\":0.7142857142857143,\"y\":0.9153439153439153}],\"imageWidth\":700,\"imageHeight\":378}],\"extras\":null}\\n{\"content\": \"http://com.dataturks.a96-i23.open.s3.amazonaws.com/2c9fafb064277d86016431e33e4e003d/f76b4b9a-6592-49c8-b741-16cbc5a70dd2___best-action-comedy-movies-2018-full-movie-english-adventure-movies-2018-full-hd-720-spanish-subs-1140x720.jpg.jpeg\",\"annotation\":[{\"label\":[\"Face\"],\"notes\":\"\",\"points\":[{\"x\":0.4420368364030336,\"y\":0.1234991423670669},{\"x\":0.48970747562296857,\"y\":0.2195540308747856}],\"imageWidth\":1140,\"imageHeight\":720},{\"label\":[\"Face\"],\"notes\":\"\",\"points\":[{\"x\":0.638136511375948,\"y\":0.20754716981132076},{\"x\":0.6836403033586133,\"y\":0.274442538593482}],\"imageWidth\":1140,\"imageHeight\":720},{\"label\":[\"Face\"],\"notes\":\"\",\"points\":[{\"x\":0.8775731310942578,\"y\":0.23156089193825044},{\"x\":0.9382448537378115,\"y\":0.307032590051458}],\"imageWidth\":1140,\"imageHeight\":720},{\"label\":[\"Face\"],\"notes\":\"\",\"points\":[{\"x\":0.11592632719393282,\"y\":0.31217838765008576},{\"x\":0.1646803900325027,\"y\":0.38421955403087477}],\"imageWidth\":1140,\"imageHeight\":720}],\"extras\":null}\\n{\"content\": \"http://com.dataturks.a96-i23.open.s3.amazonaws.com/2c9fafb064277d86016431e33e4e003d/657c7a01-369a-47e2-af74-cf2f6f37139f___Best-Iconic-Movie-Scenes-Of-All-Time.jpg.jpeg\",\"annotation\":[{\"label\":[\"Face\"],\"notes\":\"\",\"points\":[{\"x\":0.253099173553719,\"y\":0.03925619834710744},{\"x\":0.5402892561983471,\"y\":0.6694214876033058}],\"imageWidth\":1024,\"imageHeight\":512}],\"extras\":null}\\n{\"content\": \"http://com.dataturks.a96-i23.open.s3.amazonaws.com/2c9fafb064277d86016431e33e4e003d/59253445-2a7f-4710-8534-f2770d842960___best-scenes-of-2017_2_759.jpg.jpeg\",\"annotation\":[{\"label\":[\"Face\"],\"notes\":\"\",\"points\":[{\"x\":0.06455862977602109,\"y\":0.26540284360189575},{\"x\":0.15678524374176547,\"y\":0.4597156398104265}],\"imageWidth\":759,\"imageHeight\":422},{\"label\":[\"Face\"],\"notes\":\"\",\"points\":[{\"x\":0.766798418972332,\"y\":0.33649289099526064},{\"x\":0.9380764163372859,\"y\":0.6990521327014217}],\"imageWidth\":759,\"imageHeight\":422},{\"label\":[\"Face\"],\"notes\":\"\",\"points\":[{\"x\":0.2648221343873518,\"y\":0.13033175355450238},{\"x\":0.36100131752305664,\"y\":0.2890995260663507}],\"imageWidth\":759,\"imageHeight\":422},{\"label\":[\"Face\"],\"notes\":\"\",\"points\":[{\"x\":0.5191040843214756,\"y\":0.4265402843601896},{\"x\":0.6126482213438735,\"y\":0.6018957345971564}],\"imageWidth\":759,\"imageHeight\":422}],\"extras\":null}\\n{\"content\": \"http://com.dataturks.a96-i23.open.s3.amazonaws.com/2c9fafb064277d86016431e33e4e003d/844e795e-abef-4916-bc4d-db458c1f9fe1___best-song-movie.jpg.jpeg\",\"annotation\":[{\"label\":[\"Face\"],\"notes\":\"\",\"points\":[{\"x\":0.35714285714285715,\"y\":0.22764227642276422},{\"x\":0.4160714285714286,\"y\":0.35772357723577236}],\"imageWidth\":560,\"imageHeight\":246},{\"label\":[\"Face\"],\"notes\":\"\",\"points\":[{\"x\":0.5553571428571429,\"y\":0.23983739837398374},{\"x\":0.6285714285714286,\"y\":0.4024390243902439}],\"imageWidth\":560,\"imageHeight\":246}],\"extras\":null}\\n{\"content\": \"http://com.dataturks.a96-i23.open.s3.amazonaws.com/2c9fafb064277d86016431e33e4e003d/212db31d-2964-4d71-bb3f-83c8eb1300a6___BeU1tn8IYAAyWrC.jpg.jpeg\",\"annotation\":[{\"label\":[\"Face\"],\"notes\":\"\",\"points\":[{\"x\":0.24749163879598662,\"y\":0.03550295857988166},{\"x\":0.4331103678929766,\"y\":0.29980276134122286}],\"imageWidth\":598,\"imageHeight\":507},{\"label\":[\"Face\"],\"notes\":\"\",\"points\":[{\"x\":0.2709030100334448,\"y\":0.5424063116370809},{\"x\":0.4214046822742475,\"y\":0.8086785009861933}],\"imageWidth\":598,\"imageHeight\":507}],\"extras\":null}\\n{\"content\": \"http://com.dataturks.a96-i23.open.s3.amazonaws.com/2c9fafb064277d86016431e33e4e003d/85de202f-1ff1-4ca7-92e3-6aaf0f98c507___BF_family.png\",\"annotation\":[{\"label\":[\"Face\"],\"notes\":\"\",\"points\":[{\"x\":0.04460966542750929,\"y\":0.3878787878787879},{\"x\":0.2174721189591078,\"y\":0.6757575757575758}],\"imageWidth\":538,\"imageHeight\":330},{\"label\":[\"Face\"],\"notes\":\"\",\"points\":[{\"x\":0.17100371747211895,\"y\":0.16363636363636364},{\"x\":0.31226765799256506,\"y\":0.5181818181818182}],\"imageWidth\":538,\"imageHeight\":330},{\"label\":[\"Face\"],\"notes\":\"\",\"points\":[{\"x\":0.36617100371747213,\"y\":0.16363636363636364},{\"x\":0.48141263940520446,\"y\":0.503030303030303}],\"imageWidth\":538,\"imageHeight\":330},{\"label\":[\"Face\"],\"notes\":\"\",\"points\":[{\"x\":0.5855018587360595,\"y\":0.20909090909090908},{\"x\":0.7379182156133829,\"y\":0.5333333333333333}],\"imageWidth\":538,\"imageHeight\":330},{\"label\":[\"Face\"],\"notes\":\"\",\"points\":[{\"x\":0.7639405204460966,\"y\":0.0696969696969697},{\"x\":0.9033457249070632,\"y\":0.3333333333333333}],\"imageWidth\":538,\"imageHeight\":330}],\"extras\":null}\\n{\"content\": \"http://com.dataturks.a96-i23.open.s3.amazonaws.com/2c9fafb064277d86016431e33e4e003d/b553e040-55db-43a9-a4d5-89279c94252d___blog-marriedparentsimmigrantchildren-2018.jpg.jpeg\",\"annotation\":[{\"label\":[\"Face\"],\"notes\":\"\",\"points\":[{\"x\":0.08490566037735849,\"y\":0.1},{\"x\":0.2528301886792453,\"y\":0.46785714285714286}],\"imageWidth\":530,\"imageHeight\":280},{\"label\":[\"Face\"],\"notes\":\"\",\"points\":[{\"x\":0.3452830188679245,\"y\":0.039285714285714285},{\"x\":0.530188679245283,\"y\":0.5178571428571429}],\"imageWidth\":530,\"imageHeight\":280},{\"label\":[\"Face\"],\"notes\":\"\",\"points\":[{\"x\":0.5886792452830188,\"y\":0.2785714285714286},{\"x\":0.7622641509433963,\"y\":0.7107142857142857}],\"imageWidth\":530,\"imageHeight\":280},{\"label\":[\"Face\"],\"notes\":\"\",\"points\":[{\"x\":0.7679245283018868,\"y\":0.18214285714285713},{\"x\":0.9339622641509434,\"y\":0.5785714285714286}],\"imageWidth\":530,\"imageHeight\":280}],\"extras\":null}\\n{\"content\": \"http://com.dataturks.a96-i23.open.s3.amazonaws.com/2c9fafb064277d86016431e33e4e003d/0ae63bef-b739-45bf-b50f-83d9569effe7___BmF4i0tCQAAkFvP.jpg.jpeg\",\"annotation\":[{\"label\":[\"Face\"],\"notes\":\"\",\"points\":[{\"x\":0.5359116022099447,\"y\":0.041666666666666664},{\"x\":0.7817679558011049,\"y\":0.22}],\"imageWidth\":362,\"imageHeight\":600},{\"label\":[\"Face\"],\"notes\":\"\",\"points\":[{\"x\":0.1850828729281768,\"y\":0.35833333333333334},{\"x\":0.3784530386740331,\"y\":0.4866666666666667}],\"imageWidth\":362,\"imageHeight\":600},{\"label\":[\"Face\"],\"notes\":\"\",\"points\":[{\"x\":0.6049723756906077,\"y\":0.4116666666666667},{\"x\":0.8121546961325967,\"y\":0.5333333333333333}],\"imageWidth\":362,\"imageHeight\":600},{\"label\":[\"Face\"],\"notes\":\"\",\"points\":[{\"x\":0.5718232044198895,\"y\":0.705},{\"x\":0.8038674033149171,\"y\":0.8633333333333333}],\"imageWidth\":362,\"imageHeight\":600}],\"extras\":null}\\n{\"content\": \"http://com.dataturks.a96-i23.open.s3.amazonaws.com/2c9fafb064277d86016431e33e4e003d/d259e113-2f83-4c3e-ab7e-bf5eee86e9ad___bollywood-movies.jpg.jpeg\",\"annotation\":[{\"label\":[\"Face\"],\"notes\":\"\",\"points\":[{\"x\":0.40108695652173915,\"y\":0.14478764478764478},{\"x\":0.5815217391304348,\"y\":0.4247104247104247}],\"imageWidth\":920,\"imageHeight\":518}],\"extras\":null}\\n{\"content\": \"http://com.dataturks.a96-i23.open.s3.amazonaws.com/2c9fafb064277d86016431e33e4e003d/f4a7ec9e-005f-4d00-a9fc-d915c0ccb280___border-children-getty.jpg.jpeg\",\"annotation\":[{\"label\":[\"Face\"],\"notes\":\"\",\"points\":[{\"x\":0.5384615384615384,\"y\":0.21951219512195122},{\"x\":0.6511375947995667,\"y\":0.41300813008130083}],\"imageWidth\":3000,\"imageHeight\":2000}],\"extras\":null}\\n{\"content\": \"http://com.dataturks.a96-i23.open.s3.amazonaws.com/2c9fafb064277d86016431e33e4e003d/6c8dbb6a-a5d0-4ab3-96ce-973972e2719c___Breakfast-at-Tiffanys-coffee-scenes-in-movies.jpg.jpeg\",\"annotation\":[{\"label\":[\"Face\"],\"notes\":\"\",\"points\":[{\"x\":0.4553846153846154,\"y\":0.14722222222222223},{\"x\":0.6230769230769231,\"y\":0.4527777777777778}],\"imageWidth\":650,\"imageHeight\":360}],\"extras\":null}\\n{\"content\": \"http://com.dataturks.a96-i23.open.s3.amazonaws.com/2c9fafb064277d86016431e33e4e003d/662ab0d8-c0dd-444a-b56f-c439b77984e5___by5-support-families.jpg.jpeg\",\"annotation\":[{\"label\":[\"Face\"],\"notes\":\"\",\"points\":[{\"x\":0.14301191765980498,\"y\":0.20292207792207792},{\"x\":0.23510292524377033,\"y\":0.37012987012987014}],\"imageWidth\":1000,\"imageHeight\":667},{\"label\":[\"Face\"],\"notes\":\"\",\"points\":[{\"x\":0.38353196099674974,\"y\":0.32792207792207795},{\"x\":0.4517876489707476,\"y\":0.4301948051948052}],\"imageWidth\":1000,\"imageHeight\":667},{\"label\":[\"Face\"],\"notes\":\"\",\"points\":[{\"x\":0.49295774647887325,\"y\":0.12175324675324675},{\"x\":0.5720476706392199,\"y\":0.288961038961039}],\"imageWidth\":1000,\"imageHeight\":667},{\"label\":[\"Face\"],\"notes\":\"\",\"points\":[{\"x\":0.7063921993499458,\"y\":0.3409090909090909},{\"x\":0.7963163596966414,\"y\":0.45616883116883117}],\"imageWidth\":1000,\"imageHeight\":667},{\"label\":[\"Face\"],\"notes\":\"\",\"points\":[{\"x\":0.6706392199349945,\"y\":0.5568181818181818},{\"x\":0.7356446370530878,\"y\":0.6477272727272727}],\"imageWidth\":1000,\"imageHeight\":667},{\"label\":[\"Face\"],\"notes\":\"\",\"points\":[{\"x\":0.7843986998916577,\"y\":0.4675324675324675},{\"x\":0.8526543878656555,\"y\":0.5957792207792207}],\"imageWidth\":1000,\"imageHeight\":667}],\"extras\":null}\\n{\"content\": \"http://com.dataturks.a96-i23.open.s3.amazonaws.com/2c9fafb064277d86016431e33e4e003d/d0c955d2-62a3-4bc7-a379-37ec75fa654f___c12bd72009000fa249ee4260b2b9b4c5.jpg.jpeg\",\"annotation\":[{\"label\":[\"Face\"],\"notes\":\"\",\"points\":[{\"x\":0.29891304347826086,\"y\":0.09157509157509157},{\"x\":0.5271739130434783,\"y\":0.2857142857142857}],\"imageWidth\":184,\"imageHeight\":273}],\"extras\":null}\\n{\"content\": \"http://com.dataturks.a96-i23.open.s3.amazonaws.com/2c9fafb064277d86016431e33e4e003d/902f89f7-7667-44d2-91f3-878cf7068afe___Calm-Waters-One-0034.jpg.jpeg\",\"annotation\":[{\"label\":[\"Face\"],\"notes\":\"\",\"points\":[{\"x\":0.24483471074380164,\"y\":0.017027863777089782},{\"x\":0.44008264462809915,\"y\":0.4411764705882353}],\"imageWidth\":6016,\"imageHeight\":4016},{\"label\":[\"Face\"],\"notes\":\"\",\"points\":[{\"x\":0.4380165289256198,\"y\":0.30030959752321984},{\"x\":0.5950413223140496,\"y\":0.6424148606811145}],\"imageWidth\":6016,\"imageHeight\":4016},{\"label\":[\"Face\"],\"notes\":\"\",\"points\":[{\"x\":0.5857438016528925,\"y\":0.15944272445820434},{\"x\":0.75,\"y\":0.6331269349845201}],\"imageWidth\":6016,\"imageHeight\":4016}],\"extras\":null}\\n{\"content\": \"http://com.dataturks.a96-i23.open.s3.amazonaws.com/2c9fafb064277d86016431e33e4e003d/02c79eb8-17b0-4183-9b2a-6eed49bfb88d___capture19.png\",\"annotation\":[{\"label\":[\"Face\"],\"notes\":\"\",\"points\":[{\"x\":0.4856396866840731,\"y\":0.13110539845758354},{\"x\":0.556135770234987,\"y\":0.27249357326478146}],\"imageWidth\":766,\"imageHeight\":389}],\"extras\":null}\\n{\"content\": \"http://com.dataturks.a96-i23.open.s3.amazonaws.com/2c9fafb064277d86016431e33e4e003d/44838d85-0272-4fb2-bf23-6a10e6ceaae1___ccd14b312d272c03bf2cadb42441c917.jpg.jpeg\",\"annotation\":[{\"label\":[\"Face\"],\"notes\":\"\",\"points\":[{\"x\":0.345,\"y\":0.07333333333333333},{\"x\":0.715,\"y\":0.7633333333333333}],\"imageWidth\":400,\"imageHeight\":300}],\"extras\":null}\\n{\"content\": \"http://com.dataturks.a96-i23.open.s3.amazonaws.com/2c9fafb064277d86016431e33e4e003d/81242e0b-dbba-47e9-b243-89834a9c667f___Change-The-Story-Strengthening-Families.png\",\"annotation\":[{\"label\":[\"Face\"],\"notes\":\"\",\"points\":[{\"x\":0.3953488372093023,\"y\":0.29435483870967744},{\"x\":0.622093023255814,\"y\":0.7943548387096774}],\"imageWidth\":860,\"imageHeight\":496},{\"label\":[\"Face\"],\"notes\":\"\",\"points\":[{\"x\":0.5616279069767441,\"y\":0.07459677419354839},{\"x\":0.7709302325581395,\"y\":0.5383064516129032}],\"imageWidth\":860,\"imageHeight\":496}],\"extras\":null}\\n{\"content\": \"http://com.dataturks.a96-i23.open.s3.amazonaws.com/2c9fafb064277d86016431e33e4e003d/383c004f-edcf-4012-95a0-485fc61689ea___child-and-family-development.jpg.jpeg\",\"annotation\":[{\"label\":[\"Face\"],\"notes\":\"\",\"points\":[{\"x\":0.2735632183908046,\"y\":0.3149171270718232},{\"x\":0.4436781609195402,\"y\":0.6933701657458563}],\"imageWidth\":870,\"imageHeight\":362},{\"label\":[\"Face\"],\"notes\":\"\",\"points\":[{\"x\":0.09655172413793103,\"y\":0.5359116022099447},{\"x\":0.23218390804597702,\"y\":0.8839779005524862}],\"imageWidth\":870,\"imageHeight\":362}],\"extras\":null}\\n{\"content\": \"http://com.dataturks.a96-i23.open.s3.amazonaws.com/2c9fafb064277d86016431e33e4e003d/75d47886-f404-48b9-ae0c-3eba241b9d92___child-cancer-stafford-family-stgnews.jpg.jpeg\",\"annotation\":[{\"label\":[\"Face\"],\"notes\":\"\",\"points\":[{\"x\":0.1962809917355372,\"y\":0.22058823529411764},{\"x\":0.32541322314049587,\"y\":0.5294117647058824}],\"imageWidth\":1300,\"imageHeight\":731},{\"label\":[\"Face\"],\"notes\":\"\",\"points\":[{\"x\":0.4834710743801653,\"y\":0.43014705882352944},{\"x\":0.5898760330578512,\"y\":0.65625}],\"imageWidth\":1300,\"imageHeight\":731},{\"label\":[\"Face\"],\"notes\":\"\",\"points\":[{\"x\":0.7097107438016529,\"y\":0.24080882352941177},{\"x\":0.8285123966942148,\"y\":0.5110294117647058}],\"imageWidth\":1300,\"imageHeight\":731}],\"extras\":null}\\n{\"content\": \"http://com.dataturks.a96-i23.open.s3.amazonaws.com/2c9fafb064277d86016431e33e4e003d/9fdf5b50-4bd5-4741-89c5-62191399702e___children-and-families.jpg.jpeg\",\"annotation\":[{\"label\":[\"Face\"],\"notes\":\"\",\"points\":[{\"x\":0.14888888888888888,\"y\":0.16333333333333333},{\"x\":0.2222222222222222,\"y\":0.32666666666666666}],\"imageWidth\":450,\"imageHeight\":300},{\"label\":[\"Face\"],\"notes\":\"\",\"points\":[{\"x\":0.06666666666666667,\"y\":0.3566666666666667},{\"x\":0.14444444444444443,\"y\":0.47}],\"imageWidth\":450,\"imageHeight\":300},{\"label\":[\"Face\"],\"notes\":\"\",\"points\":[{\"x\":0.27111111111111114,\"y\":0.08333333333333333},{\"x\":0.34444444444444444,\"y\":0.21333333333333335}],\"imageWidth\":450,\"imageHeight\":300},{\"label\":[\"Face\"],\"notes\":\"\",\"points\":[{\"x\":0.3688888888888889,\"y\":0.29333333333333333},{\"x\":0.4444444444444444,\"y\":0.41}],\"imageWidth\":450,\"imageHeight\":300},{\"label\":[\"Face\"],\"notes\":\"\",\"points\":[{\"x\":0.7644444444444445,\"y\":0.23333333333333334},{\"x\":0.8355555555555556,\"y\":0.38}],\"imageWidth\":450,\"imageHeight\":300}],\"extras\":null}\\n{\"content\": \"http://com.dataturks.a96-i23.open.s3.amazonaws.com/2c9fafb064277d86016431e33e4e003d/2ccfb2b7-e9cf-4c83-a0ce-691ac9650ef7___childrenfamilies_mainphoto.png\",\"annotation\":[{\"label\":[\"Face\"],\"notes\":\"\",\"points\":[{\"x\":0.4607438016528926,\"y\":0.40236686390532544},{\"x\":0.6663223140495868,\"y\":0.9349112426035503}],\"imageWidth\":2000,\"imageHeight\":699},{\"label\":[\"Face\"],\"notes\":\"\",\"points\":[{\"x\":0.6931818181818182,\"y\":0.3905325443786982},{\"x\":0.9070247933884298,\"y\":0.9437869822485208}],\"imageWidth\":2000,\"imageHeight\":699},{\"label\":[\"Face\"],\"notes\":\"\",\"points\":[{\"x\":0.24173553719008264,\"y\":0},{\"x\":0.38739669421487605,\"y\":0.5059171597633136}],\"imageWidth\":2000,\"imageHeight\":699}],\"extras\":null}\\n{\"content\": \"http://com.dataturks.a96-i23.open.s3.amazonaws.com/2c9fafb064277d86016431e33e4e003d/9dd3f69b-4820-43e0-b6a5-4a8f5c431ad3___childrenprotest_850_574.jpg.jpeg\",\"annotation\":[{\"label\":[\"Face\"],\"notes\":\"\",\"points\":[{\"x\":0.46352941176470586,\"y\":0.32578397212543553},{\"x\":0.6494117647058824,\"y\":0.6393728222996515}],\"imageWidth\":850,\"imageHeight\":574},{\"label\":[\"Face\"],\"notes\":\"\",\"points\":[{\"x\":0.6141176470588235,\"y\":0.18989547038327526},{\"x\":0.7129411764705882,\"y\":0.35365853658536583}],\"imageWidth\":850,\"imageHeight\":574},{\"label\":[\"Face\"],\"notes\":\"\",\"points\":[{\"x\":0.0976470588235294,\"y\":0.397212543554007},{\"x\":0.18470588235294116,\"y\":0.5993031358885017}],\"imageWidth\":850,\"imageHeight\":574},{\"label\":[\"Face\"],\"notes\":\"\",\"points\":[{\"x\":0.32235294117647056,\"y\":0.3083623693379791},{\"x\":0.4235294117647059,\"y\":0.47735191637630664}],\"imageWidth\":850,\"imageHeight\":574},{\"label\":[\"Face\"],\"notes\":\"\",\"points\":[{\"x\":0.4188235294117647,\"y\":0.2700348432055749},{\"x\":0.4858823529411765,\"y\":0.4059233449477352}],\"imageWidth\":850,\"imageHeight\":574},{\"label\":[\"Face\"],\"notes\":\"\",\"points\":[{\"x\":0.8352941176470589,\"y\":0.14111498257839722},{\"x\":0.9070588235294118,\"y\":0.23519163763066203}],\"imageWidth\":850,\"imageHeight\":574},{\"label\":[\"Face\"],\"notes\":\"\",\"points\":[{\"x\":0.029411764705882353,\"y\":0.3153310104529617},{\"x\":0.08588235294117647,\"y\":0.4076655052264808}],\"imageWidth\":850,\"imageHeight\":574},{\"label\":[\"Face\"],\"notes\":\"\",\"points\":[{\"x\":0.10588235294117647,\"y\":0.28397212543554007},{\"x\":0.16705882352941176,\"y\":0.3867595818815331}],\"imageWidth\":850,\"imageHeight\":574}],\"extras\":null}\\n{\"content\": \"http://com.dataturks.a96-i23.open.s3.amazonaws.com/2c9fafb064277d86016431e33e4e003d/00962ef3-4fd0-4b66-ad2d-618be69bf1f1___child-separation-rtr_img.jpg.jpeg\",\"annotation\":[{\"label\":[\"Face\"],\"notes\":\"\",\"points\":[{\"x\":0.41170097508125675,\"y\":0.2547332185886403},{\"x\":0.533044420368364,\"y\":0.47676419965576594}],\"imageWidth\":1440,\"imageHeight\":907}],\"extras\":null}\\n{\"content\": \"http://com.dataturks.a96-i23.open.s3.amazonaws.com/2c9fafb064277d86016431e33e4e003d/6f7567b8-4e2e-4b0a-8201-f017b8ec4b2b___Christmas-Story.jpg.jpeg\",\"annotation\":[{\"label\":[\"Face\"],\"notes\":\"\",\"points\":[{\"x\":0.346875,\"y\":0.05389221556886228},{\"x\":0.5015625,\"y\":0.36227544910179643}],\"imageWidth\":640,\"imageHeight\":334},{\"label\":[\"Face\"],\"notes\":\"\",\"points\":[{\"x\":0.5671875,\"y\":0.3532934131736527},{\"x\":0.690625,\"y\":0.6736526946107785}],\"imageWidth\":640,\"imageHeight\":334},{\"label\":[\"Face\"],\"notes\":\"\",\"points\":[{\"x\":0.7328125,\"y\":0.3473053892215569},{\"x\":0.9953125,\"y\":0.8053892215568862}],\"imageWidth\":640,\"imageHeight\":334}],\"extras\":null}\\n{\"content\": \"http://com.dataturks.a96-i23.open.s3.amazonaws.com/2c9fafb064277d86016431e33e4e003d/4f44b90c-00e2-45ae-a915-de9b9f32bfd8___cooperfamily.jpeg\",\"annotation\":[{\"label\":[\"Face\"],\"notes\":\"\",\"points\":[{\"x\":0.33170334148329256,\"y\":0.17836593785960875},{\"x\":0.4278728606356968,\"y\":0.3521288837744534}],\"imageWidth\":4993,\"imageHeight\":3538},{\"label\":[\"Face\"],\"notes\":\"\",\"points\":[{\"x\":0.27302363488182557,\"y\":0.383199079401611},{\"x\":0.3569682151589242,\"y\":0.5466052934407365}],\"imageWidth\":4993,\"imageHeight\":3538},{\"label\":[\"Face\"],\"notes\":\"\",\"points\":[{\"x\":0.5126324368378158,\"y\":0.35443037974683544},{\"x\":0.5941320293398533,\"y\":0.525891829689298}],\"imageWidth\":4993,\"imageHeight\":3538},{\"label\":[\"Face\"],\"notes\":\"\",\"points\":[{\"x\":0.5933170334148329,\"y\":0.13003452243958574},{\"x\":0.6740016299918501,\"y\":0.31530494821634064}],\"imageWidth\":4993,\"imageHeight\":3538},{\"label\":[\"Face\"],\"notes\":\"\",\"points\":[{\"x\":0.726161369193154,\"y\":0.25776754890678943},{\"x\":0.7864710676446618,\"y\":0.4016110471806674}],\"imageWidth\":4993,\"imageHeight\":3538}],\"extras\":null}\\n{\"content\": \"http://com.dataturks.a96-i23.open.s3.amazonaws.com/2c9fafb064277d86016431e33e4e003d/25db68e3-4093-4bd8-9ccf-eb12c9c7c3fc___cover-pic-2-best-of-2017_759.jpg.jpeg\",\"annotation\":[{\"label\":[\"Face\"],\"notes\":\"\",\"points\":[{\"x\":0.38866930171277997,\"y\":0.33175355450236965},{\"x\":0.5823451910408433,\"y\":0.7227488151658767}],\"imageWidth\":759,\"imageHeight\":422}],\"extras\":null}\\n{\"content\": \"http://com.dataturks.a96-i23.open.s3.amazonaws.com/2c9fafb064277d86016431e33e4e003d/bb00eec4-86a0-47da-8574-91673761d5d3___creed.jpg.jpeg\",\"annotation\":[{\"label\":[\"Face\"],\"notes\":\"\",\"points\":[{\"x\":0.4431202600216685,\"y\":0.14615384615384616},{\"x\":0.5503791982665223,\"y\":0.3596153846153846}],\"imageWidth\":1000,\"imageHeight\":563},{\"label\":[\"Face\"],\"notes\":\"\",\"points\":[{\"x\":0.8299024918743229,\"y\":0.49038461538461536},{\"x\":0.905742145178765,\"y\":0.6519230769230769}],\"imageWidth\":1000,\"imageHeight\":563}],\"extras\":null}\\n{\"content\": \"http://com.dataturks.a96-i23.open.s3.amazonaws.com/2c9fafb064277d86016431e33e4e003d/d2411f8e-7e99-406a-8e82-1354747da7e7___CYF-locations-013.jpg.jpeg\",\"annotation\":[{\"label\":[\"Face\"],\"notes\":\"\",\"points\":[{\"x\":0.19233903830480847,\"y\":0.05307262569832402},{\"x\":0.4001629991850041,\"y\":0.5307262569832403}],\"imageWidth\":1280,\"imageHeight\":747},{\"label\":[\"Face\"],\"notes\":\"\",\"points\":[{\"x\":0.4612876935615322,\"y\":0.38268156424581007},{\"x\":0.6226568867155664,\"y\":0.6675977653631285}],\"imageWidth\":1280,\"imageHeight\":747},{\"label\":[\"Face\"],\"notes\":\"\",\"points\":[{\"x\":0.6674816625916871,\"y\":0.6829608938547486},{\"x\":0.7881010594947025,\"y\":0.9567039106145251}],\"imageWidth\":1280,\"imageHeight\":747}],\"extras\":null}\\n{\"content\": \"http://com.dataturks.a96-i23.open.s3.amazonaws.com/2c9fafb064277d86016431e33e4e003d/de0d031f-8acd-4fbe-874b-142a0288622b___CYF-locationss-005.jpg.jpeg\",\"annotation\":[{\"label\":[\"Face\"],\"notes\":\"\",\"points\":[{\"x\":0.22426868905742145,\"y\":0.3036053130929791},{\"x\":0.4723726977248104,\"y\":0.7988614800759013}],\"imageWidth\":1280,\"imageHeight\":730},{\"label\":[\"Face\"],\"notes\":\"\",\"points\":[{\"x\":0.46153846153846156,\"y\":0.5654648956356736},{\"x\":0.6749729144095341,\"y\":0.937381404174573}],\"imageWidth\":1280,\"imageHeight\":730}],\"extras\":null}\\n{\"content\": \"http://com.dataturks.a96-i23.open.s3.amazonaws.com/2c9fafb064277d86016431e33e4e003d/74582de2-3060-4116-871b-87263fb74ef1___d449dcd76b14747e8b611085736ee34c--funny-movie-quotes-funny-movies.jpg.jpeg\",\"annotation\":[{\"label\":[\"Face\"],\"notes\":\"\",\"points\":[{\"x\":0.16666666666666666,\"y\":0.11307692307692307},{\"x\":0.3111111111111111,\"y\":0.17615384615384616}],\"imageWidth\":630,\"imageHeight\":1300},{\"label\":[\"Face\"],\"notes\":\"\",\"points\":[{\"x\":0.6031746031746031,\"y\":0.15153846153846154},{\"x\":0.7825396825396825,\"y\":0.2376923076923077}],\"imageWidth\":630,\"imageHeight\":1300},{\"label\":[\"Face\"],\"notes\":\"\",\"points\":[{\"x\":0.3634920634920635,\"y\":0.3930769230769231},{\"x\":0.726984126984127,\"y\":0.5576923076923077}],\"imageWidth\":630,\"imageHeight\":1300},{\"label\":[\"Face\"],\"notes\":\"\",\"points\":[{\"x\":0.5253968253968254,\"y\":0.6615384615384615},{\"x\":0.7492063492063492,\"y\":0.8123076923076923}],\"imageWidth\":630,\"imageHeight\":1300}],\"extras\":null}\\n{\"content\": \"http://com.dataturks.a96-i23.open.s3.amazonaws.com/2c9fafb064277d86016431e33e4e003d/ca23bc20-0966-477e-b63c-3a5f03ad9771___dark-night.-Digital-Fox-Media.jpg.jpeg\",\"annotation\":[{\"label\":[\"Face\"],\"notes\":\"\",\"points\":[{\"x\":0.37890625,\"y\":0.044905008635578586},{\"x\":0.638671875,\"y\":0.6666666666666666}],\"imageWidth\":1024,\"imageHeight\":579}],\"extras\":null}\\n{\"content\": \"http://com.dataturks.a96-i23.open.s3.amazonaws.com/2c9fafb064277d86016431e33e4e003d/33e137a1-28e8-4725-b852-100fa3942e1d___dbasse_080602.jpg.jpeg\",\"annotation\":[{\"label\":[\"Face\"],\"notes\":\"\",\"points\":[{\"x\":0.0875,\"y\":0.2222222222222222},{\"x\":0.16,\"y\":0.5644444444444444}],\"imageWidth\":800,\"imageHeight\":225},{\"label\":[\"Face\"],\"notes\":\"\",\"points\":[{\"x\":0.1475,\"y\":0.6133333333333333},{\"x\":0.23,\"y\":0.8622222222222222}],\"imageWidth\":800,\"imageHeight\":225},{\"label\":[\"Face\"],\"notes\":\"\",\"points\":[{\"x\":0.22375,\"y\":0.36444444444444446},{\"x\":0.3025,\"y\":0.6888888888888889}],\"imageWidth\":800,\"imageHeight\":225},{\"label\":[\"Face\"],\"notes\":\"\",\"points\":[{\"x\":0.40625,\"y\":0.39555555555555555},{\"x\":0.4575,\"y\":0.6088888888888889}],\"imageWidth\":800,\"imageHeight\":225},{\"label\":[\"Face\"],\"notes\":\"\",\"points\":[{\"x\":0.46625,\"y\":0.2577777777777778},{\"x\":0.51875,\"y\":0.4888888888888889}],\"imageWidth\":800,\"imageHeight\":225},{\"label\":[\"Face\"],\"notes\":\"\",\"points\":[{\"x\":0.445,\"y\":0.68},{\"x\":0.50375,\"y\":0.8622222222222222}],\"imageWidth\":800,\"imageHeight\":225},{\"label\":[\"Face\"],\"notes\":\"\",\"points\":[{\"x\":0.59,\"y\":0.4888888888888889},{\"x\":0.63375,\"y\":0.6577777777777778}],\"imageWidth\":800,\"imageHeight\":225},{\"label\":[\"Face\"],\"notes\":\"\",\"points\":[{\"x\":0.59,\"y\":0.07555555555555556},{\"x\":0.63625,\"y\":0.25333333333333335}],\"imageWidth\":800,\"imageHeight\":225},{\"label\":[\"Face\"],\"notes\":\"\",\"points\":[{\"x\":0.7675,\"y\":0.04},{\"x\":0.82375,\"y\":0.3288888888888889}],\"imageWidth\":800,\"imageHeight\":225},{\"label\":[\"Face\"],\"notes\":\"\",\"points\":[{\"x\":0.845,\"y\":0.6666666666666666},{\"x\":0.91125,\"y\":0.9288888888888889}],\"imageWidth\":800,\"imageHeight\":225},{\"label\":[\"Face\"],\"notes\":\"\",\"points\":[{\"x\":0.865,\"y\":0.008888888888888889},{\"x\":0.94375,\"y\":0.26222222222222225}],\"imageWidth\":800,\"imageHeight\":225}],\"extras\":null}\\n{\"content\": \"http://com.dataturks.a96-i23.open.s3.amazonaws.com/2c9fafb064277d86016431e33e4e003d/5a6093f9-d3db-4503-a81f-a6780ca5e2b8___dca90629-c276-4120-9be5-c4bb7393d78d.jpg.jpeg\",\"annotation\":[{\"label\":[\"Face\"],\"notes\":\"\",\"points\":[{\"x\":0.05165289256198347,\"y\":0.23713235294117646},{\"x\":0.15392561983471073,\"y\":0.45036764705882354}],\"imageWidth\":1920,\"imageHeight\":1080},{\"label\":[\"Face\"],\"notes\":\"\",\"points\":[{\"x\":0.16012396694214875,\"y\":0.14338235294117646},{\"x\":0.21177685950413222,\"y\":0.28308823529411764}],\"imageWidth\":1920,\"imageHeight\":1080},{\"label\":[\"Face\"],\"notes\":\"\",\"points\":[{\"x\":0.2768595041322314,\"y\":0.13786764705882354},{\"x\":0.3357438016528926,\"y\":0.2702205882352941}],\"imageWidth\":1920,\"imageHeight\":1080},{\"label\":[\"Face\"],\"notes\":\"\",\"points\":[{\"x\":0.4142561983471074,\"y\":0.029411764705882353},{\"x\":0.4690082644628099,\"y\":0.18933823529411764}],\"imageWidth\":1920,\"imageHeight\":1080},{\"label\":[\"Face\"],\"notes\":\"\",\"points\":[{\"x\":0.48863636363636365,\"y\":0.01838235294117647},{\"x\":0.5413223140495868,\"y\":0.1636029411764706}],\"imageWidth\":1920,\"imageHeight\":1080},{\"label\":[\"Face\"],\"notes\":\"\",\"points\":[{\"x\":0.5516528925619835,\"y\":0.07720588235294118},{\"x\":0.5867768595041323,\"y\":0.16176470588235295}],\"imageWidth\":1920,\"imageHeight\":1080},{\"label\":[\"Face\"],\"notes\":\"\",\"points\":[{\"x\":0.6714876033057852,\"y\":0.06066176470588235},{\"x\":0.7252066115702479,\"y\":0.17463235294117646}],\"imageWidth\":1920,\"imageHeight\":1080},{\"label\":[\"Face\"],\"notes\":\"\",\"points\":[{\"x\":0.8026859504132231,\"y\":0.17647058823529413},{\"x\":0.8584710743801653,\"y\":0.27941176470588236}],\"imageWidth\":1920,\"imageHeight\":1080},{\"label\":[\"Face\"],\"notes\":\"\",\"points\":[{\"x\":0.9090909090909091,\"y\":0.38786764705882354},{\"x\":0.9834710743801653,\"y\":0.5753676470588235}],\"imageWidth\":1920,\"imageHeight\":1080}],\"extras\":null}\\n{\"content\": \"http://com.dataturks.a96-i23.open.s3.amazonaws.com/2c9fafb064277d86016431e33e4e003d/c7a0508a-dbfc-4f4b-8e60-9295f6b3616c___dead-mans-cards-full-hd-english.jpg.jpeg\",\"annotation\":[{\"label\":[\"Face\"],\"notes\":\"\",\"points\":[{\"x\":0.14359504132231404,\"y\":0.08272058823529412},{\"x\":0.4359504132231405,\"y\":0.47610294117647056}],\"imageWidth\":1920,\"imageHeight\":1080}],\"extras\":null}\\n{\"content\": \"http://com.dataturks.a96-i23.open.s3.amazonaws.com/2c9fafb064277d86016431e33e4e003d/2b02875b-d41e-480f-8a4d-af8954afc9b6___dearzindagi-story_647_020817060157.jpg.jpeg\",\"annotation\":[{\"label\":[\"Face\"],\"notes\":\"\",\"points\":[{\"x\":0.23802163833075735,\"y\":0.1485148514851485},{\"x\":0.33075734157650694,\"y\":0.37376237623762376}],\"imageWidth\":647,\"imageHeight\":404},{\"label\":[\"Face\"],\"notes\":\"\",\"points\":[{\"x\":0.6908809891808346,\"y\":0.27722772277227725},{\"x\":0.8006182380216383,\"y\":0.5}],\"imageWidth\":647,\"imageHeight\":404}],\"extras\":null}\\n{\"content\": \"http://com.dataturks.a96-i23.open.s3.amazonaws.com/2c9fafb064277d86016431e33e4e003d/ad60d71d-94f1-4632-b9c0-7af49582a816___DeGette.Coffman.jpg.jpeg\",\"annotation\":[{\"label\":[\"Face\"],\"notes\":\"\",\"points\":[{\"x\":0.08916666666666667,\"y\":0.095},{\"x\":0.3358333333333333,\"y\":0.565}],\"imageWidth\":1200,\"imageHeight\":600},{\"label\":[\"Face\"],\"notes\":\"\",\"points\":[{\"x\":0.5991666666666666,\"y\":0.06166666666666667},{\"x\":0.7791666666666667,\"y\":0.495}],\"imageWidth\":1200,\"imageHeight\":600}],\"extras\":null}\\n{\"content\": \"http://com.dataturks.a96-i23.open.s3.amazonaws.com/2c9fafb064277d86016431e33e4e003d/06ac13f2-e126-43d5-9179-3b96fa9a22c4___dog1.jpg.jpeg\",\"annotation\":[{\"label\":[\"Face\"],\"notes\":\"\",\"points\":[{\"x\":0.415625,\"y\":0.07962529274004684},{\"x\":0.7609375,\"y\":0.6229508196721312}],\"imageWidth\":640,\"imageHeight\":427}],\"extras\":null}\\n{\"content\": \"http://com.dataturks.a96-i23.open.s3.amazonaws.com/2c9fafb064277d86016431e33e4e003d/f6fb22e5-d4d1-4952-8947-bd7bca803962___Dollarphotoclub_46829098.jpg.jpeg\",\"annotation\":[{\"label\":[\"Face\"],\"notes\":\"\",\"points\":[{\"x\":0.026859504132231406,\"y\":0.12248062015503876},{\"x\":0.1828512396694215,\"y\":0.5023255813953489}],\"imageWidth\":4992,\"imageHeight\":3328},{\"label\":[\"Face\"],\"notes\":\"\",\"points\":[{\"x\":0.16115702479338842,\"y\":0.4077519379844961},{\"x\":0.33884297520661155,\"y\":0.6837209302325581}],\"imageWidth\":4992,\"imageHeight\":3328},{\"label\":[\"Face\"],\"notes\":\"\",\"points\":[{\"x\":0.34607438016528924,\"y\":0.16589147286821707},{\"x\":0.5,\"y\":0.524031007751938}],\"imageWidth\":4992,\"imageHeight\":3328},{\"label\":[\"Face\"],\"notes\":\"\",\"points\":[{\"x\":0.49793388429752067,\"y\":0.2961240310077519},{\"x\":0.6384297520661157,\"y\":0.6015503875968993}],\"imageWidth\":4992,\"imageHeight\":3328},{\"label\":[\"Face\"],\"notes\":\"\",\"points\":[{\"x\":0.6043388429752066,\"y\":0.14108527131782947},{\"x\":0.7665289256198347,\"y\":0.47131782945736433}],\"imageWidth\":4992,\"imageHeight\":3328},{\"label\":[\"Face\"],\"notes\":\"\",\"points\":[{\"x\":0.8099173553719008,\"y\":0.12403100775193798},{\"x\":0.9514462809917356,\"y\":0.4728682170542636}],\"imageWidth\":4992,\"imageHeight\":3328}],\"extras\":null}\\n{\"content\": \"http://com.dataturks.a96-i23.open.s3.amazonaws.com/2c9fafb064277d86016431e33e4e003d/187b5572-391b-41a0-817f-542322b81f00___DSC06733A.jpg.jpeg\",\"annotation\":[{\"label\":[\"Face\"],\"notes\":\"\",\"points\":[{\"x\":0.2361863488624052,\"y\":0.2725880551301684},{\"x\":0.2990249187432286,\"y\":0.37366003062787134}],\"imageWidth\":3370,\"imageHeight\":2385},{\"label\":[\"Face\"],\"notes\":\"\",\"points\":[{\"x\":0.3391115926327194,\"y\":0.21439509954058192},{\"x\":0.41386782231852653,\"y\":0.29249617151607965}],\"imageWidth\":3370,\"imageHeight\":2385},{\"label\":[\"Face\"],\"notes\":\"\",\"points\":[{\"x\":0.4593716143011918,\"y\":0.41807044410413474},{\"x\":0.5211267605633803,\"y\":0.5068912710566615}],\"imageWidth\":3370,\"imageHeight\":2385},{\"label\":[\"Face\"],\"notes\":\"\",\"points\":[{\"x\":0.5633802816901409,\"y\":0.442572741194487},{\"x\":0.6327193932827736,\"y\":0.5206738131699847}],\"imageWidth\":3370,\"imageHeight\":2385},{\"label\":[\"Face\"],\"notes\":\"\",\"points\":[{\"x\":0.6966413867822319,\"y\":0.34762633996937214},{\"x\":0.7638136511375948,\"y\":0.4318529862174579}],\"imageWidth\":3370,\"imageHeight\":2385}],\"extras\":null}\\n{\"content\": \"http://com.dataturks.a96-i23.open.s3.amazonaws.com/2c9fafb064277d86016431e33e4e003d/8b680658-d374-4f2d-abf7-9ea254055e56___Dumb-And-Dumber1-700x350.jpg.jpeg\",\"annotation\":[{\"label\":[\"Face\"],\"notes\":\"\",\"points\":[{\"x\":0.31,\"y\":0.07714285714285714},{\"x\":0.4957142857142857,\"y\":0.49142857142857144}],\"imageWidth\":700,\"imageHeight\":350},{\"label\":[\"Face\"],\"notes\":\"\",\"points\":[{\"x\":0.61,\"y\":0.04},{\"x\":0.7828571428571428,\"y\":0.4057142857142857}],\"imageWidth\":700,\"imageHeight\":350}],\"extras\":null}\\n{\"content\": \"http://com.dataturks.a96-i23.open.s3.amazonaws.com/2c9fafb064277d86016431e33e4e003d/00ee051a-fb14-4bf2-aa18-cbf5b921c619___dumb-and-dumber-jim-carrey-jeff-daniels_55026369-1433x1321.jpeg\",\"annotation\":[{\"label\":[\"Face\"],\"notes\":\"\",\"points\":[{\"x\":0.16735537190082644,\"y\":0.2769058295964126},{\"x\":0.3853305785123967,\"y\":0.5459641255605381}],\"imageWidth\":1433,\"imageHeight\":1321},{\"label\":[\"Face\"],\"notes\":\"\",\"points\":[{\"x\":0.4617768595041322,\"y\":0.28699551569506726},{\"x\":0.6642561983471075,\"y\":0.547085201793722}],\"imageWidth\":1433,\"imageHeight\":1321}],\"extras\":null}\\n{\"content\": \"http://com.dataturks.a96-i23.open.s3.amazonaws.com/2c9fafb064277d86016431e33e4e003d/c825eca3-0c35-45ef-baf0-66a900d0b5cf___e6e8e5d397a1cecdee9990f050b7578f--heat-quotes-the-heat-movie-quotes.jpg.jpeg\",\"annotation\":[{\"label\":[\"Face\"],\"notes\":\"\",\"points\":[{\"x\":0.2828125,\"y\":0.06675062972292191},{\"x\":0.3984375,\"y\":0.17884130982367757}],\"imageWidth\":640,\"imageHeight\":794},{\"label\":[\"Face\"],\"notes\":\"\",\"points\":[{\"x\":0.3296875,\"y\":0.3879093198992443},{\"x\":0.4375,\"y\":0.48866498740554154}],\"imageWidth\":640,\"imageHeight\":794},{\"label\":[\"Face\"],\"notes\":\"\",\"points\":[{\"x\":0.590625,\"y\":0.7204030226700252},{\"x\":0.70625,\"y\":0.827455919395466}],\"imageWidth\":640,\"imageHeight\":794}],\"extras\":null}\\n{\"content\": \"http://com.dataturks.a96-i23.open.s3.amazonaws.com/2c9fafb064277d86016431e33e4e003d/99357afd-b685-4737-a258-333ae136c82e___e0162649b8b9aaa6a5230ab53639ce1f--funny-movies-the-heat-movie-funny.jpg.jpeg\",\"annotation\":[{\"label\":[\"Face\"],\"notes\":\"\",\"points\":[{\"x\":0.423728813559322,\"y\":0.03598971722365039},{\"x\":0.5466101694915254,\"y\":0.13367609254498714}],\"imageWidth\":236,\"imageHeight\":389},{\"label\":[\"Face\"],\"notes\":\"\",\"points\":[{\"x\":0.3516949152542373,\"y\":0.2930591259640103},{\"x\":0.5296610169491526,\"y\":0.4370179948586118}],\"imageWidth\":236,\"imageHeight\":389},{\"label\":[\"Face\"],\"notes\":\"\",\"points\":[{\"x\":0.6567796610169492,\"y\":0.31362467866323906},{\"x\":0.7796610169491526,\"y\":0.38303341902313626}],\"imageWidth\":236,\"imageHeight\":389},{\"label\":[\"Face\"],\"notes\":\"\",\"points\":[{\"x\":0.4110169491525424,\"y\":0.5167095115681234},{\"x\":0.6228813559322034,\"y\":0.6632390745501285}],\"imageWidth\":236,\"imageHeight\":389},{\"label\":[\"Face\"],\"notes\":\"\",\"points\":[{\"x\":0.6991525423728814,\"y\":0.5784061696658098},{\"x\":0.885593220338983,\"y\":0.6863753213367609}],\"imageWidth\":236,\"imageHeight\":389},{\"label\":[\"Face\"],\"notes\":\"\",\"points\":[{\"x\":0.4364406779661017,\"y\":0.7917737789203085},{\"x\":0.6228813559322034,\"y\":0.910025706940874}],\"imageWidth\":236,\"imageHeight\":389}],\"extras\":null}\\n{\"content\": \"http://com.dataturks.a96-i23.open.s3.amazonaws.com/2c9fafb064277d86016431e33e4e003d/59dfe086-8596-4df6-803f-7fbb19e1be92___eaf94606aafbc2cf52696dfa8bc67e9d.jpg.jpeg\",\"annotation\":[{\"label\":[\"Face\"],\"notes\":\"\",\"points\":[{\"x\":0.49382716049382713,\"y\":0.016666666666666666},{\"x\":0.7901234567901234,\"y\":0.20333333333333334}],\"imageWidth\":405,\"imageHeight\":600}],\"extras\":null}\\n{\"content\": \"http://com.dataturks.a96-i23.open.s3.amazonaws.com/2c9fafb064277d86016431e33e4e003d/240d6b18-84ca-4d9d-b94d-cdb33829ebd6___english_movies_inspired_by_hindi_movies.jpg.jpeg\",\"annotation\":[{\"label\":[\"Face\"],\"notes\":\"\",\"points\":[{\"x\":0.07133058984910837,\"y\":0.015},{\"x\":0.1646090534979424,\"y\":0.3}],\"imageWidth\":729,\"imageHeight\":400},{\"label\":[\"Face\"],\"notes\":\"\",\"points\":[{\"x\":0.3607681755829904,\"y\":0.0275},{\"x\":0.4403292181069959,\"y\":0.2575}],\"imageWidth\":729,\"imageHeight\":400},{\"label\":[\"Face\"],\"notes\":\"\",\"points\":[{\"x\":0.6735253772290809,\"y\":0.075},{\"x\":0.823045267489712,\"y\":0.4175}],\"imageWidth\":729,\"imageHeight\":400}],\"extras\":null}\\n{\"content\": \"http://com.dataturks.a96-i23.open.s3.amazonaws.com/2c9fafb064277d86016431e33e4e003d/181b1c61-5b1e-49c2-a289-ce8507b03c82___english-movies-list.jpg.jpeg\",\"annotation\":[{\"label\":[\"Face\"],\"notes\":\"\",\"points\":[{\"x\":0.516,\"y\":0},{\"x\":0.61,\"y\":0.255}],\"imageWidth\":500,\"imageHeight\":400},{\"label\":[\"Face\"],\"notes\":\"\",\"points\":[{\"x\":0.62,\"y\":0.17},{\"x\":0.684,\"y\":0.385}],\"imageWidth\":500,\"imageHeight\":400}],\"extras\":null}\\n{\"content\": \"http://com.dataturks.a96-i23.open.s3.amazonaws.com/2c9fafb064277d86016431e33e4e003d/00754469-7299-4108-a9e1-3c35e914b9b8___entertainment-2014-02-01-love-actually-main.jpg.jpeg\",\"annotation\":[{\"label\":[\"Face\"],\"notes\":\"\",\"points\":[{\"x\":0.4344528710725894,\"y\":0.2173202614379085},{\"x\":0.5167930660888408,\"y\":0.35130718954248363}],\"imageWidth\":1250,\"imageHeight\":829}],\"extras\":null}\\n{\"content\": \"http://com.dataturks.a96-i23.open.s3.amazonaws.com/2c9fafb064277d86016431e33e4e003d/1fa25e1a-265d-45bc-ac57-21fa1ac6e877___entertainment-movies-2012-04-05-Prom-Scenes.jpg.jpeg\",\"annotation\":[{\"label\":[\"Face\"],\"notes\":\"\",\"points\":[{\"x\":0.2905405405405405,\"y\":0.0625},{\"x\":0.48986486486486486,\"y\":0.38}],\"imageWidth\":592,\"imageHeight\":400},{\"label\":[\"Face\"],\"notes\":\"\",\"points\":[{\"x\":0.6469594594594594,\"y\":0.135},{\"x\":0.8277027027027027,\"y\":0.4325}],\"imageWidth\":592,\"imageHeight\":400}],\"extras\":null}\\n{\"content\": \"http://com.dataturks.a96-i23.open.s3.amazonaws.com/2c9fafb064277d86016431e33e4e003d/9e9f9ab0-825d-4540-bd3c-b0f3418627a2___ExtendedFamilyMembers.jpg.jpeg\",\"annotation\":[{\"label\":[\"Face\"],\"notes\":\"\",\"points\":[{\"x\":0.6143011917659805,\"y\":0.39826839826839827},{\"x\":0.6966413867822319,\"y\":0.5757575757575758}],\"imageWidth\":1200,\"imageHeight\":600},{\"label\":[\"Face\"],\"notes\":\"\",\"points\":[{\"x\":0.4886240520043337,\"y\":0.5281385281385281},{\"x\":0.5579631635969664,\"y\":0.7229437229437229}],\"imageWidth\":1200,\"imageHeight\":600},{\"label\":[\"Face\"],\"notes\":\"\",\"points\":[{\"x\":0.20693391115926327,\"y\":0.7229437229437229},{\"x\":0.2990249187432286,\"y\":0.8874458874458875}],\"imageWidth\":1200,\"imageHeight\":600},{\"label\":[\"Face\"],\"notes\":\"\",\"points\":[{\"x\":0.8504875406283857,\"y\":0.7294372294372294},{\"x\":0.9447453954496208,\"y\":0.8896103896103896}],\"imageWidth\":1200,\"imageHeight\":600},{\"label\":[\"Face\"],\"notes\":\"\",\"points\":[{\"x\":0.0790899241603467,\"y\":0.09956709956709957},{\"x\":0.1722643553629469,\"y\":0.2878787878787879}],\"imageWidth\":1200,\"imageHeight\":600},{\"label\":[\"Face\"],\"notes\":\"\",\"points\":[{\"x\":0.23185265438786565,\"y\":0.1341991341991342},{\"x\":0.3261105092091008,\"y\":0.3051948051948052}],\"imageWidth\":1200,\"imageHeight\":600},{\"label\":[\"Face\"],\"notes\":\"\",\"points\":[{\"x\":0.3640303358613218,\"y\":0.16233766233766234},{\"x\":0.4658721560130011,\"y\":0.354978354978355}],\"imageWidth\":1200,\"imageHeight\":600},{\"label\":[\"Face\"],\"notes\":\"\",\"points\":[{\"x\":0.6641386782231853,\"y\":0.1774891774891775},{\"x\":0.7367280606717227,\"y\":0.37012987012987014}],\"imageWidth\":1200,\"imageHeight\":600},{\"label\":[\"Face\"],\"notes\":\"\",\"points\":[{\"x\":0.7497291440953413,\"y\":0.21428571428571427},{\"x\":0.8461538461538461,\"y\":0.40476190476190477}],\"imageWidth\":1200,\"imageHeight\":600}],\"extras\":null}\\n{\"content\": \"http://com.dataturks.a96-i23.open.s3.amazonaws.com/2c9fafb064277d86016431e33e4e003d/11a13d9d-0c26-42d8-b67f-456e53170d50___f5c281266e75348499896ad40b31913f--man-quotes-shes-the-man-movie-quotes.jpg.jpeg\",\"annotation\":[{\"label\":[\"Face\"],\"notes\":\"\",\"points\":[{\"x\":0.4272,\"y\":0.09213051823416507},{\"x\":0.5504,\"y\":0.1833013435700576}],\"imageWidth\":625,\"imageHeight\":1042},{\"label\":[\"Face\"],\"notes\":\"\",\"points\":[{\"x\":0.5536,\"y\":0.4309021113243762},{\"x\":0.7008,\"y\":0.5575815738963532}],\"imageWidth\":625,\"imageHeight\":1042},{\"label\":[\"Face\"],\"notes\":\"\",\"points\":[{\"x\":0.4656,\"y\":0.7418426103646834},{\"x\":0.6256,\"y\":0.8579654510556622}],\"imageWidth\":625,\"imageHeight\":1042}],\"extras\":null}\\n{\"content\": \"http://com.dataturks.a96-i23.open.s3.amazonaws.com/2c9fafb064277d86016431e33e4e003d/3b53769d-3654-45e2-b556-4cca63ba23b5___f46dab1b3-1.jpg.jpeg\",\"annotation\":[{\"label\":[\"Face\"],\"notes\":\"\",\"points\":[{\"x\":0.022916666666666665,\"y\":0.225},{\"x\":0.17916666666666667,\"y\":0.6}],\"imageWidth\":480,\"imageHeight\":360},{\"label\":[\"Face\"],\"notes\":\"\",\"points\":[{\"x\":0.2875,\"y\":0.3},{\"x\":0.37916666666666665,\"y\":0.46111111111111114}],\"imageWidth\":480,\"imageHeight\":360},{\"label\":[\"Face\"],\"notes\":\"\",\"points\":[{\"x\":0.6375,\"y\":0.19444444444444445},{\"x\":0.7729166666666667,\"y\":0.4722222222222222}],\"imageWidth\":480,\"imageHeight\":360},{\"label\":[\"Face\"],\"notes\":\"\",\"points\":[{\"x\":0.83125,\"y\":0.17222222222222222},{\"x\":0.9979166666666667,\"y\":0.4638888888888889}],\"imageWidth\":480,\"imageHeight\":360}],\"extras\":null}\\n{\"content\": \"http://com.dataturks.a96-i23.open.s3.amazonaws.com/2c9fafb064277d86016431e33e4e003d/ac7a4c0f-a353-4880-b441-209bd050cfb8___f792f98684352a68103a2044dc40e396--pineapple-express-funny-movies.jpg.jpeg\",\"annotation\":[{\"label\":[\"Face\"],\"notes\":\"\",\"points\":[{\"x\":0.1684027777777778,\"y\":0.020833333333333332},{\"x\":0.3385416666666667,\"y\":0.18055555555555555}],\"imageWidth\":576,\"imageHeight\":720},{\"label\":[\"Face\"],\"notes\":\"\",\"points\":[{\"x\":0.3854166666666667,\"y\":0.029166666666666667},{\"x\":0.4982638888888889,\"y\":0.14305555555555555}],\"imageWidth\":576,\"imageHeight\":720},{\"label\":[\"Face\"],\"notes\":\"\",\"points\":[{\"x\":0.3524305555555556,\"y\":0.35138888888888886},{\"x\":0.4791666666666667,\"y\":0.4638888888888889}],\"imageWidth\":576,\"imageHeight\":720},{\"label\":[\"Face\"],\"notes\":\"\",\"points\":[{\"x\":0.1597222222222222,\"y\":0.3402777777777778},{\"x\":0.3090277777777778,\"y\":0.4930555555555556}],\"imageWidth\":576,\"imageHeight\":720},{\"label\":[\"Face\"],\"notes\":\"\",\"points\":[{\"x\":0.17881944444444445,\"y\":0.7152777777777778},{\"x\":0.328125,\"y\":0.875}],\"imageWidth\":576,\"imageHeight\":720},{\"label\":[\"Face\"],\"notes\":\"\",\"points\":[{\"x\":0.3489583333333333,\"y\":0.7208333333333333},{\"x\":0.4496527777777778,\"y\":0.8402777777777778}],\"imageWidth\":576,\"imageHeight\":720}],\"extras\":null}\\n{\"content\": \"http://com.dataturks.a96-i23.open.s3.amazonaws.com/2c9fafb064277d86016431e33e4e003d/c920fc1a-a3e5-47a8-9ef1-0657a13b7039___families_119085628-1024x683.jpg.jpeg\",\"annotation\":[{\"label\":[\"Face\"],\"notes\":\"\",\"points\":[{\"x\":0.126953125,\"y\":0.10102489019033675},{\"x\":0.2216796875,\"y\":0.3191800878477306}],\"imageWidth\":1024,\"imageHeight\":683},{\"label\":[\"Face\"],\"notes\":\"\",\"points\":[{\"x\":0.2294921875,\"y\":0.25329428989751096},{\"x\":0.3134765625,\"y\":0.4011713030746706}],\"imageWidth\":1024,\"imageHeight\":683},{\"label\":[\"Face\"],\"notes\":\"\",\"points\":[{\"x\":0.3505859375,\"y\":0.33528550512445093},{\"x\":0.439453125,\"y\":0.48755490483162517}],\"imageWidth\":1024,\"imageHeight\":683},{\"label\":[\"Face\"],\"notes\":\"\",\"points\":[{\"x\":0.439453125,\"y\":0.20937042459736457},{\"x\":0.50390625,\"y\":0.40263543191800877}],\"imageWidth\":1024,\"imageHeight\":683},{\"label\":[\"Face\"],\"notes\":\"\",\"points\":[{\"x\":0.6015625,\"y\":0.0849194729136164},{\"x\":0.7177734375,\"y\":0.28989751098096633}],\"imageWidth\":1024,\"imageHeight\":683},{\"label\":[\"Face\"],\"notes\":\"\",\"points\":[{\"x\":0.7666015625,\"y\":0.07759882869692533},{\"x\":0.8681640625,\"y\":0.2986822840409956}],\"imageWidth\":1024,\"imageHeight\":683},{\"label\":[\"Face\"],\"notes\":\"\",\"points\":[{\"x\":0.9033203125,\"y\":0.27232796486090777},{\"x\":0.96875,\"y\":0.4143484626647145}],\"imageWidth\":1024,\"imageHeight\":683}],\"extras\":null}\\n{\"content\": \"http://com.dataturks.a96-i23.open.s3.amazonaws.com/2c9fafb064277d86016431e33e4e003d/b2107022-e0f8-42aa-aff4-351595bc6633___families_marquee.jpg.jpeg\",\"annotation\":[{\"label\":[\"Face\"],\"notes\":\"\",\"points\":[{\"x\":0.21487603305785125,\"y\":0.007653061224489796},{\"x\":0.37293388429752067,\"y\":0.3494897959183674}],\"imageWidth\":3360,\"imageHeight\":1360},{\"label\":[\"Face\"],\"notes\":\"\",\"points\":[{\"x\":0.10537190082644628,\"y\":0.40561224489795916},{\"x\":0.23140495867768596,\"y\":0.6454081632653061}],\"imageWidth\":3360,\"imageHeight\":1360},{\"label\":[\"Face\"],\"notes\":\"\",\"points\":[{\"x\":0.5764462809917356,\"y\":0.09183673469387756},{\"x\":0.7758264462809917,\"y\":0.45918367346938777}],\"imageWidth\":3360,\"imageHeight\":1360}],\"extras\":null}\\n{\"content\": \"http://com.dataturks.a96-i23.open.s3.amazonaws.com/2c9fafb064277d86016431e33e4e003d/55841a89-4d23-481f-834b-5b1ad0aafd50___families2.jpg.jpeg\",\"annotation\":[{\"label\":[\"Face\"],\"notes\":\"\",\"points\":[{\"x\":0.3096774193548387,\"y\":0.005405405405405406},{\"x\":0.6080645161290322,\"y\":0.7432432432432432}],\"imageWidth\":620,\"imageHeight\":370},{\"label\":[\"Face\"],\"notes\":\"\",\"points\":[{\"x\":0.6306451612903226,\"y\":0.01891891891891892},{\"x\":0.95,\"y\":0.7756756756756756}],\"imageWidth\":620,\"imageHeight\":370}],\"extras\":null}\\n{\"content\": \"http://com.dataturks.a96-i23.open.s3.amazonaws.com/2c9fafb064277d86016431e33e4e003d/c38a663a-8b0f-42e2-a0e9-beb8502244ec___family_history2.jpg.jpeg\",\"annotation\":[{\"label\":[\"Face\"],\"notes\":\"\",\"points\":[{\"x\":0.12551724137931033,\"y\":0.12629399585921325},{\"x\":0.26068965517241377,\"y\":0.44306418219461696}],\"imageWidth\":725,\"imageHeight\":483},{\"label\":[\"Face\"],\"notes\":\"\",\"points\":[{\"x\":0.296551724137931,\"y\":0.19461697722567287},{\"x\":0.4110344827586207,\"y\":0.4699792960662526}],\"imageWidth\":725,\"imageHeight\":483},{\"label\":[\"Face\"],\"notes\":\"\",\"points\":[{\"x\":0.4606896551724138,\"y\":0.2567287784679089},{\"x\":0.6179310344827587,\"y\":0.4803312629399586}],\"imageWidth\":725,\"imageHeight\":483},{\"label\":[\"Face\"],\"notes\":\"\",\"points\":[{\"x\":0.6648275862068965,\"y\":0.09937888198757763},{\"x\":0.8275862068965517,\"y\":0.4389233954451346}],\"imageWidth\":725,\"imageHeight\":483}],\"extras\":null}\\n{\"content\": \"http://com.dataturks.a96-i23.open.s3.amazonaws.com/2c9fafb064277d86016431e33e4e003d/287408c9-9efb-4c09-97ad-6f17210ea026___family_separation_protest_img.jpg.jpeg\",\"annotation\":[{\"label\":[\"Face\"],\"notes\":\"\",\"points\":[{\"x\":0.1094257854821235,\"y\":0.30120481927710846},{\"x\":0.1744312026002167,\"y\":0.4079173838209983}],\"imageWidth\":1440,\"imageHeight\":907},{\"label\":[\"Face\"],\"notes\":\"\",\"points\":[{\"x\":0.4528710725893825,\"y\":0.39070567986230637},{\"x\":0.514626218851571,\"y\":0.4802065404475043}],\"imageWidth\":1440,\"imageHeight\":907},{\"label\":[\"Face\"],\"notes\":\"\",\"points\":[{\"x\":0.7768147345612134,\"y\":0.06712564543889846},{\"x\":0.8450704225352113,\"y\":0.18760757314974183}],\"imageWidth\":1440,\"imageHeight\":907}],\"extras\":null}\\n{\"content\": \"http://com.dataturks.a96-i23.open.s3.amazonaws.com/2c9fafb064277d86016431e33e4e003d/573fcf5e-64cd-416a-928d-8ddb11fbdc56___Family1-1.jpg.jpeg\",\"annotation\":[{\"label\":[\"Face\"],\"notes\":\"\",\"points\":[{\"x\":0.10105949470252648,\"y\":0.2921760391198044},{\"x\":0.32599837000814996,\"y\":0.6968215158924206}],\"imageWidth\":1280,\"imageHeight\":853},{\"label\":[\"Face\"],\"notes\":\"\",\"points\":[{\"x\":0.33496332518337407,\"y\":0.019559902200488997},{\"x\":0.46454767726161367,\"y\":0.293398533007335}],\"imageWidth\":1280,\"imageHeight\":853},{\"label\":[\"Face\"],\"notes\":\"\",\"points\":[{\"x\":0.48247758761206194,\"y\":0.06356968215158924},{\"x\":0.6438467807660961,\"y\":0.3251833740831296}],\"imageWidth\":1280,\"imageHeight\":853},{\"label\":[\"Face\"],\"notes\":\"\",\"points\":[{\"x\":0.5696821515892421,\"y\":0.3410757946210269},{\"x\":0.7872860635696821,\"y\":0.7652811735941321}],\"imageWidth\":1280,\"imageHeight\":853}],\"extras\":null}\\n{\"content\": \"http://com.dataturks.a96-i23.open.s3.amazonaws.com/2c9fafb064277d86016431e33e4e003d/9bb97b9f-3575-45d3-b0b8-86f0bf40b419___family-4-posing-500px.jpg.jpeg\",\"annotation\":[{\"label\":[\"Face\"],\"notes\":\"\",\"points\":[{\"x\":0.122,\"y\":0.2838196286472148},{\"x\":0.332,\"y\":0.5755968169761273}],\"imageWidth\":500,\"imageHeight\":377},{\"label\":[\"Face\"],\"notes\":\"\",\"points\":[{\"x\":0.312,\"y\":0.01856763925729443},{\"x\":0.52,\"y\":0.41379310344827586}],\"imageWidth\":500,\"imageHeight\":377},{\"label\":[\"Face\"],\"notes\":\"\",\"points\":[{\"x\":0.486,\"y\":0.19363395225464192},{\"x\":0.62,\"y\":0.4854111405835544}],\"imageWidth\":500,\"imageHeight\":377},{\"label\":[\"Face\"],\"notes\":\"\",\"points\":[{\"x\":0.63,\"y\":0.11405835543766578},{\"x\":0.826,\"y\":0.46153846153846156}],\"imageWidth\":500,\"imageHeight\":377}],\"extras\":null}\\n{\"content\": \"http://com.dataturks.a96-i23.open.s3.amazonaws.com/2c9fafb064277d86016431e33e4e003d/a6765842-b317-499b-b6e4-947fbdc65a24___Family-803319.jpg.jpeg\",\"annotation\":[{\"label\":[\"Face\"],\"notes\":\"\",\"points\":[{\"x\":0.1135593220338983,\"y\":0.26},{\"x\":0.27627118644067794,\"y\":0.6857142857142857}],\"imageWidth\":590,\"imageHeight\":350},{\"label\":[\"Face\"],\"notes\":\"\",\"points\":[{\"x\":0.3423728813559322,\"y\":0.2914285714285714},{\"x\":0.5576271186440678,\"y\":0.6971428571428572}],\"imageWidth\":590,\"imageHeight\":350},{\"label\":[\"Face\"],\"notes\":\"\",\"points\":[{\"x\":0.5372881355932203,\"y\":0.054285714285714284},{\"x\":0.8898305084745762,\"y\":0.7685714285714286}],\"imageWidth\":590,\"imageHeight\":350}],\"extras\":null}\\n{\"content\": \"http://com.dataturks.a96-i23.open.s3.amazonaws.com/2c9fafb064277d86016431e33e4e003d/445a39e4-723f-4ed8-a013-85844ec00226___Family-and-Friends.jpg.jpeg\",\"annotation\":[{\"label\":[\"Face\"],\"notes\":\"\",\"points\":[{\"x\":0.1105092091007584,\"y\":0.21788617886178863},{\"x\":0.2199349945828819,\"y\":0.41300813008130083}],\"imageWidth\":5184,\"imageHeight\":3456},{\"label\":[\"Face\"],\"notes\":\"\",\"points\":[{\"x\":0.31094257854821233,\"y\":0.191869918699187},{\"x\":0.4084507042253521,\"y\":0.37398373983739835}],\"imageWidth\":5184,\"imageHeight\":3456},{\"label\":[\"Face\"],\"notes\":\"\",\"points\":[{\"x\":0.42903575297941493,\"y\":0.2845528455284553},{\"x\":0.5167930660888408,\"y\":0.42276422764227645}],\"imageWidth\":5184,\"imageHeight\":3456},{\"label\":[\"Face\"],\"notes\":\"\",\"points\":[{\"x\":0.7302275189599133,\"y\":0.33495934959349594},{\"x\":0.8461538461538461,\"y\":0.5040650406504065}],\"imageWidth\":5184,\"imageHeight\":3456},{\"label\":[\"Face\"],\"notes\":\"\",\"points\":[{\"x\":0.5926327193932828,\"y\":0.3821138211382114},{\"x\":0.6803900325027086,\"y\":0.5121951219512195}],\"imageWidth\":5184,\"imageHeight\":3456},{\"label\":[\"Face\"],\"notes\":\"\",\"points\":[{\"x\":0.8396533044420368,\"y\":0.4016260162601626},{\"x\":0.9490790899241603,\"y\":0.5609756097560976}],\"imageWidth\":5184,\"imageHeight\":3456}],\"extras\":null}\\n{\"content\": \"http://com.dataturks.a96-i23.open.s3.amazonaws.com/2c9fafb064277d86016431e33e4e003d/2bfa146c-234f-4cf5-8f0c-d19cc7823d17___family-banner-1200x587.jpg.jpeg\",\"annotation\":[{\"label\":[\"Face\"],\"notes\":\"\",\"points\":[{\"x\":0.09100758396533044,\"y\":0.1902654867256637},{\"x\":0.24268689057421453,\"y\":0.48672566371681414}],\"imageWidth\":1200,\"imageHeight\":587},{\"label\":[\"Face\"],\"notes\":\"\",\"points\":[{\"x\":0.2589382448537378,\"y\":0.3274336283185841},{\"x\":0.35969664138678226,\"y\":0.5265486725663717}],\"imageWidth\":1200,\"imageHeight\":587},{\"label\":[\"Face\"],\"notes\":\"\",\"points\":[{\"x\":0.4160346695557963,\"y\":0.34513274336283184},{\"x\":0.5341278439869989,\"y\":0.5575221238938053}],\"imageWidth\":1200,\"imageHeight\":587},{\"label\":[\"Face\"],\"notes\":\"\",\"points\":[{\"x\":0.7432286023835319,\"y\":0.19690265486725664},{\"x\":0.8819068255687974,\"y\":0.5331858407079646}],\"imageWidth\":1200,\"imageHeight\":587}],\"extras\":null}\\n{\"content\": \"http://com.dataturks.a96-i23.open.s3.amazonaws.com/2c9fafb064277d86016431e33e4e003d/72f6f748-75ef-4371-80fc-a7ff2b8a2df2___family-on-beach-612x338.jpg.jpeg\",\"annotation\":[{\"label\":[\"Face\"],\"notes\":\"\",\"points\":[{\"x\":0.22712418300653595,\"y\":0.05325443786982249},{\"x\":0.3839869281045752,\"y\":0.3136094674556213}],\"imageWidth\":612,\"imageHeight\":338},{\"label\":[\"Face\"],\"notes\":\"\",\"points\":[{\"x\":0.2369281045751634,\"y\":0.378698224852071},{\"x\":0.3758169934640523,\"y\":0.7869822485207101}],\"imageWidth\":612,\"imageHeight\":338},{\"label\":[\"Face\"],\"notes\":\"\",\"points\":[{\"x\":0.477124183006536,\"y\":0.3224852071005917},{\"x\":0.6470588235294118,\"y\":0.6715976331360947}],\"imageWidth\":612,\"imageHeight\":338},{\"label\":[\"Face\"],\"notes\":\"\",\"points\":[{\"x\":0.7009803921568627,\"y\":0.4260355029585799},{\"x\":0.8741830065359477,\"y\":0.7751479289940828}],\"imageWidth\":612,\"imageHeight\":338}],\"extras\":null}\\n{\"content\": \"http://com.dataturks.a96-i23.open.s3.amazonaws.com/2c9fafb064277d86016431e33e4e003d/5f88bf16-d47d-4770-ac15-194ad0a97146___family-photo.jpg.jpeg\",\"annotation\":[{\"label\":[\"Face\"],\"notes\":\"\",\"points\":[{\"x\":0.267318663406683,\"y\":0.21638141809290953},{\"x\":0.41157294213528933,\"y\":0.5599022004889975}],\"imageWidth\":2716,\"imageHeight\":1810},{\"label\":[\"Face\"],\"notes\":\"\",\"points\":[{\"x\":0.4392828035859821,\"y\":0.3019559902200489},{\"x\":0.5403422982885085,\"y\":0.5220048899755502}],\"imageWidth\":2716,\"imageHeight\":1810},{\"label\":[\"Face\"],\"notes\":\"\",\"points\":[{\"x\":0.5378973105134475,\"y\":0.2078239608801956},{\"x\":0.6462917685411573,\"y\":0.44987775061124696}],\"imageWidth\":2716,\"imageHeight\":1810},{\"label\":[\"Face\"],\"notes\":\"\",\"points\":[{\"x\":0.6577017114914425,\"y\":0.28117359413202936},{\"x\":0.8378158109209454,\"y\":0.6198044009779952}],\"imageWidth\":2716,\"imageHeight\":1810}],\"extras\":null}\\n{\"content\": \"http://com.dataturks.a96-i23.open.s3.amazonaws.com/2c9fafb064277d86016431e33e4e003d/df2aad7d-bab8-44ba-b632-e5aac3a86a7a___family-watching-movie-2.jpg.jpeg\",\"annotation\":[{\"label\":[\"Face\"],\"notes\":\"\",\"points\":[{\"x\":0.2689873417721519,\"y\":0.20569620253164558},{\"x\":0.3649789029535865,\"y\":0.370253164556962}],\"imageWidth\":948,\"imageHeight\":632},{\"label\":[\"Face\"],\"notes\":\"\",\"points\":[{\"x\":0.4430379746835443,\"y\":0.1661392405063291},{\"x\":0.5643459915611815,\"y\":0.35917721518987344}],\"imageWidth\":948,\"imageHeight\":632},{\"label\":[\"Face\"],\"notes\":\"\",\"points\":[{\"x\":0.6508438818565401,\"y\":0.46360759493670883},{\"x\":0.740506329113924,\"y\":0.5901898734177216}],\"imageWidth\":948,\"imageHeight\":632},{\"label\":[\"Face\"],\"notes\":\"\",\"points\":[{\"x\":0.8006329113924051,\"y\":0.3670886075949367},{\"x\":0.8924050632911392,\"y\":0.509493670886076}],\"imageWidth\":948,\"imageHeight\":632}],\"extras\":null}\\n{\"content\": \"http://com.dataturks.a96-i23.open.s3.amazonaws.com/2c9fafb064277d86016431e33e4e003d/23b9a6e9-4e4d-47b9-be65-175bbf569df4___famous-1297790597.jpg.jpeg\",\"annotation\":[{\"label\":[\"Face\"],\"notes\":\"\",\"points\":[{\"x\":0.12075471698113208,\"y\":0.09904153354632587},{\"x\":0.3905660377358491,\"y\":0.6517571884984026}],\"imageWidth\":530,\"imageHeight\":313},{\"label\":[\"Face\"],\"notes\":\"\",\"points\":[{\"x\":0.6622641509433962,\"y\":0.0670926517571885},{\"x\":0.8849056603773585,\"y\":0.6006389776357828}],\"imageWidth\":530,\"imageHeight\":313}],\"extras\":null}\\n{\"content\": \"http://com.dataturks.a96-i23.open.s3.amazonaws.com/2c9fafb064277d86016431e33e4e003d/1100b15e-e170-42ac-9946-d0525d1133b4___famous-gun-scenes-from-movies-replaced-with-thumb-1-8634-1363384648-10_big.jpg.jpeg\",\"annotation\":[{\"label\":[\"Face\"],\"notes\":\"\",\"points\":[{\"x\":0.4197183098591549,\"y\":0.2966101694915254},{\"x\":0.5830985915492958,\"y\":0.5466101694915254}],\"imageWidth\":355,\"imageHeight\":236}],\"extras\":null}\\n{\"content\": \"http://com.dataturks.a96-i23.open.s3.amazonaws.com/2c9fafb064277d86016431e33e4e003d/9e932dec-3a49-49fb-944a-afaa7d221e1e___famous-movie-scene-locations-as-seen-through-google-street-view.jpg.jpeg\",\"annotation\":[{\"label\":[\"Face\"],\"notes\":\"\",\"points\":[{\"x\":0.42145178764897073,\"y\":0.13852813852813853},{\"x\":0.4875406283856988,\"y\":0.24963924963924963}],\"imageWidth\":1265,\"imageHeight\":949}],\"extras\":null}\\n{\"content\": \"http://com.dataturks.a96-i23.open.s3.amazonaws.com/2c9fafb064277d86016431e33e4e003d/57ec4a49-3e44-452b-af0d-bb035f25c587___fast-furious-7.jpg.jpeg\",\"annotation\":[{\"label\":[\"Face\"],\"notes\":\"\",\"points\":[{\"x\":0.10640495867768596,\"y\":0.22641509433962265},{\"x\":0.2024793388429752,\"y\":0.32358490566037734}],\"imageWidth\":1000,\"imageHeight\":1096},{\"label\":[\"Face\"],\"notes\":\"\",\"points\":[{\"x\":0.265495867768595,\"y\":0.23773584905660378},{\"x\":0.35020661157024796,\"y\":0.3283018867924528}],\"imageWidth\":1000,\"imageHeight\":1096},{\"label\":[\"Face\"],\"notes\":\"\",\"points\":[{\"x\":0.53099173553719,\"y\":0.2358490566037736},{\"x\":0.612603305785124,\"y\":0.35}],\"imageWidth\":1000,\"imageHeight\":1096},{\"label\":[\"Face\"],\"notes\":\"\",\"points\":[{\"x\":0.7479338842975206,\"y\":0.2339622641509434},{\"x\":0.8171487603305785,\"y\":0.3320754716981132}],\"imageWidth\":1000,\"imageHeight\":1096}],\"extras\":null}\\n{\"content\": \"http://com.dataturks.a96-i23.open.s3.amazonaws.com/2c9fafb064277d86016431e33e4e003d/3777c984-e908-402e-8e0f-d2023f79b78c___fcs-medium-familyservices-660x396.jpg.jpeg\",\"annotation\":[{\"label\":[\"Face\"],\"notes\":\"\",\"points\":[{\"x\":0.21212121212121213,\"y\":0.29545454545454547},{\"x\":0.31363636363636366,\"y\":0.43434343434343436}],\"imageWidth\":660,\"imageHeight\":396},{\"label\":[\"Face\"],\"notes\":\"\",\"points\":[{\"x\":0.3484848484848485,\"y\":0.24242424242424243},{\"x\":0.47575757575757577,\"y\":0.45202020202020204}],\"imageWidth\":660,\"imageHeight\":396},{\"label\":[\"Face\"],\"notes\":\"\",\"points\":[{\"x\":0.4818181818181818,\"y\":0.2878787878787879},{\"x\":0.5909090909090909,\"y\":0.4671717171717172}],\"imageWidth\":660,\"imageHeight\":396},{\"label\":[\"Face\"],\"notes\":\"\",\"points\":[{\"x\":0.656060606060606,\"y\":0.351010101010101},{\"x\":0.7621212121212121,\"y\":0.5025252525252525}],\"imageWidth\":660,\"imageHeight\":396}],\"extras\":null}\\n{\"content\": \"http://com.dataturks.a96-i23.open.s3.amazonaws.com/2c9fafb064277d86016431e33e4e003d/e98223de-f7c5-4333-8f69-2e1384b7bcca___Fi-M-Top10-Character-Introduction-Scenes-in-Movies-720p30_480.jpg.jpeg\",\"annotation\":[{\"label\":[\"Face\"],\"notes\":\"\",\"points\":[{\"x\":0.30416666666666664,\"y\":0.11851851851851852},{\"x\":0.6791666666666667,\"y\":0.8222222222222222}],\"imageWidth\":480,\"imageHeight\":270}],\"extras\":null}\\n{\"content\": \"http://com.dataturks.a96-i23.open.s3.amazonaws.com/2c9fafb064277d86016431e33e4e003d/761fbedb-d399-4026-983a-31598902fa8b___Fi-M-Top10-Oral-Sex-Scenes-In-Movies-720p30_180.jpg.jpeg\",\"annotation\":[{\"label\":[\"Face\"],\"notes\":\"\",\"points\":[{\"x\":0.459375,\"y\":0.18888888888888888},{\"x\":0.59375,\"y\":0.40555555555555556}],\"imageWidth\":320,\"imageHeight\":180}],\"extras\":null}\\n{\"content\": \"http://com.dataturks.a96-i23.open.s3.amazonaws.com/2c9fafb064277d86016431e33e4e003d/e02a8c74-ef2a-4177-aabd-8323c59eff53___Fi-M-Top10-Serious-Animal-Attack-Scenes-in-Movies-720p30202_480.jpg.jpeg\",\"annotation\":[{\"label\":[\"Face\"],\"notes\":\"\",\"points\":[{\"x\":0.03333333333333333,\"y\":0.2760942760942761},{\"x\":0.41875,\"y\":0.797979797979798}],\"imageWidth\":480,\"imageHeight\":297}],\"extras\":null}\\n{\"content\": \"http://com.dataturks.a96-i23.open.s3.amazonaws.com/2c9fafb064277d86016431e33e4e003d/82a55b26-f56b-4ada-85a2-e9c8fa91dfd0___Fotolia_56359700_Subscription_Monthly_M.jpg.jpeg\",\"annotation\":[{\"label\":[\"Face\"],\"notes\":\"\",\"points\":[{\"x\":0.26543878656554715,\"y\":0.20650406504065041},{\"x\":0.4106175514626219,\"y\":0.45691056910569106}],\"imageWidth\":1688,\"imageHeight\":1125},{\"label\":[\"Face\"],\"notes\":\"\",\"points\":[{\"x\":0.42145178764897073,\"y\":0.23902439024390243},{\"x\":0.5362946912242686,\"y\":0.42276422764227645}],\"imageWidth\":1688,\"imageHeight\":1125},{\"label\":[\"Face\"],\"notes\":\"\",\"points\":[{\"x\":0.352112676056338,\"y\":0.5333333333333333},{\"x\":0.4561213434452871,\"y\":0.7463414634146341}],\"imageWidth\":1688,\"imageHeight\":1125},{\"label\":[\"Face\"],\"notes\":\"\",\"points\":[{\"x\":0.5189599133261105,\"y\":0.6211382113821138},{\"x\":0.6803900325027086,\"y\":0.8699186991869918}],\"imageWidth\":1688,\"imageHeight\":1125}],\"extras\":null}\\n{\"content\": \"http://com.dataturks.a96-i23.open.s3.amazonaws.com/2c9fafb064277d86016431e33e4e003d/75b81f28-b110-4c84-bf7c-0a248330055b___FSP-family-555x370x55.jpg.jpeg\",\"annotation\":[{\"label\":[\"Face\"],\"notes\":\"\",\"points\":[{\"x\":0.5171171171171172,\"y\":0.34324324324324323},{\"x\":0.590990990990991,\"y\":0.43513513513513513}],\"imageWidth\":555,\"imageHeight\":370},{\"label\":[\"Face\"],\"notes\":\"\",\"points\":[{\"x\":0.1891891891891892,\"y\":0.05675675675675676},{\"x\":0.25585585585585585,\"y\":0.15405405405405406}],\"imageWidth\":555,\"imageHeight\":370},{\"label\":[\"Face\"],\"notes\":\"\",\"points\":[{\"x\":0.4072072072072072,\"y\":0.2648648648648649},{\"x\":0.4756756756756757,\"y\":0.35135135135135137}],\"imageWidth\":555,\"imageHeight\":370},{\"label\":[\"Face\"],\"notes\":\"\",\"points\":[{\"x\":0.745945945945946,\"y\":0.35135135135135137},{\"x\":0.8162162162162162,\"y\":0.4486486486486487}],\"imageWidth\":555,\"imageHeight\":370}],\"extras\":null}\\n{\"content\": \"http://com.dataturks.a96-i23.open.s3.amazonaws.com/2c9fafb064277d86016431e33e4e003d/f18f7c01-6ac3-4086-81e9-e79693adc17b___FTP-12.jpg.jpeg\",\"annotation\":[{\"label\":[\"Face\"],\"notes\":\"\",\"points\":[{\"x\":0.5989010989010989,\"y\":0.026119402985074626},{\"x\":0.8186813186813187,\"y\":0.1828358208955224}],\"imageWidth\":182,\"imageHeight\":268},{\"label\":[\"Face\"],\"notes\":\"\",\"points\":[{\"x\":0.17032967032967034,\"y\":0.19029850746268656},{\"x\":0.3956043956043956,\"y\":0.31716417910447764}],\"imageWidth\":182,\"imageHeight\":268}],\"extras\":null}\\n{\"content\": \"http://com.dataturks.a96-i23.open.s3.amazonaws.com/2c9fafb064277d86016431e33e4e003d/4a6aaba7-1873-4897-ba9f-269fc0f0acbf___funny-Deadpool-movie-Ryan-Reynolds-scene.jpg.jpeg\",\"annotation\":[{\"label\":[\"Face\"],\"notes\":\"\",\"points\":[{\"x\":0.08703703703703704,\"y\":0.10207612456747404},{\"x\":0.3851851851851852,\"y\":0.3235294117647059}],\"imageWidth\":540,\"imageHeight\":578},{\"label\":[\"Face\"],\"notes\":\"\",\"points\":[{\"x\":0.6518518518518519,\"y\":0.04498269896193772},{\"x\":0.8481481481481481,\"y\":0.27335640138408307}],\"imageWidth\":540,\"imageHeight\":578},{\"label\":[\"Face\"],\"notes\":\"\",\"points\":[{\"x\":0.12222222222222222,\"y\":0.5986159169550173},{\"x\":0.29074074074074074,\"y\":0.7854671280276817}],\"imageWidth\":540,\"imageHeight\":578},{\"label\":[\"Face\"],\"notes\":\"\",\"points\":[{\"x\":0.6777777777777778,\"y\":0.5501730103806228},{\"x\":0.8796296296296297,\"y\":0.7768166089965398}],\"imageWidth\":540,\"imageHeight\":578}],\"extras\":null}\\n{\"content\": \"http://com.dataturks.a96-i23.open.s3.amazonaws.com/2c9fafb064277d86016431e33e4e003d/16cf7fba-291b-44e0-86a7-cc757998e0a0___funny-Donnie-Darko-movie-scene.jpg.jpeg\",\"annotation\":[{\"label\":[\"Face\"],\"notes\":\"\",\"points\":[{\"x\":0.5925925925925926,\"y\":0.02466091245376079},{\"x\":0.8703703703703703,\"y\":0.2638717632552404}],\"imageWidth\":540,\"imageHeight\":811},{\"label\":[\"Face\"],\"notes\":\"\",\"points\":[{\"x\":0.15925925925925927,\"y\":0.35018495684340323},{\"x\":0.36666666666666664,\"y\":0.499383477188656}],\"imageWidth\":540,\"imageHeight\":811},{\"label\":[\"Face\"],\"notes\":\"\",\"points\":[{\"x\":0.562962962962963,\"y\":0.43403205918618987},{\"x\":0.7518518518518519,\"y\":0.5672009864364982}],\"imageWidth\":540,\"imageHeight\":811},{\"label\":[\"Face\"],\"notes\":\"\",\"points\":[{\"x\":0.24074074074074073,\"y\":0.6942046855733662},{\"x\":0.4222222222222222,\"y\":0.8581997533908755}],\"imageWidth\":540,\"imageHeight\":811},{\"label\":[\"Face\"],\"notes\":\"\",\"points\":[{\"x\":0.5462962962962963,\"y\":0.7731196054254007},{\"x\":0.7518518518518519,\"y\":0.8976572133168927}],\"imageWidth\":540,\"imageHeight\":811}],\"extras\":null}\\n{\"content\": \"http://com.dataturks.a96-i23.open.s3.amazonaws.com/2c9fafb064277d86016431e33e4e003d/102643a3-a7d8-4247-8153-92d5465c72f1___funnyfilmsjpg-6e42eba11da2fa5a.jpg.png\",\"annotation\":[{\"label\":[\"Face\"],\"notes\":\"\",\"points\":[{\"x\":0.27741935483870966,\"y\":0.2159383033419023},{\"x\":0.4290322580645161,\"y\":0.4524421593830334}],\"imageWidth\":620,\"imageHeight\":389},{\"label\":[\"Face\"],\"notes\":\"\",\"points\":[{\"x\":0.11612903225806452,\"y\":0.31876606683804626},{\"x\":0.22580645161290322,\"y\":0.5038560411311054}],\"imageWidth\":620,\"imageHeight\":389},{\"label\":[\"Face\"],\"notes\":\"\",\"points\":[{\"x\":0.4774193548387097,\"y\":0.3161953727506427},{\"x\":0.5806451612903226,\"y\":0.5192802056555269}],\"imageWidth\":620,\"imageHeight\":389},{\"label\":[\"Face\"],\"notes\":\"\",\"points\":[{\"x\":0.8096774193548387,\"y\":0.7275064267352185},{\"x\":0.8870967741935484,\"y\":0.8508997429305912}],\"imageWidth\":620,\"imageHeight\":389},{\"label\":[\"Face\"],\"notes\":\"\",\"points\":[{\"x\":0.8274193548387097,\"y\":0.37275064267352187},{\"x\":0.896774193548387,\"y\":0.4781491002570694}],\"imageWidth\":620,\"imageHeight\":389}],\"extras\":null}\\n{\"content\": \"http://com.dataturks.a96-i23.open.s3.amazonaws.com/2c9fafb064277d86016431e33e4e003d/a7cb958c-702c-438f-b1fd-020788520d08___funny-people.jpg.jpeg\",\"annotation\":[{\"label\":[\"Face\"],\"notes\":\"\",\"points\":[{\"x\":0.5373781148429035,\"y\":0.09577922077922078},{\"x\":0.5926327193932828,\"y\":0.19967532467532467}],\"imageWidth\":1024,\"imageHeight\":683},{\"label\":[\"Face\"],\"notes\":\"\",\"points\":[{\"x\":0.22318526543878656,\"y\":0.4772727272727273},{\"x\":0.27085590465872156,\"y\":0.5941558441558441}],\"imageWidth\":1024,\"imageHeight\":683}],\"extras\":null}\\n{\"content\": \"http://com.dataturks.a96-i23.open.s3.amazonaws.com/2c9fafb064277d86016431e33e4e003d/c816fe11-166c-400b-9e16-2c4a0a2a7594___Funny-Scenes-From-The-Movie-white-chicks-29349273-420-700.jpg.jpeg\",\"annotation\":[{\"label\":[\"Face\"],\"notes\":\"\",\"points\":[{\"x\":0.3619047619047619,\"y\":0.07},{\"x\":0.6880952380952381,\"y\":0.26}],\"imageWidth\":420,\"imageHeight\":700},{\"label\":[\"Face\"],\"notes\":\"\",\"points\":[{\"x\":0.29523809523809524,\"y\":0.73},{\"x\":0.5285714285714286,\"y\":0.9028571428571428}],\"imageWidth\":420,\"imageHeight\":700}],\"extras\":null}\\n{\"content\": \"http://com.dataturks.a96-i23.open.s3.amazonaws.com/2c9fafb064277d86016431e33e4e003d/3c04f63c-5dab-4139-bc54-1b2c47828454___funny-Will-Smith-movie-scene.jpg.jpeg\",\"annotation\":[{\"label\":[\"Face\"],\"notes\":\"\",\"points\":[{\"x\":0.332,\"y\":0.07142857142857142},{\"x\":0.624,\"y\":0.3877551020408163}],\"imageWidth\":500,\"imageHeight\":588},{\"label\":[\"Face\"],\"notes\":\"\",\"points\":[{\"x\":0.406,\"y\":0.5204081632653061},{\"x\":0.74,\"y\":0.8605442176870748}],\"imageWidth\":500,\"imageHeight\":588}],\"extras\":null}\\n{\"content\": \"http://com.dataturks.a96-i23.open.s3.amazonaws.com/2c9fafb064277d86016431e33e4e003d/0a60979d-7263-4ca7-b54d-ac02b18774e0___Funny-woman-in-a-movie-scene-picture-with-sub.jpg.jpeg\",\"annotation\":[{\"label\":[\"Face\"],\"notes\":\"\",\"points\":[{\"x\":0.10825688073394496,\"y\":0.13858267716535433},{\"x\":0.27522935779816515,\"y\":0.3165354330708661}],\"imageWidth\":545,\"imageHeight\":635},{\"label\":[\"Face\"],\"notes\":\"\",\"points\":[{\"x\":0.25504587155963304,\"y\":0.09291338582677165},{\"x\":0.4055045871559633,\"y\":0.25354330708661416}],\"imageWidth\":545,\"imageHeight\":635},{\"label\":[\"Face\"],\"notes\":\"\",\"points\":[{\"x\":0.781651376146789,\"y\":0.08661417322834646},{\"x\":0.9376146788990826,\"y\":0.3354330708661417}],\"imageWidth\":545,\"imageHeight\":635},{\"label\":[\"Face\"],\"notes\":\"\",\"points\":[{\"x\":0.5559633027522936,\"y\":0.5480314960629922},{\"x\":0.7779816513761468,\"y\":0.7779527559055118}],\"imageWidth\":545,\"imageHeight\":635}],\"extras\":null}\\n{\"content\": \"http://com.dataturks.a96-i23.open.s3.amazonaws.com/2c9fafb064277d86016431e33e4e003d/25c01e48-5f32-41aa-9f8d-9bfcaf46d189___GB.jpg.jpeg\",\"annotation\":[{\"label\":[\"Face\"],\"notes\":\"\",\"points\":[{\"x\":0.14583333333333334,\"y\":0.05592105263157895},{\"x\":0.4513888888888889,\"y\":0.5592105263157895}],\"imageWidth\":432,\"imageHeight\":304}],\"extras\":null}\\n{\"content\": \"http://com.dataturks.a96-i23.open.s3.amazonaws.com/2c9fafb064277d86016431e33e4e003d/fc8af2c0-1f24-49fa-b70f-b797d4d69518___Generational-Sins.jpg.jpeg\",\"annotation\":[{\"label\":[\"Face\"],\"notes\":\"\",\"points\":[{\"x\":0.518595041322314,\"y\":0.17463235294117646},{\"x\":0.6911157024793388,\"y\":0.4724264705882353}],\"imageWidth\":1777,\"imageHeight\":999},{\"label\":[\"Face\"],\"notes\":\"\",\"points\":[{\"x\":0.3119834710743802,\"y\":0.2261029411764706},{\"x\":0.4318181818181818,\"y\":0.42830882352941174}],\"imageWidth\":1777,\"imageHeight\":999}],\"extras\":null}\\n{\"content\": \"http://com.dataturks.a96-i23.open.s3.amazonaws.com/2c9fafb064277d86016431e33e4e003d/592b7b5d-a87e-442e-8054-611950f3ef50___GettyImages-973687124-640x480.jpg.jpeg\",\"annotation\":[{\"label\":[\"Face\"],\"notes\":\"\",\"points\":[{\"x\":0.1828125,\"y\":0.30625},{\"x\":0.25625,\"y\":0.40625}],\"imageWidth\":640,\"imageHeight\":480},{\"label\":[\"Face\"],\"notes\":\"\",\"points\":[{\"x\":0.4078125,\"y\":0.3416666666666667},{\"x\":0.471875,\"y\":0.425}],\"imageWidth\":640,\"imageHeight\":480}],\"extras\":null}\\n{\"content\": \"http://com.dataturks.a96-i23.open.s3.amazonaws.com/2c9fafb064277d86016431e33e4e003d/4c4456a0-cc43-4436-b570-b984ec612efb___ghostprotocol.jpg.jpeg\",\"annotation\":[{\"label\":[\"Face\"],\"notes\":\"\",\"points\":[{\"x\":0.04923076923076923,\"y\":0.30625},{\"x\":0.31076923076923074,\"y\":0.8625}],\"imageWidth\":650,\"imageHeight\":320}],\"extras\":null}\\n{\"content\": \"http://com.dataturks.a96-i23.open.s3.amazonaws.com/2c9fafb064277d86016431e33e4e003d/f84ff2d3-d7d7-492d-a90e-41e46090b234___gn-gift_guide_variable_c.jpg.jpeg\",\"annotation\":[{\"label\":[\"Face\"],\"notes\":\"\",\"points\":[{\"x\":0.3358613217768147,\"y\":0.19064124783362218},{\"x\":0.4593716143011918,\"y\":0.45753899480069327}],\"imageWidth\":970,\"imageHeight\":606},{\"label\":[\"Face\"],\"notes\":\"\",\"points\":[{\"x\":0.866738894907909,\"y\":0.1438474870017331},{\"x\":0.9848320693391116,\"y\":0.4696707105719237}],\"imageWidth\":970,\"imageHeight\":606}],\"extras\":null}\\n{\"content\": \"http://com.dataturks.a96-i23.open.s3.amazonaws.com/2c9fafb064277d86016431e33e4e003d/2b5ef563-33ff-445b-ba63-2e4bd9131f95___goonies3.jpg.jpeg\",\"annotation\":[{\"label\":[\"Face\"],\"notes\":\"\",\"points\":[{\"x\":0.3104166666666667,\"y\":0.0670926517571885},{\"x\":0.475,\"y\":0.4472843450479233}],\"imageWidth\":480,\"imageHeight\":313},{\"label\":[\"Face\"],\"notes\":\"\",\"points\":[{\"x\":0.5979166666666667,\"y\":0.18849840255591055},{\"x\":0.7833333333333333,\"y\":0.4984025559105431}],\"imageWidth\":480,\"imageHeight\":313}],\"extras\":null}\\n{\"content\": \"http://com.dataturks.a96-i23.open.s3.amazonaws.com/2c9fafb064277d86016431e33e4e003d/943d3443-3fe1-4c7e-a33a-3e77e663fa9d___halle-xmen.jpg.jpeg\",\"annotation\":[{\"label\":[\"Face\"],\"notes\":\"\",\"points\":[{\"x\":0.27193932827735645,\"y\":0.23414634146341465},{\"x\":0.35969664138678226,\"y\":0.44552845528455287}],\"imageWidth\":2000,\"imageHeight\":1333},{\"label\":[\"Face\"],\"notes\":\"\",\"points\":[{\"x\":0.5167930660888408,\"y\":0.23252032520325203},{\"x\":0.5752979414951246,\"y\":0.44552845528455287}],\"imageWidth\":2000,\"imageHeight\":1333}],\"extras\":null}\\n{\"content\": \"http://com.dataturks.a96-i23.open.s3.amazonaws.com/2c9fafb064277d86016431e33e4e003d/5d34c9a0-49b2-4701-8145-67aacd66e103___HanSolo.jpg.jpeg\",\"annotation\":[{\"label\":[\"Face\"],\"notes\":\"\",\"points\":[{\"x\":0.40483870967741936,\"y\":0.1606060606060606},{\"x\":0.5435483870967742,\"y\":0.46060606060606063}],\"imageWidth\":620,\"imageHeight\":330}],\"extras\":null}\\n{\"content\": \"http://com.dataturks.a96-i23.open.s3.amazonaws.com/2c9fafb064277d86016431e33e4e003d/614e5bce-71f3-471f-86bc-ed71c4028632___Harris-Family-2015.jpg.jpeg\",\"annotation\":[{\"label\":[\"Face\"],\"notes\":\"\",\"points\":[{\"x\":0.12913223140495866,\"y\":0.4744186046511628},{\"x\":0.22520661157024793,\"y\":0.5922480620155038}],\"imageWidth\":5616,\"imageHeight\":3744},{\"label\":[\"Face\"],\"notes\":\"\",\"points\":[{\"x\":0.3109504132231405,\"y\":0.3426356589147287},{\"x\":0.42458677685950413,\"y\":0.5054263565891473}],\"imageWidth\":5616,\"imageHeight\":3744},{\"label\":[\"Face\"],\"notes\":\"\",\"points\":[{\"x\":0.45144628099173556,\"y\":0.23875968992248062},{\"x\":0.5227272727272727,\"y\":0.3751937984496124}],\"imageWidth\":5616,\"imageHeight\":3744},{\"label\":[\"Face\"],\"notes\":\"\",\"points\":[{\"x\":0.5537190082644629,\"y\":0.30387596899224806},{\"x\":0.6177685950413223,\"y\":0.4387596899224806}],\"imageWidth\":5616,\"imageHeight\":3744},{\"label\":[\"Face\"],\"notes\":\"\",\"points\":[{\"x\":0.7066115702479339,\"y\":0.29457364341085274},{\"x\":0.7716942148760331,\"y\":0.3984496124031008}],\"imageWidth\":5616,\"imageHeight\":3744},{\"label\":[\"Face\"],\"notes\":\"\",\"points\":[{\"x\":0.8171487603305785,\"y\":0.4604651162790698},{\"x\":0.8925619834710744,\"y\":0.5968992248062015}],\"imageWidth\":5616,\"imageHeight\":3744}],\"extras\":null}\\n{\"content\": \"http://com.dataturks.a96-i23.open.s3.amazonaws.com/2c9fafb064277d86016431e33e4e003d/e8ad60af-b305-4da0-9c39-0046f79256c3___hbz-best-british-movies-00-index-1498493471.jpg.jpeg\",\"annotation\":[{\"label\":[\"Face\"],\"notes\":\"\",\"points\":[{\"x\":0.053,\"y\":0.066},{\"x\":0.172,\"y\":0.332}],\"imageWidth\":1000,\"imageHeight\":500},{\"label\":[\"Face\"],\"notes\":\"\",\"points\":[{\"x\":0.18,\"y\":0.04},{\"x\":0.272,\"y\":0.278}],\"imageWidth\":1000,\"imageHeight\":500},{\"label\":[\"Face\"],\"notes\":\"\",\"points\":[{\"x\":0.417,\"y\":0.066},{\"x\":0.562,\"y\":0.364}],\"imageWidth\":1000,\"imageHeight\":500},{\"label\":[\"Face\"],\"notes\":\"\",\"points\":[{\"x\":0.676,\"y\":0.1},{\"x\":0.761,\"y\":0.312}],\"imageWidth\":1000,\"imageHeight\":500},{\"label\":[\"Face\"],\"notes\":\"\",\"points\":[{\"x\":0.905,\"y\":0.058},{\"x\":0.999,\"y\":0.332}],\"imageWidth\":1000,\"imageHeight\":500}],\"extras\":null}\\n{\"content\": \"http://com.dataturks.a96-i23.open.s3.amazonaws.com/2c9fafb064277d86016431e33e4e003d/63c1e382-cd76-4846-9aab-0a88acb16890___Healthy-Families-landing3.jpg.jpeg\",\"annotation\":[{\"label\":[\"Face\"],\"notes\":\"\",\"points\":[{\"x\":0.09680851063829787,\"y\":0.15},{\"x\":0.30106382978723406,\"y\":0.6066666666666667}],\"imageWidth\":940,\"imageHeight\":600},{\"label\":[\"Face\"],\"notes\":\"\",\"points\":[{\"x\":0.3170212765957447,\"y\":0.10833333333333334},{\"x\":0.5138297872340426,\"y\":0.4816666666666667}],\"imageWidth\":940,\"imageHeight\":600},{\"label\":[\"Face\"],\"notes\":\"\",\"points\":[{\"x\":0.5351063829787234,\"y\":0.225},{\"x\":0.6734042553191489,\"y\":0.5183333333333333}],\"imageWidth\":940,\"imageHeight\":600},{\"label\":[\"Face\"],\"notes\":\"\",\"points\":[{\"x\":0.6957446808510638,\"y\":0.27},{\"x\":0.8712765957446809,\"y\":0.5966666666666667}],\"imageWidth\":940,\"imageHeight\":600}],\"extras\":null}\\n{\"content\": \"http://com.dataturks.a96-i23.open.s3.amazonaws.com/2c9fafb064277d86016431e33e4e003d/7e66b222-d2d6-49fc-b3f5-65fb75b33451___hero-31603-new.jpg.jpeg\",\"annotation\":[{\"label\":[\"Face\"],\"notes\":\"\",\"points\":[{\"x\":0.178125,\"y\":0.1},{\"x\":0.28125,\"y\":0.3892857142857143}],\"imageWidth\":640,\"imageHeight\":280},{\"label\":[\"Face\"],\"notes\":\"\",\"points\":[{\"x\":0.34375,\"y\":0.44642857142857145},{\"x\":0.4140625,\"y\":0.6214285714285714}],\"imageWidth\":640,\"imageHeight\":280},{\"label\":[\"Face\"],\"notes\":\"\",\"points\":[{\"x\":0.5234375,\"y\":0.02857142857142857},{\"x\":0.609375,\"y\":0.225}],\"imageWidth\":640,\"imageHeight\":280},{\"label\":[\"Face\"],\"notes\":\"\",\"points\":[{\"x\":0.6484375,\"y\":0.3142857142857143},{\"x\":0.7109375,\"y\":0.5392857142857143}],\"imageWidth\":640,\"imageHeight\":280},{\"label\":[\"Face\"],\"notes\":\"\",\"points\":[{\"x\":0.790625,\"y\":0.060714285714285714},{\"x\":0.85625,\"y\":0.2642857142857143}],\"imageWidth\":640,\"imageHeight\":280}],\"extras\":null}\\n{\"content\": \"http://com.dataturks.a96-i23.open.s3.amazonaws.com/2c9fafb064277d86016431e33e4e003d/5617d2ef-2af7-45b5-b0d5-30c56529a0eb___hollywood-english-movie-2016_orig.jpg.jpeg\",\"annotation\":[{\"label\":[\"Face\"],\"notes\":\"\",\"points\":[{\"x\":0.53125,\"y\":0.1527777777777778},{\"x\":0.7520833333333333,\"y\":0.575}],\"imageWidth\":480,\"imageHeight\":360},{\"label\":[\"Face\"],\"notes\":\"\",\"points\":[{\"x\":0.7354166666666667,\"y\":0.4722222222222222},{\"x\":0.8833333333333333,\"y\":0.6638888888888889}],\"imageWidth\":480,\"imageHeight\":360},{\"label\":[\"Face\"],\"notes\":\"\",\"points\":[{\"x\":0.6645833333333333,\"y\":0.5888888888888889},{\"x\":0.73125,\"y\":0.675}],\"imageWidth\":480,\"imageHeight\":360}],\"extras\":null}\\n{\"content\": \"http://com.dataturks.a96-i23.open.s3.amazonaws.com/2c9fafb064277d86016431e33e4e003d/41d18d64-f960-4d62-b0ce-d77e64487712___horror-movies-2017-best-horror-movies-2017-stephen-king-IT-.jpg.jpeg\",\"annotation\":[{\"label\":[\"Face\"],\"notes\":\"\",\"points\":[{\"x\":0.5698808234019501,\"y\":0.203579418344519},{\"x\":0.6435536294691224,\"y\":0.39373601789709173}],\"imageWidth\":950,\"imageHeight\":460},{\"label\":[\"Face\"],\"notes\":\"\",\"points\":[{\"x\":0.7638136511375948,\"y\":0.2751677852348993},{\"x\":0.847237269772481,\"y\":0.5033557046979866}],\"imageWidth\":950,\"imageHeight\":460},{\"label\":[\"Face\"],\"notes\":\"\",\"points\":[{\"x\":0.7020585048754063,\"y\":0.2080536912751678},{\"x\":0.7659804983748646,\"y\":0.3422818791946309}],\"imageWidth\":950,\"imageHeight\":460},{\"label\":[\"Face\"],\"notes\":\"\",\"points\":[{\"x\":0.4712892741061755,\"y\":0.09395973154362416},{\"x\":0.5384615384615384,\"y\":0.24384787472035793}],\"imageWidth\":950,\"imageHeight\":460},{\"label\":[\"Face\"],\"notes\":\"\",\"points\":[{\"x\":0.28710725893824485,\"y\":0.07158836689038031},{\"x\":0.37919826652221017,\"y\":0.2662192393736018}],\"imageWidth\":950,\"imageHeight\":460},{\"label\":[\"Face\"],\"notes\":\"\",\"points\":[{\"x\":0.16901408450704225,\"y\":0.21923937360178972},{\"x\":0.2524377031419285,\"y\":0.3713646532438479}],\"imageWidth\":950,\"imageHeight\":460},{\"label\":[\"Face\"],\"notes\":\"\",\"points\":[{\"x\":0.11159263271939328,\"y\":0.2751677852348993},{\"x\":0.1820151679306609,\"y\":0.4161073825503356}],\"imageWidth\":950,\"imageHeight\":460}],\"extras\":null}\\n{\"content\": \"http://com.dataturks.a96-i23.open.s3.amazonaws.com/2c9fafb064277d86016431e33e4e003d/49073390-3b16-4da2-8cfe-7c7ff6bfa3e7___hostel-movie.jpg.jpeg\",\"annotation\":[{\"label\":[\"Face\"],\"notes\":\"\",\"points\":[{\"x\":0.14,\"y\":0.33448275862068966},{\"x\":0.326,\"y\":0.6448275862068965}],\"imageWidth\":500,\"imageHeight\":290},{\"label\":[\"Face\"],\"notes\":\"\",\"points\":[{\"x\":0.622,\"y\":0.027586206896551724},{\"x\":0.808,\"y\":0.32068965517241377}],\"imageWidth\":500,\"imageHeight\":290}],\"extras\":null}\\n{\"content\": \"http://com.dataturks.a96-i23.open.s3.amazonaws.com/2c9fafb064277d86016431e33e4e003d/7be9b014-0940-412e-bc83-5384f39f6522___how-to-help-families-separated-at-borders-homepage-1280x720.jpg.jpeg\",\"annotation\":[{\"label\":[\"Face\"],\"notes\":\"\",\"points\":[{\"x\":0.6539256198347108,\"y\":0.15625},{\"x\":0.878099173553719,\"y\":0.4963235294117647}],\"imageWidth\":1280,\"imageHeight\":720},{\"label\":[\"Face\"],\"notes\":\"\",\"points\":[{\"x\":0.4772727272727273,\"y\":0.5441176470588235},{\"x\":0.6053719008264463,\"y\":0.7738970588235294}],\"imageWidth\":1280,\"imageHeight\":720}],\"extras\":null}\\n{\"content\": \"http://com.dataturks.a96-i23.open.s3.amazonaws.com/2c9fafb064277d86016431e33e4e003d/f26cc16b-82d1-485b-bb4a-d89992dc0048___how-we-help-families-575x385.jpg.jpeg\",\"annotation\":[{\"label\":[\"Face\"],\"notes\":\"\",\"points\":[{\"x\":0.11130434782608696,\"y\":0.13766233766233765},{\"x\":0.3008695652173913,\"y\":0.561038961038961}],\"imageWidth\":575,\"imageHeight\":385},{\"label\":[\"Face\"],\"notes\":\"\",\"points\":[{\"x\":0.33043478260869563,\"y\":0.16103896103896104},{\"x\":0.5008695652173913,\"y\":0.6441558441558441}],\"imageWidth\":575,\"imageHeight\":385},{\"label\":[\"Face\"],\"notes\":\"\",\"points\":[{\"x\":0.5234782608695652,\"y\":0.2649350649350649},{\"x\":0.7478260869565218,\"y\":0.6909090909090909}],\"imageWidth\":575,\"imageHeight\":385},{\"label\":[\"Face\"],\"notes\":\"\",\"points\":[{\"x\":0.7008695652173913,\"y\":0.21298701298701297},{\"x\":0.9495652173913044,\"y\":0.6467532467532467}],\"imageWidth\":575,\"imageHeight\":385}],\"extras\":null}\\n{\"content\": \"http://com.dataturks.a96-i23.open.s3.amazonaws.com/2c9fafb064277d86016431e33e4e003d/3f784dad-c4fb-4fcc-bd81-8c041796297d___hqdefault.jpg.jpeg\",\"annotation\":[{\"label\":[\"Face\"],\"notes\":\"\",\"points\":[{\"x\":0.19791666666666666,\"y\":0.33611111111111114},{\"x\":0.35833333333333334,\"y\":0.6583333333333333}],\"imageWidth\":480,\"imageHeight\":360},{\"label\":[\"Face\"],\"notes\":\"\",\"points\":[{\"x\":0.5833333333333334,\"y\":0.35},{\"x\":0.6854166666666667,\"y\":0.48333333333333334}],\"imageWidth\":480,\"imageHeight\":360},{\"label\":[\"Face\"],\"notes\":\"\",\"points\":[{\"x\":0.8125,\"y\":0.35},{\"x\":0.9229166666666667,\"y\":0.5027777777777778}],\"imageWidth\":480,\"imageHeight\":360}],\"extras\":null}\\n{\"content\": \"http://com.dataturks.a96-i23.open.s3.amazonaws.com/2c9fafb064277d86016431e33e4e003d/a1e3f340-1894-4fb6-8c8e-bd8cb81778b1___hqdefault1.jpg.jpeg\",\"annotation\":[{\"label\":[\"Face\"],\"notes\":\"\",\"points\":[{\"x\":0.6770833333333334,\"y\":0.2972222222222222},{\"x\":0.8166666666666667,\"y\":0.5138888888888888}],\"imageWidth\":480,\"imageHeight\":360},{\"label\":[\"Face\"],\"notes\":\"\",\"points\":[{\"x\":0.29583333333333334,\"y\":0.35555555555555557},{\"x\":0.41458333333333336,\"y\":0.5416666666666666}],\"imageWidth\":480,\"imageHeight\":360}],\"extras\":null}\\n{\"content\": \"http://com.dataturks.a96-i23.open.s3.amazonaws.com/2c9fafb064277d86016431e33e4e003d/4867d82e-f5b2-4b36-b907-c6f2afaf3366___hqdefault2.jpg.jpeg\",\"annotation\":[{\"label\":[\"Face\"],\"notes\":\"\",\"points\":[{\"x\":0.4,\"y\":0.17777777777777778},{\"x\":0.7354166666666667,\"y\":0.6833333333333333}],\"imageWidth\":480,\"imageHeight\":360}],\"extras\":null}\\n{\"content\": \"http://com.dataturks.a96-i23.open.s3.amazonaws.com/2c9fafb064277d86016431e33e4e003d/40c39921-79bd-4200-8ad5-518762d63ccb___hqdefault5.jpg.jpeg\",\"annotation\":[{\"label\":[\"Face\"],\"notes\":\"\",\"points\":[{\"x\":0.4895833333333333,\"y\":0.2777777777777778},{\"x\":0.58125,\"y\":0.4111111111111111}],\"imageWidth\":480,\"imageHeight\":360},{\"label\":[\"Face\"],\"notes\":\"\",\"points\":[{\"x\":0.2875,\"y\":0.34444444444444444},{\"x\":0.41041666666666665,\"y\":0.5222222222222223}],\"imageWidth\":480,\"imageHeight\":360}],\"extras\":null}\\n{\"content\": \"http://com.dataturks.a96-i23.open.s3.amazonaws.com/2c9fafb064277d86016431e33e4e003d/cd9f8549-5619-43e8-9a44-e85ce980eb82___hqdefault7.jpg.jpeg\",\"annotation\":[{\"label\":[\"Face\"],\"notes\":\"\",\"points\":[{\"x\":0.25833333333333336,\"y\":0.25},{\"x\":0.5479166666666667,\"y\":0.6611111111111111}],\"imageWidth\":480,\"imageHeight\":360}],\"extras\":null}\\n{\"content\": \"http://com.dataturks.a96-i23.open.s3.amazonaws.com/2c9fafb064277d86016431e33e4e003d/a60a47f2-a94c-42f6-aa9c-6004bed60d35___hqdefault8.jpg.jpeg\",\"annotation\":[{\"label\":[\"Face\"],\"notes\":\"\",\"points\":[{\"x\":0.27291666666666664,\"y\":0.19444444444444445},{\"x\":0.39375,\"y\":0.35}],\"imageWidth\":480,\"imageHeight\":360},{\"label\":[\"Face\"],\"notes\":\"\",\"points\":[{\"x\":0.035416666666666666,\"y\":0.19166666666666668},{\"x\":0.16041666666666668,\"y\":0.3888888888888889}],\"imageWidth\":480,\"imageHeight\":360},{\"label\":[\"Face\"],\"notes\":\"\",\"points\":[{\"x\":0.7895833333333333,\"y\":0.21944444444444444},{\"x\":0.9145833333333333,\"y\":0.38055555555555554}],\"imageWidth\":480,\"imageHeight\":360}],\"extras\":null}\\n{\"content\": \"http://com.dataturks.a96-i23.open.s3.amazonaws.com/2c9fafb064277d86016431e33e4e003d/b6dbbe83-fe4c-4499-ba49-75bfc00f9ae9___hqdefault9.jpg.jpeg\",\"annotation\":[{\"label\":[\"Face\"],\"notes\":\"\",\"points\":[{\"x\":0.3625,\"y\":0.1527777777777778},{\"x\":0.8020833333333334,\"y\":0.7916666666666666}],\"imageWidth\":480,\"imageHeight\":360}],\"extras\":null}\\n{\"content\": \"http://com.dataturks.a96-i23.open.s3.amazonaws.com/2c9fafb064277d86016431e33e4e003d/a6fed981-7b63-4c09-9fb9-67f4c6c232b4___hr_Edge_of_Tomorrow_9.jpg.jpeg\",\"annotation\":[{\"label\":[\"Face\"],\"notes\":\"\",\"points\":[{\"x\":0.36226851851851855,\"y\":0.3234375},{\"x\":0.5497685185185185,\"y\":0.459375}],\"imageWidth\":864,\"imageHeight\":1280},{\"label\":[\"Face\"],\"notes\":\"\",\"points\":[{\"x\":0.6273148148148148,\"y\":0.09453125},{\"x\":0.8900462962962963,\"y\":0.259375}],\"imageWidth\":864,\"imageHeight\":1280}],\"extras\":null}\\n{\"content\": \"http://com.dataturks.a96-i23.open.s3.amazonaws.com/2c9fafb064277d86016431e33e4e003d/64efc52d-4ccc-46f8-9148-8e7986535e35___I3atUf1.jpg.jpeg\",\"annotation\":[{\"label\":[\"Face\"],\"notes\":\"\",\"points\":[{\"x\":0.45161290322580644,\"y\":0.12},{\"x\":0.5612903225806452,\"y\":0.366}],\"imageWidth\":775,\"imageHeight\":500}],\"extras\":null}\\n{\"content\": \"http://com.dataturks.a96-i23.open.s3.amazonaws.com/2c9fafb064277d86016431e33e4e003d/d03a72fe-d951-4135-9be3-63bdd1e1941d___ichi-hooked.jpg.jpeg\",\"annotation\":[{\"label\":[\"Face\"],\"notes\":\"\",\"points\":[{\"x\":0.6383333333333333,\"y\":0.43},{\"x\":0.8316666666666667,\"y\":0.8166666666666667}],\"imageWidth\":600,\"imageHeight\":300},{\"label\":[\"Face\"],\"notes\":\"\",\"points\":[{\"x\":0.2783333333333333,\"y\":0.13333333333333333},{\"x\":0.4683333333333333,\"y\":0.6833333333333333}],\"imageWidth\":600,\"imageHeight\":300},{\"label\":[\"Face\"],\"notes\":\"\",\"points\":[{\"x\":0.48833333333333334,\"y\":0.28},{\"x\":0.555,\"y\":0.4166666666666667}],\"imageWidth\":600,\"imageHeight\":300},{\"label\":[\"Face\"],\"notes\":\"\",\"points\":[{\"x\":0.6283333333333333,\"y\":0.04},{\"x\":0.695,\"y\":0.19333333333333333}],\"imageWidth\":600,\"imageHeight\":300},{\"label\":[\"Face\"],\"notes\":\"\",\"points\":[{\"x\":0.9166666666666666,\"y\":0.10333333333333333},{\"x\":0.9933333333333333,\"y\":0.27}],\"imageWidth\":600,\"imageHeight\":300}],\"extras\":null}\\n{\"content\": \"http://com.dataturks.a96-i23.open.s3.amazonaws.com/2c9fafb064277d86016431e33e4e003d/97bc56ca-cfbf-4444-8ac8-dd9bab5b9f35___iconic-movie-color-palette-cinemapalettes-6jpg.jpg.jpeg\",\"annotation\":[{\"label\":[\"Face\"],\"notes\":\"\",\"points\":[{\"x\":0.46,\"y\":0.1646525679758308},{\"x\":0.6558333333333334,\"y\":0.5966767371601208}],\"imageWidth\":1200,\"imageHeight\":662},{\"label\":[\"Face\"],\"notes\":\"\",\"points\":[{\"x\":0.3075,\"y\":0.019637462235649546},{\"x\":0.4558333333333333,\"y\":0.6435045317220544}],\"imageWidth\":1200,\"imageHeight\":662}],\"extras\":null}\\n{\"content\": \"http://com.dataturks.a96-i23.open.s3.amazonaws.com/2c9fafb064277d86016431e33e4e003d/23e7ea32-0f64-4331-a855-0a11ced0a5ad___image.jpg.jpeg\",\"annotation\":[{\"label\":[\"Face\"],\"notes\":\"\",\"points\":[{\"x\":0.05555555555555555,\"y\":0.05084745762711865},{\"x\":0.5365079365079365,\"y\":0.711864406779661}],\"imageWidth\":630,\"imageHeight\":472},{\"label\":[\"Face\"],\"notes\":\"\",\"points\":[{\"x\":0.4603174603174603,\"y\":0.00423728813559322},{\"x\":0.7777777777777778,\"y\":0.652542372881356}],\"imageWidth\":630,\"imageHeight\":472}],\"extras\":null}\\n{\"content\": \"http://com.dataturks.a96-i23.open.s3.amazonaws.com/2c9fafb064277d86016431e33e4e003d/96641187-e2a0-471a-a9ff-827326dbdbad___image.jpg.png\",\"annotation\":[{\"label\":[\"Face\"],\"notes\":\"\",\"points\":[{\"x\":0.36237623762376237,\"y\":0.17150395778364116},{\"x\":0.699009900990099,\"y\":0.7071240105540897}],\"imageWidth\":505,\"imageHeight\":379}],\"extras\":null}\\n{\"content\": \"http://com.dataturks.a96-i23.open.s3.amazonaws.com/2c9fafb064277d86016431e33e4e003d/e7c22307-3a9e-4122-abbf-f45fbb9d4d75___image0.jpg.jpeg\",\"annotation\":[{\"label\":[\"Face\"],\"notes\":\"\",\"points\":[{\"x\":0.2847222222222222,\"y\":0.2974537037037037},{\"x\":0.6527777777777778,\"y\":0.5567129629629629}],\"imageWidth\":720,\"imageHeight\":864},{\"label\":[\"Face\"],\"notes\":\"\",\"points\":[{\"x\":0.06388888888888888,\"y\":0.5069444444444444},{\"x\":0.42777777777777776,\"y\":0.7766203703703703}],\"imageWidth\":720,\"imageHeight\":864}],\"extras\":null}\\n{\"content\": \"http://com.dataturks.a96-i23.open.s3.amazonaws.com/2c9fafb064277d86016431e33e4e003d/227bd8a0-f737-45d3-962f-2bf9d44f9a9e___image1.jpg.jpeg\",\"annotation\":[{\"label\":[\"Face\"],\"notes\":\"\",\"points\":[{\"x\":0.3271939328277356,\"y\":0.13706563706563707},{\"x\":0.4084507042253521,\"y\":0.43822393822393824}],\"imageWidth\":1320,\"imageHeight\":740}],\"extras\":null}\\n{\"content\": \"http://com.dataturks.a96-i23.open.s3.amazonaws.com/2c9fafb064277d86016431e33e4e003d/70449829-a2bf-44b9-ae1c-949e5c313dd6___img-best-hollywood-action-movies-2017-action-movies-full-movie-english-505.jpg.jpeg\",\"annotation\":[{\"label\":[\"Face\"],\"notes\":\"\",\"points\":[{\"x\":0.13333333333333333,\"y\":0.07835820895522388},{\"x\":0.525,\"y\":0.3805970149253731}],\"imageWidth\":600,\"imageHeight\":804}],\"extras\":null}\\n{\"content\": \"http://com.dataturks.a96-i23.open.s3.amazonaws.com/2c9fafb064277d86016431e33e4e003d/26718291-ddf0-473c-aa90-11ab43fdfafd___immigrant-fam-cristobal-ht-hb-180621_hpMain_31x13_992.jpg.jpeg\",\"annotation\":[{\"label\":[\"Face\"],\"notes\":\"\",\"points\":[{\"x\":0.6240520043336945,\"y\":0.19948186528497408},{\"x\":0.7356446370530878,\"y\":0.45595854922279794}],\"imageWidth\":992,\"imageHeight\":415},{\"label\":[\"Face\"],\"notes\":\"\",\"points\":[{\"x\":0.5222101841820151,\"y\":0.6580310880829016},{\"x\":0.6305525460455038,\"y\":0.9015544041450777}],\"imageWidth\":992,\"imageHeight\":415},{\"label\":[\"Face\"],\"notes\":\"\",\"points\":[{\"x\":0.26977248104008666,\"y\":0.616580310880829},{\"x\":0.3856988082340195,\"y\":0.8652849740932642}],\"imageWidth\":992,\"imageHeight\":415},{\"label\":[\"Face\"],\"notes\":\"\",\"points\":[{\"x\":0.38894907908992415,\"y\":0.5233160621761658},{\"x\":0.4962080173347779,\"y\":0.7772020725388601}],\"imageWidth\":992,\"imageHeight\":415}],\"extras\":null}\\n{\"content\": \"http://com.dataturks.a96-i23.open.s3.amazonaws.com/2c9fafb064277d86016431e33e4e003d/499182f1-2b8e-4285-8a56-b41cc7d934ca___immigrant-family-texas.jpg.jpeg\",\"annotation\":[{\"label\":[\"Face\"],\"notes\":\"\",\"points\":[{\"x\":0.11954022988505747,\"y\":0.18725868725868725},{\"x\":0.3218390804597701,\"y\":0.3687258687258687}],\"imageWidth\":435,\"imageHeight\":518},{\"label\":[\"Face\"],\"notes\":\"\",\"points\":[{\"x\":0.48735632183908045,\"y\":0.3185328185328185},{\"x\":0.6459770114942529,\"y\":0.4498069498069498}],\"imageWidth\":435,\"imageHeight\":518}],\"extras\":null}\\n{\"content\": \"http://com.dataturks.a96-i23.open.s3.amazonaws.com/2c9fafb064277d86016431e33e4e003d/fa196b64-fd83-4592-8188-b9b475dc9c17___immigration_wide-1bd803474df880b6e7fe5770eebf1d6e55c8edf4-s900-c85.jpg.jpeg\",\"annotation\":[{\"label\":[\"Face\"],\"notes\":\"\",\"points\":[{\"x\":0.03888888888888889,\"y\":0.021739130434782608},{\"x\":0.21777777777777776,\"y\":0.35177865612648224}],\"imageWidth\":900,\"imageHeight\":506},{\"label\":[\"Face\"],\"notes\":\"\",\"points\":[{\"x\":0.44555555555555554,\"y\":0.18181818181818182},{\"x\":0.5733333333333334,\"y\":0.48221343873517786}],\"imageWidth\":900,\"imageHeight\":506},{\"label\":[\"Face\"],\"notes\":\"\",\"points\":[{\"x\":0.7911111111111111,\"y\":0.1067193675889328},{\"x\":0.9777777777777777,\"y\":0.5335968379446641}],\"imageWidth\":900,\"imageHeight\":506},{\"label\":[\"Face\"],\"notes\":\"\",\"points\":[{\"x\":0.6933333333333334,\"y\":0.17391304347826086},{\"x\":0.7588888888888888,\"y\":0.3893280632411067}],\"imageWidth\":900,\"imageHeight\":506},{\"label\":[\"Face\"],\"notes\":\"\",\"points\":[{\"x\":0.6077777777777778,\"y\":0.19367588932806323},{\"x\":0.6522222222222223,\"y\":0.3181818181818182}],\"imageWidth\":900,\"imageHeight\":506},{\"label\":[\"Face\"],\"notes\":\"\",\"points\":[{\"x\":0.008888888888888889,\"y\":0.023715415019762844},{\"x\":0.03777777777777778,\"y\":0.18774703557312253}],\"imageWidth\":900,\"imageHeight\":506}],\"extras\":null}\\n{\"content\": \"http://com.dataturks.a96-i23.open.s3.amazonaws.com/2c9fafb064277d86016431e33e4e003d/d54364a0-dab7-422c-b950-e331bd5166ac___information-sheets-for-families.jpg.jpeg\",\"annotation\":[{\"label\":[\"Face\"],\"notes\":\"\",\"points\":[{\"x\":0.4711111111111111,\"y\":0.14},{\"x\":0.6966666666666667,\"y\":0.572}],\"imageWidth\":900,\"imageHeight\":500},{\"label\":[\"Face\"],\"notes\":\"\",\"points\":[{\"x\":0.7133333333333334,\"y\":0.186},{\"x\":0.9177777777777778,\"y\":0.556}],\"imageWidth\":900,\"imageHeight\":500}],\"extras\":null}\\n{\"content\": \"http://com.dataturks.a96-i23.open.s3.amazonaws.com/2c9fafb064277d86016431e33e4e003d/0e00a900-988a-4847-a758-1a3f69cbfab9___Ingloriosu-Bastards.jpg.jpeg\",\"annotation\":[{\"label\":[\"Face\"],\"notes\":\"\",\"points\":[{\"x\":0.19008264462809918,\"y\":0.04338842975206612},{\"x\":0.3615702479338843,\"y\":0.5020661157024794}],\"imageWidth\":1578,\"imageHeight\":789},{\"label\":[\"Face\"],\"notes\":\"\",\"points\":[{\"x\":0.7169421487603306,\"y\":0.07231404958677685},{\"x\":0.8605371900826446,\"y\":0.4297520661157025}],\"imageWidth\":1578,\"imageHeight\":789}],\"extras\":null}\\n{\"content\": \"http://com.dataturks.a96-i23.open.s3.amazonaws.com/2c9fafb064277d86016431e33e4e003d/a4042210-1c52-4b04-be97-a5144eff617b___Inglourious-Basterds.jpg.jpeg\",\"annotation\":[{\"label\":[\"Face\"],\"notes\":\"\",\"points\":[{\"x\":0.34607438016528924,\"y\":0.1488970588235294},{\"x\":0.44214876033057854,\"y\":0.3694852941176471}],\"imageWidth\":1280,\"imageHeight\":720},{\"label\":[\"Face\"],\"notes\":\"\",\"points\":[{\"x\":0.5774793388429752,\"y\":0.012867647058823529},{\"x\":0.7231404958677686,\"y\":0.24080882352941177}],\"imageWidth\":1280,\"imageHeight\":720}],\"extras\":null}\\n{\"content\": \"http://com.dataturks.a96-i23.open.s3.amazonaws.com/2c9fafb064277d86016431e33e4e003d/9373785f-374c-436a-bd36-2cafea8422f4___iStock_000012953502Small.jpg.jpeg\",\"annotation\":[{\"label\":[\"Face\"],\"notes\":\"\",\"points\":[{\"x\":0.11307420494699646,\"y\":0.15221238938053097},{\"x\":0.24499411071849234,\"y\":0.35575221238938054}],\"imageWidth\":849,\"imageHeight\":565},{\"label\":[\"Face\"],\"notes\":\"\",\"points\":[{\"x\":0.2767962308598351,\"y\":0.1079646017699115},{\"x\":0.3910482921083628,\"y\":0.31504424778761064}],\"imageWidth\":849,\"imageHeight\":565},{\"label\":[\"Face\"],\"notes\":\"\",\"points\":[{\"x\":0.4134275618374558,\"y\":0.12389380530973451},{\"x\":0.48998822143698467,\"y\":0.2884955752212389}],\"imageWidth\":849,\"imageHeight\":565},{\"label\":[\"Face\"],\"notes\":\"\",\"points\":[{\"x\":0.5041224970553593,\"y\":0.25663716814159293},{\"x\":0.607773851590106,\"y\":0.4176991150442478}],\"imageWidth\":849,\"imageHeight\":565},{\"label\":[\"Face\"],\"notes\":\"\",\"points\":[{\"x\":0.6101295641931684,\"y\":0.20530973451327433},{\"x\":0.6984687868080094,\"y\":0.41061946902654867}],\"imageWidth\":849,\"imageHeight\":565},{\"label\":[\"Face\"],\"notes\":\"\",\"points\":[{\"x\":0.7573616018845701,\"y\":0.1911504424778761},{\"x\":0.850412249705536,\"y\":0.3823008849557522}],\"imageWidth\":849,\"imageHeight\":565}],\"extras\":null}\\n{\"content\": \"http://com.dataturks.a96-i23.open.s3.amazonaws.com/2c9fafb064277d86016431e33e4e003d/7f5b00fa-365d-4943-9a83-bb51d49ffb81___jaws-drunk-scene-2.jpg.jpeg\",\"annotation\":[{\"label\":[\"Face\"],\"notes\":\"\",\"points\":[{\"x\":0.4064516129032258,\"y\":0.25866666666666666},{\"x\":0.6580645161290323,\"y\":0.8}],\"imageWidth\":620,\"imageHeight\":375}],\"extras\":null}\\n{\"content\": \"http://com.dataturks.a96-i23.open.s3.amazonaws.com/2c9fafb064277d86016431e33e4e003d/7e61304b-1445-4884-8856-9f9e587de216___JERRY-MAGUIRE-004.jpg.jpeg\",\"annotation\":[{\"label\":[\"Face\"],\"notes\":\"\",\"points\":[{\"x\":0.1934782608695652,\"y\":0.03985507246376811},{\"x\":0.6956521739130435,\"y\":0.9384057971014492}],\"imageWidth\":460,\"imageHeight\":276}],\"extras\":null}\\n{\"content\": \"http://com.dataturks.a96-i23.open.s3.amazonaws.com/2c9fafb064277d86016431e33e4e003d/61fa9cdd-d6b9-42e2-a32c-9519188555ac___johnny-english-pen-scene.jpg.jpeg\",\"annotation\":[{\"label\":[\"Face\"],\"notes\":\"\",\"points\":[{\"x\":0.4290322580645161,\"y\":0.11},{\"x\":0.6112903225806452,\"y\":0.48}],\"imageWidth\":620,\"imageHeight\":400}],\"extras\":null}\\n{\"content\": \"http://com.dataturks.a96-i23.open.s3.amazonaws.com/2c9fafb064277d86016431e33e4e003d/ef358b9f-6c05-451e-b327-8f1c91ec86c9___jumanji-et00041704-04-10-2016-03-57-35.jpg.jpeg\",\"annotation\":[{\"label\":[\"Face\"],\"notes\":\"\",\"points\":[{\"x\":0.2734375,\"y\":0.21641791044776118},{\"x\":0.3671875,\"y\":0.47388059701492535}],\"imageWidth\":640,\"imageHeight\":268},{\"label\":[\"Face\"],\"notes\":\"\",\"points\":[{\"x\":0.46875,\"y\":0.11194029850746269},{\"x\":0.546875,\"y\":0.35447761194029853}],\"imageWidth\":640,\"imageHeight\":268},{\"label\":[\"Face\"],\"notes\":\"\",\"points\":[{\"x\":0.596875,\"y\":0.23880597014925373},{\"x\":0.7203125,\"y\":0.4962686567164179}],\"imageWidth\":640,\"imageHeight\":268},{\"label\":[\"Face\"],\"notes\":\"\",\"points\":[{\"x\":0.7578125,\"y\":0.23134328358208955},{\"x\":0.8625,\"y\":0.48507462686567165}],\"imageWidth\":640,\"imageHeight\":268}],\"extras\":null}\\n{\"content\": \"http://com.dataturks.a96-i23.open.s3.amazonaws.com/2c9fafb064277d86016431e33e4e003d/a943c30e-4f46-46eb-94b2-0eaf03d1c4bc___jurassicworldfallenkingdomReview.jpg.jpeg\",\"annotation\":[{\"label\":[\"Face\"],\"notes\":\"\",\"points\":[{\"x\":0.12,\"y\":0.05392156862745098},{\"x\":0.35333333333333333,\"y\":0.5343137254901961}],\"imageWidth\":300,\"imageHeight\":204},{\"label\":[\"Face\"],\"notes\":\"\",\"points\":[{\"x\":0.5166666666666667,\"y\":0.20588235294117646},{\"x\":0.74,\"y\":0.6764705882352942}],\"imageWidth\":300,\"imageHeight\":204}],\"extras\":null}\\n{\"content\": \"http://com.dataturks.a96-i23.open.s3.amazonaws.com/2c9fafb064277d86016431e33e4e003d/d3a69b29-423c-49af-b51a-03877c7d793f___katiemartynova-istock-thinkstock_0.png\",\"annotation\":[{\"label\":[\"Face\"],\"notes\":\"\",\"points\":[{\"x\":0.4727272727272727,\"y\":0.1975},{\"x\":0.5532467532467532,\"y\":0.3725}],\"imageWidth\":770,\"imageHeight\":400},{\"label\":[\"Face\"],\"notes\":\"\",\"points\":[{\"x\":0.6090909090909091,\"y\":0.2375},{\"x\":0.6688311688311688,\"y\":0.53}],\"imageWidth\":770,\"imageHeight\":400},{\"label\":[\"Face\"],\"notes\":\"\",\"points\":[{\"x\":0.23506493506493506,\"y\":0.18},{\"x\":0.32987012987012987,\"y\":0.475}],\"imageWidth\":770,\"imageHeight\":400}],\"extras\":null}\\n{\"content\": \"http://com.dataturks.a96-i23.open.s3.amazonaws.com/2c9fafb064277d86016431e33e4e003d/f1588cfe-2f18-47d7-b936-de0dc37d5284___Kickboxer252520Vengeance252520movie252520201625255B225255D.jpg.jpeg\",\"annotation\":[{\"label\":[\"Face\"],\"notes\":\"\",\"points\":[{\"x\":0.240234375,\"y\":0.013888888888888888},{\"x\":0.4765625,\"y\":0.4548611111111111}],\"imageWidth\":512,\"imageHeight\":288}],\"extras\":null}\\n{\"content\": \"http://com.dataturks.a96-i23.open.s3.amazonaws.com/2c9fafb064277d86016431e33e4e003d/3ea64d75-ff32-4054-bded-c47145064104___landscape-1472656016-matthew-a-time-to-kill.jpg.jpeg\",\"annotation\":[{\"label\":[\"Face\"],\"notes\":\"\",\"points\":[{\"x\":0.562296858071506,\"y\":0.16233766233766234},{\"x\":0.66738894907909,\"y\":0.37662337662337664}],\"imageWidth\":980,\"imageHeight\":490}],\"extras\":null}\\n{\"content\": \"http://com.dataturks.a96-i23.open.s3.amazonaws.com/2c9fafb064277d86016431e33e4e003d/5a7a18bf-3360-496e-b6d2-b4fe05a6c41d___landscape-1489138548-gettyimages-72525869.jpg.jpeg\",\"annotation\":[{\"label\":[\"Face\"],\"notes\":\"\",\"points\":[{\"x\":0.04132231404958678,\"y\":0.48760330578512395},{\"x\":0.1384297520661157,\"y\":0.6900826446280992}],\"imageWidth\":2560,\"imageHeight\":1280},{\"label\":[\"Face\"],\"notes\":\"\",\"points\":[{\"x\":0.19834710743801653,\"y\":0.2231404958677686},{\"x\":0.29545454545454547,\"y\":0.4318181818181818}],\"imageWidth\":2560,\"imageHeight\":1280},{\"label\":[\"Face\"],\"notes\":\"\",\"points\":[{\"x\":0.39669421487603307,\"y\":0.0640495867768595},{\"x\":0.490702479338843,\"y\":0.30165289256198347}],\"imageWidth\":2560,\"imageHeight\":1280},{\"label\":[\"Face\"],\"notes\":\"\",\"points\":[{\"x\":0.490702479338843,\"y\":0.15082644628099173},{\"x\":0.5599173553719008,\"y\":0.3181818181818182}],\"imageWidth\":2560,\"imageHeight\":1280},{\"label\":[\"Face\"],\"notes\":\"\",\"points\":[{\"x\":0.6260330578512396,\"y\":0.008264462809917356},{\"x\":0.7355371900826446,\"y\":0.29132231404958675}],\"imageWidth\":2560,\"imageHeight\":1280},{\"label\":[\"Face\"],\"notes\":\"\",\"points\":[{\"x\":0.737603305785124,\"y\":0.049586776859504134},{\"x\":0.8409090909090909,\"y\":0.3202479338842975}],\"imageWidth\":2560,\"imageHeight\":1280}],\"extras\":null}\\n{\"content\": \"http://com.dataturks.a96-i23.open.s3.amazonaws.com/2c9fafb064277d86016431e33e4e003d/2107df6e-6ece-4a2a-8e8f-c7b44c910f81___lead_720_405.jpg.jpeg\",\"annotation\":[{\"label\":[\"Face\"],\"notes\":\"\",\"points\":[{\"x\":0.09722222222222222,\"y\":0.20493827160493827},{\"x\":0.19166666666666668,\"y\":0.3950617283950617}],\"imageWidth\":720,\"imageHeight\":405},{\"label\":[\"Face\"],\"notes\":\"\",\"points\":[{\"x\":0.4305555555555556,\"y\":0.17530864197530865},{\"x\":0.4888888888888889,\"y\":0.29876543209876544}],\"imageWidth\":720,\"imageHeight\":405}],\"extras\":null}\\n{\"content\": \"http://com.dataturks.a96-i23.open.s3.amazonaws.com/2c9fafb064277d86016431e33e4e003d/7f0743fb-02d2-444f-ae65-5d59ba26ffd4___learn-english-movies-modern-american-classics.jpg.jpeg\",\"annotation\":[{\"label\":[\"Face\"],\"notes\":\"\",\"points\":[{\"x\":0.5410094637223974,\"y\":0.311046511627907},{\"x\":0.6025236593059937,\"y\":0.4680232558139535}],\"imageWidth\":634,\"imageHeight\":344}],\"extras\":null}\\n{\"content\": \"http://com.dataturks.a96-i23.open.s3.amazonaws.com/2c9fafb064277d86016431e33e4e003d/b6ad4179-3c33-4442-aa86-e14a55309c6a___Legend-Tarzan.JPG.jpeg\",\"annotation\":[{\"label\":[\"Face\"],\"notes\":\"\",\"points\":[{\"x\":0.504875406283857,\"y\":0.12987012987012986},{\"x\":0.5937161430119177,\"y\":0.2922077922077922}],\"imageWidth\":1024,\"imageHeight\":683},{\"label\":[\"Face\"],\"notes\":\"\",\"points\":[{\"x\":0.19501625135427952,\"y\":0.1590909090909091},{\"x\":0.27085590465872156,\"y\":0.2857142857142857}],\"imageWidth\":1024,\"imageHeight\":683}],\"extras\":null}\\n{\"content\": \"http://com.dataturks.a96-i23.open.s3.amazonaws.com/2c9fafb064277d86016431e33e4e003d/46aa15b1-ea35-4108-aa6d-8d8feefed39a___LGBTfamily_3.png\",\"annotation\":[{\"label\":[\"Face\"],\"notes\":\"\",\"points\":[{\"x\":0.08951406649616368,\"y\":0.042704626334519574},{\"x\":0.3631713554987212,\"y\":0.6583629893238434}],\"imageWidth\":391,\"imageHeight\":281},{\"label\":[\"Face\"],\"notes\":\"\",\"points\":[{\"x\":0.4219948849104859,\"y\":0.15658362989323843},{\"x\":0.6419437340153452,\"y\":0.5516014234875445}],\"imageWidth\":391,\"imageHeight\":281},{\"label\":[\"Face\"],\"notes\":\"\",\"points\":[{\"x\":0.680306905370844,\"y\":0.15302491103202848},{\"x\":0.9974424552429667,\"y\":0.6761565836298933}],\"imageWidth\":391,\"imageHeight\":281}],\"extras\":null}\\n{\"content\": \"http://com.dataturks.a96-i23.open.s3.amazonaws.com/2c9fafb064277d86016431e33e4e003d/f914f46d-0fbd-4b42-9aed-7fa81be0b8ab___Lia_and_her_family.jpg.jpeg\",\"annotation\":[{\"label\":[\"Face\"],\"notes\":\"\",\"points\":[{\"x\":0.27666666666666667,\"y\":0.13},{\"x\":0.5433333333333333,\"y\":0.655}],\"imageWidth\":300,\"imageHeight\":200},{\"label\":[\"Face\"],\"notes\":\"\",\"points\":[{\"x\":0.5966666666666667,\"y\":0.12},{\"x\":0.81,\"y\":0.64}],\"imageWidth\":300,\"imageHeight\":200}],\"extras\":null}\\n{\"content\": \"http://com.dataturks.a96-i23.open.s3.amazonaws.com/2c9fafb064277d86016431e33e4e003d/2e0e2722-e21c-42aa-bb5d-95a0357eae1f___Lights-Camera-Scotch-12-of-the-Best-Scenes-with-Whiskey-in-Movies-featured.png\",\"annotation\":[{\"label\":[\"Face\"],\"notes\":\"\",\"points\":[{\"x\":0.7907692307692308,\"y\":0.07428571428571429},{\"x\":0.9892307692307692,\"y\":0.5771428571428572}],\"imageWidth\":650,\"imageHeight\":350},{\"label\":[\"Face\"],\"notes\":\"\",\"points\":[{\"x\":0.3707692307692308,\"y\":0.07428571428571429},{\"x\":0.5923076923076923,\"y\":0.5028571428571429}],\"imageWidth\":650,\"imageHeight\":350},{\"label\":[\"Face\"],\"notes\":\"\",\"points\":[{\"x\":0.15384615384615385,\"y\":0.15142857142857144},{\"x\":0.2907692307692308,\"y\":0.36857142857142855}],\"imageWidth\":650,\"imageHeight\":350},{\"label\":[\"Face\"],\"notes\":\"\",\"points\":[{\"x\":0.013846153846153847,\"y\":0.09142857142857143},{\"x\":0.1123076923076923,\"y\":0.3314285714285714}],\"imageWidth\":650,\"imageHeight\":350}],\"extras\":null}\\n{\"content\": \"http://com.dataturks.a96-i23.open.s3.amazonaws.com/2c9fafb064277d86016431e33e4e003d/22078a94-da09-4597-8163-7d2c87152d67___LIST-OF-ENLISH-MOVIES-THAT-SHOW-DIFFERENT-KINDS-OF-MENTOR.jpg.jpeg\",\"annotation\":[{\"label\":[\"Face\"],\"notes\":\"\",\"points\":[{\"x\":0.023634881825590873,\"y\":0.2463295269168026},{\"x\":0.09861450692746536,\"y\":0.3833605220228385}],\"imageWidth\":1500,\"imageHeight\":750},{\"label\":[\"Face\"],\"notes\":\"\",\"points\":[{\"x\":0.17766911165444174,\"y\":0.08809135399673736},{\"x\":0.22901385493072535,\"y\":0.23817292006525284}],\"imageWidth\":1500,\"imageHeight\":750},{\"label\":[\"Face\"],\"notes\":\"\",\"points\":[{\"x\":0.3993480032599837,\"y\":0.10114192495921696},{\"x\":0.5281173594132029,\"y\":0.43230016313213704}],\"imageWidth\":1500,\"imageHeight\":750},{\"label\":[\"Face\"],\"notes\":\"\",\"points\":[{\"x\":0.758761206193969,\"y\":0.0799347471451876},{\"x\":0.8158109209453953,\"y\":0.25122349102773245}],\"imageWidth\":1500,\"imageHeight\":750},{\"label\":[\"Face\"],\"notes\":\"\",\"points\":[{\"x\":0.8606356968215159,\"y\":0.3800978792822186},{\"x\":0.902200488997555,\"y\":0.47145187601957583}],\"imageWidth\":1500,\"imageHeight\":750},{\"label\":[\"Face\"],\"notes\":\"\",\"points\":[{\"x\":0.9698451507742462,\"y\":0.2300163132137031},{\"x\":0.9967400162999185,\"y\":0.3621533442088091}],\"imageWidth\":1500,\"imageHeight\":750}],\"extras\":null}\\n{\"content\": \"http://com.dataturks.a96-i23.open.s3.amazonaws.com/2c9fafb064277d86016431e33e4e003d/6979e595-7837-4049-ad99-b768d1f5612c___MainBanner.jpg.jpeg\",\"annotation\":[{\"label\":[\"Face\"],\"notes\":\"\",\"points\":[{\"x\":0.10181818181818182,\"y\":0.54},{\"x\":0.17575757575757575,\"y\":0.7566666666666667}],\"imageWidth\":825,\"imageHeight\":300},{\"label\":[\"Face\"],\"notes\":\"\",\"points\":[{\"x\":0.22303030303030302,\"y\":0.13666666666666666},{\"x\":0.29454545454545455,\"y\":0.38666666666666666}],\"imageWidth\":825,\"imageHeight\":300},{\"label\":[\"Face\"],\"notes\":\"\",\"points\":[{\"x\":0.2872727272727273,\"y\":0.5033333333333333},{\"x\":0.36,\"y\":0.7266666666666667}],\"imageWidth\":825,\"imageHeight\":300},{\"label\":[\"Face\"],\"notes\":\"\",\"points\":[{\"x\":0.47515151515151516,\"y\":0.43},{\"x\":0.5527272727272727,\"y\":0.6533333333333333}],\"imageWidth\":825,\"imageHeight\":300},{\"label\":[\"Face\"],\"notes\":\"\",\"points\":[{\"x\":0.6072727272727273,\"y\":0.46},{\"x\":0.6715151515151515,\"y\":0.6833333333333333}],\"imageWidth\":825,\"imageHeight\":300},{\"label\":[\"Face\"],\"notes\":\"\",\"points\":[{\"x\":0.6896969696969697,\"y\":0.42333333333333334},{\"x\":0.7709090909090909,\"y\":0.6466666666666666}],\"imageWidth\":825,\"imageHeight\":300},{\"label\":[\"Face\"],\"notes\":\"\",\"points\":[{\"x\":0.6266666666666667,\"y\":0.15333333333333332},{\"x\":0.7006060606060606,\"y\":0.35}],\"imageWidth\":825,\"imageHeight\":300}],\"extras\":null}\\n{\"content\": \"http://com.dataturks.a96-i23.open.s3.amazonaws.com/2c9fafb064277d86016431e33e4e003d/855cd741-8d08-4655-8da0-0863b604b7d2___Marvel-Movies-Postcredits-Scenes.jpg.jpeg\",\"annotation\":[{\"label\":[\"Face\"],\"notes\":\"\",\"points\":[{\"x\":0.40082644628099173,\"y\":0.13488372093023257},{\"x\":0.5113636363636364,\"y\":0.32558139534883723}],\"imageWidth\":1024,\"imageHeight\":683}],\"extras\":null}\\n{\"content\": \"http://com.dataturks.a96-i23.open.s3.amazonaws.com/2c9fafb064277d86016431e33e4e003d/39e6eb3f-9409-4d7d-ae1d-5a56f611c166___Master.jpg.jpeg\",\"annotation\":[{\"label\":[\"Face\"],\"notes\":\"\",\"points\":[{\"x\":0.4275,\"y\":0.7766666666666666},{\"x\":0.54375,\"y\":0.9366666666666666}],\"imageWidth\":800,\"imageHeight\":600},{\"label\":[\"Face\"],\"notes\":\"\",\"points\":[{\"x\":0.7125,\"y\":0.5616666666666666},{\"x\":0.845,\"y\":0.7083333333333334}],\"imageWidth\":800,\"imageHeight\":600},{\"label\":[\"Face\"],\"notes\":\"\",\"points\":[{\"x\":0.14875,\"y\":0.33666666666666667},{\"x\":0.245,\"y\":0.4666666666666667}],\"imageWidth\":800,\"imageHeight\":600},{\"label\":[\"Face\"],\"notes\":\"\",\"points\":[{\"x\":0.785,\"y\":0.3433333333333333},{\"x\":0.8625,\"y\":0.4683333333333333}],\"imageWidth\":800,\"imageHeight\":600}],\"extras\":null}\\n{\"content\": \"http://com.dataturks.a96-i23.open.s3.amazonaws.com/2c9fafb064277d86016431e33e4e003d/371257ab-c1d1-4474-89bc-1d7a307e322a___maxresdefault.jpg.jpeg\",\"annotation\":[{\"label\":[\"Face\"],\"notes\":\"\",\"points\":[{\"x\":0.3594132029339853,\"y\":0.2608695652173913},{\"x\":0.5737571312143439,\"y\":0.7144927536231884}],\"imageWidth\":1280,\"imageHeight\":720}],\"extras\":null}\\n{\"content\": \"http://com.dataturks.a96-i23.open.s3.amazonaws.com/2c9fafb064277d86016431e33e4e003d/1a99d09b-8511-4ec7-a1c8-6d97993092a7___maxresdefault0.jpg.jpeg\",\"annotation\":[{\"label\":[\"Face\"],\"notes\":\"\",\"points\":[{\"x\":0.31784841075794623,\"y\":0.020289855072463767},{\"x\":0.6813365933170334,\"y\":0.7797101449275362}],\"imageWidth\":1280,\"imageHeight\":720}],\"extras\":null}\\n{\"content\": \"http://com.dataturks.a96-i23.open.s3.amazonaws.com/2c9fafb064277d86016431e33e4e003d/6a81990c-af80-4f64-b101-fd5ea7c0ebb1___maxresdefault1.jpg.jpeg\",\"annotation\":[{\"label\":[\"Face\"],\"notes\":\"\",\"points\":[{\"x\":0.21189894050529748,\"y\":0.16376811594202897},{\"x\":0.5770171149144254,\"y\":0.8260869565217391}],\"imageWidth\":1280,\"imageHeight\":720}],\"extras\":null}\\n{\"content\": \"http://com.dataturks.a96-i23.open.s3.amazonaws.com/2c9fafb064277d86016431e33e4e003d/7e2bd072-2dd5-4549-adb7-f096ac2421b7___maxresdefault2.jpg.jpeg\",\"annotation\":[{\"label\":[\"Face\"],\"notes\":\"\",\"points\":[{\"x\":0.228602383531961,\"y\":0.14258188824662812},{\"x\":0.361863488624052,\"y\":0.40847784200385356}],\"imageWidth\":1280,\"imageHeight\":720}],\"extras\":null}\\n{\"content\": \"http://com.dataturks.a96-i23.open.s3.amazonaws.com/2c9fafb064277d86016431e33e4e003d/fd54439f-76f5-432e-8088-292d73ab2d2a___maxresdefault3.jpg.jpeg\",\"annotation\":[{\"label\":[\"Face\"],\"notes\":\"\",\"points\":[{\"x\":0.3037190082644628,\"y\":0.1488970588235294},{\"x\":0.484504132231405,\"y\":0.5882352941176471}],\"imageWidth\":1280,\"imageHeight\":720}],\"extras\":null}\\n{\"content\": \"http://com.dataturks.a96-i23.open.s3.amazonaws.com/2c9fafb064277d86016431e33e4e003d/38a1ec93-3ef5-42a3-b95a-8d5c276e42a4___maxresdefault4.jpg.jpeg\",\"annotation\":[{\"label\":[\"Face\"],\"notes\":\"\",\"points\":[{\"x\":0.2665289256198347,\"y\":0.08639705882352941},{\"x\":0.44214876033057854,\"y\":0.40625}],\"imageWidth\":1280,\"imageHeight\":720},{\"label\":[\"Face\"],\"notes\":\"\",\"points\":[{\"x\":0.5092975206611571,\"y\":0.17830882352941177},{\"x\":0.6146694214876033,\"y\":0.4319852941176471}],\"imageWidth\":1280,\"imageHeight\":720},{\"label\":[\"Face\"],\"notes\":\"\",\"points\":[{\"x\":0.6394628099173554,\"y\":0.23529411764705882},{\"x\":0.8223140495867769,\"y\":0.5551470588235294}],\"imageWidth\":1280,\"imageHeight\":720}],\"extras\":null}\\n{\"content\": \"http://com.dataturks.a96-i23.open.s3.amazonaws.com/2c9fafb064277d86016431e33e4e003d/f6c949ff-a2a3-4c1c-942d-4faa7a3909a7___maxresdefault5.jpg.jpeg\",\"annotation\":[{\"label\":[\"Face\"],\"notes\":\"\",\"points\":[{\"x\":0.20374898125509372,\"y\":0.30859375},{\"x\":0.29584352078239606,\"y\":0.47265625}],\"imageWidth\":1280,\"imageHeight\":534},{\"label\":[\"Face\"],\"notes\":\"\",\"points\":[{\"x\":0.3056234718826406,\"y\":0.34375},{\"x\":0.41972290138549306,\"y\":0.603515625}],\"imageWidth\":1280,\"imageHeight\":534},{\"label\":[\"Face\"],\"notes\":\"\",\"points\":[{\"x\":0.5248573757131214,\"y\":0.19140625},{\"x\":0.6365118174409128,\"y\":0.47265625}],\"imageWidth\":1280,\"imageHeight\":534}],\"extras\":null}\\n{\"content\": \"http://com.dataturks.a96-i23.open.s3.amazonaws.com/2c9fafb064277d86016431e33e4e003d/29f47fdd-79cb-4f97-b47b-5b1403c6454b___maxresdefault8.jpg.jpeg\",\"annotation\":[{\"label\":[\"Face\"],\"notes\":\"\",\"points\":[{\"x\":0.16632231404958678,\"y\":0.23345588235294118},{\"x\":0.31508264462809915,\"y\":0.48713235294117646}],\"imageWidth\":1024,\"imageHeight\":576},{\"label\":[\"Face\"],\"notes\":\"\",\"points\":[{\"x\":0.5041322314049587,\"y\":0.29411764705882354},{\"x\":0.6745867768595041,\"y\":0.5716911764705882}],\"imageWidth\":1024,\"imageHeight\":576},{\"label\":[\"Face\"],\"notes\":\"\",\"points\":[{\"x\":0.6952479338842975,\"y\":0.17095588235294118},{\"x\":0.9710743801652892,\"y\":0.5294117647058824}],\"imageWidth\":1024,\"imageHeight\":576}],\"extras\":null}\\n{\"content\": \"http://com.dataturks.a96-i23.open.s3.amazonaws.com/2c9fafb064277d86016431e33e4e003d/97a3fa9d-ea11-44e5-b0ce-7aed7fa28c52___maxresdefault10.jpg.jpeg\",\"annotation\":[{\"label\":[\"Face\"],\"notes\":\"\",\"points\":[{\"x\":0.5882990249187432,\"y\":0.2774566473988439},{\"x\":0.6706392199349945,\"y\":0.44653179190751446}],\"imageWidth\":1440,\"imageHeight\":1080},{\"label\":[\"Face\"],\"notes\":\"\",\"points\":[{\"x\":0.2676056338028169,\"y\":0.31936416184971095},{\"x\":0.3391115926327194,\"y\":0.5158959537572255}],\"imageWidth\":1440,\"imageHeight\":1080}],\"extras\":null}\\n{\"content\": \"http://com.dataturks.a96-i23.open.s3.amazonaws.com/2c9fafb064277d86016431e33e4e003d/fa47a05c-e4af-454f-9ef5-f70bd0e6070f___maxresdefault11.jpg.jpeg\",\"annotation\":[{\"label\":[\"Face\"],\"notes\":\"\",\"points\":[{\"x\":0.4420368364030336,\"y\":0.45857418111753373},{\"x\":0.562296858071506,\"y\":0.6878612716763006}],\"imageWidth\":1280,\"imageHeight\":720}],\"extras\":null}\\n{\"content\": \"http://com.dataturks.a96-i23.open.s3.amazonaws.com/2c9fafb064277d86016431e33e4e003d/5174cebe-fed1-4da7-ad6a-fdefff3fb6da___maxresdefault12.jpg.jpeg\",\"annotation\":[{\"label\":[\"Face\"],\"notes\":\"\",\"points\":[{\"x\":0.28819068255687974,\"y\":0.44701348747591524},{\"x\":0.47020585048754066,\"y\":0.7109826589595376}],\"imageWidth\":1280,\"imageHeight\":720},{\"label\":[\"Face\"],\"notes\":\"\",\"points\":[{\"x\":0.5427952329360779,\"y\":0.12716763005780346},{\"x\":0.7193932827735645,\"y\":0.5298651252408478}],\"imageWidth\":1280,\"imageHeight\":720}],\"extras\":null}\\n{\"content\": \"http://com.dataturks.a96-i23.open.s3.amazonaws.com/2c9fafb064277d86016431e33e4e003d/01a9e16b-fa1e-49d2-b14e-6779f06daf48___maxresdefault13.jpg.jpeg\",\"annotation\":[{\"label\":[\"Face\"],\"notes\":\"\",\"points\":[{\"x\":0.6642561983471075,\"y\":0.3088235294117647},{\"x\":0.7231404958677686,\"y\":0.40808823529411764}],\"imageWidth\":1280,\"imageHeight\":720},{\"label\":[\"Face\"],\"notes\":\"\",\"points\":[{\"x\":0.46384297520661155,\"y\":0.25919117647058826},{\"x\":0.5134297520661157,\"y\":0.375}],\"imageWidth\":1280,\"imageHeight\":720}],\"extras\":null}\\n{\"content\": \"http://com.dataturks.a96-i23.open.s3.amazonaws.com/2c9fafb064277d86016431e33e4e003d/7c5eef67-e06b-47ad-a36a-227c4474f2a6___maxresdefault14.jpg.jpeg\",\"annotation\":[{\"label\":[\"Face\"],\"notes\":\"\",\"points\":[{\"x\":0.08677685950413223,\"y\":0.09421487603305785},{\"x\":0.21074380165289255,\"y\":0.31239669421487604}],\"imageWidth\":1280,\"imageHeight\":800},{\"label\":[\"Face\"],\"notes\":\"\",\"points\":[{\"x\":0.3068181818181818,\"y\":0.2115702479338843},{\"x\":0.49793388429752067,\"y\":0.5603305785123966}],\"imageWidth\":1280,\"imageHeight\":800},{\"label\":[\"Face\"],\"notes\":\"\",\"points\":[{\"x\":0.5165289256198347,\"y\":0.25950413223140495},{\"x\":0.6642561983471075,\"y\":0.5537190082644629}],\"imageWidth\":1280,\"imageHeight\":800},{\"label\":[\"Face\"],\"notes\":\"\",\"points\":[{\"x\":0.6807851239669421,\"y\":0.11239669421487604},{\"x\":0.7861570247933884,\"y\":0.3603305785123967}],\"imageWidth\":1280,\"imageHeight\":800},{\"label\":[\"Face\"],\"notes\":\"\",\"points\":[{\"x\":0.8605371900826446,\"y\":0.22975206611570248},{\"x\":0.9834710743801653,\"y\":0.46942148760330576}],\"imageWidth\":1280,\"imageHeight\":800}],\"extras\":null}\\n{\"content\": \"http://com.dataturks.a96-i23.open.s3.amazonaws.com/2c9fafb064277d86016431e33e4e003d/d87ff9eb-98df-487c-9a88-800f8f349952___maxresdefault15.jpg.jpeg\",\"annotation\":[{\"label\":[\"Face\"],\"notes\":\"\",\"points\":[{\"x\":0.38678223185265437,\"y\":0.2003853564547206},{\"x\":0.47778981581798485,\"y\":0.42196531791907516}],\"imageWidth\":1280,\"imageHeight\":720},{\"label\":[\"Face\"],\"notes\":\"\",\"points\":[{\"x\":0.4712892741061755,\"y\":0.653179190751445},{\"x\":0.5742145178764897,\"y\":0.8285163776493256}],\"imageWidth\":1280,\"imageHeight\":720}],\"extras\":null}\\n{\"content\": \"http://com.dataturks.a96-i23.open.s3.amazonaws.com/2c9fafb064277d86016431e33e4e003d/5c6e2b6d-92ac-4ec9-b70e-51aeeb454de3___maxresdefault16.jpg.jpeg\",\"annotation\":[{\"label\":[\"Face\"],\"notes\":\"\",\"points\":[{\"x\":0.11053719008264463,\"y\":0.2426470588235294},{\"x\":0.29545454545454547,\"y\":0.6580882352941176}],\"imageWidth\":1280,\"imageHeight\":720},{\"label\":[\"Face\"],\"notes\":\"\",\"points\":[{\"x\":0.2944214876033058,\"y\":0.07352941176470588},{\"x\":0.4855371900826446,\"y\":0.5110294117647058}],\"imageWidth\":1280,\"imageHeight\":720},{\"label\":[\"Face\"],\"notes\":\"\",\"points\":[{\"x\":0.4659090909090909,\"y\":0.29411764705882354},{\"x\":0.6136363636363636,\"y\":0.6580882352941176}],\"imageWidth\":1280,\"imageHeight\":720},{\"label\":[\"Face\"],\"notes\":\"\",\"points\":[{\"x\":0.6043388429752066,\"y\":0.22426470588235295},{\"x\":0.6869834710743802,\"y\":0.48713235294117646}],\"imageWidth\":1280,\"imageHeight\":720},{\"label\":[\"Face\"],\"notes\":\"\",\"points\":[{\"x\":0.7241735537190083,\"y\":0.48161764705882354},{\"x\":0.9018595041322314,\"y\":0.7794117647058824}],\"imageWidth\":1280,\"imageHeight\":720}],\"extras\":null}\\n{\"content\": \"http://com.dataturks.a96-i23.open.s3.amazonaws.com/2c9fafb064277d86016431e33e4e003d/8523efab-3b8a-47a2-8b44-26b200756d37___maxresdefault18.jpg.jpeg\",\"annotation\":[{\"label\":[\"Face\"],\"notes\":\"\",\"points\":[{\"x\":0.17114914425427874,\"y\":0.1072463768115942},{\"x\":0.30399348003259985,\"y\":0.4652173913043478}],\"imageWidth\":1280,\"imageHeight\":720},{\"label\":[\"Face\"],\"notes\":\"\",\"points\":[{\"x\":0.4849225753871231,\"y\":0.2710144927536232},{\"x\":0.6927465362673186,\"y\":0.6318840579710145}],\"imageWidth\":1280,\"imageHeight\":720},{\"label\":[\"Face\"],\"notes\":\"\",\"points\":[{\"x\":0.29421352893235536,\"y\":0.39855072463768115},{\"x\":0.3871230643846781,\"y\":0.6797101449275362}],\"imageWidth\":1280,\"imageHeight\":720}],\"extras\":null}\\n{\"content\": \"http://com.dataturks.a96-i23.open.s3.amazonaws.com/2c9fafb064277d86016431e33e4e003d/48ba1096-054e-4f90-8312-319b69bb7779___maxresdefault19.jpg.jpeg\",\"annotation\":[{\"label\":[\"Face\"],\"notes\":\"\",\"points\":[{\"x\":0.5378973105134475,\"y\":0.059420289855072465},{\"x\":0.6136919315403423,\"y\":0.2811594202898551}],\"imageWidth\":1280,\"imageHeight\":720},{\"label\":[\"Face\"],\"notes\":\"\",\"points\":[{\"x\":0.8353708231458843,\"y\":0.4927536231884058},{\"x\":0.9902200488997555,\"y\":0.7333333333333333}],\"imageWidth\":1280,\"imageHeight\":720},{\"label\":[\"Face\"],\"notes\":\"\",\"points\":[{\"x\":0.1850040749796251,\"y\":0.5028985507246376},{\"x\":0.3145884270578647,\"y\":0.6753623188405797}],\"imageWidth\":1280,\"imageHeight\":720},{\"label\":[\"Face\"],\"notes\":\"\",\"points\":[{\"x\":0.04808475957620212,\"y\":0.49130434782608695},{\"x\":0.16055419722901385,\"y\":0.7405797101449275}],\"imageWidth\":1280,\"imageHeight\":720}],\"extras\":null}\\n{\"content\": \"http://com.dataturks.a96-i23.open.s3.amazonaws.com/2c9fafb064277d86016431e33e4e003d/e3bcc19b-cb09-4df4-a546-3d7894e9829d___maxresdefault20.jpg.jpeg\",\"annotation\":[{\"label\":[\"Face\"],\"notes\":\"\",\"points\":[{\"x\":0.5258264462809917,\"y\":0.22058823529411764},{\"x\":0.7086776859504132,\"y\":0.6893382352941176}],\"imageWidth\":1920,\"imageHeight\":1080},{\"label\":[\"Face\"],\"notes\":\"\",\"points\":[{\"x\":0.2706611570247934,\"y\":0.2536764705882353},{\"x\":0.3543388429752066,\"y\":0.47794117647058826}],\"imageWidth\":1920,\"imageHeight\":1080}],\"extras\":null}\\n{\"content\": \"http://com.dataturks.a96-i23.open.s3.amazonaws.com/2c9fafb064277d86016431e33e4e003d/df51ae92-80f7-488d-a6c3-a2a3e54622f3___maxresdefault21.jpg.jpeg\",\"annotation\":[{\"label\":[\"Face\"],\"notes\":\"\",\"points\":[{\"x\":0.3781148429035753,\"y\":0.26011560693641617},{\"x\":0.47562296858071507,\"y\":0.4161849710982659}],\"imageWidth\":1280,\"imageHeight\":720},{\"label\":[\"Face\"],\"notes\":\"\",\"points\":[{\"x\":0.5525460455037919,\"y\":0.2658959537572254},{\"x\":0.6793066088840737,\"y\":0.4720616570327553}],\"imageWidth\":1280,\"imageHeight\":720},{\"label\":[\"Face\"],\"notes\":\"\",\"points\":[{\"x\":0.16901408450704225,\"y\":0.3988439306358382},{\"x\":0.28494041170097506,\"y\":0.6184971098265896}],\"imageWidth\":1280,\"imageHeight\":720}],\"extras\":null}\\n{\"content\": \"http://com.dataturks.a96-i23.open.s3.amazonaws.com/2c9fafb064277d86016431e33e4e003d/160e7a28-953a-4f7c-9c7b-51dbbbfbea4a___maxresdefault-43-500x510.jpg.jpeg\",\"annotation\":[{\"label\":[\"Face\"],\"notes\":\"\",\"points\":[{\"x\":0.372,\"y\":0.041176470588235294},{\"x\":0.578,\"y\":0.2647058823529412}],\"imageWidth\":500,\"imageHeight\":510}],\"extras\":null}\\n{\"content\": \"http://com.dataturks.a96-i23.open.s3.amazonaws.com/2c9fafb064277d86016431e33e4e003d/82f0fd38-b5da-49ab-b827-ea522f16468e___migrant_family_borderpatrol.jpg.jpeg\",\"annotation\":[{\"label\":[\"Face\"],\"notes\":\"\",\"points\":[{\"x\":0.3734375,\"y\":0.17222222222222222},{\"x\":0.4765625,\"y\":0.37777777777777777}],\"imageWidth\":640,\"imageHeight\":360},{\"label\":[\"Face\"],\"notes\":\"\",\"points\":[{\"x\":0.496875,\"y\":0.19166666666666668},{\"x\":0.5671875,\"y\":0.3333333333333333}],\"imageWidth\":640,\"imageHeight\":360}],\"extras\":null}\\n{\"content\": \"http://com.dataturks.a96-i23.open.s3.amazonaws.com/2c9fafb064277d86016431e33e4e003d/400243ac-4f68-4d1a-8e88-5afd80a14878___military-families-575x385.jpg.jpeg\",\"annotation\":[{\"label\":[\"Face\"],\"notes\":\"\",\"points\":[{\"x\":0.2678260869565217,\"y\":0.16103896103896104},{\"x\":0.41043478260869565,\"y\":0.4077922077922078}],\"imageWidth\":575,\"imageHeight\":385},{\"label\":[\"Face\"],\"notes\":\"\",\"points\":[{\"x\":0.5982608695652174,\"y\":0.3142857142857143},{\"x\":0.7356521739130435,\"y\":0.5298701298701298}],\"imageWidth\":575,\"imageHeight\":385}],\"extras\":null}\\n{\"content\": \"http://com.dataturks.a96-i23.open.s3.amazonaws.com/2c9fafb064277d86016431e33e4e003d/10c51f63-3e94-42d2-a34e-f4e05adba687___militaryFamily.jpg.jpeg\",\"annotation\":[{\"label\":[\"Face\"],\"notes\":\"\",\"points\":[{\"x\":0.22727272727272727,\"y\":0.16853932584269662},{\"x\":0.33264462809917356,\"y\":0.5393258426966292}],\"imageWidth\":2760,\"imageHeight\":1015},{\"label\":[\"Face\"],\"notes\":\"\",\"points\":[{\"x\":0.3285123966942149,\"y\":0.19662921348314608},{\"x\":0.4132231404958678,\"y\":0.5561797752808989}],\"imageWidth\":2760,\"imageHeight\":1015},{\"label\":[\"Face\"],\"notes\":\"\",\"points\":[{\"x\":0.4121900826446281,\"y\":0.05056179775280899},{\"x\":0.5340909090909091,\"y\":0.4943820224719101}],\"imageWidth\":2760,\"imageHeight\":1015}],\"extras\":null}\\n{\"content\": \"http://com.dataturks.a96-i23.open.s3.amazonaws.com/2c9fafb064277d86016431e33e4e003d/0a6aee30-dba5-47e6-8dff-b26ba10d500d___million-dollar-arm.jpg.jpeg\",\"annotation\":[{\"label\":[\"Face\"],\"notes\":\"\",\"points\":[{\"x\":0.4703703703703704,\"y\":0.035},{\"x\":0.7666666666666667,\"y\":0.3125}],\"imageWidth\":270,\"imageHeight\":400}],\"extras\":null}\\n{\"content\": \"http://com.dataturks.a96-i23.open.s3.amazonaws.com/2c9fafb064277d86016431e33e4e003d/b6ea0c49-a084-4548-8ec7-1987f3dbd66c___money.jpg.jpeg\",\"annotation\":[{\"label\":[\"Face\"],\"notes\":\"\",\"points\":[{\"x\":0.17009750812567714,\"y\":0.12845528455284552},{\"x\":0.5037919826652221,\"y\":0.6325203252032521}],\"imageWidth\":2700,\"imageHeight\":1800}],\"extras\":null}\\n{\"content\": \"http://com.dataturks.a96-i23.open.s3.amazonaws.com/2c9fafb064277d86016431e33e4e003d/3aaea7c4-f1e4-4c59-922e-280589918e5c___montcalm_for_families0.jpg.jpeg\",\"annotation\":[{\"label\":[\"Face\"],\"notes\":\"\",\"points\":[{\"x\":0.005,\"y\":0.14375},{\"x\":0.21,\"y\":0.63125}],\"imageWidth\":600,\"imageHeight\":320},{\"label\":[\"Face\"],\"notes\":\"\",\"points\":[{\"x\":0.23166666666666666,\"y\":0.14375},{\"x\":0.39666666666666667,\"y\":0.55625}],\"imageWidth\":600,\"imageHeight\":320},{\"label\":[\"Face\"],\"notes\":\"\",\"points\":[{\"x\":0.45,\"y\":0.090625},{\"x\":0.6666666666666666,\"y\":0.56875}],\"imageWidth\":600,\"imageHeight\":320},{\"label\":[\"Face\"],\"notes\":\"\",\"points\":[{\"x\":0.6316666666666667,\"y\":0.00625},{\"x\":0.8933333333333333,\"y\":0.521875}],\"imageWidth\":600,\"imageHeight\":320}],\"extras\":null}\\n{\"content\": \"http://com.dataturks.a96-i23.open.s3.amazonaws.com/2c9fafb064277d86016431e33e4e003d/da544f4f-ceb2-4c00-bb8e-2db2e1b3536a___Most-Shocking-Movie-Scenes-2015.jpg.jpeg\",\"annotation\":[{\"label\":[\"Face\"],\"notes\":\"\",\"points\":[{\"x\":0.03833333333333333,\"y\":0.056962025316455694},{\"x\":0.3383333333333333,\"y\":0.7943037974683544}],\"imageWidth\":600,\"imageHeight\":316},{\"label\":[\"Face\"],\"notes\":\"\",\"points\":[{\"x\":0.445,\"y\":0.05379746835443038},{\"x\":0.58,\"y\":0.41139240506329117}],\"imageWidth\":600,\"imageHeight\":316},{\"label\":[\"Face\"],\"notes\":\"\",\"points\":[{\"x\":0.7316666666666667,\"y\":0.04746835443037975},{\"x\":0.9883333333333333,\"y\":0.8670886075949367}],\"imageWidth\":600,\"imageHeight\":316}],\"extras\":null}\\n{\"content\": \"http://com.dataturks.a96-i23.open.s3.amazonaws.com/2c9fafb064277d86016431e33e4e003d/b3ad3c61-6f74-42e7-aefe-78440d8ceffb___movie-scene-hd-desktop-wallpaper.jpg.jpeg\",\"annotation\":[{\"label\":[\"Face\"],\"notes\":\"\",\"points\":[{\"x\":0.4517876489707476,\"y\":0.057803468208092484},{\"x\":0.5449620801733478,\"y\":0.2254335260115607}],\"imageWidth\":1920,\"imageHeight\":1080},{\"label\":[\"Face\"],\"notes\":\"\",\"points\":[{\"x\":0.7063921993499458,\"y\":0.13680154142581888},{\"x\":0.8028169014084507,\"y\":0.27552986512524086}],\"imageWidth\":1920,\"imageHeight\":1080},{\"label\":[\"Face\"],\"notes\":\"\",\"points\":[{\"x\":0.21668472372697725,\"y\":0.29865125240847784},{\"x\":0.2914409534127844,\"y\":0.43159922928709055}],\"imageWidth\":1920,\"imageHeight\":1080}],\"extras\":null}\\n{\"content\": \"http://com.dataturks.a96-i23.open.s3.amazonaws.com/2c9fafb064277d86016431e33e4e003d/ff636c2e-8d88-45f4-8ab7-bc2c95d59d41___Movie-scenes.jpg.jpeg\",\"annotation\":[{\"label\":[\"Face\"],\"notes\":\"\",\"points\":[{\"x\":0.5523809523809524,\"y\":0.01800947867298578},{\"x\":0.6904761904761905,\"y\":0.10426540284360189}],\"imageWidth\":630,\"imageHeight\":1055},{\"label\":[\"Face\"],\"notes\":\"\",\"points\":[{\"x\":0.24444444444444444,\"y\":0.26066350710900477},{\"x\":0.5555555555555556,\"y\":0.41232227488151657}],\"imageWidth\":630,\"imageHeight\":1055},{\"label\":[\"Face\"],\"notes\":\"\",\"points\":[{\"x\":0.5428571428571428,\"y\":0.5222748815165876},{\"x\":0.7015873015873015,\"y\":0.6218009478672986}],\"imageWidth\":630,\"imageHeight\":1055},{\"label\":[\"Face\"],\"notes\":\"\",\"points\":[{\"x\":0.2857142857142857,\"y\":0.7886255924170616},{\"x\":0.6904761904761905,\"y\":0.9639810426540284}],\"imageWidth\":630,\"imageHeight\":1055}],\"extras\":null}\\n{\"content\": \"http://com.dataturks.a96-i23.open.s3.amazonaws.com/2c9fafb064277d86016431e33e4e003d/b813cbc9-f571-42bb-b38e-922a3ee8ecbd___movie-scenes-locations-filmography-christopher-moloney-fb.jpg.jpeg\",\"annotation\":[{\"label\":[\"Face\"],\"notes\":\"\",\"points\":[{\"x\":0.27410617551462624,\"y\":0.44742268041237115},{\"x\":0.3282773564463705,\"y\":0.5793814432989691}],\"imageWidth\":1500,\"imageHeight\":788}],\"extras\":null}\\n{\"content\": \"http://com.dataturks.a96-i23.open.s3.amazonaws.com/2c9fafb064277d86016431e33e4e003d/68a8ddf1-0b1f-463d-b8d0-5ea886037c58___Movies-ruined-by-behind-the-scenes-drama.jpg.jpeg\",\"annotation\":[{\"label\":[\"Face\"],\"notes\":\"\",\"points\":[{\"x\":0.18309859154929578,\"y\":0.170995670995671},{\"x\":0.25568797399783316,\"y\":0.30735930735930733}],\"imageWidth\":2000,\"imageHeight\":1000},{\"label\":[\"Face\"],\"notes\":\"\",\"points\":[{\"x\":0.47778981581798485,\"y\":0.0735930735930736},{\"x\":0.5319609967497292,\"y\":0.19480519480519481}],\"imageWidth\":2000,\"imageHeight\":1000},{\"label\":[\"Face\"],\"notes\":\"\",\"points\":[{\"x\":0.7887323943661971,\"y\":0.13852813852813853},{\"x\":0.8548212351029253,\"y\":0.30952380952380953}],\"imageWidth\":2000,\"imageHeight\":1000}],\"extras\":null}\\n{\"content\": \"http://com.dataturks.a96-i23.open.s3.amazonaws.com/2c9fafb064277d86016431e33e4e003d/8152f0be-1367-495c-a23d-d4470a238c5a___mqdefault1.jpg.jpeg\",\"annotation\":[{\"label\":[\"Face\"],\"notes\":\"\",\"points\":[{\"x\":0.284375,\"y\":0.07222222222222222},{\"x\":0.540625,\"y\":0.6166666666666667}],\"imageWidth\":320,\"imageHeight\":180}],\"extras\":null}\\n{\"content\": \"http://com.dataturks.a96-i23.open.s3.amazonaws.com/2c9fafb064277d86016431e33e4e003d/42bd59dd-0741-44d7-9280-8e342ce54983___Multigeneration_Family02.jpg.jpeg\",\"annotation\":[{\"label\":[\"Face\"],\"notes\":\"\",\"points\":[{\"x\":0.14359504132231404,\"y\":0.2830578512396694},{\"x\":0.3130165289256198,\"y\":0.7169421487603306}],\"imageWidth\":1200,\"imageHeight\":600},{\"label\":[\"Face\"],\"notes\":\"\",\"points\":[{\"x\":0.24793388429752067,\"y\":0.10743801652892562},{\"x\":0.41115702479338845,\"y\":0.506198347107438}],\"imageWidth\":1200,\"imageHeight\":600},{\"label\":[\"Face\"],\"notes\":\"\",\"points\":[{\"x\":0.42458677685950413,\"y\":0.15289256198347106},{\"x\":0.6425619834710744,\"y\":0.8615702479338843}],\"imageWidth\":1200,\"imageHeight\":600},{\"label\":[\"Face\"],\"notes\":\"\",\"points\":[{\"x\":0.6673553719008265,\"y\":0.12190082644628099},{\"x\":0.8481404958677686,\"y\":0.6053719008264463}],\"imageWidth\":1200,\"imageHeight\":600},{\"label\":[\"Face\"],\"notes\":\"\",\"points\":[{\"x\":0.8450413223140496,\"y\":0.34917355371900827},{\"x\":0.9989669421487604,\"y\":0.9958677685950413}],\"imageWidth\":1200,\"imageHeight\":600}],\"extras\":null}\\n{\"content\": \"http://com.dataturks.a96-i23.open.s3.amazonaws.com/2c9fafb064277d86016431e33e4e003d/6c110535-9d3d-48d2-8025-d16847b37a95___multi-generational-asian-family.jpg.jpeg\",\"annotation\":[{\"label\":[\"Face\"],\"notes\":\"\",\"points\":[{\"x\":0.07042253521126761,\"y\":0.14471544715447154},{\"x\":0.180931744312026,\"y\":0.3463414634146341}],\"imageWidth\":2000,\"imageHeight\":1333},{\"label\":[\"Face\"],\"notes\":\"\",\"points\":[{\"x\":0.38136511375947996,\"y\":0.3642276422764228},{\"x\":0.48212351029252437,\"y\":0.4991869918699187}],\"imageWidth\":2000,\"imageHeight\":1333},{\"label\":[\"Face\"],\"notes\":\"\",\"points\":[{\"x\":0.3250270855904659,\"y\":0.05853658536585366},{\"x\":0.4322860238353196,\"y\":0.25365853658536586}],\"imageWidth\":2000,\"imageHeight\":1333},{\"label\":[\"Face\"],\"notes\":\"\",\"points\":[{\"x\":0.6457204767063922,\"y\":0.09268292682926829},{\"x\":0.7573131094257854,\"y\":0.27479674796747966}],\"imageWidth\":2000,\"imageHeight\":1333},{\"label\":[\"Face\"],\"notes\":\"\",\"points\":[{\"x\":0.7930660888407367,\"y\":0.2975609756097561},{\"x\":0.886240520043337,\"y\":0.43089430894308944}],\"imageWidth\":2000,\"imageHeight\":1333},{\"label\":[\"Face\"],\"notes\":\"\",\"points\":[{\"x\":0.4788732394366197,\"y\":0.2146341463414634},{\"x\":0.580715059588299,\"y\":0.36910569105691055}],\"imageWidth\":2000,\"imageHeight\":1333}],\"extras\":null}\\n{\"content\": \"http://com.dataturks.a96-i23.open.s3.amazonaws.com/2c9fafb064277d86016431e33e4e003d/c95e8958-43f9-445d-b9b4-bf0ac791a31c___MV5BMTk0OTMyMDA0OF5BMl5BanBnXkFtZTgwMzY5NTkzNTE._V1._SY500.jpg.jpeg\",\"annotation\":[{\"label\":[\"Face\"],\"notes\":\"\",\"points\":[{\"x\":0.17507418397626112,\"y\":0.33},{\"x\":0.34421364985163205,\"y\":0.492}],\"imageWidth\":337,\"imageHeight\":500},{\"label\":[\"Face\"],\"notes\":\"\",\"points\":[{\"x\":0.42729970326409494,\"y\":0.304},{\"x\":0.5845697329376854,\"y\":0.472}],\"imageWidth\":337,\"imageHeight\":500},{\"label\":[\"Face\"],\"notes\":\"\",\"points\":[{\"x\":0.6498516320474778,\"y\":0.308},{\"x\":0.8219584569732937,\"y\":0.42}],\"imageWidth\":337,\"imageHeight\":500}],\"extras\":null}\\n{\"content\": \"http://com.dataturks.a96-i23.open.s3.amazonaws.com/2c9fafb064277d86016431e33e4e003d/39d43f61-d95d-4033-8655-052da2e61c35___My-favourite-funny-movie-scene.jpg.jpeg\",\"annotation\":[{\"label\":[\"Face\"],\"notes\":\"\",\"points\":[{\"x\":0.4267161410018553,\"y\":0.051593323216995446},{\"x\":0.7810760667903525,\"y\":0.40364188163884673}],\"imageWidth\":539,\"imageHeight\":659},{\"label\":[\"Face\"],\"notes\":\"\",\"points\":[{\"x\":0.20593692022263452,\"y\":0.5326251896813353},{\"x\":0.5844155844155844,\"y\":0.866464339908953}],\"imageWidth\":539,\"imageHeight\":659}],\"extras\":null}\\n{\"content\": \"http://com.dataturks.a96-i23.open.s3.amazonaws.com/2c9fafb064277d86016431e33e4e003d/a8910d51-c2c1-4537-b4c4-3b96fc92d577___never20before20scene.jpg.jpeg\",\"annotation\":[{\"label\":[\"Face\"],\"notes\":\"\",\"points\":[{\"x\":0.45454545454545453,\"y\":0.1657142857142857},{\"x\":0.7454545454545455,\"y\":0.7428571428571429}],\"imageWidth\":660,\"imageHeight\":350}],\"extras\":null}\\n{\"content\": \"http://com.dataturks.a96-i23.open.s3.amazonaws.com/2c9fafb064277d86016431e33e4e003d/7c9d8f80-277f-4eb7-95bf-889cd039b31d___Newest2BAction2BMovies2B20172BFull2BMovie2BEnglish2BChinese2BMartial2BArts2BMovies2BFull2BEnglish2BSubtitles.jpg.jpeg\",\"annotation\":[{\"label\":[\"Face\"],\"notes\":\"\",\"points\":[{\"x\":0.34375,\"y\":0.3138888888888889},{\"x\":0.4354166666666667,\"y\":0.4583333333333333}],\"imageWidth\":480,\"imageHeight\":360},{\"label\":[\"Face\"],\"notes\":\"\",\"points\":[{\"x\":0.6666666666666666,\"y\":0.4},{\"x\":0.7770833333333333,\"y\":0.55}],\"imageWidth\":480,\"imageHeight\":360},{\"label\":[\"Face\"],\"notes\":\"\",\"points\":[{\"x\":0.55,\"y\":0.48333333333333334},{\"x\":0.625,\"y\":0.6361111111111111}],\"imageWidth\":480,\"imageHeight\":360}],\"extras\":null}\\n{\"content\": \"http://com.dataturks.a96-i23.open.s3.amazonaws.com/2c9fafb064277d86016431e33e4e003d/417499a6-f219-4678-bfc7-b7e02383c280___new-mom-boston-garden-happy-baby.jpg.jpeg\",\"annotation\":[{\"label\":[\"Face\"],\"notes\":\"\",\"points\":[{\"x\":0.3391115926327194,\"y\":0.24675324675324675},{\"x\":0.4225352112676056,\"y\":0.39285714285714285}],\"imageWidth\":1000,\"imageHeight\":667},{\"label\":[\"Face\"],\"notes\":\"\",\"points\":[{\"x\":0.4355362946912243,\"y\":0.14935064935064934},{\"x\":0.5395449620801733,\"y\":0.3068181818181818}],\"imageWidth\":1000,\"imageHeight\":667},{\"label\":[\"Face\"],\"notes\":\"\",\"points\":[{\"x\":0.581798483206934,\"y\":0.40584415584415584},{\"x\":0.6468039003250271,\"y\":0.5292207792207793}],\"imageWidth\":1000,\"imageHeight\":667}],\"extras\":null}\\n{\"content\": \"http://com.dataturks.a96-i23.open.s3.amazonaws.com/2c9fafb064277d86016431e33e4e003d/f9ce834c-09a3-4335-a864-9e0af8db434a___o-BEST-NUDE-SCENES-facebook.jpg.jpeg\",\"annotation\":[{\"label\":[\"Face\"],\"notes\":\"\",\"points\":[{\"x\":0.5536294691224268,\"y\":0.2532467532467532},{\"x\":0.6977248104008668,\"y\":0.6212121212121212}],\"imageWidth\":2000,\"imageHeight\":1000}],\"extras\":null}\\n{\"content\": \"http://com.dataturks.a96-i23.open.s3.amazonaws.com/2c9fafb064277d86016431e33e4e003d/bc8ded5e-9ffa-4280-a643-7071197b089f___Oceans-Eleven.jpg.jpeg\",\"annotation\":[{\"label\":[\"Face\"],\"notes\":\"\",\"points\":[{\"x\":0.7807660961695192,\"y\":0.15489467162329615},{\"x\":0.9209453952730237,\"y\":0.36926889714993805}],\"imageWidth\":1600,\"imageHeight\":1053},{\"label\":[\"Face\"],\"notes\":\"\",\"points\":[{\"x\":0.5851670741646292,\"y\":0.13135068153655513},{\"x\":0.7237163814180929,\"y\":0.36059479553903345}],\"imageWidth\":1600,\"imageHeight\":1053},{\"label\":[\"Face\"],\"notes\":\"\",\"points\":[{\"x\":0.42950285248573755,\"y\":0.23172242874845106},{\"x\":0.5501222493887531,\"y\":0.45724907063197023}],\"imageWidth\":1600,\"imageHeight\":1053},{\"label\":[\"Face\"],\"notes\":\"\",\"points\":[{\"x\":0.21597392013039934,\"y\":0.27137546468401486},{\"x\":0.34474327628361856,\"y\":0.46716232961586124}],\"imageWidth\":1600,\"imageHeight\":1053},{\"label\":[\"Face\"],\"notes\":\"\",\"points\":[{\"x\":0.03667481662591687,\"y\":0.3246592317224288},{\"x\":0.14180929095354522,\"y\":0.5092936802973977}],\"imageWidth\":1600,\"imageHeight\":1053}],\"extras\":null}\\n{\"content\": \"http://com.dataturks.a96-i23.open.s3.amazonaws.com/2c9fafb064277d86016431e33e4e003d/82a8a234-1525-4a9e-abbb-3528a57254e9___Our-Top-10-Hotels-for-Families-1.jpgextu003d.jpg.jpeg\",\"annotation\":[{\"label\":[\"Face\"],\"notes\":\"\",\"points\":[{\"x\":0.2952503209242619,\"y\":0.2694063926940639},{\"x\":0.43645699614890887,\"y\":0.5593607305936074}],\"imageWidth\":779,\"imageHeight\":438},{\"label\":[\"Face\"],\"notes\":\"\",\"points\":[{\"x\":0.6277278562259306,\"y\":0.2831050228310502},{\"x\":0.7342747111681643,\"y\":0.5251141552511416}],\"imageWidth\":779,\"imageHeight\":438},{\"label\":[\"Face\"],\"notes\":\"\",\"points\":[{\"x\":0.7715019255455713,\"y\":0.182648401826484},{\"x\":0.8998716302952503,\"y\":0.4292237442922374}],\"imageWidth\":779,\"imageHeight\":438},{\"label\":[\"Face\"],\"notes\":\"\",\"points\":[{\"x\":0.6444159178433889,\"y\":0.4817351598173516},{\"x\":0.7958921694480102,\"y\":0.7009132420091324}],\"imageWidth\":779,\"imageHeight\":438}],\"extras\":null}\\n{\"content\": \"http://com.dataturks.a96-i23.open.s3.amazonaws.com/2c9fafb064277d86016431e33e4e003d/8c86556e-fd21-4dd9-87dd-d4ace99a34bf___oz.jpg.jpeg\",\"annotation\":[{\"label\":[\"Face\"],\"notes\":\"\",\"points\":[{\"x\":0.045,\"y\":0.008333333333333333},{\"x\":0.165,\"y\":0.3229166666666667}],\"imageWidth\":800,\"imageHeight\":480},{\"label\":[\"Face\"],\"notes\":\"\",\"points\":[{\"x\":0.2575,\"y\":0.09583333333333334},{\"x\":0.35,\"y\":0.41041666666666665}],\"imageWidth\":800,\"imageHeight\":480},{\"label\":[\"Face\"],\"notes\":\"\",\"points\":[{\"x\":0.395,\"y\":0.06666666666666667},{\"x\":0.53375,\"y\":0.3375}],\"imageWidth\":800,\"imageHeight\":480},{\"label\":[\"Face\"],\"notes\":\"\",\"points\":[{\"x\":0.55625,\"y\":0.23125},{\"x\":0.6525,\"y\":0.5208333333333334}],\"imageWidth\":800,\"imageHeight\":480},{\"label\":[\"Face\"],\"notes\":\"\",\"points\":[{\"x\":0.72875,\"y\":0.2520833333333333},{\"x\":0.84875,\"y\":0.5979166666666667}],\"imageWidth\":800,\"imageHeight\":480}],\"extras\":null}\\n{\"content\": \"http://com.dataturks.a96-i23.open.s3.amazonaws.com/2c9fafb064277d86016431e33e4e003d/35151215-f74a-423e-b747-e22dcd968000___Oz-Great-and-Powerful.jpg.jpeg\",\"annotation\":[{\"label\":[\"Face\"],\"notes\":\"\",\"points\":[{\"x\":0.4737470167064439,\"y\":0.36754176610978523},{\"x\":0.5572792362768496,\"y\":0.5250596658711217}],\"imageWidth\":838,\"imageHeight\":419}],\"extras\":null}\\n{\"content\": \"http://com.dataturks.a96-i23.open.s3.amazonaws.com/2c9fafb064277d86016431e33e4e003d/d7dcfae1-aec1-4bae-960d-16f5549f5ba6___pantherposterhandsmain.jpg.jpeg\",\"annotation\":[{\"label\":[\"Face\"],\"notes\":\"\",\"points\":[{\"x\":0.3025516403402187,\"y\":0.09916666666666667},{\"x\":0.6682867557715675,\"y\":0.35083333333333333}],\"imageWidth\":823,\"imageHeight\":1200}],\"extras\":null}\\n{\"content\": \"http://com.dataturks.a96-i23.open.s3.amazonaws.com/2c9fafb064277d86016431e33e4e003d/bb7e983d-dd62-4ff2-a0fe-3da387584079___Parenting-Adoption-TwoDads-Share1200.png\",\"annotation\":[{\"label\":[\"Face\"],\"notes\":\"\",\"points\":[{\"x\":0.06927465362673187,\"y\":0.09161490683229814},{\"x\":0.3202933985330073,\"y\":0.8260869565217391}],\"imageWidth\":1600,\"imageHeight\":840},{\"label\":[\"Face\"],\"notes\":\"\",\"points\":[{\"x\":0.2982885085574572,\"y\":0.2251552795031056},{\"x\":0.4832925835370823,\"y\":0.8152173913043478}],\"imageWidth\":1600,\"imageHeight\":840},{\"label\":[\"Face\"],\"notes\":\"\",\"points\":[{\"x\":0.49144254278728605,\"y\":0.21428571428571427},{\"x\":0.6519967400162999,\"y\":0.8214285714285714}],\"imageWidth\":1600,\"imageHeight\":840},{\"label\":[\"Face\"],\"notes\":\"\",\"points\":[{\"x\":0.654441727791361,\"y\":0.024844720496894408},{\"x\":0.9625101874490628,\"y\":0.6149068322981367}],\"imageWidth\":1600,\"imageHeight\":840}],\"extras\":null}\\n{\"content\": \"http://com.dataturks.a96-i23.open.s3.amazonaws.com/2c9fafb064277d86016431e33e4e003d/d84d675f-cff2-4932-b271-e45f4dafeb77___parents-and-three-kids.jpg.jpeg\",\"annotation\":[{\"label\":[\"Face\"],\"notes\":\"\",\"points\":[{\"x\":0.13326110509209102,\"y\":0.32791327913279134},{\"x\":0.24593716143011918,\"y\":0.6422764227642277}],\"imageWidth\":1500,\"imageHeight\":600},{\"label\":[\"Face\"],\"notes\":\"\",\"points\":[{\"x\":0.6164680390032503,\"y\":0.26558265582655827},{\"x\":0.7399783315276273,\"y\":0.5718157181571816}],\"imageWidth\":1500,\"imageHeight\":600},{\"label\":[\"Face\"],\"notes\":\"\",\"points\":[{\"x\":0.4268689057421452,\"y\":0.6233062330623306},{\"x\":0.5406283856988082,\"y\":0.8970189701897019}],\"imageWidth\":1500,\"imageHeight\":600},{\"label\":[\"Face\"],\"notes\":\"\",\"points\":[{\"x\":0.800650054171181,\"y\":0.3875338753387534},{\"x\":0.8927410617551462,\"y\":0.6097560975609756}],\"imageWidth\":1500,\"imageHeight\":600},{\"label\":[\"Face\"],\"notes\":\"\",\"points\":[{\"x\":0.28277356446370533,\"y\":0.4254742547425474},{\"x\":0.39653304442036835,\"y\":0.7181571815718157}],\"imageWidth\":1500,\"imageHeight\":600}],\"extras\":null}\\n{\"content\": \"http://com.dataturks.a96-i23.open.s3.amazonaws.com/2c9fafb064277d86016431e33e4e003d/19caa638-70c9-4d31-aeb3-c107e88ab1f9___Partnerships-with-Families.jpg.jpeg\",\"annotation\":[{\"label\":[\"Face\"],\"notes\":\"\",\"points\":[{\"x\":0.26435536294691225,\"y\":0.32247557003257327},{\"x\":0.34994582881906827,\"y\":0.5863192182410424}],\"imageWidth\":994,\"imageHeight\":330},{\"label\":[\"Face\"],\"notes\":\"\",\"points\":[{\"x\":0.06500541711809317,\"y\":0.32247557003257327},{\"x\":0.13976164680390032,\"y\":0.5700325732899023}],\"imageWidth\":994,\"imageHeight\":330},{\"label\":[\"Face\"],\"notes\":\"\",\"points\":[{\"x\":0.38136511375947996,\"y\":0.20846905537459284},{\"x\":0.48320693391115926,\"y\":0.501628664495114}],\"imageWidth\":994,\"imageHeight\":330},{\"label\":[\"Face\"],\"notes\":\"\",\"points\":[{\"x\":0.4962080173347779,\"y\":0.39087947882736157},{\"x\":0.5774647887323944,\"y\":0.6058631921824105}],\"imageWidth\":994,\"imageHeight\":330},{\"label\":[\"Face\"],\"notes\":\"\",\"points\":[{\"x\":0.5752979414951246,\"y\":0.3713355048859935},{\"x\":0.6500541711809318,\"y\":0.6416938110749185}],\"imageWidth\":994,\"imageHeight\":330},{\"label\":[\"Face\"],\"notes\":\"\",\"points\":[{\"x\":0.8656554712892741,\"y\":0.2247557003257329},{\"x\":0.9360780065005417,\"y\":0.5179153094462541}],\"imageWidth\":994,\"imageHeight\":330}],\"extras\":null}\\n{\"content\": \"http://com.dataturks.a96-i23.open.s3.amazonaws.com/2c9fafb064277d86016431e33e4e003d/54978408-9f53-4f77-9971-534c6f39747a___patients-and-families.jpg.jpeg\",\"annotation\":[{\"label\":[\"Face\"],\"notes\":\"\",\"points\":[{\"x\":0.23797881010594946,\"y\":0.1566265060240964},{\"x\":0.5134474327628362,\"y\":0.8554216867469879}],\"imageWidth\":1440,\"imageHeight\":584},{\"label\":[\"Face\"],\"notes\":\"\",\"points\":[{\"x\":0.5517522412387939,\"y\":0.08433734939759036},{\"x\":0.7669111654441728,\"y\":0.7269076305220884}],\"imageWidth\":1440,\"imageHeight\":584}],\"extras\":null}\\n{\"content\": \"http://com.dataturks.a96-i23.open.s3.amazonaws.com/2c9fafb064277d86016431e33e4e003d/808a0336-9ada-47f4-ab8d-9f95bf82675d___Percy-Jackson-Sea-of-Monsters-Aunt-Heather-Piper.jpg.jpeg\",\"annotation\":[{\"label\":[\"Face\"],\"notes\":\"\",\"points\":[{\"x\":0.3163596966413868,\"y\":0.18850574712643678},{\"x\":0.3856988082340195,\"y\":0.23218390804597702}],\"imageWidth\":1000,\"imageHeight\":1413},{\"label\":[\"Face\"],\"notes\":\"\",\"points\":[{\"x\":0.47670639219934996,\"y\":0.167816091954023},{\"x\":0.5557963163596966,\"y\":0.22911877394636015}],\"imageWidth\":1000,\"imageHeight\":1413},{\"label\":[\"Face\"],\"notes\":\"\",\"points\":[{\"x\":0.685807150595883,\"y\":0.1854406130268199},{\"x\":0.7378114842903575,\"y\":0.24291187739463602}],\"imageWidth\":1000,\"imageHeight\":1413}],\"extras\":null}\\n{\"content\": \"http://com.dataturks.a96-i23.open.s3.amazonaws.com/2c9fafb064277d86016431e33e4e003d/3522090b-9521-40bf-bb6b-117c80110088___photo_07_hires.jpg.jpeg\",\"annotation\":[{\"label\":[\"Face\"],\"notes\":\"\",\"points\":[{\"x\":0.42428571428571427,\"y\":0.14623655913978495},{\"x\":0.6514285714285715,\"y\":0.4967741935483871}],\"imageWidth\":700,\"imageHeight\":465}],\"extras\":null}\\n{\"content\": \"http://com.dataturks.a96-i23.open.s3.amazonaws.com/2c9fafb064277d86016431e33e4e003d/e7b4502f-cc1b-4c19-a486-47d33b30daab___photo4.jpg.jpeg\",\"annotation\":[{\"label\":[\"Face\"],\"notes\":\"\",\"points\":[{\"x\":0.43333333333333335,\"y\":0.09166666666666666},{\"x\":0.5854166666666667,\"y\":0.35833333333333334}],\"imageWidth\":480,\"imageHeight\":360},{\"label\":[\"Face\"],\"notes\":\"\",\"points\":[{\"x\":0.18541666666666667,\"y\":0.4},{\"x\":0.3458333333333333,\"y\":0.6111111111111112}],\"imageWidth\":480,\"imageHeight\":360}],\"extras\":null}\\n{\"content\": \"http://com.dataturks.a96-i23.open.s3.amazonaws.com/2c9fafb064277d86016431e33e4e003d/c96d76dc-93ee-431d-8bfa-66904fe3560f___photodune-328999-family-relaxing-in-garden-s-1-845x632.jpg.jpeg\",\"annotation\":[{\"label\":[\"Face\"],\"notes\":\"\",\"points\":[{\"x\":0.007100591715976331,\"y\":0.1819620253164557},{\"x\":0.18698224852071005,\"y\":0.46835443037974683}],\"imageWidth\":845,\"imageHeight\":632},{\"label\":[\"Face\"],\"notes\":\"\",\"points\":[{\"x\":0.20355029585798817,\"y\":0.06645569620253164},{\"x\":0.3834319526627219,\"y\":0.3686708860759494}],\"imageWidth\":845,\"imageHeight\":632},{\"label\":[\"Face\"],\"notes\":\"\",\"points\":[{\"x\":0.4840236686390533,\"y\":0.09651898734177215},{\"x\":0.6402366863905326,\"y\":0.37816455696202533}],\"imageWidth\":845,\"imageHeight\":632},{\"label\":[\"Face\"],\"notes\":\"\",\"points\":[{\"x\":0.6875739644970414,\"y\":0.11234177215189874},{\"x\":0.8721893491124261,\"y\":0.40664556962025317}],\"imageWidth\":845,\"imageHeight\":632}],\"extras\":null}\\n{\"content\": \"http://com.dataturks.a96-i23.open.s3.amazonaws.com/2c9fafb064277d86016431e33e4e003d/bfa1e03f-61d2-43a5-a95b-51a3bd9f37d2___photography-by-brea-cleveland-children-families-1-43.jpg.jpeg\",\"annotation\":[{\"label\":[\"Face\"],\"notes\":\"\",\"points\":[{\"x\":0.3326110509209101,\"y\":0.23214285714285715},{\"x\":0.49295774647887325,\"y\":0.4675324675324675}],\"imageWidth\":959,\"imageHeight\":640},{\"label\":[\"Face\"],\"notes\":\"\",\"points\":[{\"x\":0.5785482123510293,\"y\":0.2824675324675325},{\"x\":0.7096424702058505,\"y\":0.48538961038961037}],\"imageWidth\":959,\"imageHeight\":640}],\"extras\":null}\\n{\"content\": \"http://com.dataturks.a96-i23.open.s3.amazonaws.com/2c9fafb064277d86016431e33e4e003d/e9dda8d8-5244-4f39-96df-f66dfb0f6a61___photoshop_movies_01a.jpg.jpeg\",\"annotation\":[{\"label\":[\"Face\"],\"notes\":\"\",\"points\":[{\"x\":0.3425,\"y\":0.1},{\"x\":0.51,\"y\":0.36923076923076925}],\"imageWidth\":400,\"imageHeight\":260},{\"label\":[\"Face\"],\"notes\":\"\",\"points\":[{\"x\":0.1175,\"y\":0.12307692307692308},{\"x\":0.26,\"y\":0.36538461538461536}],\"imageWidth\":400,\"imageHeight\":260},{\"label\":[\"Face\"],\"notes\":\"\",\"points\":[{\"x\":0.7225,\"y\":0.14615384615384616},{\"x\":0.865,\"y\":0.4230769230769231}],\"imageWidth\":400,\"imageHeight\":260}],\"extras\":null}\\n{\"content\": \"http://com.dataturks.a96-i23.open.s3.amazonaws.com/2c9fafb064277d86016431e33e4e003d/2a11cfa2-2f26-432a-8d9c-6e844ee8256c___photoshop_movies_03-s600x397-11678.jpg.jpeg\",\"annotation\":[{\"label\":[\"Face\"],\"notes\":\"\",\"points\":[{\"x\":0.5033333333333333,\"y\":0.19143576826196473},{\"x\":0.7183333333333334,\"y\":0.5919395465994962}],\"imageWidth\":600,\"imageHeight\":397}],\"extras\":null}\\n{\"content\": \"http://com.dataturks.a96-i23.open.s3.amazonaws.com/2c9fafb064277d86016431e33e4e003d/ed46c8ba-137d-470a-b73e-95a9dbe6f1f5___pict-1024x678.jpg.jpeg\",\"annotation\":[{\"label\":[\"Face\"],\"notes\":\"\",\"points\":[{\"x\":0.21776814734561215,\"y\":0.22585924713584288},{\"x\":0.28060671722643554,\"y\":0.3060556464811784}],\"imageWidth\":1024,\"imageHeight\":678},{\"label\":[\"Face\"],\"notes\":\"\",\"points\":[{\"x\":0.26543878656554715,\"y\":0.36333878887070375},{\"x\":0.3282773564463705,\"y\":0.4533551554828151}],\"imageWidth\":1024,\"imageHeight\":678},{\"label\":[\"Face\"],\"notes\":\"\",\"points\":[{\"x\":0.314192849404117,\"y\":0.5204582651391162},{\"x\":0.38028169014084506,\"y\":0.6006546644844517}],\"imageWidth\":1024,\"imageHeight\":678},{\"label\":[\"Face\"],\"notes\":\"\",\"points\":[{\"x\":0.3401950162513543,\"y\":0.3044189852700491},{\"x\":0.39761646803900325,\"y\":0.37970540098199673}],\"imageWidth\":1024,\"imageHeight\":678},{\"label\":[\"Face\"],\"notes\":\"\",\"points\":[{\"x\":0.5211267605633803,\"y\":0.40916530278232405},{\"x\":0.5763813651137595,\"y\":0.49427168576104746}],\"imageWidth\":1024,\"imageHeight\":678},{\"label\":[\"Face\"],\"notes\":\"\",\"points\":[{\"x\":0.4160346695557963,\"y\":0.44189852700491},{\"x\":0.47562296858071507,\"y\":0.5220949263502455}],\"imageWidth\":1024,\"imageHeight\":678},{\"label\":[\"Face\"],\"notes\":\"\",\"points\":[{\"x\":0.3531960996749729,\"y\":0.15057283142389524},{\"x\":0.41278439869989164,\"y\":0.23731587561374795}],\"imageWidth\":1024,\"imageHeight\":678},{\"label\":[\"Face\"],\"notes\":\"\",\"points\":[{\"x\":0.48645720476706394,\"y\":0.1718494271685761},{\"x\":0.5492957746478874,\"y\":0.2569558101472995}],\"imageWidth\":1024,\"imageHeight\":678},{\"label\":[\"Face\"],\"notes\":\"\",\"points\":[{\"x\":0.4420368364030336,\"y\":0.2765957446808511},{\"x\":0.5016251354279523,\"y\":0.3617021276595745}],\"imageWidth\":1024,\"imageHeight\":678},{\"label\":[\"Face\"],\"notes\":\"\",\"points\":[{\"x\":0.5579631635969664,\"y\":0.27168576104746317},{\"x\":0.6132177681473456,\"y\":0.3518821603927987}],\"imageWidth\":1024,\"imageHeight\":678},{\"label\":[\"Face\"],\"notes\":\"\",\"points\":[{\"x\":0.6034669555796316,\"y\":0.15384615384615385},{\"x\":0.6533044420368364,\"y\":0.23895253682487724}],\"imageWidth\":1024,\"imageHeight\":678},{\"label\":[\"Face\"],\"notes\":\"\",\"points\":[{\"x\":0.6652221018418202,\"y\":0.24058919803600654},{\"x\":0.7161430119176598,\"y\":0.31260229132569556}],\"imageWidth\":1024,\"imageHeight\":678},{\"label\":[\"Face\"],\"notes\":\"\",\"points\":[{\"x\":0.6468039003250271,\"y\":0.3960720130932897},{\"x\":0.7085590465872156,\"y\":0.4762684124386252}],\"imageWidth\":1024,\"imageHeight\":678},{\"label\":[\"Face\"],\"notes\":\"\",\"points\":[{\"x\":0.8039003250270856,\"y\":0.37152209492635024},{\"x\":0.8678223185265439,\"y\":0.47299509001636664}],\"imageWidth\":1024,\"imageHeight\":678},{\"label\":[\"Face\"],\"notes\":\"\",\"points\":[{\"x\":0.7248104008667389,\"y\":0.14729950900163666},{\"x\":0.7800650054171181,\"y\":0.22749590834697217}],\"imageWidth\":1024,\"imageHeight\":678},{\"label\":[\"Face\"],\"notes\":\"\",\"points\":[{\"x\":0.7735644637053087,\"y\":0.23567921440261866},{\"x\":0.8255687973997833,\"y\":0.32078559738134205}],\"imageWidth\":1024,\"imageHeight\":678}],\"extras\":null}\\n{\"content\": \"http://com.dataturks.a96-i23.open.s3.amazonaws.com/2c9fafb064277d86016431e33e4e003d/bfdba1c1-b2e4-408a-881a-b3e6ab08c847___Pirates-of-the-Carribean.jpg.jpeg\",\"annotation\":[{\"label\":[\"Face\"],\"notes\":\"\",\"points\":[{\"x\":0.03369272237196765,\"y\":0.24015748031496062},{\"x\":0.18463611859838275,\"y\":0.4862204724409449}],\"imageWidth\":742,\"imageHeight\":508},{\"label\":[\"Face\"],\"notes\":\"\",\"points\":[{\"x\":0.2169811320754717,\"y\":0.1377952755905512},{\"x\":0.41509433962264153,\"y\":0.5}],\"imageWidth\":742,\"imageHeight\":508},{\"label\":[\"Face\"],\"notes\":\"\",\"points\":[{\"x\":0.477088948787062,\"y\":0.14173228346456693},{\"x\":0.7008086253369272,\"y\":0.5511811023622047}],\"imageWidth\":742,\"imageHeight\":508},{\"label\":[\"Face\"],\"notes\":\"\",\"points\":[{\"x\":0.7412398921832885,\"y\":0.1594488188976378},{\"x\":0.954177897574124,\"y\":0.5039370078740157}],\"imageWidth\":742,\"imageHeight\":508}],\"extras\":null}\\n{\"content\": \"http://com.dataturks.a96-i23.open.s3.amazonaws.com/2c9fafb064277d86016431e33e4e003d/823856b7-221f-4d25-a410-1d64cd2fab16___pitt-slave.jpg.jpeg\",\"annotation\":[{\"label\":[\"Face\"],\"notes\":\"\",\"points\":[{\"x\":0.5366666666666666,\"y\":0.14666666666666667},{\"x\":0.6316666666666667,\"y\":0.38666666666666666}],\"imageWidth\":600,\"imageHeight\":300}],\"extras\":null}\\n{\"content\": \"http://com.dataturks.a96-i23.open.s3.amazonaws.com/2c9fafb064277d86016431e33e4e003d/516846c5-29b2-492e-a136-db247fb7290c___programs_header2.jpg.jpeg\",\"annotation\":[{\"label\":[\"Face\"],\"notes\":\"\",\"points\":[{\"x\":0.08720456397718011,\"y\":0.3611111111111111},{\"x\":0.20537897310513448,\"y\":0.7350427350427351}],\"imageWidth\":2033,\"imageHeight\":776},{\"label\":[\"Face\"],\"notes\":\"\",\"points\":[{\"x\":0.29095354523227385,\"y\":0.1517094017094017},{\"x\":0.3960880195599022,\"y\":0.5064102564102564}],\"imageWidth\":2033,\"imageHeight\":776},{\"label\":[\"Face\"],\"notes\":\"\",\"points\":[{\"x\":0.45069274653626734,\"y\":0.2948717948717949},{\"x\":0.5362673186634067,\"y\":0.5790598290598291}],\"imageWidth\":2033,\"imageHeight\":776},{\"label\":[\"Face\"],\"notes\":\"\",\"points\":[{\"x\":0.5680521597392013,\"y\":0.08974358974358974},{\"x\":0.6715566422167889,\"y\":0.36324786324786323}],\"imageWidth\":2033,\"imageHeight\":776},{\"label\":[\"Face\"],\"notes\":\"\",\"points\":[{\"x\":0.6308068459657702,\"y\":0.4252136752136752},{\"x\":0.7237163814180929,\"y\":0.7628205128205128}],\"imageWidth\":2033,\"imageHeight\":776},{\"label\":[\"Face\"],\"notes\":\"\",\"points\":[{\"x\":0.8207008964955175,\"y\":0.5341880341880342},{\"x\":0.9062754686226568,\"y\":0.8034188034188035}],\"imageWidth\":2033,\"imageHeight\":776}],\"extras\":null}\\n{\"content\": \"http://com.dataturks.a96-i23.open.s3.amazonaws.com/2c9fafb064277d86016431e33e4e003d/019e6ef9-2e20-413e-b6cc-979ef2f1be5c___Programs_Services_horizontal.png\",\"annotation\":[{\"label\":[\"Face\"],\"notes\":\"\",\"points\":[{\"x\":0.16486486486486487,\"y\":0.0149812734082397},{\"x\":0.36486486486486486,\"y\":0.5280898876404494}],\"imageWidth\":740,\"imageHeight\":267},{\"label\":[\"Face\"],\"notes\":\"\",\"points\":[{\"x\":0.18513513513513513,\"y\":0.6067415730337079},{\"x\":0.33783783783783783,\"y\":0.8951310861423221}],\"imageWidth\":740,\"imageHeight\":267},{\"label\":[\"Face\"],\"notes\":\"\",\"points\":[{\"x\":0.49594594594594593,\"y\":0.1947565543071161},{\"x\":0.6959459459459459,\"y\":0.7752808988764045}],\"imageWidth\":740,\"imageHeight\":267},{\"label\":[\"Face\"],\"notes\":\"\",\"points\":[{\"x\":0.7324324324324324,\"y\":0.033707865168539325},{\"x\":0.9067567567567567,\"y\":0.49063670411985016}],\"imageWidth\":740,\"imageHeight\":267}],\"extras\":null}\\n{\"content\": \"http://com.dataturks.a96-i23.open.s3.amazonaws.com/2c9fafb064277d86016431e33e4e003d/4539134f-0eeb-4b23-bd10-6434adc73916___protestors-march-at-the-families-belong-together-march-in-los-angeles-california-june-14-2018.jpg.jpeg\",\"annotation\":[{\"label\":[\"Face\"],\"notes\":\"\",\"points\":[{\"x\":0.20526315789473684,\"y\":0.09861932938856016},{\"x\":0.3144736842105263,\"y\":0.27613412228796846}],\"imageWidth\":760,\"imageHeight\":507}],\"extras\":null}\\n{\"content\": \"http://com.dataturks.a96-i23.open.s3.amazonaws.com/2c9fafb064277d86016431e33e4e003d/510e21a6-bb1f-4dc8-9c92-e8dddeef3902___Pulp-Fiction-movie-Quentin-Tarantino-coffee-scene.jpg.jpeg\",\"annotation\":[{\"label\":[\"Face\"],\"notes\":\"\",\"points\":[{\"x\":0.5668202764976958,\"y\":0.1341772151898734},{\"x\":0.6758832565284179,\"y\":0.3468354430379747}],\"imageWidth\":651,\"imageHeight\":395}],\"extras\":null}\\n{\"content\": \"http://com.dataturks.a96-i23.open.s3.amazonaws.com/2c9fafb064277d86016431e33e4e003d/48ef7428-fc1c-40b2-a1d9-c0b39f691d79___RobinWilliamsBestMovies.jpg.jpeg\",\"annotation\":[{\"label\":[\"Face\"],\"notes\":\"\",\"points\":[{\"x\":0.48253968253968255,\"y\":0.06666666666666667},{\"x\":0.7555555555555555,\"y\":0.5428571428571428}],\"imageWidth\":630,\"imageHeight\":420}],\"extras\":null}\\n{\"content\": \"http://com.dataturks.a96-i23.open.s3.amazonaws.com/2c9fafb064277d86016431e33e4e003d/82f16250-e15d-4921-98d2-5912b1ab6e43___RockyBalboa.jpg.jpeg\",\"annotation\":[{\"label\":[\"Face\"],\"notes\":\"\",\"points\":[{\"x\":0.2340966921119593,\"y\":0.28542094455852157},{\"x\":0.3384223918575064,\"y\":0.5071868583162218}],\"imageWidth\":786,\"imageHeight\":487}],\"extras\":null}\\n{\"content\": \"http://com.dataturks.a96-i23.open.s3.amazonaws.com/2c9fafb064277d86016431e33e4e003d/a39a8d4d-5175-48bf-83f8-75ea4a7e6c93___rope.png\",\"annotation\":[{\"label\":[\"Face\"],\"notes\":\"\",\"points\":[{\"x\":0.25625,\"y\":0.04477611940298507},{\"x\":0.4666666666666667,\"y\":0.4291044776119403}],\"imageWidth\":480,\"imageHeight\":268},{\"label\":[\"Face\"],\"notes\":\"\",\"points\":[{\"x\":0.575,\"y\":0.07462686567164178},{\"x\":0.7833333333333333,\"y\":0.45149253731343286}],\"imageWidth\":480,\"imageHeight\":268}],\"extras\":null}\\n{\"content\": \"http://com.dataturks.a96-i23.open.s3.amazonaws.com/2c9fafb064277d86016431e33e4e003d/ae829825-3055-4e04-896f-4bdb0b1f7315___RTX69LRW1-1024x684.jpg.jpeg\",\"annotation\":[{\"label\":[\"Face\"],\"notes\":\"\",\"points\":[{\"x\":0.1115702479338843,\"y\":0.21517027863777088},{\"x\":0.18698347107438015,\"y\":0.33900928792569657}],\"imageWidth\":1024,\"imageHeight\":684},{\"label\":[\"Face\"],\"notes\":\"\",\"points\":[{\"x\":0.06301652892561983,\"y\":0.25696594427244585},{\"x\":0.12086776859504132,\"y\":0.369969040247678}],\"imageWidth\":1024,\"imageHeight\":684},{\"label\":[\"Face\"],\"notes\":\"\",\"points\":[{\"x\":0.3109504132231405,\"y\":0.22291021671826625},{\"x\":0.381198347107438,\"y\":0.35139318885448917}],\"imageWidth\":1024,\"imageHeight\":684},{\"label\":[\"Face\"],\"notes\":\"\",\"points\":[{\"x\":0.3894628099173554,\"y\":0.23219814241486067},{\"x\":0.44214876033057854,\"y\":0.3498452012383901}],\"imageWidth\":1024,\"imageHeight\":684},{\"label\":[\"Face\"],\"notes\":\"\",\"points\":[{\"x\":0.4669421487603306,\"y\":0.28173374613003094},{\"x\":0.5330578512396694,\"y\":0.38544891640866874}],\"imageWidth\":1024,\"imageHeight\":684},{\"label\":[\"Face\"],\"notes\":\"\",\"points\":[{\"x\":0.6663223140495868,\"y\":0.2089783281733746},{\"x\":0.7871900826446281,\"y\":0.4024767801857585}],\"imageWidth\":1024,\"imageHeight\":684},{\"label\":[\"Face\"],\"notes\":\"\",\"points\":[{\"x\":0.8801652892561983,\"y\":0.24613003095975233},{\"x\":0.9721074380165289,\"y\":0.413312693498452}],\"imageWidth\":1024,\"imageHeight\":684},{\"label\":[\"Face\"],\"notes\":\"\",\"points\":[{\"x\":0.5826446280991735,\"y\":0.2894736842105263},{\"x\":0.6477272727272727,\"y\":0.37770897832817335}],\"imageWidth\":1024,\"imageHeight\":684},{\"label\":[\"Face\"],\"notes\":\"\",\"points\":[{\"x\":0.2190082644628099,\"y\":0.29256965944272445},{\"x\":0.28615702479338845,\"y\":0.37770897832817335}],\"imageWidth\":1024,\"imageHeight\":684},{\"label\":[\"Face\"],\"notes\":\"\",\"points\":[{\"x\":0.010330578512396695,\"y\":0.25077399380804954},{\"x\":0.04648760330578512,\"y\":0.34055727554179566}],\"imageWidth\":1024,\"imageHeight\":684},{\"label\":[\"Face\"],\"notes\":\"\",\"points\":[{\"x\":0.6167355371900827,\"y\":0.24922600619195046},{\"x\":0.643595041322314,\"y\":0.28792569659442724}],\"imageWidth\":1024,\"imageHeight\":684}],\"extras\":null}\\n{\"content\": \"http://com.dataturks.a96-i23.open.s3.amazonaws.com/2c9fafb064277d86016431e33e4e003d/0ddcb6cf-3f63-459a-8d6d-16590b09ec52___s0VuNcV.jpg.jpeg\",\"annotation\":[{\"label\":[\"Face\"],\"notes\":\"\",\"points\":[{\"x\":0.4890625,\"y\":0.20277777777777778},{\"x\":0.596875,\"y\":0.4583333333333333}],\"imageWidth\":640,\"imageHeight\":360}],\"extras\":null}\\n{\"content\": \"http://com.dataturks.a96-i23.open.s3.amazonaws.com/2c9fafb064277d86016431e33e4e003d/3a09c904-dd58-42f2-9ca5-8b4247d3f564___sales-scenes-movies-tv-e1447961058901.jpg.jpeg\",\"annotation\":[{\"label\":[\"Face\"],\"notes\":\"\",\"points\":[{\"x\":0.2826666666666667,\"y\":0.022556390977443608},{\"x\":0.6066666666666667,\"y\":0.899749373433584}],\"imageWidth\":750,\"imageHeight\":399}],\"extras\":null}\\n{\"content\": \"http://com.dataturks.a96-i23.open.s3.amazonaws.com/2c9fafb064277d86016431e33e4e003d/f3e11902-cf29-42d1-99b9-cd4eb958332c___samuel-jackson-pulp-fiction-700.jpg.jpeg\",\"annotation\":[{\"label\":[\"Face\"],\"notes\":\"\",\"points\":[{\"x\":0.45714285714285713,\"y\":0.041666666666666664},{\"x\":0.7428571428571429,\"y\":0.5260416666666666}],\"imageWidth\":700,\"imageHeight\":384}],\"extras\":null}\\n{\"content\": \"http://com.dataturks.a96-i23.open.s3.amazonaws.com/2c9fafb064277d86016431e33e4e003d/c72c476f-cec0-4d3d-a8de-5a3769197585___Saving-Private-Ryan-Best-Movie-Ever.png\",\"annotation\":[{\"label\":[\"Face\"],\"notes\":\"\",\"points\":[{\"x\":0.085,\"y\":0.3416370106761566},{\"x\":0.19333333333333333,\"y\":0.5622775800711743}],\"imageWidth\":600,\"imageHeight\":281},{\"label\":[\"Face\"],\"notes\":\"\",\"points\":[{\"x\":0.23166666666666666,\"y\":0.29537366548042704},{\"x\":0.34,\"y\":0.5338078291814946}],\"imageWidth\":600,\"imageHeight\":281},{\"label\":[\"Face\"],\"notes\":\"\",\"points\":[{\"x\":0.6716666666666666,\"y\":0.35231316725978645},{\"x\":0.7416666666666667,\"y\":0.5338078291814946}],\"imageWidth\":600,\"imageHeight\":281},{\"label\":[\"Face\"],\"notes\":\"\",\"points\":[{\"x\":0.805,\"y\":0.3701067615658363},{\"x\":0.895,\"y\":0.597864768683274}],\"imageWidth\":600,\"imageHeight\":281}],\"extras\":null}\\n{\"content\": \"http://com.dataturks.a96-i23.open.s3.amazonaws.com/2c9fafb064277d86016431e33e4e003d/24b3a377-c89a-4783-8b5a-58f426d2ea01___scary-movie-scenes-kids.jpg.jpeg\",\"annotation\":[{\"label\":[\"Face\"],\"notes\":\"\",\"points\":[{\"x\":0.1180931744312026,\"y\":0.2077922077922078},{\"x\":0.3531960996749729,\"y\":0.7402597402597403}],\"imageWidth\":1200,\"imageHeight\":600}],\"extras\":null}\\n{\"content\": \"http://com.dataturks.a96-i23.open.s3.amazonaws.com/2c9fafb064277d86016431e33e4e003d/4e1ca832-1659-4a8e-91fb-5c7888e4c0d6___scotus_immigration_062316getty.jpg.jpeg\",\"annotation\":[{\"label\":[\"Face\"],\"notes\":\"\",\"points\":[{\"x\":0.271875,\"y\":0.05555555555555555},{\"x\":0.4859375,\"y\":0.5833333333333334}],\"imageWidth\":640,\"imageHeight\":360},{\"label\":[\"Face\"],\"notes\":\"\",\"points\":[{\"x\":0.4875,\"y\":0.3472222222222222},{\"x\":0.6125,\"y\":0.5583333333333333}],\"imageWidth\":640,\"imageHeight\":360},{\"label\":[\"Face\"],\"notes\":\"\",\"points\":[{\"x\":0.325,\"y\":0.4722222222222222},{\"x\":0.471875,\"y\":0.8583333333333333}],\"imageWidth\":640,\"imageHeight\":360},{\"label\":[\"Face\"],\"notes\":\"\",\"points\":[{\"x\":0.7171875,\"y\":0.6027777777777777},{\"x\":0.8375,\"y\":0.7861111111111111}],\"imageWidth\":640,\"imageHeight\":360}],\"extras\":null}\\n{\"content\": \"http://com.dataturks.a96-i23.open.s3.amazonaws.com/2c9fafb064277d86016431e33e4e003d/60b353d0-47b4-4280-b489-b7a3d108782c___Screen20Shot202013-03-1720at207.38.5020PM.png\",\"annotation\":[{\"label\":[\"Face\"],\"notes\":\"\",\"points\":[{\"x\":0.32273262661955243,\"y\":0.2442528735632184},{\"x\":0.39811542991755006,\"y\":0.5258620689655172}],\"imageWidth\":849,\"imageHeight\":348},{\"label\":[\"Face\"],\"notes\":\"\",\"points\":[{\"x\":0.4110718492343934,\"y\":0.14655172413793102},{\"x\":0.4617196702002356,\"y\":0.28735632183908044}],\"imageWidth\":849,\"imageHeight\":348}],\"extras\":null}\\n{\"content\": \"http://com.dataturks.a96-i23.open.s3.amazonaws.com/2c9fafb064277d86016431e33e4e003d/3c5940d8-743c-497d-931f-b4b6dfbd0950___sex-lies-and-videotape-backdrop.jpg.jpeg\",\"annotation\":[{\"label\":[\"Face\"],\"notes\":\"\",\"points\":[{\"x\":0.4132029339853301,\"y\":0.050724637681159424},{\"x\":0.7318663406682967,\"y\":0.8115942028985508}],\"imageWidth\":1280,\"imageHeight\":720}],\"extras\":null}\\n{\"content\": \"http://com.dataturks.a96-i23.open.s3.amazonaws.com/2c9fafb064277d86016431e33e4e003d/d26aea49-adad-40cf-adc2-91092da46f3d___sf.jpg.jpeg\",\"annotation\":[{\"label\":[\"Face\"],\"notes\":\"\",\"points\":[{\"x\":0.4169381107491857,\"y\":0.10115606936416185},{\"x\":0.6400651465798045,\"y\":0.615606936416185}],\"imageWidth\":614,\"imageHeight\":346}],\"extras\":null}\\n{\"content\": \"http://com.dataturks.a96-i23.open.s3.amazonaws.com/2c9fafb064277d86016431e33e4e003d/e2b1d18b-04a3-4206-91bf-f6515dbe7a24___shia_704_2.jpg.jpeg\",\"annotation\":[{\"label\":[\"Face\"],\"notes\":\"\",\"points\":[{\"x\":0.32670454545454547,\"y\":0.23737373737373738},{\"x\":0.6164772727272727,\"y\":0.7424242424242424}],\"imageWidth\":704,\"imageHeight\":396}],\"extras\":null}\\n{\"content\": \"http://com.dataturks.a96-i23.open.s3.amazonaws.com/2c9fafb064277d86016431e33e4e003d/28fdea9d-24f4-40f9-a4ea-006bae3d77cf___Shirtless-Movies-Scenes-2016.png.jpeg\",\"annotation\":[{\"label\":[\"Face\"],\"notes\":\"\",\"points\":[{\"x\":0.41015625,\"y\":0.0576171875},{\"x\":0.6201171875,\"y\":0.3193359375}],\"imageWidth\":1024,\"imageHeight\":1024}],\"extras\":null}\\n{\"content\": \"http://com.dataturks.a96-i23.open.s3.amazonaws.com/2c9fafb064277d86016431e33e4e003d/e24140bc-1d0c-43a4-8cf0-097aabbfbbbf___shutterstock_165818507.jpg.jpeg\",\"annotation\":[{\"label\":[\"Face\"],\"notes\":\"\",\"points\":[{\"x\":0.1635969664138678,\"y\":0.12033195020746888},{\"x\":0.29360780065005415,\"y\":0.4149377593360996}],\"imageWidth\":1200,\"imageHeight\":627},{\"label\":[\"Face\"],\"notes\":\"\",\"points\":[{\"x\":0.3369447453954496,\"y\":0.4004149377593361},{\"x\":0.4507042253521127,\"y\":0.6244813278008299}],\"imageWidth\":1200,\"imageHeight\":627},{\"label\":[\"Face\"],\"notes\":\"\",\"points\":[{\"x\":0.5471289274106176,\"y\":0.3381742738589212},{\"x\":0.6652221018418202,\"y\":0.5622406639004149}],\"imageWidth\":1200,\"imageHeight\":627},{\"label\":[\"Face\"],\"notes\":\"\",\"points\":[{\"x\":0.7118093174431203,\"y\":0.0995850622406639},{\"x\":0.8634886240520043,\"y\":0.38589211618257263}],\"imageWidth\":1200,\"imageHeight\":627}],\"extras\":null}\\n{\"content\": \"http://com.dataturks.a96-i23.open.s3.amazonaws.com/2c9fafb064277d86016431e33e4e003d/8b4a9a3a-7bcc-41c2-9879-673e5292d478___shutterstock_282305945.jpg.jpeg\",\"annotation\":[{\"label\":[\"Face\"],\"notes\":\"\",\"points\":[{\"x\":0.29235537190082644,\"y\":0.5317604355716878},{\"x\":0.40702479338842973,\"y\":0.7313974591651543}],\"imageWidth\":1160,\"imageHeight\":660},{\"label\":[\"Face\"],\"notes\":\"\",\"points\":[{\"x\":0.3119834710743802,\"y\":0.19600725952813067},{\"x\":0.38636363636363635,\"y\":0.39201451905626133}],\"imageWidth\":1160,\"imageHeight\":660},{\"label\":[\"Face\"],\"notes\":\"\",\"points\":[{\"x\":0.44111570247933884,\"y\":0.16515426497277677},{\"x\":0.5278925619834711,\"y\":0.3430127041742287}],\"imageWidth\":1160,\"imageHeight\":660},{\"label\":[\"Face\"],\"notes\":\"\",\"points\":[{\"x\":0.5475206611570248,\"y\":0.4246823956442831},{\"x\":0.6787190082644629,\"y\":0.6206896551724138}],\"imageWidth\":1160,\"imageHeight\":660},{\"label\":[\"Face\"],\"notes\":\"\",\"points\":[{\"x\":0.7923553719008265,\"y\":0.16333938294010888},{\"x\":0.9834710743801653,\"y\":0.4101633393829401}],\"imageWidth\":1160,\"imageHeight\":660},{\"label\":[\"Face\"],\"notes\":\"\",\"points\":[{\"x\":0.7293388429752066,\"y\":0.604355716878403},{\"x\":0.878099173553719,\"y\":0.8439201451905626}],\"imageWidth\":1160,\"imageHeight\":660}],\"extras\":null}\\n{\"content\": \"http://com.dataturks.a96-i23.open.s3.amazonaws.com/2c9fafb064277d86016431e33e4e003d/7400c45c-5301-4463-974d-497f94aee724___shutterstock_314258288-e1487153021637.jpg.jpeg\",\"annotation\":[{\"label\":[\"Face\"],\"notes\":\"\",\"points\":[{\"x\":0.022727272727272728,\"y\":0.11220472440944881},{\"x\":0.21384297520661158,\"y\":0.547244094488189}],\"imageWidth\":3500,\"imageHeight\":1838},{\"label\":[\"Face\"],\"notes\":\"\",\"points\":[{\"x\":0.1756198347107438,\"y\":0.04330708661417323},{\"x\":0.4359504132231405,\"y\":0.639763779527559}],\"imageWidth\":3500,\"imageHeight\":1838},{\"label\":[\"Face\"],\"notes\":\"\",\"points\":[{\"x\":0.44731404958677684,\"y\":0.14566929133858267},{\"x\":0.6714876033057852,\"y\":0.7539370078740157}],\"imageWidth\":3500,\"imageHeight\":1838},{\"label\":[\"Face\"],\"notes\":\"\",\"points\":[{\"x\":0.7293388429752066,\"y\":0.19291338582677164},{\"x\":0.9276859504132231,\"y\":0.7145669291338582}],\"imageWidth\":3500,\"imageHeight\":1838}],\"extras\":null}\\n{\"content\": \"http://com.dataturks.a96-i23.open.s3.amazonaws.com/2c9fafb064277d86016431e33e4e003d/727cd780-f875-4e02-bf5d-f8162c538368___shutterstock_562716667-1.jpg.jpeg\",\"annotation\":[{\"label\":[\"Face\"],\"notes\":\"\",\"points\":[{\"x\":0.19609967497291442,\"y\":0.0670995670995671},{\"x\":0.28060671722643554,\"y\":0.28354978354978355}],\"imageWidth\":1024,\"imageHeight\":512},{\"label\":[\"Face\"],\"notes\":\"\",\"points\":[{\"x\":0.4247020585048754,\"y\":0.1277056277056277},{\"x\":0.49837486457204766,\"y\":0.2943722943722944}],\"imageWidth\":1024,\"imageHeight\":512},{\"label\":[\"Face\"],\"notes\":\"\",\"points\":[{\"x\":0.6782231852654388,\"y\":0.13203463203463203},{\"x\":0.7518959913326111,\"y\":0.2943722943722944}],\"imageWidth\":1024,\"imageHeight\":512},{\"label\":[\"Face\"],\"notes\":\"\",\"points\":[{\"x\":0.771397616468039,\"y\":0.2077922077922078},{\"x\":0.8764897074756229,\"y\":0.3852813852813853}],\"imageWidth\":1024,\"imageHeight\":512}],\"extras\":null}\\n{\"content\": \"http://com.dataturks.a96-i23.open.s3.amazonaws.com/2c9fafb064277d86016431e33e4e003d/74d99c7b-ebfd-442b-a187-cfa904816493___Snatch-airs-on-Crackle-Tv-shows.jpg.jpeg\",\"annotation\":[{\"label\":[\"Face\"],\"notes\":\"\",\"points\":[{\"x\":0.20557851239669422,\"y\":0.13051470588235295},{\"x\":0.3615702479338843,\"y\":0.45955882352941174}],\"imageWidth\":1024,\"imageHeight\":576},{\"label\":[\"Face\"],\"notes\":\"\",\"points\":[{\"x\":0.38739669421487605,\"y\":0.3290441176470588},{\"x\":0.45661157024793386,\"y\":0.49080882352941174}],\"imageWidth\":1024,\"imageHeight\":576},{\"label\":[\"Face\"],\"notes\":\"\",\"points\":[{\"x\":0.4535123966942149,\"y\":0.4209558823529412},{\"x\":0.490702479338843,\"y\":0.4963235294117647}],\"imageWidth\":1024,\"imageHeight\":576},{\"label\":[\"Face\"],\"notes\":\"\",\"points\":[{\"x\":0.5,\"y\":0.3786764705882353},{\"x\":0.5475206611570248,\"y\":0.48161764705882354}],\"imageWidth\":1024,\"imageHeight\":576},{\"label\":[\"Face\"],\"notes\":\"\",\"points\":[{\"x\":0.5712809917355371,\"y\":0.36213235294117646},{\"x\":0.6291322314049587,\"y\":0.47610294117647056}],\"imageWidth\":1024,\"imageHeight\":576},{\"label\":[\"Face\"],\"notes\":\"\",\"points\":[{\"x\":0.6425619834710744,\"y\":0.25735294117647056},{\"x\":0.7489669421487604,\"y\":0.4338235294117647}],\"imageWidth\":1024,\"imageHeight\":576}],\"extras\":null}\\n{\"content\": \"http://com.dataturks.a96-i23.open.s3.amazonaws.com/2c9fafb064277d86016431e33e4e003d/427551d7-e049-470c-abd6-c036b2cd3493___sometimes-mimicking-scenes-from-movies-will-cost-you-x-gifs-288.jpg.jpeg\",\"annotation\":[{\"label\":[\"Face\"],\"notes\":\"\",\"points\":[{\"x\":0.35333333333333333,\"y\":0.1450980392156863},{\"x\":0.46166666666666667,\"y\":0.5137254901960784}],\"imageWidth\":600,\"imageHeight\":255}],\"extras\":null}\\n{\"content\": \"http://com.dataturks.a96-i23.open.s3.amazonaws.com/2c9fafb064277d86016431e33e4e003d/faf0abcd-9b0d-42ef-a65e-a90129283544___ST970-group.jpg.jpeg\",\"annotation\":[{\"label\":[\"Face\"],\"notes\":\"\",\"points\":[{\"x\":0.20801733477789816,\"y\":0.10952380952380952},{\"x\":0.28494041170097506,\"y\":0.2507936507936508}],\"imageWidth\":970,\"imageHeight\":662},{\"label\":[\"Face\"],\"notes\":\"\",\"points\":[{\"x\":0.36728060671722645,\"y\":0.11904761904761904},{\"x\":0.4431202600216685,\"y\":0.2253968253968254}],\"imageWidth\":970,\"imageHeight\":662},{\"label\":[\"Face\"],\"notes\":\"\",\"points\":[{\"x\":0.5503791982665223,\"y\":0.2507936507936508},{\"x\":0.6175514626218852,\"y\":0.36666666666666664}],\"imageWidth\":970,\"imageHeight\":662},{\"label\":[\"Face\"],\"notes\":\"\",\"points\":[{\"x\":0.6998916576381365,\"y\":0.13968253968253969},{\"x\":0.7594799566630552,\"y\":0.25396825396825395}],\"imageWidth\":970,\"imageHeight\":662},{\"label\":[\"Face\"],\"notes\":\"\",\"points\":[{\"x\":0.761646803900325,\"y\":0.1111111111111111},{\"x\":0.8439869989165764,\"y\":0.22063492063492063}],\"imageWidth\":970,\"imageHeight\":662}],\"extras\":null}\\n{\"content\": \"http://com.dataturks.a96-i23.open.s3.amazonaws.com/2c9fafb064277d86016431e33e4e003d/9c71bdb3-adc6-4c54-b324-da96f7fb6577___step-brothers.png\",\"annotation\":[{\"label\":[\"Face\"],\"notes\":\"\",\"points\":[{\"x\":0.22833333333333333,\"y\":0.16333333333333333},{\"x\":0.30666666666666664,\"y\":0.35333333333333333}],\"imageWidth\":600,\"imageHeight\":300}],\"extras\":null}\\n{\"content\": \"http://com.dataturks.a96-i23.open.s3.amazonaws.com/2c9fafb064277d86016431e33e4e003d/56ccc729-e5ed-4601-888b-cfb75f6681bc___strengthening-families.jpg.jpeg\",\"annotation\":[{\"label\":[\"Face\"],\"notes\":\"\",\"points\":[{\"x\":0.06193969030154849,\"y\":0.13080684596577016},{\"x\":0.280358598207009,\"y\":0.5880195599022005}],\"imageWidth\":4992,\"imageHeight\":3328},{\"label\":[\"Face\"],\"notes\":\"\",\"points\":[{\"x\":0.30888345558272207,\"y\":0.2567237163814181},{\"x\":0.47351263243683783,\"y\":0.6356968215158925}],\"imageWidth\":4992,\"imageHeight\":3328},{\"label\":[\"Face\"],\"notes\":\"\",\"points\":[{\"x\":0.5387123064384678,\"y\":0.3251833740831296},{\"x\":0.7212713936430318,\"y\":0.7432762836185819}],\"imageWidth\":4992,\"imageHeight\":3328},{\"label\":[\"Face\"],\"notes\":\"\",\"points\":[{\"x\":0.6625916870415648,\"y\":0.1332518337408313},{\"x\":0.947840260798696,\"y\":0.5403422982885085}],\"imageWidth\":4992,\"imageHeight\":3328}],\"extras\":null}\\n{\"content\": \"http://com.dataturks.a96-i23.open.s3.amazonaws.com/2c9fafb064277d86016431e33e4e003d/998bff98-5c50-4569-b4b2-b67618ef3cb9___students-and-family.jpg.jpeg\",\"annotation\":[{\"label\":[\"Face\"],\"notes\":\"\",\"points\":[{\"x\":0.14626218851570963,\"y\":0.4155405405405405},{\"x\":0.23943661971830985,\"y\":0.6756756756756757}],\"imageWidth\":3198,\"imageHeight\":1024},{\"label\":[\"Face\"],\"notes\":\"\",\"points\":[{\"x\":0.3445287107258938,\"y\":0.30405405405405406},{\"x\":0.4247020585048754,\"y\":0.5540540540540541}],\"imageWidth\":3198,\"imageHeight\":1024},{\"label\":[\"Face\"],\"notes\":\"\",\"points\":[{\"x\":0.551462621885157,\"y\":0.17905405405405406},{\"x\":0.6424702058504875,\"y\":0.42905405405405406}],\"imageWidth\":3198,\"imageHeight\":1024},{\"label\":[\"Face\"],\"notes\":\"\",\"points\":[{\"x\":0.6933911159263272,\"y\":0.4594594594594595},{\"x\":0.7930660888407367,\"y\":0.722972972972973}],\"imageWidth\":3198,\"imageHeight\":1024}],\"extras\":null}\\n{\"content\": \"http://com.dataturks.a96-i23.open.s3.amazonaws.com/2c9fafb064277d86016431e33e4e003d/52e2d859-9001-4e5b-a693-b580d9c4a9c5___Teaser_Familien.jpg.jpeg\",\"annotation\":[{\"label\":[\"Face\"],\"notes\":\"\",\"points\":[{\"x\":0.1650294695481336,\"y\":0.12318840579710146},{\"x\":0.3182711198428291,\"y\":0.6123188405797102}],\"imageWidth\":509,\"imageHeight\":276},{\"label\":[\"Face\"],\"notes\":\"\",\"points\":[{\"x\":0.2829076620825147,\"y\":0.322463768115942},{\"x\":0.42829076620825146,\"y\":0.6304347826086957}],\"imageWidth\":509,\"imageHeight\":276},{\"label\":[\"Face\"],\"notes\":\"\",\"points\":[{\"x\":0.4931237721021611,\"y\":0.32971014492753625},{\"x\":0.6345776031434185,\"y\":0.6811594202898551}],\"imageWidth\":509,\"imageHeight\":276},{\"label\":[\"Face\"],\"notes\":\"\",\"points\":[{\"x\":0.768172888015717,\"y\":0.21014492753623187},{\"x\":0.931237721021611,\"y\":0.4891304347826087}],\"imageWidth\":509,\"imageHeight\":276},{\"label\":[\"Face\"],\"notes\":\"\",\"points\":[{\"x\":0.6385068762278978,\"y\":0.03985507246376811},{\"x\":0.8015717092337917,\"y\":0.45652173913043476}],\"imageWidth\":509,\"imageHeight\":276}],\"extras\":null}\\n{\"content\": \"http://com.dataturks.a96-i23.open.s3.amazonaws.com/2c9fafb064277d86016431e33e4e003d/c45cbbca-ffcc-4b9f-9dd6-7c01d8508dc3___Terminator.jpg.jpeg\",\"annotation\":[{\"label\":[\"Face\"],\"notes\":\"\",\"points\":[{\"x\":0.45480631276901007,\"y\":0.026737967914438502},{\"x\":0.5724533715925395,\"y\":0.24866310160427807}],\"imageWidth\":697,\"imageHeight\":374}],\"extras\":null}\\n{\"content\": \"http://com.dataturks.a96-i23.open.s3.amazonaws.com/2c9fafb064277d86016431e33e4e003d/e54d882f-38c6-40c0-a277-e1578f17126c___the_deer_hunter_2_christopher_walken.jpg.jpeg\",\"annotation\":[{\"label\":[\"Face\"],\"notes\":\"\",\"points\":[{\"x\":0.6333333333333333,\"y\":0.3752535496957404},{\"x\":0.7833333333333333,\"y\":0.6166328600405679}],\"imageWidth\":840,\"imageHeight\":493}],\"extras\":null}\\n{\"content\": \"http://com.dataturks.a96-i23.open.s3.amazonaws.com/2c9fafb064277d86016431e33e4e003d/1ee1c8bd-e722-4674-962f-5a71896adf3d___the_revenant_upcoming_english_movie_poster_release_date_star_cast_2016_upcoming_wiki.jpg.jpeg\",\"annotation\":[{\"label\":[\"Face\"],\"notes\":\"\",\"points\":[{\"x\":0.40166666666666667,\"y\":0.06521739130434782},{\"x\":0.845,\"y\":0.8819875776397516}],\"imageWidth\":600,\"imageHeight\":322}],\"extras\":null}\\n{\"content\": \"http://com.dataturks.a96-i23.open.s3.amazonaws.com/2c9fafb064277d86016431e33e4e003d/df733735-befc-4d70-a6e1-7fac8b74d114___the_simpsons_versions_of_wellknown_movie_moments_640_24.jpg.jpeg\",\"annotation\":[{\"label\":[\"Face\"],\"notes\":\"\",\"points\":[{\"x\":0.2234375,\"y\":0.014084507042253521},{\"x\":0.6203125,\"y\":0.856338028169014}],\"imageWidth\":640,\"imageHeight\":355}],\"extras\":null}\\n{\"content\": \"http://com.dataturks.a96-i23.open.s3.amazonaws.com/2c9fafb064277d86016431e33e4e003d/0468864c-e40d-4942-b247-1c103724b33d___the20social20network20opening20scene.jpg.jpeg\",\"annotation\":[{\"label\":[\"Face\"],\"notes\":\"\",\"points\":[{\"x\":0.38244853737811485,\"y\":0.3346153846153846},{\"x\":0.4420368364030336,\"y\":0.4807692307692308}],\"imageWidth\":1000,\"imageHeight\":563}],\"extras\":null}\\n{\"content\": \"http://com.dataturks.a96-i23.open.s3.amazonaws.com/2c9fafb064277d86016431e33e4e003d/a7ab4ae3-4200-4c1a-92c1-d89f07ee23f3___the-best-english-films-of-2015-photos-pictures-stills-1.jpg.jpeg\",\"annotation\":[{\"label\":[\"Face\"],\"notes\":\"\",\"points\":[{\"x\":0.37115839243498816,\"y\":0.035256410256410256},{\"x\":0.8959810874704491,\"y\":0.592948717948718}],\"imageWidth\":423,\"imageHeight\":624}],\"extras\":null}\\n{\"content\": \"http://com.dataturks.a96-i23.open.s3.amazonaws.com/2c9fafb064277d86016431e33e4e003d/fcf57224-af75-41d8-bf72-568ae6401c07___The-English-Patient.jpg.jpeg\",\"annotation\":[{\"label\":[\"Face\"],\"notes\":\"\",\"points\":[{\"x\":0.3597222222222222,\"y\":0.14166666666666666},{\"x\":0.46805555555555556,\"y\":0.45625}],\"imageWidth\":720,\"imageHeight\":480},{\"label\":[\"Face\"],\"notes\":\"\",\"points\":[{\"x\":0.4527777777777778,\"y\":0.225},{\"x\":0.5513888888888889,\"y\":0.5229166666666667}],\"imageWidth\":720,\"imageHeight\":480}],\"extras\":null}\\n{\"content\": \"http://com.dataturks.a96-i23.open.s3.amazonaws.com/2c9fafb064277d86016431e33e4e003d/8a100540-6655-402a-a970-c00cf5d40a09___the-godfather.jpeg\",\"annotation\":[{\"label\":[\"Face\"],\"notes\":\"\",\"points\":[{\"x\":0.33666666666666667,\"y\":0.16216216216216217},{\"x\":0.5333333333333333,\"y\":0.6858108108108109}],\"imageWidth\":600,\"imageHeight\":296}],\"extras\":null}\\n{\"content\": \"http://com.dataturks.a96-i23.open.s3.amazonaws.com/2c9fafb064277d86016431e33e4e003d/ae373201-08bb-44a4-9c48-259ffcc8e2ca___the-godfather-image.jpg.jpeg\",\"annotation\":[{\"label\":[\"Face\"],\"notes\":\"\",\"points\":[{\"x\":0.7357575757575757,\"y\":0.08620689655172414},{\"x\":0.8084848484848485,\"y\":0.21551724137931033}],\"imageWidth\":825,\"imageHeight\":464},{\"label\":[\"Face\"],\"notes\":\"\",\"points\":[{\"x\":0.7345454545454545,\"y\":0.4331896551724138},{\"x\":0.823030303030303,\"y\":0.5969827586206896}],\"imageWidth\":825,\"imageHeight\":464},{\"label\":[\"Face\"],\"notes\":\"\",\"points\":[{\"x\":0.6242424242424243,\"y\":0.34913793103448276},{\"x\":0.6884848484848485,\"y\":0.5043103448275862}],\"imageWidth\":825,\"imageHeight\":464},{\"label\":[\"Face\"],\"notes\":\"\",\"points\":[{\"x\":0.4121212121212121,\"y\":0.33836206896551724},{\"x\":0.49333333333333335,\"y\":0.5150862068965517}],\"imageWidth\":825,\"imageHeight\":464},{\"label\":[\"Face\"],\"notes\":\"\",\"points\":[{\"x\":0.23393939393939395,\"y\":0.3448275862068966},{\"x\":0.3187878787878788,\"y\":0.5452586206896551}],\"imageWidth\":825,\"imageHeight\":464},{\"label\":[\"Face\"],\"notes\":\"\",\"points\":[{\"x\":0.32242424242424245,\"y\":0.3297413793103448},{\"x\":0.36727272727272725,\"y\":0.5107758620689655}],\"imageWidth\":825,\"imageHeight\":464},{\"label\":[\"Face\"],\"notes\":\"\",\"points\":[{\"x\":0.10666666666666667,\"y\":0.03017241379310345},{\"x\":0.1684848484848485,\"y\":0.2801724137931034}],\"imageWidth\":825,\"imageHeight\":464}],\"extras\":null}\\n{\"content\": \"http://com.dataturks.a96-i23.open.s3.amazonaws.com/2c9fafb064277d86016431e33e4e003d/1527180d-0f8a-421f-8bbe-8becf3ee3e87___The-Hatfield-Family-0322.jpeg\",\"annotation\":[{\"label\":[\"Face\"],\"notes\":\"\",\"points\":[{\"x\":0.14842903575297942,\"y\":0.33983739837398375},{\"x\":0.2600216684723727,\"y\":0.49105691056910566}],\"imageWidth\":3500,\"imageHeight\":2333},{\"label\":[\"Face\"],\"notes\":\"\",\"points\":[{\"x\":0.26977248104008666,\"y\":0.1983739837398374},{\"x\":0.37161430119176597,\"y\":0.36910569105691055}],\"imageWidth\":3500,\"imageHeight\":2333},{\"label\":[\"Face\"],\"notes\":\"\",\"points\":[{\"x\":0.39653304442036835,\"y\":0.16910569105691056},{\"x\":0.47562296858071507,\"y\":0.3040650406504065}],\"imageWidth\":3500,\"imageHeight\":2333},{\"label\":[\"Face\"],\"notes\":\"\",\"points\":[{\"x\":0.48537378114842905,\"y\":0.17235772357723578},{\"x\":0.5687973997833152,\"y\":0.33983739837398375}],\"imageWidth\":3500,\"imageHeight\":2333},{\"label\":[\"Face\"],\"notes\":\"\",\"points\":[{\"x\":0.5850487540628385,\"y\":0.31869918699186994},{\"x\":0.6717226435536294,\"y\":0.4845528455284553}],\"imageWidth\":3500,\"imageHeight\":2333},{\"label\":[\"Face\"],\"notes\":\"\",\"points\":[{\"x\":0.6868905742145178,\"y\":0.47479674796747967},{\"x\":0.781148429035753,\"y\":0.608130081300813}],\"imageWidth\":3500,\"imageHeight\":2333},{\"label\":[\"Face\"],\"notes\":\"\",\"points\":[{\"x\":0.8309859154929577,\"y\":0.510569105691057},{\"x\":0.9295774647887324,\"y\":0.6341463414634146}],\"imageWidth\":3500,\"imageHeight\":2333}],\"extras\":null}\\n{\"content\": \"http://com.dataturks.a96-i23.open.s3.amazonaws.com/2c9fafb064277d86016431e33e4e003d/36b71970-0dd7-48ab-96fd-b7dee666706c___the-master_image_1.jpg.jpeg\",\"annotation\":[{\"label\":[\"Face\"],\"notes\":\"\",\"points\":[{\"x\":0.4409534127843987,\"y\":0.15},{\"x\":0.5406283856988082,\"y\":0.3576923076923077}],\"imageWidth\":1920,\"imageHeight\":1081}],\"extras\":null}\\n{\"content\": \"http://com.dataturks.a96-i23.open.s3.amazonaws.com/2c9fafb064277d86016431e33e4e003d/17dac3af-a1fb-46f7-b4f8-4882185b6d38___thequint2F2017-122F72a62cb9-f80f-4dc8-926d-8a74e8cf39822Fnon20english20movies.jpg.jpeg\",\"annotation\":[{\"label\":[\"Face\"],\"notes\":\"\",\"points\":[{\"x\":0.10024449877750612,\"y\":0.0782608695652174},{\"x\":0.2616136919315403,\"y\":0.4}],\"imageWidth\":1920,\"imageHeight\":1080},{\"label\":[\"Face\"],\"notes\":\"\",\"points\":[{\"x\":0.4180929095354523,\"y\":0.06666666666666667},{\"x\":0.5753871230643847,\"y\":0.36231884057971014}],\"imageWidth\":1920,\"imageHeight\":1080},{\"label\":[\"Face\"],\"notes\":\"\",\"points\":[{\"x\":0.7041564792176039,\"y\":0.07681159420289856},{\"x\":0.830480847595762,\"y\":0.30289855072463767}],\"imageWidth\":1920,\"imageHeight\":1080}],\"extras\":null}\\n{\"content\": \"http://com.dataturks.a96-i23.open.s3.amazonaws.com/2c9fafb064277d86016431e33e4e003d/6bbb9db2-41a4-4fd7-840c-4bf644fcc105___these-movie-scenes-are-the-most-paused-movie-scenes-ever-1.jpg.jpeg\",\"annotation\":[{\"label\":[\"Face\"],\"notes\":\"\",\"points\":[{\"x\":0.35428571428571426,\"y\":0.024761904761904763},{\"x\":0.5628571428571428,\"y\":0.32571428571428573}],\"imageWidth\":700,\"imageHeight\":525}],\"extras\":null}\\n{\"content\": \"http://com.dataturks.a96-i23.open.s3.amazonaws.com/2c9fafb064277d86016431e33e4e003d/b1bdd7ea-717d-4fbb-8490-87c916a3668e___thor-dark-world-marvel-live-action-movies-37161304-1920-1080.jpg.jpeg\",\"annotation\":[{\"label\":[\"Face\"],\"notes\":\"\",\"points\":[{\"x\":0.31508264462809915,\"y\":0.26286764705882354},{\"x\":0.5041322314049587,\"y\":0.5716911764705882}],\"imageWidth\":1920,\"imageHeight\":1080}],\"extras\":null}\\n{\"content\": \"http://com.dataturks.a96-i23.open.s3.amazonaws.com/2c9fafb064277d86016431e33e4e003d/706ba21c-bc0e-4869-a24f-446ee22a2b32___thumb_20144_wide_1x.jpeg\",\"annotation\":[{\"label\":[\"Face\"],\"notes\":\"\",\"points\":[{\"x\":0.18461538461538463,\"y\":0.4089285714285714},{\"x\":0.2829059829059829,\"y\":0.625}],\"imageWidth\":1170,\"imageHeight\":560},{\"label\":[\"Face\"],\"notes\":\"\",\"points\":[{\"x\":0.30683760683760686,\"y\":0.4125},{\"x\":0.4153846153846154,\"y\":0.6196428571428572}],\"imageWidth\":1170,\"imageHeight\":560},{\"label\":[\"Face\"],\"notes\":\"\",\"points\":[{\"x\":0.45384615384615384,\"y\":0.3410714285714286},{\"x\":0.5376068376068376,\"y\":0.5285714285714286}],\"imageWidth\":1170,\"imageHeight\":560},{\"label\":[\"Face\"],\"notes\":\"\",\"points\":[{\"x\":0.5222222222222223,\"y\":0.2892857142857143},{\"x\":0.5854700854700855,\"y\":0.4928571428571429}],\"imageWidth\":1170,\"imageHeight\":560},{\"label\":[\"Face\"],\"notes\":\"\",\"points\":[{\"x\":0.6282051282051282,\"y\":0.24642857142857144},{\"x\":0.7068376068376069,\"y\":0.43214285714285716}],\"imageWidth\":1170,\"imageHeight\":560},{\"label\":[\"Face\"],\"notes\":\"\",\"points\":[{\"x\":0.5555555555555556,\"y\":0.1125},{\"x\":0.6282051282051282,\"y\":0.3125}],\"imageWidth\":1170,\"imageHeight\":560}],\"extras\":null}\\n{\"content\": \"http://com.dataturks.a96-i23.open.s3.amazonaws.com/2c9fafb064277d86016431e33e4e003d/2a1bddc5-a4c0-46bb-b59f-c175c15c2cc4___thumb-up-movies.jpg.jpeg\",\"annotation\":[{\"label\":[\"Face\"],\"notes\":\"\",\"points\":[{\"x\":0.3921875,\"y\":0.13333333333333333},{\"x\":0.4640625,\"y\":0.3416666666666667}],\"imageWidth\":640,\"imageHeight\":240}],\"extras\":null}\\n{\"content\": \"http://com.dataturks.a96-i23.open.s3.amazonaws.com/2c9fafb064277d86016431e33e4e003d/18b161d5-5000-4d51-96d0-16517d007b0d___Titanic.jpg.jpeg\",\"annotation\":[{\"label\":[\"Face\"],\"notes\":\"\",\"points\":[{\"x\":0.25826446280991733,\"y\":0.1184573002754821},{\"x\":0.5134297520661157,\"y\":0.4834710743801653}],\"imageWidth\":1024,\"imageHeight\":768},{\"label\":[\"Face\"],\"notes\":\"\",\"points\":[{\"x\":0.09194214876033058,\"y\":0.16391184573002754},{\"x\":0.3068181818181818,\"y\":0.5440771349862259}],\"imageWidth\":1024,\"imageHeight\":768}],\"extras\":null}\\n{\"content\": \"http://com.dataturks.a96-i23.open.s3.amazonaws.com/2c9fafb064277d86016431e33e4e003d/35f8150b-974a-4091-8575-b8936d91f3f3___Tomb-Raider-Lara-Croft-2018-Movies-Hollywood-English-Action-English-Releasing-Date.jpg.jpeg\",\"annotation\":[{\"label\":[\"Face\"],\"notes\":\"\",\"points\":[{\"x\":0.23333333333333334,\"y\":0.013333333333333334},{\"x\":0.846031746031746,\"y\":0.37333333333333335}],\"imageWidth\":630,\"imageHeight\":1200}],\"extras\":null}\\n{\"content\": \"http://com.dataturks.a96-i23.open.s3.amazonaws.com/2c9fafb064277d86016431e33e4e003d/3617f678-9b84-4ef1-8ce4-bb1f914445d8___tom-cruise-7591.jpg.jpeg\",\"annotation\":[{\"label\":[\"Face\"],\"notes\":\"\",\"points\":[{\"x\":0.4440052700922266,\"y\":0.2037914691943128},{\"x\":0.5428194993412385,\"y\":0.3981042654028436}],\"imageWidth\":759,\"imageHeight\":422}],\"extras\":null}\\n{\"content\": \"http://com.dataturks.a96-i23.open.s3.amazonaws.com/2c9fafb064277d86016431e33e4e003d/2fa87386-bf67-4487-abd6-79bae5c1d214___top10films_barroom-scenes-movies_beverly-hills-cop-eddie-murphy.jpg.jpeg\",\"annotation\":[{\"label\":[\"Face\"],\"notes\":\"\",\"points\":[{\"x\":0.46551724137931033,\"y\":0.24233128834355827},{\"x\":0.6810344827586207,\"y\":0.6901840490797547}],\"imageWidth\":580,\"imageHeight\":326}],\"extras\":null}\\n{\"content\": \"http://com.dataturks.a96-i23.open.s3.amazonaws.com/2c9fafb064277d86016431e33e4e003d/a3c31b00-32fe-47d2-b4ec-3ba7a527b537___trump_autographs_062218.jpg.jpeg\",\"annotation\":[{\"label\":[\"Face\"],\"notes\":\"\",\"points\":[{\"x\":0.5234375,\"y\":0.002777777777777778},{\"x\":0.6140625,\"y\":0.18611111111111112}],\"imageWidth\":640,\"imageHeight\":360},{\"label\":[\"Face\"],\"notes\":\"\",\"points\":[{\"x\":0.0765625,\"y\":0.2916666666666667},{\"x\":0.1625,\"y\":0.4027777777777778}],\"imageWidth\":640,\"imageHeight\":360},{\"label\":[\"Face\"],\"notes\":\"\",\"points\":[{\"x\":0.89375,\"y\":0.275},{\"x\":0.9734375,\"y\":0.4166666666666667}],\"imageWidth\":640,\"imageHeight\":360},{\"label\":[\"Face\"],\"notes\":\"\",\"points\":[{\"x\":0.809375,\"y\":0.8},{\"x\":0.8953125,\"y\":0.9444444444444444}],\"imageWidth\":640,\"imageHeight\":360},{\"label\":[\"Face\"],\"notes\":\"\",\"points\":[{\"x\":0.3015625,\"y\":0.2611111111111111},{\"x\":0.3640625,\"y\":0.39166666666666666}],\"imageWidth\":640,\"imageHeight\":360}],\"extras\":null}\\n{\"content\": \"http://com.dataturks.a96-i23.open.s3.amazonaws.com/2c9fafb064277d86016431e33e4e003d/c40b3e09-7e5c-43cf-ac4a-506715419094___trump-angle-families-01-ap-jef-180621_hpMain_31x13_992.jpg.jpeg\",\"annotation\":[{\"label\":[\"Face\"],\"notes\":\"\",\"points\":[{\"x\":0.3326110509209101,\"y\":0.14766839378238342},{\"x\":0.4160346695557963,\"y\":0.38860103626943004}],\"imageWidth\":992,\"imageHeight\":415}],\"extras\":null}\\n{\"content\": \"http://com.dataturks.a96-i23.open.s3.amazonaws.com/2c9fafb064277d86016431e33e4e003d/1d5600ef-78a4-4e74-9f46-2255d3009ad8___trump-angle-families-02-ap-jef-180621_hpEmbed_11x7_992.jpg.jpeg\",\"annotation\":[{\"label\":[\"Face\"],\"notes\":\"\",\"points\":[{\"x\":0.10743801652892562,\"y\":0.03902439024390244},{\"x\":0.24586776859504134,\"y\":0.2861788617886179}],\"imageWidth\":992,\"imageHeight\":631},{\"label\":[\"Face\"],\"notes\":\"\",\"points\":[{\"x\":0.3677685950413223,\"y\":0.18699186991869918},{\"x\":0.490702479338843,\"y\":0.4}],\"imageWidth\":992,\"imageHeight\":631},{\"label\":[\"Face\"],\"notes\":\"\",\"points\":[{\"x\":0.5805785123966942,\"y\":0.22601626016260162},{\"x\":0.6787190082644629,\"y\":0.39186991869918697}],\"imageWidth\":992,\"imageHeight\":631},{\"label\":[\"Face\"],\"notes\":\"\",\"points\":[{\"x\":0.78099173553719,\"y\":0.22439024390243903},{\"x\":0.9018595041322314,\"y\":0.4146341463414634}],\"imageWidth\":992,\"imageHeight\":631},{\"label\":[\"Face\"],\"notes\":\"\",\"points\":[{\"x\":0.628099173553719,\"y\":0.4764227642276423},{\"x\":0.7055785123966942,\"y\":0.7463414634146341}],\"imageWidth\":992,\"imageHeight\":631}],\"extras\":null}\\n{\"content\": \"http://com.dataturks.a96-i23.open.s3.amazonaws.com/2c9fafb064277d86016431e33e4e003d/50c2a327-fad0-4826-b047-5451b6ab8c31___trump-angle-families-03-pol-jef-180621_hpEmbed_3x2_992.jpg.jpeg\",\"annotation\":[{\"label\":[\"Face\"],\"notes\":\"\",\"points\":[{\"x\":0.4535123966942149,\"y\":0.5959752321981424},{\"x\":0.5506198347107438,\"y\":0.7755417956656346}],\"imageWidth\":992,\"imageHeight\":662},{\"label\":[\"Face\"],\"notes\":\"\",\"points\":[{\"x\":0.27789256198347106,\"y\":0.6904024767801857},{\"x\":0.33987603305785125,\"y\":0.8312693498452013}],\"imageWidth\":992,\"imageHeight\":662},{\"label\":[\"Face\"],\"notes\":\"\",\"points\":[{\"x\":0.1012396694214876,\"y\":0.628482972136223},{\"x\":0.18078512396694216,\"y\":0.804953560371517}],\"imageWidth\":992,\"imageHeight\":662},{\"label\":[\"Face\"],\"notes\":\"\",\"points\":[{\"x\":0.11260330578512397,\"y\":0.3219814241486068},{\"x\":0.20454545454545456,\"y\":0.47987616099071206}],\"imageWidth\":992,\"imageHeight\":662},{\"label\":[\"Face\"],\"notes\":\"\",\"points\":[{\"x\":0.27892561983471076,\"y\":0.32507739938080493},{\"x\":0.37706611570247933,\"y\":0.5}],\"imageWidth\":992,\"imageHeight\":662},{\"label\":[\"Face\"],\"notes\":\"\",\"points\":[{\"x\":0.4194214876033058,\"y\":0.32507739938080493},{\"x\":0.5237603305785123,\"y\":0.456656346749226}],\"imageWidth\":992,\"imageHeight\":662},{\"label\":[\"Face\"],\"notes\":\"\",\"points\":[{\"x\":0.6384297520661157,\"y\":0.21671826625386997},{\"x\":0.7231404958677686,\"y\":0.37306501547987614}],\"imageWidth\":992,\"imageHeight\":662},{\"label\":[\"Face\"],\"notes\":\"\",\"points\":[{\"x\":0.8254132231404959,\"y\":0.35139318885448917},{\"x\":0.9163223140495868,\"y\":0.5139318885448917}],\"imageWidth\":992,\"imageHeight\":662},{\"label\":[\"Face\"],\"notes\":\"\",\"points\":[{\"x\":0.8047520661157025,\"y\":0.23374613003095976},{\"x\":0.8853305785123967,\"y\":0.38390092879256965}],\"imageWidth\":992,\"imageHeight\":662},{\"label\":[\"Face\"],\"notes\":\"\",\"points\":[{\"x\":0.9834710743801653,\"y\":0.2786377708978328},{\"x\":1,\"y\":0.43962848297213625}],\"imageWidth\":992,\"imageHeight\":662}],\"extras\":null}\\n{\"content\": \"http://com.dataturks.a96-i23.open.s3.amazonaws.com/2c9fafb064277d86016431e33e4e003d/dc18893d-eddb-49a3-8c80-3aaf2d6866a5___tumblr_inline_mzjmtjmWkD1sv7a4e.jpg.jpeg\",\"annotation\":[{\"label\":[\"Face\"],\"notes\":\"\",\"points\":[{\"x\":0.162,\"y\":0.16964285714285715},{\"x\":0.296,\"y\":0.375}],\"imageWidth\":500,\"imageHeight\":224},{\"label\":[\"Face\"],\"notes\":\"\",\"points\":[{\"x\":0.576,\"y\":0.044642857142857144},{\"x\":0.672,\"y\":0.3080357142857143}],\"imageWidth\":500,\"imageHeight\":224},{\"label\":[\"Face\"],\"notes\":\"\",\"points\":[{\"x\":0.692,\"y\":0.026785714285714284},{\"x\":0.762,\"y\":0.32142857142857145}],\"imageWidth\":500,\"imageHeight\":224},{\"label\":[\"Face\"],\"notes\":\"\",\"points\":[{\"x\":0.794,\"y\":0.008928571428571428},{\"x\":0.89,\"y\":0.3705357142857143}],\"imageWidth\":500,\"imageHeight\":224}],\"extras\":null}\\n{\"content\": \"http://com.dataturks.a96-i23.open.s3.amazonaws.com/2c9fafb064277d86016431e33e4e003d/8cbf1b8d-4439-488d-b275-69e5af8a07ec___tumblr_n8rynnXz7Q1rujq2eo7_1280.jpg.jpeg\",\"annotation\":[{\"label\":[\"Face\"],\"notes\":\"\",\"points\":[{\"x\":0.18604651162790697,\"y\":0.062},{\"x\":0.6666666666666666,\"y\":0.718}],\"imageWidth\":774,\"imageHeight\":500}],\"extras\":null}\\n{\"content\": \"http://com.dataturks.a96-i23.open.s3.amazonaws.com/2c9fafb064277d86016431e33e4e003d/aaebde1e-2257-48a0-9e05-8fbc4a69fc7c___tumblr_ne1kmb5aWG1repoz9o1_500.png\",\"annotation\":[{\"label\":[\"Face\"],\"notes\":\"\",\"points\":[{\"x\":0.38,\"y\":0.16621983914209115},{\"x\":0.758,\"y\":0.6487935656836461}],\"imageWidth\":500,\"imageHeight\":373}],\"extras\":null}\\n{\"content\": \"http://com.dataturks.a96-i23.open.s3.amazonaws.com/2c9fafb064277d86016431e33e4e003d/d58cbf23-6fc8-41e9-b031-50ef46810d77___tv-families-top-10-married-with-children-the-bundys-facebook-wyza-com-au_500x333.jpg.jpeg\",\"annotation\":[{\"label\":[\"Face\"],\"notes\":\"\",\"points\":[{\"x\":0.178,\"y\":0.1831831831831832},{\"x\":0.296,\"y\":0.39039039039039036}],\"imageWidth\":500,\"imageHeight\":333},{\"label\":[\"Face\"],\"notes\":\"\",\"points\":[{\"x\":0.26,\"y\":0.45645645645645644},{\"x\":0.374,\"y\":0.6426426426426426}],\"imageWidth\":500,\"imageHeight\":333},{\"label\":[\"Face\"],\"notes\":\"\",\"points\":[{\"x\":0.452,\"y\":0.37237237237237236},{\"x\":0.558,\"y\":0.5585585585585585}],\"imageWidth\":500,\"imageHeight\":333},{\"label\":[\"Face\"],\"notes\":\"\",\"points\":[{\"x\":0.324,\"y\":0.02702702702702703},{\"x\":0.476,\"y\":0.2222222222222222}],\"imageWidth\":500,\"imageHeight\":333},{\"label\":[\"Face\"],\"notes\":\"\",\"points\":[{\"x\":0.502,\"y\":0.1921921921921922},{\"x\":0.63,\"y\":0.35435435435435436}],\"imageWidth\":500,\"imageHeight\":333},{\"label\":[\"Face\"],\"notes\":\"\",\"points\":[{\"x\":0.66,\"y\":0.06006006006006006},{\"x\":0.782,\"y\":0.23423423423423423}],\"imageWidth\":500,\"imageHeight\":333}],\"extras\":null}\\n{\"content\": \"http://com.dataturks.a96-i23.open.s3.amazonaws.com/2c9fafb064277d86016431e33e4e003d/89f2f4c9-88e0-4e17-bf28-f2f3157ddce7___types-of-stepfamilies.jpg.jpeg\",\"annotation\":[{\"label\":[\"Face\"],\"notes\":\"\",\"points\":[{\"x\":0.03512396694214876,\"y\":0.03130755064456722},{\"x\":0.1559917355371901,\"y\":0.27071823204419887}],\"imageWidth\":1063,\"imageHeight\":597},{\"label\":[\"Face\"],\"notes\":\"\",\"points\":[{\"x\":0.1797520661157025,\"y\":0.1712707182320442},{\"x\":0.26859504132231404,\"y\":0.3720073664825046}],\"imageWidth\":1063,\"imageHeight\":597},{\"label\":[\"Face\"],\"notes\":\"\",\"points\":[{\"x\":0.24380165289256198,\"y\":0.12154696132596685},{\"x\":0.3305785123966942,\"y\":0.2965009208103131}],\"imageWidth\":1063,\"imageHeight\":597},{\"label\":[\"Face\"],\"notes\":\"\",\"points\":[{\"x\":0.35020661157024796,\"y\":0.17863720073664824},{\"x\":0.4132231404958678,\"y\":0.34806629834254144}],\"imageWidth\":1063,\"imageHeight\":597},{\"label\":[\"Face\"],\"notes\":\"\",\"points\":[{\"x\":0.490702479338843,\"y\":0.01289134438305709},{\"x\":0.6084710743801653,\"y\":0.2523020257826888}],\"imageWidth\":1063,\"imageHeight\":597},{\"label\":[\"Face\"],\"notes\":\"\",\"points\":[{\"x\":0.6570247933884298,\"y\":0.22467771639042358},{\"x\":0.7768595041322314,\"y\":0.44014732965009207}],\"imageWidth\":1063,\"imageHeight\":597},{\"label\":[\"Face\"],\"notes\":\"\",\"points\":[{\"x\":0.5795454545454546,\"y\":0.16206261510128914},{\"x\":0.6456611570247934,\"y\":0.3241252302025783}],\"imageWidth\":1063,\"imageHeight\":597},{\"label\":[\"Face\"],\"notes\":\"\",\"points\":[{\"x\":0.8212809917355371,\"y\":0.07734806629834254},{\"x\":0.8884297520661157,\"y\":0.2596685082872928}],\"imageWidth\":1063,\"imageHeight\":597},{\"label\":[\"Face\"],\"notes\":\"\",\"points\":[{\"x\":0.7572314049586777,\"y\":0.16022099447513813},{\"x\":0.8388429752066116,\"y\":0.3370165745856354}],\"imageWidth\":1063,\"imageHeight\":597},{\"label\":[\"Face\"],\"notes\":\"\",\"points\":[{\"x\":0.18491735537190082,\"y\":0.430939226519337},{\"x\":0.2975206611570248,\"y\":0.6906077348066298}],\"imageWidth\":1063,\"imageHeight\":597},{\"label\":[\"Face\"],\"notes\":\"\",\"points\":[{\"x\":0.39359504132231404,\"y\":0.4696132596685083},{\"x\":0.496900826446281,\"y\":0.6998158379373849}],\"imageWidth\":1063,\"imageHeight\":597},{\"label\":[\"Face\"],\"notes\":\"\",\"points\":[{\"x\":0.5402892561983471,\"y\":0.5524861878453039},{\"x\":0.6601239669421488,\"y\":0.7882136279926335}],\"imageWidth\":1063,\"imageHeight\":597}],\"extras\":null}\\n{\"content\": \"http://com.dataturks.a96-i23.open.s3.amazonaws.com/2c9fafb064277d86016431e33e4e003d/4a3b7db0-2f19-4eb6-b330-2d2e800234f1___unrealisticscenesinmovies.jpg.jpeg\",\"annotation\":[{\"label\":[\"Face\"],\"notes\":\"\",\"points\":[{\"x\":0.5270655270655271,\"y\":0.2619047619047619},{\"x\":0.6296296296296297,\"y\":0.5059523809523809}],\"imageWidth\":702,\"imageHeight\":336},{\"label\":[\"Face\"],\"notes\":\"\",\"points\":[{\"x\":0.7150997150997151,\"y\":0.2857142857142857},{\"x\":0.7962962962962963,\"y\":0.4642857142857143}],\"imageWidth\":702,\"imageHeight\":336},{\"label\":[\"Face\"],\"notes\":\"\",\"points\":[{\"x\":0.8105413105413105,\"y\":0.24702380952380953},{\"x\":0.9116809116809117,\"y\":0.4583333333333333}],\"imageWidth\":702,\"imageHeight\":336},{\"label\":[\"Face\"],\"notes\":\"\",\"points\":[{\"x\":0.3945868945868946,\"y\":0.11011904761904762},{\"x\":0.4843304843304843,\"y\":0.3333333333333333}],\"imageWidth\":702,\"imageHeight\":336}],\"extras\":null}\\n{\"content\": \"http://com.dataturks.a96-i23.open.s3.amazonaws.com/2c9fafb064277d86016431e33e4e003d/b1a065cf-08e5-49e6-a8a1-00048db8615c___Upcoming-2018-Movie-Movies-Hollywood-Films-English.png\",\"annotation\":[{\"label\":[\"Face\"],\"notes\":\"\",\"points\":[{\"x\":0.44157608695652173,\"y\":0.1111111111111111},{\"x\":0.529891304347826,\"y\":0.2471655328798186}],\"imageWidth\":736,\"imageHeight\":441},{\"label\":[\"Face\"],\"notes\":\"\",\"points\":[{\"x\":0.8165760869565217,\"y\":0.11337868480725624},{\"x\":0.9157608695652174,\"y\":0.2675736961451247}],\"imageWidth\":736,\"imageHeight\":441}],\"extras\":null}\\n{\"content\": \"http://com.dataturks.a96-i23.open.s3.amazonaws.com/2c9fafb064277d86016431e33e4e003d/fc95ba55-8ba3-44b7-977a-664e9f280aa0___vicky-cristina-barcelona-1-1024x683.jpg.jpeg\",\"annotation\":[{\"label\":[\"Face\"],\"notes\":\"\",\"points\":[{\"x\":0.19140625,\"y\":0.23865300146412885},{\"x\":0.2861328125,\"y\":0.383601756954612}],\"imageWidth\":1024,\"imageHeight\":683},{\"label\":[\"Face\"],\"notes\":\"\",\"points\":[{\"x\":0.423828125,\"y\":0.3074670571010249},{\"x\":0.4873046875,\"y\":0.4143484626647145}],\"imageWidth\":1024,\"imageHeight\":683},{\"label\":[\"Face\"],\"notes\":\"\",\"points\":[{\"x\":0.513671875,\"y\":0.31771595900439237},{\"x\":0.5986328125,\"y\":0.465592972181552}],\"imageWidth\":1024,\"imageHeight\":683},{\"label\":[\"Face\"],\"notes\":\"\",\"points\":[{\"x\":0.3154296875,\"y\":0.7247437774524158},{\"x\":0.33984375,\"y\":0.7569546120058566}],\"imageWidth\":1024,\"imageHeight\":683},{\"label\":[\"Face\"],\"notes\":\"\",\"points\":[{\"x\":0.2626953125,\"y\":0.746705710102489},{\"x\":0.2880859375,\"y\":0.7789165446559297}],\"imageWidth\":1024,\"imageHeight\":683}],\"extras\":null}\\n{\"content\": \"http://com.dataturks.a96-i23.open.s3.amazonaws.com/2c9fafb064277d86016431e33e4e003d/c9ae7b83-efa6-4a73-b630-8c4523954d18___violent-action-film.jpg.jpeg\",\"annotation\":[{\"label\":[\"Face\"],\"notes\":\"\",\"points\":[{\"x\":0.546875,\"y\":0.11948051948051948},{\"x\":0.6953125,\"y\":0.38961038961038963}],\"imageWidth\":640,\"imageHeight\":385}],\"extras\":null}\\n{\"content\": \"http://com.dataturks.a96-i23.open.s3.amazonaws.com/2c9fafb064277d86016431e33e4e003d/0f901544-54d9-4b92-8dab-699e09b0751c___we-are-your-friends.JPG.jpeg\",\"annotation\":[{\"label\":[\"Face\"],\"notes\":\"\",\"points\":[{\"x\":0.48863636363636365,\"y\":0.10732538330494037},{\"x\":0.7079545454545455,\"y\":0.444633730834753}],\"imageWidth\":880,\"imageHeight\":587}],\"extras\":null}\\n{\"content\": \"http://com.dataturks.a96-i23.open.s3.amazonaws.com/2c9fafb064277d86016431e33e4e003d/883e4a8c-1de7-407a-92d4-a358981dd29e___website-pic-families-voy.jpg.jpeg\",\"annotation\":[{\"label\":[\"Face\"],\"notes\":\"\",\"points\":[{\"x\":0.35969664138678226,\"y\":0.23835319609967498},{\"x\":0.600216684723727,\"y\":0.4788732394366197}],\"imageWidth\":1357,\"imageHeight\":1357},{\"label\":[\"Face\"],\"notes\":\"\",\"points\":[{\"x\":0.11700975081256772,\"y\":0.38894907908992415},{\"x\":0.3131094257854821,\"y\":0.5969664138678223}],\"imageWidth\":1357,\"imageHeight\":1357},{\"label\":[\"Face\"],\"notes\":\"\",\"points\":[{\"x\":0.5319609967497292,\"y\":0.6164680390032503},{\"x\":0.7313109425785482,\"y\":0.8548212351029253}],\"imageWidth\":1357,\"imageHeight\":1357}],\"extras\":null}\\n{\"content\": \"http://com.dataturks.a96-i23.open.s3.amazonaws.com/2c9fafb064277d86016431e33e4e003d/a3c353ec-cf86-418f-a3d2-ac023c910449___weird-movie-scenes-cover_opt-medium.jpg.jpeg\",\"annotation\":[{\"label\":[\"Face\"],\"notes\":\"\",\"points\":[{\"x\":0.6419753086419753,\"y\":0.3103448275862069},{\"x\":0.7266313932980599,\"y\":0.47648902821316613}],\"imageWidth\":567,\"imageHeight\":319}],\"extras\":null}\\n{\"content\": \"http://com.dataturks.a96-i23.open.s3.amazonaws.com/2c9fafb064277d86016431e33e4e003d/5faa194c-08c3-4f06-a500-2f64d8aa66f1___what-family-means-davies-family-752x427.jpg.jpeg\",\"annotation\":[{\"label\":[\"Face\"],\"notes\":\"\",\"points\":[{\"x\":0.20211898940505296,\"y\":0.14347826086956522},{\"x\":0.2697636511817441,\"y\":0.2768115942028985}],\"imageWidth\":1600,\"imageHeight\":900},{\"label\":[\"Face\"],\"notes\":\"\",\"points\":[{\"x\":0.32681336593317034,\"y\":0.05652173913043478},{\"x\":0.3854930725346373,\"y\":0.20869565217391303}],\"imageWidth\":1600,\"imageHeight\":900},{\"label\":[\"Face\"],\"notes\":\"\",\"points\":[{\"x\":0.38386308068459657,\"y\":0.24492753623188407},{\"x\":0.4392828035859821,\"y\":0.3144927536231884}],\"imageWidth\":1600,\"imageHeight\":900},{\"label\":[\"Face\"],\"notes\":\"\",\"points\":[{\"x\":0.4710676446617767,\"y\":0.23043478260869565},{\"x\":0.5330073349633252,\"y\":0.3565217391304348}],\"imageWidth\":1600,\"imageHeight\":900},{\"label\":[\"Face\"],\"notes\":\"\",\"points\":[{\"x\":0.5615321923390383,\"y\":0.13768115942028986},{\"x\":0.60880195599022,\"y\":0.2463768115942029}],\"imageWidth\":1600,\"imageHeight\":900},{\"label\":[\"Face\"],\"notes\":\"\",\"points\":[{\"x\":0.6674816625916871,\"y\":0.0536231884057971},{\"x\":0.7318663406682967,\"y\":0.17246376811594202}],\"imageWidth\":1600,\"imageHeight\":900},{\"label\":[\"Face\"],\"notes\":\"\",\"points\":[{\"x\":0.771801140994295,\"y\":0.13043478260869565},{\"x\":0.837000814995925,\"y\":0.26666666666666666}],\"imageWidth\":1600,\"imageHeight\":900}],\"extras\":null}\\n{\"content\": \"http://com.dataturks.a96-i23.open.s3.amazonaws.com/2c9fafb064277d86016431e33e4e003d/2af1a0b4-3961-45cc-beb7-2025a8b0da06___wolf-of-wall-street.png\",\"annotation\":[{\"label\":[\"Face\"],\"notes\":\"\",\"points\":[{\"x\":0.4322860238353196,\"y\":0.23381294964028776},{\"x\":0.5882990249187432,\"y\":0.5215827338129496}],\"imageWidth\":1938,\"imageHeight\":1168}],\"extras\":null}\\n{\"content\": \"http://com.dataturks.a96-i23.open.s3.amazonaws.com/2c9fafb064277d86016431e33e4e003d/782782b1-25c1-4a85-b059-5eb5d2ae40c0___x720-4TU.jpg.jpeg\",\"annotation\":[{\"label\":[\"Face\"],\"notes\":\"\",\"points\":[{\"x\":0.1719641401792991,\"y\":0.01884057971014493},{\"x\":0.5990220048899756,\"y\":0.8492753623188406}],\"imageWidth\":1280,\"imageHeight\":720}],\"extras\":null}\\n{\"content\": \"http://com.dataturks.a96-i23.open.s3.amazonaws.com/2c9fafb064277d86016431e33e4e003d/ba0d5ff6-6ce0-4dc5-a254-6fc7cdb57a98___x720-GmW.jpg.jpeg\",\"annotation\":[{\"label\":[\"Face\"],\"notes\":\"\",\"points\":[{\"x\":0.6074380165289256,\"y\":0.09191176470588236},{\"x\":0.90599173553719,\"y\":0.6783088235294118}],\"imageWidth\":1280,\"imageHeight\":720}],\"extras\":null}\\n{\"content\": \"http://com.dataturks.a96-i23.open.s3.amazonaws.com/2c9fafb064277d86016431e33e4e003d/00118bb3-b995-454d-875d-4c898b47dc98___x720-yL1.jpg.jpeg\",\"annotation\":[{\"label\":[\"Face\"],\"notes\":\"\",\"points\":[{\"x\":0.33170334148329256,\"y\":0.005797101449275362},{\"x\":0.49959250203748984,\"y\":0.3521739130434783}],\"imageWidth\":1280,\"imageHeight\":720}],\"extras\":null}\\n{\"content\": \"http://com.dataturks.a96-i23.open.s3.amazonaws.com/2c9fafb064277d86016431e33e4e003d/f53666dd-71bb-4ea1-9467-d802f13b190b___xl_32_cinema-ristoranti-304-tp.jpg.jpeg\",\"annotation\":[{\"label\":[\"Face\"],\"notes\":\"\",\"points\":[{\"x\":0.2021390374331551,\"y\":0.3540856031128405},{\"x\":0.31336898395721924,\"y\":0.6186770428015564}],\"imageWidth\":935,\"imageHeight\":514},{\"label\":[\"Face\"],\"notes\":\"\",\"points\":[{\"x\":0.5807486631016042,\"y\":0.35019455252918286},{\"x\":0.7433155080213903,\"y\":0.6342412451361867}],\"imageWidth\":935,\"imageHeight\":514}],\"extras\":null}\\n{\"content\": \"http://com.dataturks.a96-i23.open.s3.amazonaws.com/2c9fafb064277d86016431e33e4e003d/7dc16042-b8b5-43ab-acd9-ed47d365205f___X-Men-Apocalypse-Most-Popular-English-Movies-2018.jpg.jpeg\",\"annotation\":[{\"label\":[\"Face\"],\"notes\":\"\",\"points\":[{\"x\":0.3201219512195122,\"y\":0.2839756592292089},{\"x\":0.4009146341463415,\"y\":0.4198782961460446}],\"imageWidth\":656,\"imageHeight\":493},{\"label\":[\"Face\"],\"notes\":\"\",\"points\":[{\"x\":0.4557926829268293,\"y\":0.38742393509127787},{\"x\":0.5442073170731707,\"y\":0.5618661257606491}],\"imageWidth\":656,\"imageHeight\":493},{\"label\":[\"Face\"],\"notes\":\"\",\"points\":[{\"x\":0.6707317073170732,\"y\":0.38336713995943206},{\"x\":0.7134146341463414,\"y\":0.4746450304259635}],\"imageWidth\":656,\"imageHeight\":493},{\"label\":[\"Face\"],\"notes\":\"\",\"points\":[{\"x\":0.16615853658536586,\"y\":0.4665314401622718},{\"x\":0.22560975609756098,\"y\":0.563894523326572}],\"imageWidth\":656,\"imageHeight\":493},{\"label\":[\"Face\"],\"notes\":\"\",\"points\":[{\"x\":0.07164634146341463,\"y\":0.539553752535497},{\"x\":0.11280487804878049,\"y\":0.5862068965517241}],\"imageWidth\":656,\"imageHeight\":493},{\"label\":[\"Face\"],\"notes\":\"\",\"points\":[{\"x\":0.25,\"y\":0.24746450304259635},{\"x\":0.2850609756097561,\"y\":0.30425963488843816}],\"imageWidth\":656,\"imageHeight\":493},{\"label\":[\"Face\"],\"notes\":\"\",\"points\":[{\"x\":0.4847560975609756,\"y\":0.2332657200811359},{\"x\":0.5274390243902439,\"y\":0.3225152129817444}],\"imageWidth\":656,\"imageHeight\":493},{\"label\":[\"Face\"],\"notes\":\"\",\"points\":[{\"x\":0.5929878048780488,\"y\":0.31643002028397565},{\"x\":0.6204268292682927,\"y\":0.359026369168357}],\"imageWidth\":656,\"imageHeight\":493},{\"label\":[\"Face\"],\"notes\":\"\",\"points\":[{\"x\":0.7728658536585366,\"y\":0.41379310344827586},{\"x\":0.801829268292683,\"y\":0.45841784989858014}],\"imageWidth\":656,\"imageHeight\":493},{\"label\":[\"Face\"],\"notes\":\"\",\"points\":[{\"x\":0.8033536585365854,\"y\":0.5152129817444219},{\"x\":0.850609756097561,\"y\":0.6267748478701826}],\"imageWidth\":656,\"imageHeight\":493}],\"extras\":null}\\n'}"
            ]
          },
          "metadata": {
            "tags": []
          },
          "execution_count": 2
        }
      ]
    },
    {
      "cell_type": "code",
      "metadata": {
        "id": "RVuMFNkGE_xV",
        "colab_type": "code",
        "outputId": "c0d852bd-6576-4df8-bb9d-4475131359fa",
        "colab": {
          "base_uri": "https://localhost:8080/",
          "height": 309
        }
      },
      "source": [
        "# get links and stuff from json\n",
        "jsonData = []\n",
        "JSONPATH = \"face_detection.json\"\n",
        "with codecs.open(JSONPATH, 'rU', 'utf-8') as js:\n",
        "    for line in js:\n",
        "        jsonData.append(json.loads(line))\n",
        "\n",
        "print(f\"{len(jsonData)} image found!\")\n",
        "\n",
        "print(\"Sample row:\")\n",
        "jsonData[0]"
      ],
      "execution_count": 0,
      "outputs": [
        {
          "output_type": "stream",
          "text": [
            "409 image found!\n",
            "Sample row:\n"
          ],
          "name": "stdout"
        },
        {
          "output_type": "execute_result",
          "data": {
            "text/plain": [
              "{'annotation': [{'imageHeight': 333,\n",
              "   'imageWidth': 650,\n",
              "   'label': ['Face'],\n",
              "   'notes': '',\n",
              "   'points': [{'x': 0.08615384615384615, 'y': 0.3063063063063063},\n",
              "    {'x': 0.1723076923076923, 'y': 0.45345345345345345}]},\n",
              "  {'imageHeight': 333,\n",
              "   'imageWidth': 650,\n",
              "   'label': ['Face'],\n",
              "   'notes': '',\n",
              "   'points': [{'x': 0.583076923076923, 'y': 0.2912912912912913},\n",
              "    {'x': 0.6584615384615384, 'y': 0.46846846846846846}]}],\n",
              " 'content': 'http://com.dataturks.a96-i23.open.s3.amazonaws.com/2c9fafb064277d86016431e33e4e003d/8186c3d1-e9d4-4550-8ec1-a062a7628787___0-26.jpg.jpeg',\n",
              " 'extras': None}"
            ]
          },
          "metadata": {
            "tags": []
          },
          "execution_count": 3
        }
      ]
    },
    {
      "cell_type": "code",
      "metadata": {
        "id": "gN4cX92aE_5c",
        "colab_type": "code",
        "colab": {}
      },
      "source": [
        "import cv2\n",
        "import os\n",
        "def resize_and_save_img(img, path, img_name, size=(400, 400)):\n",
        "    img = np.copy(img)\n",
        "    new_img = cv2.resize(img, size)\n",
        "    path = os.path.join(path, img_name)\n",
        "#     print(path)\n",
        "    cv2.imwrite(path, img)\n",
        "    print(f\"Writing to {path}\")\n",
        "    "
      ],
      "execution_count": 0,
      "outputs": []
    },
    {
      "cell_type": "code",
      "metadata": {
        "id": "doWfRqNFvfPk",
        "colab_type": "code",
        "colab": {}
      },
      "source": [
        "!mkdir images\n",
        "!mkdir original_images"
      ],
      "execution_count": 0,
      "outputs": []
    },
    {
      "cell_type": "code",
      "metadata": {
        "id": "AAmBiIU4E_3j",
        "colab_type": "code",
        "outputId": "1cf3edbe-71ca-4527-e2e9-9de365bcc111",
        "colab": {
          "base_uri": "https://localhost:8080/",
          "height": 1000
        }
      },
      "source": [
        "images = []\n",
        "i = 1\n",
        "for data in tqdm(jsonData):\n",
        "    response = requests.get(data['content'])\n",
        "    img = np.asarray(Image.open(BytesIO(response.content)))\n",
        "    img_name = f\"img_{str(i).zfill(3)}.jpg\"\n",
        "    resize_and_save_img(img, \"./images\", img_name)\n",
        "    resize_and_save_img(img, './original_images', img_name, size=img.shape[:2])\n",
        "    i+=1\n",
        "#     print(img_name)\n",
        "    images.append([img, data[\"annotation\"]])\n",
        "#     break"
      ],
      "execution_count": 0,
      "outputs": [
        {
          "output_type": "stream",
          "text": [
            "\n",
            "  0%|          | 0/409 [00:00<?, ?it/s]\u001b[A\n",
            "  0%|          | 1/409 [00:00<00:58,  6.97it/s]\u001b[A"
          ],
          "name": "stderr"
        },
        {
          "output_type": "stream",
          "text": [
            "Writing to ./images/img_001.jpg\n",
            "Writing to ./original_images/img_001.jpg\n"
          ],
          "name": "stdout"
        },
        {
          "output_type": "stream",
          "text": [
            "\n",
            "  0%|          | 2/409 [00:00<01:08,  5.98it/s]\u001b[A\n",
            "  1%|          | 3/409 [00:00<01:01,  6.58it/s]\u001b[A"
          ],
          "name": "stderr"
        },
        {
          "output_type": "stream",
          "text": [
            "Writing to ./images/img_002.jpg\n",
            "Writing to ./original_images/img_002.jpg\n",
            "Writing to ./images/img_003.jpg\n",
            "Writing to ./original_images/img_003.jpg\n"
          ],
          "name": "stdout"
        },
        {
          "output_type": "stream",
          "text": [
            "\n",
            "  1%|          | 4/409 [00:00<01:00,  6.74it/s]\u001b[A\n",
            "  1%|          | 5/409 [00:00<00:54,  7.35it/s]\u001b[A"
          ],
          "name": "stderr"
        },
        {
          "output_type": "stream",
          "text": [
            "Writing to ./images/img_004.jpg\n",
            "Writing to ./original_images/img_004.jpg\n",
            "Writing to ./images/img_005.jpg\n",
            "Writing to ./original_images/img_005.jpg\n",
            "Writing to ./images/img_006.jpg\n"
          ],
          "name": "stdout"
        },
        {
          "output_type": "stream",
          "text": [
            "\n",
            "  2%|▏         | 7/409 [00:00<00:50,  8.04it/s]\u001b[A"
          ],
          "name": "stderr"
        },
        {
          "output_type": "stream",
          "text": [
            "Writing to ./original_images/img_006.jpg\n",
            "Writing to ./images/img_007.jpg\n",
            "Writing to ./original_images/img_007.jpg\n"
          ],
          "name": "stdout"
        },
        {
          "output_type": "stream",
          "text": [
            "\n",
            "  2%|▏         | 8/409 [00:01<00:59,  6.69it/s]\u001b[A\n",
            "  2%|▏         | 9/409 [00:01<00:57,  6.99it/s]\u001b[A"
          ],
          "name": "stderr"
        },
        {
          "output_type": "stream",
          "text": [
            "Writing to ./images/img_008.jpg\n",
            "Writing to ./original_images/img_008.jpg\n",
            "Writing to ./images/img_009.jpg\n",
            "Writing to ./original_images/img_009.jpg\n"
          ],
          "name": "stdout"
        },
        {
          "output_type": "stream",
          "text": [
            "\n",
            "  2%|▏         | 10/409 [00:01<00:51,  7.68it/s]\u001b[A"
          ],
          "name": "stderr"
        },
        {
          "output_type": "stream",
          "text": [
            "Writing to ./images/img_010.jpg\n",
            "Writing to ./original_images/img_010.jpg\n",
            "Writing to ./images/img_011.jpg\n",
            "Writing to ./original_images/img_011.jpg\n"
          ],
          "name": "stdout"
        },
        {
          "output_type": "stream",
          "text": [
            "\n",
            "  3%|▎         | 12/409 [00:01<00:50,  7.89it/s]\u001b[A"
          ],
          "name": "stderr"
        },
        {
          "output_type": "stream",
          "text": [
            "Writing to ./images/img_012.jpg\n",
            "Writing to ./original_images/img_012.jpg\n",
            "Writing to ./images/img_013.jpg\n"
          ],
          "name": "stdout"
        },
        {
          "output_type": "stream",
          "text": [
            "\n",
            "  3%|▎         | 13/409 [00:02<02:31,  2.61it/s]\u001b[A\n",
            "  3%|▎         | 14/409 [00:02<02:08,  3.08it/s]\u001b[A"
          ],
          "name": "stderr"
        },
        {
          "output_type": "stream",
          "text": [
            "Writing to ./original_images/img_013.jpg\n",
            "Writing to ./images/img_014.jpg\n",
            "Writing to ./original_images/img_014.jpg\n"
          ],
          "name": "stdout"
        },
        {
          "output_type": "stream",
          "text": [
            "\n",
            "  4%|▎         | 15/409 [00:02<01:56,  3.38it/s]\u001b[A\n",
            "  4%|▍         | 16/409 [00:03<01:35,  4.10it/s]\u001b[A"
          ],
          "name": "stderr"
        },
        {
          "output_type": "stream",
          "text": [
            "Writing to ./images/img_015.jpg\n",
            "Writing to ./original_images/img_015.jpg\n",
            "Writing to ./images/img_016.jpg\n",
            "Writing to ./original_images/img_016.jpg\n",
            "Writing to ./images/img_017.jpg\n"
          ],
          "name": "stdout"
        },
        {
          "output_type": "stream",
          "text": [
            "\n",
            "  4%|▍         | 17/409 [00:04<02:56,  2.22it/s]\u001b[A\n",
            "  4%|▍         | 18/409 [00:04<02:22,  2.75it/s]\u001b[A"
          ],
          "name": "stderr"
        },
        {
          "output_type": "stream",
          "text": [
            "Writing to ./original_images/img_017.jpg\n",
            "Writing to ./images/img_018.jpg\n",
            "Writing to ./original_images/img_018.jpg\n"
          ],
          "name": "stdout"
        },
        {
          "output_type": "stream",
          "text": [
            "\n",
            "  5%|▍         | 20/409 [00:04<01:56,  3.35it/s]"
          ],
          "name": "stderr"
        },
        {
          "output_type": "stream",
          "text": [
            "Writing to ./images/img_019.jpg\n",
            "Writing to ./original_images/img_019.jpg\n",
            "Writing to ./images/img_020.jpg\n",
            "Writing to ./original_images/img_020.jpg\n"
          ],
          "name": "stdout"
        },
        {
          "output_type": "stream",
          "text": [
            "\u001b[A\n",
            "  5%|▌         | 22/409 [00:04<01:30,  4.26it/s]\u001b[A\n",
            "  6%|▌         | 23/409 [00:04<01:15,  5.11it/s]\u001b[A"
          ],
          "name": "stderr"
        },
        {
          "output_type": "stream",
          "text": [
            "Writing to ./images/img_021.jpg\n",
            "Writing to ./original_images/img_021.jpg\n",
            "Writing to ./images/img_022.jpg\n",
            "Writing to ./original_images/img_022.jpg\n",
            "Writing to ./images/img_023.jpg\n",
            "Writing to ./original_images/img_023.jpg\n"
          ],
          "name": "stdout"
        },
        {
          "output_type": "stream",
          "text": [
            "\n",
            "  6%|▌         | 25/409 [00:05<01:05,  5.88it/s]\u001b[A"
          ],
          "name": "stderr"
        },
        {
          "output_type": "stream",
          "text": [
            "Writing to ./images/img_024.jpg\n",
            "Writing to ./original_images/img_024.jpg\n",
            "Writing to ./images/img_025.jpg\n",
            "Writing to ./original_images/img_025.jpg\n"
          ],
          "name": "stdout"
        },
        {
          "output_type": "stream",
          "text": [
            "\n",
            "  6%|▋         | 26/409 [00:05<01:09,  5.50it/s]\u001b[A\n"
          ],
          "name": "stderr"
        },
        {
          "output_type": "stream",
          "text": [
            "Writing to ./images/img_026.jpg\n",
            "Writing to ./original_images/img_026.jpg\n",
            "Writing to ./images/img_027.jpg\n",
            "Writing to ./original_images/img_027.jpg\n",
            "Writing to ./images/img_028.jpg\n",
            "Writing to ./original_images/img_028.jpg\n"
          ],
          "name": "stdout"
        },
        {
          "output_type": "stream",
          "text": [
            "  7%|▋         | 28/409 [00:05<00:59,  6.39it/s]\u001b[A\n",
            "  7%|▋         | 29/409 [00:05<00:58,  6.54it/s]\u001b[A\n",
            "  7%|▋         | 30/409 [00:05<00:53,  7.03it/s]\u001b[A"
          ],
          "name": "stderr"
        },
        {
          "output_type": "stream",
          "text": [
            "Writing to ./images/img_029.jpg\n",
            "Writing to ./original_images/img_029.jpg\n",
            "Writing to ./images/img_030.jpg\n",
            "Writing to ./original_images/img_030.jpg\n"
          ],
          "name": "stdout"
        },
        {
          "output_type": "stream",
          "text": [
            "\n",
            "  8%|▊         | 31/409 [00:06<02:35,  2.43it/s]\u001b[A\n",
            "  8%|▊         | 32/409 [00:06<02:01,  3.10it/s]\u001b[A"
          ],
          "name": "stderr"
        },
        {
          "output_type": "stream",
          "text": [
            "Writing to ./images/img_031.jpg\n",
            "Writing to ./original_images/img_031.jpg\n",
            "Writing to ./images/img_032.jpg\n",
            "Writing to ./original_images/img_032.jpg\n"
          ],
          "name": "stdout"
        },
        {
          "output_type": "stream",
          "text": [
            "\n",
            "  8%|▊         | 33/409 [00:07<01:49,  3.44it/s]\u001b[A\n",
            "  8%|▊         | 34/409 [00:07<01:33,  4.01it/s]\u001b[A"
          ],
          "name": "stderr"
        },
        {
          "output_type": "stream",
          "text": [
            "Writing to ./images/img_033.jpg\n",
            "Writing to ./original_images/img_033.jpg\n",
            "Writing to ./images/img_034.jpg\n",
            "Writing to ./original_images/img_034.jpg\n"
          ],
          "name": "stdout"
        },
        {
          "output_type": "stream",
          "text": [
            "\n",
            "  9%|▊         | 35/409 [00:07<01:20,  4.63it/s]\u001b[A\n",
            "  9%|▉         | 36/409 [00:07<01:14,  4.99it/s]\u001b[A"
          ],
          "name": "stderr"
        },
        {
          "output_type": "stream",
          "text": [
            "Writing to ./images/img_035.jpg\n",
            "Writing to ./original_images/img_035.jpg\n",
            "Writing to ./images/img_036.jpg\n",
            "Writing to ./original_images/img_036.jpg\n"
          ],
          "name": "stdout"
        },
        {
          "output_type": "stream",
          "text": [
            "\n",
            "  9%|▉         | 37/409 [00:07<01:06,  5.63it/s]\u001b[A\n",
            "  9%|▉         | 38/409 [00:07<01:06,  5.60it/s]\u001b[A"
          ],
          "name": "stderr"
        },
        {
          "output_type": "stream",
          "text": [
            "Writing to ./images/img_037.jpg\n",
            "Writing to ./original_images/img_037.jpg\n",
            "Writing to ./images/img_038.jpg\n",
            "Writing to ./original_images/img_038.jpg\n"
          ],
          "name": "stdout"
        },
        {
          "output_type": "stream",
          "text": [
            "\n",
            " 10%|▉         | 39/409 [00:07<01:04,  5.72it/s]\u001b[A"
          ],
          "name": "stderr"
        },
        {
          "output_type": "stream",
          "text": [
            "Writing to ./images/img_039.jpg\n",
            "Writing to ./original_images/img_039.jpg\n"
          ],
          "name": "stdout"
        },
        {
          "output_type": "stream",
          "text": [
            "\n",
            " 10%|▉         | 40/409 [00:08<01:12,  5.08it/s]\u001b[A\n",
            " 10%|█         | 41/409 [00:08<01:04,  5.69it/s]\u001b[A"
          ],
          "name": "stderr"
        },
        {
          "output_type": "stream",
          "text": [
            "Writing to ./images/img_040.jpg\n",
            "Writing to ./original_images/img_040.jpg\n",
            "Writing to ./images/img_041.jpg\n",
            "Writing to ./original_images/img_041.jpg\n"
          ],
          "name": "stdout"
        },
        {
          "output_type": "stream",
          "text": [
            "\n",
            " 10%|█         | 42/409 [00:08<01:00,  6.03it/s]\u001b[A\n",
            " 11%|█         | 43/409 [00:08<00:53,  6.83it/s]\u001b[A"
          ],
          "name": "stderr"
        },
        {
          "output_type": "stream",
          "text": [
            "Writing to ./images/img_042.jpg\n",
            "Writing to ./original_images/img_042.jpg\n",
            "Writing to ./images/img_043.jpg\n",
            "Writing to ./original_images/img_043.jpg\n"
          ],
          "name": "stdout"
        },
        {
          "output_type": "stream",
          "text": [
            "\n",
            " 11%|█         | 44/409 [00:08<00:57,  6.36it/s]\u001b[A\n",
            " 11%|█         | 45/409 [00:08<00:55,  6.56it/s]\u001b[A"
          ],
          "name": "stderr"
        },
        {
          "output_type": "stream",
          "text": [
            "Writing to ./images/img_044.jpg\n",
            "Writing to ./original_images/img_044.jpg\n",
            "Writing to ./images/img_045.jpg\n",
            "Writing to ./original_images/img_045.jpg\n"
          ],
          "name": "stdout"
        },
        {
          "output_type": "stream",
          "text": [
            "\n",
            " 11%|█         | 46/409 [00:09<00:54,  6.62it/s]\u001b[A\n",
            " 11%|█▏        | 47/409 [00:09<00:49,  7.27it/s]\u001b[A"
          ],
          "name": "stderr"
        },
        {
          "output_type": "stream",
          "text": [
            "Writing to ./images/img_046.jpg\n",
            "Writing to ./original_images/img_046.jpg\n",
            "Writing to ./images/img_047.jpg\n",
            "Writing to ./original_images/img_047.jpg\n"
          ],
          "name": "stdout"
        },
        {
          "output_type": "stream",
          "text": [
            "\n",
            " 12%|█▏        | 48/409 [00:09<00:59,  6.12it/s]\u001b[A\n",
            " 12%|█▏        | 49/409 [00:09<00:53,  6.76it/s]\u001b[A"
          ],
          "name": "stderr"
        },
        {
          "output_type": "stream",
          "text": [
            "Writing to ./images/img_048.jpg\n",
            "Writing to ./original_images/img_048.jpg\n",
            "Writing to ./images/img_049.jpg\n",
            "Writing to ./original_images/img_049.jpg\n"
          ],
          "name": "stdout"
        },
        {
          "output_type": "stream",
          "text": [
            "\n",
            " 12%|█▏        | 50/409 [00:09<00:57,  6.25it/s]\u001b[A"
          ],
          "name": "stderr"
        },
        {
          "output_type": "stream",
          "text": [
            "Writing to ./images/img_050.jpg\n",
            "Writing to ./original_images/img_050.jpg\n"
          ],
          "name": "stdout"
        },
        {
          "output_type": "stream",
          "text": [
            "\n",
            " 12%|█▏        | 51/409 [00:09<01:03,  5.64it/s]\u001b[A"
          ],
          "name": "stderr"
        },
        {
          "output_type": "stream",
          "text": [
            "Writing to ./images/img_051.jpg\n",
            "Writing to ./original_images/img_051.jpg\n"
          ],
          "name": "stdout"
        },
        {
          "output_type": "stream",
          "text": [
            "\n",
            " 13%|█▎        | 52/409 [00:10<01:06,  5.39it/s]\u001b[A\n",
            " 13%|█▎        | 53/409 [00:10<01:02,  5.71it/s]\u001b[A"
          ],
          "name": "stderr"
        },
        {
          "output_type": "stream",
          "text": [
            "Writing to ./images/img_052.jpg\n",
            "Writing to ./original_images/img_052.jpg\n",
            "Writing to ./images/img_053.jpg\n",
            "Writing to ./original_images/img_053.jpg\n"
          ],
          "name": "stdout"
        },
        {
          "output_type": "stream",
          "text": [
            "\n",
            " 13%|█▎        | 54/409 [00:10<01:05,  5.39it/s]\u001b[A\n",
            " 13%|█▎        | 55/409 [00:10<00:58,  6.05it/s]\u001b[A"
          ],
          "name": "stderr"
        },
        {
          "output_type": "stream",
          "text": [
            "Writing to ./images/img_054.jpg\n",
            "Writing to ./original_images/img_054.jpg\n",
            "Writing to ./images/img_055.jpg\n",
            "Writing to ./original_images/img_055.jpg\n"
          ],
          "name": "stdout"
        },
        {
          "output_type": "stream",
          "text": [
            "\n",
            " 14%|█▎        | 56/409 [00:10<00:56,  6.27it/s]\u001b[A\n",
            " 14%|█▍        | 57/409 [00:10<00:57,  6.12it/s]\u001b[A"
          ],
          "name": "stderr"
        },
        {
          "output_type": "stream",
          "text": [
            "Writing to ./images/img_056.jpg\n",
            "Writing to ./original_images/img_056.jpg\n",
            "Writing to ./images/img_057.jpg\n",
            "Writing to ./original_images/img_057.jpg\n"
          ],
          "name": "stdout"
        },
        {
          "output_type": "stream",
          "text": [
            "\n",
            " 14%|█▍        | 58/409 [00:11<00:54,  6.44it/s]\u001b[A\n",
            " 14%|█▍        | 59/409 [00:11<00:49,  7.09it/s]\u001b[A"
          ],
          "name": "stderr"
        },
        {
          "output_type": "stream",
          "text": [
            "Writing to ./images/img_058.jpg\n",
            "Writing to ./original_images/img_058.jpg\n",
            "Writing to ./images/img_059.jpg\n",
            "Writing to ./original_images/img_059.jpg\n"
          ],
          "name": "stdout"
        },
        {
          "output_type": "stream",
          "text": [
            "\n",
            " 15%|█▍        | 60/409 [00:11<00:46,  7.46it/s]\u001b[A\n",
            " 15%|█▌        | 62/409 [00:11<00:41,  8.39it/s]\u001b[A"
          ],
          "name": "stderr"
        },
        {
          "output_type": "stream",
          "text": [
            "Writing to ./images/img_060.jpg\n",
            "Writing to ./original_images/img_060.jpg\n",
            "Writing to ./images/img_061.jpg\n",
            "Writing to ./original_images/img_061.jpg\n",
            "Writing to ./images/img_062.jpg\n",
            "Writing to ./original_images/img_062.jpg\n"
          ],
          "name": "stdout"
        },
        {
          "output_type": "stream",
          "text": [
            "\n",
            " 15%|█▌        | 63/409 [00:11<00:43,  7.90it/s]\u001b[A\n",
            " 16%|█▌        | 64/409 [00:11<00:48,  7.18it/s]\u001b[A"
          ],
          "name": "stderr"
        },
        {
          "output_type": "stream",
          "text": [
            "Writing to ./images/img_063.jpg\n",
            "Writing to ./original_images/img_063.jpg\n",
            "Writing to ./images/img_064.jpg\n",
            "Writing to ./original_images/img_064.jpg\n"
          ],
          "name": "stdout"
        },
        {
          "output_type": "stream",
          "text": [
            "\n",
            " 16%|█▌        | 65/409 [00:11<00:49,  6.93it/s]\u001b[A"
          ],
          "name": "stderr"
        },
        {
          "output_type": "stream",
          "text": [
            "Writing to ./images/img_065.jpg\n",
            "Writing to ./original_images/img_065.jpg\n"
          ],
          "name": "stdout"
        },
        {
          "output_type": "stream",
          "text": [
            "\n",
            " 16%|█▌        | 66/409 [00:12<00:56,  6.03it/s]\u001b[A\n",
            " 16%|█▋        | 67/409 [00:12<00:51,  6.59it/s]\u001b[A"
          ],
          "name": "stderr"
        },
        {
          "output_type": "stream",
          "text": [
            "Writing to ./images/img_066.jpg\n",
            "Writing to ./original_images/img_066.jpg\n",
            "Writing to ./images/img_067.jpg\n",
            "Writing to ./original_images/img_067.jpg\n"
          ],
          "name": "stdout"
        },
        {
          "output_type": "stream",
          "text": [
            "\n",
            " 17%|█▋        | 68/409 [00:12<01:16,  4.44it/s]\u001b[A"
          ],
          "name": "stderr"
        },
        {
          "output_type": "stream",
          "text": [
            "Writing to ./images/img_068.jpg\n",
            "Writing to ./original_images/img_068.jpg\n",
            "Writing to ./images/img_069.jpg\n",
            "Writing to ./original_images/img_069.jpg\n"
          ],
          "name": "stdout"
        },
        {
          "output_type": "stream",
          "text": [
            "\n",
            " 17%|█▋        | 70/409 [00:12<01:03,  5.33it/s]\u001b[A\n",
            " 17%|█▋        | 71/409 [00:13<01:03,  5.36it/s]\u001b[A"
          ],
          "name": "stderr"
        },
        {
          "output_type": "stream",
          "text": [
            "Writing to ./images/img_070.jpg\n",
            "Writing to ./original_images/img_070.jpg\n",
            "Writing to ./images/img_071.jpg\n",
            "Writing to ./original_images/img_071.jpg\n"
          ],
          "name": "stdout"
        },
        {
          "output_type": "stream",
          "text": [
            "\n",
            " 18%|█▊        | 73/409 [00:13<00:50,  6.62it/s]\u001b[A"
          ],
          "name": "stderr"
        },
        {
          "output_type": "stream",
          "text": [
            "Writing to ./images/img_072.jpg\n",
            "Writing to ./original_images/img_072.jpg\n",
            "Writing to ./images/img_073.jpg\n",
            "Writing to ./original_images/img_073.jpg\n"
          ],
          "name": "stdout"
        },
        {
          "output_type": "stream",
          "text": [
            "\n",
            " 18%|█▊        | 74/409 [00:13<00:56,  5.92it/s]\u001b[A\n",
            " 18%|█▊        | 75/409 [00:13<00:51,  6.47it/s]\u001b[A"
          ],
          "name": "stderr"
        },
        {
          "output_type": "stream",
          "text": [
            "Writing to ./images/img_074.jpg\n",
            "Writing to ./original_images/img_074.jpg\n",
            "Writing to ./images/img_075.jpg\n",
            "Writing to ./original_images/img_075.jpg\n"
          ],
          "name": "stdout"
        },
        {
          "output_type": "stream",
          "text": [
            "\n",
            " 19%|█▉        | 77/409 [00:13<00:47,  7.04it/s]\u001b[A"
          ],
          "name": "stderr"
        },
        {
          "output_type": "stream",
          "text": [
            "Writing to ./images/img_076.jpg\n",
            "Writing to ./original_images/img_076.jpg\n",
            "Writing to ./images/img_077.jpg\n",
            "Writing to ./original_images/img_077.jpg\n"
          ],
          "name": "stdout"
        },
        {
          "output_type": "stream",
          "text": [
            "\n",
            " 19%|█▉        | 78/409 [00:13<00:45,  7.31it/s]\u001b[A\n",
            " 19%|█▉        | 79/409 [00:13<00:45,  7.33it/s]\u001b[A"
          ],
          "name": "stderr"
        },
        {
          "output_type": "stream",
          "text": [
            "Writing to ./images/img_078.jpg\n",
            "Writing to ./original_images/img_078.jpg\n",
            "Writing to ./images/img_079.jpg\n",
            "Writing to ./original_images/img_079.jpg\n"
          ],
          "name": "stdout"
        },
        {
          "output_type": "stream",
          "text": [
            "\n",
            " 20%|█▉        | 80/409 [00:14<00:41,  7.85it/s]\u001b[A\n",
            " 20%|█▉        | 81/409 [00:14<00:44,  7.42it/s]\u001b[A"
          ],
          "name": "stderr"
        },
        {
          "output_type": "stream",
          "text": [
            "Writing to ./images/img_080.jpg\n",
            "Writing to ./original_images/img_080.jpg\n",
            "Writing to ./images/img_081.jpg\n",
            "Writing to ./original_images/img_081.jpg\n"
          ],
          "name": "stdout"
        },
        {
          "output_type": "stream",
          "text": [
            "\n",
            " 20%|██        | 82/409 [00:14<00:45,  7.13it/s]\u001b[A\n",
            " 20%|██        | 83/409 [00:14<00:47,  6.79it/s]\u001b[A"
          ],
          "name": "stderr"
        },
        {
          "output_type": "stream",
          "text": [
            "Writing to ./images/img_082.jpg\n",
            "Writing to ./original_images/img_082.jpg\n",
            "Writing to ./images/img_083.jpg\n",
            "Writing to ./original_images/img_083.jpg\n"
          ],
          "name": "stdout"
        },
        {
          "output_type": "stream",
          "text": [
            "\n",
            " 21%|██        | 84/409 [00:14<00:51,  6.33it/s]\u001b[A"
          ],
          "name": "stderr"
        },
        {
          "output_type": "stream",
          "text": [
            "Writing to ./images/img_084.jpg\n",
            "Writing to ./original_images/img_084.jpg\n"
          ],
          "name": "stdout"
        },
        {
          "output_type": "stream",
          "text": [
            "\n",
            " 21%|██        | 85/409 [00:15<02:15,  2.39it/s]\u001b[A\n",
            " 21%|██        | 86/409 [00:15<01:48,  2.97it/s]\u001b[A"
          ],
          "name": "stderr"
        },
        {
          "output_type": "stream",
          "text": [
            "Writing to ./images/img_085.jpg\n",
            "Writing to ./original_images/img_085.jpg\n",
            "Writing to ./images/img_086.jpg\n",
            "Writing to ./original_images/img_086.jpg\n"
          ],
          "name": "stdout"
        },
        {
          "output_type": "stream",
          "text": [
            "\n",
            " 21%|██▏       | 87/409 [00:16<01:43,  3.12it/s]\u001b[A"
          ],
          "name": "stderr"
        },
        {
          "output_type": "stream",
          "text": [
            "Writing to ./images/img_087.jpg\n",
            "Writing to ./original_images/img_087.jpg\n"
          ],
          "name": "stdout"
        },
        {
          "output_type": "stream",
          "text": [
            "\n",
            " 22%|██▏       | 88/409 [00:16<02:01,  2.64it/s]\u001b[A"
          ],
          "name": "stderr"
        },
        {
          "output_type": "stream",
          "text": [
            "Writing to ./images/img_088.jpg\n",
            "Writing to ./original_images/img_088.jpg\n"
          ],
          "name": "stdout"
        },
        {
          "output_type": "stream",
          "text": [
            "\n",
            " 22%|██▏       | 89/409 [00:16<01:43,  3.10it/s]\u001b[A\n",
            " 22%|██▏       | 90/409 [00:17<01:28,  3.62it/s]\u001b[A"
          ],
          "name": "stderr"
        },
        {
          "output_type": "stream",
          "text": [
            "Writing to ./images/img_089.jpg\n",
            "Writing to ./original_images/img_089.jpg\n",
            "Writing to ./images/img_090.jpg\n",
            "Writing to ./original_images/img_090.jpg\n"
          ],
          "name": "stdout"
        },
        {
          "output_type": "stream",
          "text": [
            "\n",
            " 22%|██▏       | 91/409 [00:17<01:48,  2.93it/s]\u001b[A"
          ],
          "name": "stderr"
        },
        {
          "output_type": "stream",
          "text": [
            "Writing to ./images/img_091.jpg\n",
            "Writing to ./original_images/img_091.jpg\n"
          ],
          "name": "stdout"
        },
        {
          "output_type": "stream",
          "text": [
            "\n",
            " 22%|██▏       | 92/409 [00:17<01:33,  3.39it/s]\u001b[A\n",
            " 23%|██▎       | 93/409 [00:17<01:16,  4.14it/s]\u001b[A"
          ],
          "name": "stderr"
        },
        {
          "output_type": "stream",
          "text": [
            "Writing to ./images/img_092.jpg\n",
            "Writing to ./original_images/img_092.jpg\n",
            "Writing to ./images/img_093.jpg\n",
            "Writing to ./original_images/img_093.jpg\n"
          ],
          "name": "stdout"
        },
        {
          "output_type": "stream",
          "text": [
            "\n",
            " 23%|██▎       | 94/409 [00:17<01:05,  4.80it/s]\u001b[A"
          ],
          "name": "stderr"
        },
        {
          "output_type": "stream",
          "text": [
            "Writing to ./images/img_094.jpg\n",
            "Writing to ./original_images/img_094.jpg\n"
          ],
          "name": "stdout"
        },
        {
          "output_type": "stream",
          "text": [
            "\n",
            " 23%|██▎       | 95/409 [00:18<01:25,  3.69it/s]\u001b[A"
          ],
          "name": "stderr"
        },
        {
          "output_type": "stream",
          "text": [
            "Writing to ./images/img_095.jpg\n",
            "Writing to ./original_images/img_095.jpg\n"
          ],
          "name": "stdout"
        },
        {
          "output_type": "stream",
          "text": [
            "\n",
            " 23%|██▎       | 96/409 [00:18<01:11,  4.38it/s]\u001b[A\n",
            " 24%|██▎       | 97/409 [00:18<00:59,  5.24it/s]\u001b[A"
          ],
          "name": "stderr"
        },
        {
          "output_type": "stream",
          "text": [
            "Writing to ./images/img_096.jpg\n",
            "Writing to ./original_images/img_096.jpg\n",
            "Writing to ./images/img_097.jpg\n",
            "Writing to ./original_images/img_097.jpg\n"
          ],
          "name": "stdout"
        },
        {
          "output_type": "stream",
          "text": [
            "\n",
            " 24%|██▍       | 98/409 [00:18<00:51,  5.98it/s]\u001b[A"
          ],
          "name": "stderr"
        },
        {
          "output_type": "stream",
          "text": [
            "Writing to ./images/img_098.jpg\n",
            "Writing to ./original_images/img_098.jpg\n",
            "Writing to ./images/img_099.jpg\n",
            "Writing to ./original_images/img_099.jpg\n"
          ],
          "name": "stdout"
        },
        {
          "output_type": "stream",
          "text": [
            "\n",
            " 24%|██▍       | 100/409 [00:18<00:46,  6.70it/s]\u001b[A"
          ],
          "name": "stderr"
        },
        {
          "output_type": "stream",
          "text": [
            "Writing to ./images/img_100.jpg\n",
            "Writing to ./original_images/img_100.jpg\n",
            "Writing to ./images/img_101.jpg\n",
            "Writing to ./original_images/img_101.jpg\n"
          ],
          "name": "stdout"
        },
        {
          "output_type": "stream",
          "text": [
            "\n",
            " 25%|██▍       | 101/409 [00:19<00:50,  6.13it/s]\u001b[A\n",
            " 25%|██▍       | 102/409 [00:19<00:48,  6.27it/s]\u001b[A"
          ],
          "name": "stderr"
        },
        {
          "output_type": "stream",
          "text": [
            "Writing to ./images/img_102.jpg\n",
            "Writing to ./original_images/img_102.jpg\n"
          ],
          "name": "stdout"
        },
        {
          "output_type": "stream",
          "text": [
            "\n",
            " 25%|██▌       | 103/409 [00:19<00:54,  5.66it/s]\u001b[A\n",
            " 25%|██▌       | 104/409 [00:19<00:47,  6.41it/s]\u001b[A"
          ],
          "name": "stderr"
        },
        {
          "output_type": "stream",
          "text": [
            "Writing to ./images/img_103.jpg\n",
            "Writing to ./original_images/img_103.jpg\n",
            "Writing to ./images/img_104.jpg\n",
            "Writing to ./original_images/img_104.jpg\n"
          ],
          "name": "stdout"
        },
        {
          "output_type": "stream",
          "text": [
            "\n",
            " 26%|██▌       | 105/409 [00:19<00:42,  7.11it/s]\u001b[A"
          ],
          "name": "stderr"
        },
        {
          "output_type": "stream",
          "text": [
            "Writing to ./images/img_105.jpg\n",
            "Writing to ./original_images/img_105.jpg\n",
            "Writing to ./images/img_106.jpg\n",
            "Writing to ./original_images/img_106.jpg\n"
          ],
          "name": "stdout"
        },
        {
          "output_type": "stream",
          "text": [
            "\n",
            " 26%|██▌       | 107/409 [00:19<00:39,  7.72it/s]\u001b[A\n",
            " 26%|██▋       | 108/409 [00:20<00:40,  7.51it/s]\u001b[A"
          ],
          "name": "stderr"
        },
        {
          "output_type": "stream",
          "text": [
            "Writing to ./images/img_107.jpg\n",
            "Writing to ./original_images/img_107.jpg\n",
            "Writing to ./images/img_108.jpg\n",
            "Writing to ./original_images/img_108.jpg\n"
          ],
          "name": "stdout"
        },
        {
          "output_type": "stream",
          "text": [
            "\n",
            " 27%|██▋       | 110/409 [00:20<00:39,  7.66it/s]\u001b[A"
          ],
          "name": "stderr"
        },
        {
          "output_type": "stream",
          "text": [
            "Writing to ./images/img_109.jpg\n",
            "Writing to ./original_images/img_109.jpg\n",
            "Writing to ./images/img_110.jpg\n",
            "Writing to ./original_images/img_110.jpg\n"
          ],
          "name": "stdout"
        },
        {
          "output_type": "stream",
          "text": [
            "\n",
            " 27%|██▋       | 111/409 [00:20<00:38,  7.82it/s]\u001b[A"
          ],
          "name": "stderr"
        },
        {
          "output_type": "stream",
          "text": [
            "Writing to ./images/img_111.jpg\n",
            "Writing to ./original_images/img_111.jpg\n"
          ],
          "name": "stdout"
        },
        {
          "output_type": "stream",
          "text": [
            "\n",
            " 27%|██▋       | 112/409 [00:20<01:04,  4.59it/s]\u001b[A"
          ],
          "name": "stderr"
        },
        {
          "output_type": "stream",
          "text": [
            "Writing to ./images/img_112.jpg\n",
            "Writing to ./original_images/img_112.jpg\n",
            "Writing to ./images/img_113.jpg\n",
            "Writing to ./original_images/img_113.jpg\n"
          ],
          "name": "stdout"
        },
        {
          "output_type": "stream",
          "text": [
            "\n",
            " 28%|██▊       | 114/409 [00:21<00:58,  5.00it/s]\u001b[A\n",
            " 28%|██▊       | 115/409 [00:21<00:55,  5.28it/s]\u001b[A"
          ],
          "name": "stderr"
        },
        {
          "output_type": "stream",
          "text": [
            "Writing to ./images/img_114.jpg\n",
            "Writing to ./original_images/img_114.jpg\n",
            "Writing to ./images/img_115.jpg\n",
            "Writing to ./original_images/img_115.jpg\n"
          ],
          "name": "stdout"
        },
        {
          "output_type": "stream",
          "text": [
            "\n",
            " 28%|██▊       | 116/409 [00:21<00:53,  5.50it/s]\u001b[A\n",
            " 29%|██▊       | 117/409 [00:21<00:51,  5.62it/s]\u001b[A"
          ],
          "name": "stderr"
        },
        {
          "output_type": "stream",
          "text": [
            "Writing to ./images/img_116.jpg\n",
            "Writing to ./original_images/img_116.jpg\n",
            "Writing to ./images/img_117.jpg\n",
            "Writing to ./original_images/img_117.jpg\n"
          ],
          "name": "stdout"
        },
        {
          "output_type": "stream",
          "text": [
            "\n",
            " 29%|██▉       | 118/409 [00:22<01:07,  4.31it/s]\u001b[A\n",
            " 29%|██▉       | 119/409 [00:22<00:57,  5.06it/s]\u001b[A"
          ],
          "name": "stderr"
        },
        {
          "output_type": "stream",
          "text": [
            "Writing to ./images/img_118.jpg\n",
            "Writing to ./original_images/img_118.jpg\n",
            "Writing to ./images/img_119.jpg\n",
            "Writing to ./original_images/img_119.jpg\n"
          ],
          "name": "stdout"
        },
        {
          "output_type": "stream",
          "text": [
            "\n",
            " 29%|██▉       | 120/409 [00:22<00:49,  5.81it/s]\u001b[A\n",
            " 30%|██▉       | 121/409 [00:22<00:44,  6.43it/s]\u001b[A"
          ],
          "name": "stderr"
        },
        {
          "output_type": "stream",
          "text": [
            "Writing to ./images/img_120.jpg\n",
            "Writing to ./original_images/img_120.jpg\n",
            "Writing to ./images/img_121.jpg\n",
            "Writing to ./original_images/img_121.jpg\n"
          ],
          "name": "stdout"
        },
        {
          "output_type": "stream",
          "text": [
            "\n",
            " 30%|██▉       | 122/409 [00:22<00:40,  7.06it/s]\u001b[A\n",
            " 30%|███       | 123/409 [00:22<00:44,  6.43it/s]\u001b[A"
          ],
          "name": "stderr"
        },
        {
          "output_type": "stream",
          "text": [
            "Writing to ./images/img_122.jpg\n",
            "Writing to ./original_images/img_122.jpg\n",
            "Writing to ./images/img_123.jpg\n",
            "Writing to ./original_images/img_123.jpg\n"
          ],
          "name": "stdout"
        },
        {
          "output_type": "stream",
          "text": [
            "\n",
            " 30%|███       | 124/409 [00:22<00:40,  7.06it/s]\u001b[A"
          ],
          "name": "stderr"
        },
        {
          "output_type": "stream",
          "text": [
            "Writing to ./images/img_124.jpg\n",
            "Writing to ./original_images/img_124.jpg\n",
            "Writing to ./images/img_125.jpg\n"
          ],
          "name": "stdout"
        },
        {
          "output_type": "stream",
          "text": [
            "\n",
            " 31%|███       | 125/409 [00:23<00:47,  6.02it/s]\u001b[A"
          ],
          "name": "stderr"
        },
        {
          "output_type": "stream",
          "text": [
            "Writing to ./original_images/img_125.jpg\n",
            "Writing to ./images/img_126.jpg\n"
          ],
          "name": "stdout"
        },
        {
          "output_type": "stream",
          "text": [
            "\n",
            " 31%|███       | 126/409 [00:23<00:50,  5.60it/s]\u001b[A\n",
            " 31%|███       | 127/409 [00:23<00:51,  5.49it/s]\u001b[A"
          ],
          "name": "stderr"
        },
        {
          "output_type": "stream",
          "text": [
            "Writing to ./original_images/img_126.jpg\n",
            "Writing to ./images/img_127.jpg\n",
            "Writing to ./original_images/img_127.jpg\n"
          ],
          "name": "stdout"
        },
        {
          "output_type": "stream",
          "text": [
            "\n",
            " 31%|███▏      | 128/409 [00:23<00:46,  6.00it/s]\u001b[A\n",
            " 32%|███▏      | 129/409 [00:23<00:45,  6.19it/s]\u001b[A"
          ],
          "name": "stderr"
        },
        {
          "output_type": "stream",
          "text": [
            "Writing to ./images/img_128.jpg\n",
            "Writing to ./original_images/img_128.jpg\n",
            "Writing to ./images/img_129.jpg\n",
            "Writing to ./original_images/img_129.jpg\n"
          ],
          "name": "stdout"
        },
        {
          "output_type": "stream",
          "text": [
            "\n",
            " 32%|███▏      | 130/409 [00:23<00:42,  6.57it/s]\u001b[A"
          ],
          "name": "stderr"
        },
        {
          "output_type": "stream",
          "text": [
            "Writing to ./images/img_130.jpg\n",
            "Writing to ./original_images/img_130.jpg\n"
          ],
          "name": "stdout"
        },
        {
          "output_type": "stream",
          "text": [
            "\n",
            " 32%|███▏      | 131/409 [00:24<01:10,  3.95it/s]\u001b[A"
          ],
          "name": "stderr"
        },
        {
          "output_type": "stream",
          "text": [
            "Writing to ./images/img_131.jpg\n",
            "Writing to ./original_images/img_131.jpg\n"
          ],
          "name": "stdout"
        },
        {
          "output_type": "stream",
          "text": [
            "\n",
            " 32%|███▏      | 132/409 [00:24<01:01,  4.52it/s]\u001b[A\n",
            " 33%|███▎      | 133/409 [00:24<00:54,  5.05it/s]\u001b[A"
          ],
          "name": "stderr"
        },
        {
          "output_type": "stream",
          "text": [
            "Writing to ./images/img_132.jpg\n",
            "Writing to ./original_images/img_132.jpg\n",
            "Writing to ./images/img_133.jpg\n",
            "Writing to ./original_images/img_133.jpg\n"
          ],
          "name": "stdout"
        },
        {
          "output_type": "stream",
          "text": [
            "\n",
            " 33%|███▎      | 134/409 [00:24<00:51,  5.36it/s]\u001b[A\n",
            " 33%|███▎      | 135/409 [00:24<00:49,  5.59it/s]\u001b[A"
          ],
          "name": "stderr"
        },
        {
          "output_type": "stream",
          "text": [
            "Writing to ./images/img_134.jpg\n",
            "Writing to ./original_images/img_134.jpg\n",
            "Writing to ./images/img_135.jpg\n",
            "Writing to ./original_images/img_135.jpg\n"
          ],
          "name": "stdout"
        },
        {
          "output_type": "stream",
          "text": [
            "\n",
            " 33%|███▎      | 136/409 [00:25<00:49,  5.49it/s]\u001b[A\n",
            " 33%|███▎      | 137/409 [00:25<00:47,  5.70it/s]\u001b[A"
          ],
          "name": "stderr"
        },
        {
          "output_type": "stream",
          "text": [
            "Writing to ./images/img_136.jpg\n",
            "Writing to ./original_images/img_136.jpg\n",
            "Writing to ./images/img_137.jpg\n",
            "Writing to ./original_images/img_137.jpg\n"
          ],
          "name": "stdout"
        },
        {
          "output_type": "stream",
          "text": [
            "\n",
            " 34%|███▎      | 138/409 [00:25<00:41,  6.49it/s]\u001b[A\n",
            " 34%|███▍      | 139/409 [00:25<00:39,  6.75it/s]\u001b[A"
          ],
          "name": "stderr"
        },
        {
          "output_type": "stream",
          "text": [
            "Writing to ./images/img_138.jpg\n",
            "Writing to ./original_images/img_138.jpg\n",
            "Writing to ./images/img_139.jpg\n",
            "Writing to ./original_images/img_139.jpg\n"
          ],
          "name": "stdout"
        },
        {
          "output_type": "stream",
          "text": [
            "\n",
            " 34%|███▍      | 140/409 [00:25<00:38,  7.01it/s]\u001b[A\n",
            " 34%|███▍      | 141/409 [00:25<00:40,  6.56it/s]\u001b[A"
          ],
          "name": "stderr"
        },
        {
          "output_type": "stream",
          "text": [
            "Writing to ./images/img_140.jpg\n",
            "Writing to ./original_images/img_140.jpg\n",
            "Writing to ./images/img_141.jpg\n",
            "Writing to ./original_images/img_141.jpg\n"
          ],
          "name": "stdout"
        },
        {
          "output_type": "stream",
          "text": [
            "\n",
            " 35%|███▍      | 142/409 [00:25<00:36,  7.27it/s]\u001b[A"
          ],
          "name": "stderr"
        },
        {
          "output_type": "stream",
          "text": [
            "Writing to ./images/img_142.jpg\n",
            "Writing to ./original_images/img_142.jpg\n",
            "Writing to ./images/img_143.jpg\n",
            "Writing to ./original_images/img_143.jpg\n"
          ],
          "name": "stdout"
        },
        {
          "output_type": "stream",
          "text": [
            "\n",
            " 35%|███▌      | 144/409 [00:26<00:34,  7.71it/s]\u001b[A"
          ],
          "name": "stderr"
        },
        {
          "output_type": "stream",
          "text": [
            "Writing to ./images/img_144.jpg\n",
            "Writing to ./original_images/img_144.jpg\n"
          ],
          "name": "stdout"
        },
        {
          "output_type": "stream",
          "text": [
            "\n",
            " 35%|███▌      | 145/409 [00:26<00:53,  4.93it/s]\u001b[A"
          ],
          "name": "stderr"
        },
        {
          "output_type": "stream",
          "text": [
            "Writing to ./images/img_145.jpg\n",
            "Writing to ./original_images/img_145.jpg\n"
          ],
          "name": "stdout"
        },
        {
          "output_type": "stream",
          "text": [
            "\n",
            " 36%|███▌      | 146/409 [00:26<00:49,  5.32it/s]\u001b[A\n",
            " 36%|███▌      | 147/409 [00:26<00:47,  5.51it/s]\u001b[A"
          ],
          "name": "stderr"
        },
        {
          "output_type": "stream",
          "text": [
            "Writing to ./images/img_146.jpg\n",
            "Writing to ./original_images/img_146.jpg\n",
            "Writing to ./images/img_147.jpg\n",
            "Writing to ./original_images/img_147.jpg\n"
          ],
          "name": "stdout"
        },
        {
          "output_type": "stream",
          "text": [
            "\n",
            " 36%|███▌      | 148/409 [00:26<00:41,  6.34it/s]\u001b[A"
          ],
          "name": "stderr"
        },
        {
          "output_type": "stream",
          "text": [
            "Writing to ./images/img_148.jpg\n",
            "Writing to ./original_images/img_148.jpg\n",
            "Writing to ./images/img_149.jpg\n"
          ],
          "name": "stdout"
        },
        {
          "output_type": "stream",
          "text": [
            "\n",
            " 36%|███▋      | 149/409 [00:28<02:23,  1.82it/s]\u001b[A\n",
            " 37%|███▋      | 150/409 [00:28<01:51,  2.32it/s]\u001b[A"
          ],
          "name": "stderr"
        },
        {
          "output_type": "stream",
          "text": [
            "Writing to ./original_images/img_149.jpg\n",
            "Writing to ./images/img_150.jpg\n",
            "Writing to ./original_images/img_150.jpg\n"
          ],
          "name": "stdout"
        },
        {
          "output_type": "stream",
          "text": [
            "\n",
            " 37%|███▋      | 151/409 [00:28<01:26,  2.99it/s]\u001b[A"
          ],
          "name": "stderr"
        },
        {
          "output_type": "stream",
          "text": [
            "Writing to ./images/img_151.jpg\n",
            "Writing to ./original_images/img_151.jpg\n"
          ],
          "name": "stdout"
        },
        {
          "output_type": "stream",
          "text": [
            "\n",
            " 37%|███▋      | 152/409 [00:28<01:20,  3.21it/s]\u001b[A\n",
            " 37%|███▋      | 153/409 [00:29<01:04,  3.98it/s]\u001b[A"
          ],
          "name": "stderr"
        },
        {
          "output_type": "stream",
          "text": [
            "Writing to ./images/img_152.jpg\n",
            "Writing to ./original_images/img_152.jpg\n",
            "Writing to ./images/img_153.jpg\n",
            "Writing to ./original_images/img_153.jpg\n"
          ],
          "name": "stdout"
        },
        {
          "output_type": "stream",
          "text": [
            "\n",
            " 38%|███▊      | 154/409 [00:29<00:57,  4.43it/s]\u001b[A\n",
            " 38%|███▊      | 155/409 [00:29<00:49,  5.17it/s]\u001b[A"
          ],
          "name": "stderr"
        },
        {
          "output_type": "stream",
          "text": [
            "Writing to ./images/img_154.jpg\n",
            "Writing to ./original_images/img_154.jpg\n",
            "Writing to ./images/img_155.jpg\n",
            "Writing to ./original_images/img_155.jpg\n"
          ],
          "name": "stdout"
        },
        {
          "output_type": "stream",
          "text": [
            "\n",
            " 38%|███▊      | 156/409 [00:29<00:58,  4.32it/s]\u001b[A"
          ],
          "name": "stderr"
        },
        {
          "output_type": "stream",
          "text": [
            "Writing to ./images/img_156.jpg\n",
            "Writing to ./original_images/img_156.jpg\n",
            "Writing to ./images/img_157.jpg\n"
          ],
          "name": "stdout"
        },
        {
          "output_type": "stream",
          "text": [
            "\n",
            " 38%|███▊      | 157/409 [00:29<00:54,  4.63it/s]\u001b[A\n",
            " 39%|███▊      | 158/409 [00:30<00:52,  4.81it/s]\u001b[A"
          ],
          "name": "stderr"
        },
        {
          "output_type": "stream",
          "text": [
            "Writing to ./original_images/img_157.jpg\n",
            "Writing to ./images/img_158.jpg\n",
            "Writing to ./original_images/img_158.jpg\n",
            "Writing to ./images/img_159.jpg\n",
            "Writing to ./original_images/img_159.jpg\n",
            "Writing to ./images/img_160.jpg\n"
          ],
          "name": "stdout"
        },
        {
          "output_type": "stream",
          "text": [
            "\n",
            " 39%|███▉      | 160/409 [00:31<01:18,  3.18it/s]\u001b[A\n",
            " 39%|███▉      | 161/409 [00:31<01:04,  3.87it/s]\u001b[A"
          ],
          "name": "stderr"
        },
        {
          "output_type": "stream",
          "text": [
            "Writing to ./original_images/img_160.jpg\n",
            "Writing to ./images/img_161.jpg\n",
            "Writing to ./original_images/img_161.jpg\n"
          ],
          "name": "stdout"
        },
        {
          "output_type": "stream",
          "text": [
            "\n",
            " 40%|███▉      | 162/409 [00:31<00:59,  4.14it/s]\u001b[A\n"
          ],
          "name": "stderr"
        },
        {
          "output_type": "stream",
          "text": [
            "Writing to ./images/img_162.jpg\n",
            "Writing to ./original_images/img_162.jpg\n",
            "Writing to ./images/img_163.jpg\n",
            "Writing to ./original_images/img_163.jpg\n"
          ],
          "name": "stdout"
        },
        {
          "output_type": "stream",
          "text": [
            " 40%|███▉      | 163/409 [00:31<00:55,  4.42it/s]\u001b[A\n",
            " 40%|████      | 164/409 [00:31<00:54,  4.52it/s]\u001b[A"
          ],
          "name": "stderr"
        },
        {
          "output_type": "stream",
          "text": [
            "Writing to ./images/img_164.jpg\n",
            "Writing to ./original_images/img_164.jpg\n",
            "Writing to ./images/img_165.jpg\n",
            "Writing to ./original_images/img_165.jpg\n"
          ],
          "name": "stdout"
        },
        {
          "output_type": "stream",
          "text": [
            "\n",
            " 40%|████      | 165/409 [00:32<00:51,  4.75it/s]\u001b[A\n",
            " 41%|████      | 166/409 [00:32<00:50,  4.81it/s]\u001b[A\n",
            " 41%|████      | 167/409 [00:32<00:45,  5.30it/s]\u001b[A"
          ],
          "name": "stderr"
        },
        {
          "output_type": "stream",
          "text": [
            "Writing to ./images/img_166.jpg\n",
            "Writing to ./original_images/img_166.jpg\n",
            "Writing to ./images/img_167.jpg\n",
            "Writing to ./original_images/img_167.jpg\n"
          ],
          "name": "stdout"
        },
        {
          "output_type": "stream",
          "text": [
            "\n",
            " 41%|████      | 168/409 [00:32<00:51,  4.64it/s]\u001b[A"
          ],
          "name": "stderr"
        },
        {
          "output_type": "stream",
          "text": [
            "Writing to ./images/img_168.jpg\n",
            "Writing to ./original_images/img_168.jpg\n"
          ],
          "name": "stdout"
        },
        {
          "output_type": "stream",
          "text": [
            "\n",
            " 41%|████▏     | 169/409 [00:32<00:53,  4.52it/s]\u001b[A"
          ],
          "name": "stderr"
        },
        {
          "output_type": "stream",
          "text": [
            "Writing to ./images/img_169.jpg\n",
            "Writing to ./original_images/img_169.jpg\n",
            "Writing to ./images/img_170.jpg\n",
            "Writing to ./original_images/img_170.jpg\n"
          ],
          "name": "stdout"
        },
        {
          "output_type": "stream",
          "text": [
            "\n",
            " 42%|████▏     | 171/409 [00:33<00:46,  5.13it/s]\u001b[A\n",
            " 42%|████▏     | 172/409 [00:33<00:40,  5.92it/s]\u001b[A"
          ],
          "name": "stderr"
        },
        {
          "output_type": "stream",
          "text": [
            "Writing to ./images/img_171.jpg\n",
            "Writing to ./original_images/img_171.jpg\n",
            "Writing to ./images/img_172.jpg\n",
            "Writing to ./original_images/img_172.jpg\n",
            "Writing to ./images/img_173.jpg\n"
          ],
          "name": "stdout"
        },
        {
          "output_type": "stream",
          "text": [
            "\n",
            " 42%|████▏     | 173/409 [00:34<01:45,  2.24it/s]\u001b[A"
          ],
          "name": "stderr"
        },
        {
          "output_type": "stream",
          "text": [
            "Writing to ./original_images/img_173.jpg\n"
          ],
          "name": "stdout"
        },
        {
          "output_type": "stream",
          "text": [
            "\n",
            " 43%|████▎     | 174/409 [00:34<01:48,  2.17it/s]\u001b[A"
          ],
          "name": "stderr"
        },
        {
          "output_type": "stream",
          "text": [
            "Writing to ./images/img_174.jpg\n",
            "Writing to ./original_images/img_174.jpg\n"
          ],
          "name": "stdout"
        },
        {
          "output_type": "stream",
          "text": [
            "\n",
            " 43%|████▎     | 175/409 [00:35<01:24,  2.78it/s]\u001b[A"
          ],
          "name": "stderr"
        },
        {
          "output_type": "stream",
          "text": [
            "Writing to ./images/img_175.jpg\n",
            "Writing to ./original_images/img_175.jpg\n"
          ],
          "name": "stdout"
        },
        {
          "output_type": "stream",
          "text": [
            "\n",
            " 43%|████▎     | 176/409 [00:35<01:14,  3.11it/s]\u001b[A\n",
            " 43%|████▎     | 177/409 [00:35<01:01,  3.77it/s]\u001b[A"
          ],
          "name": "stderr"
        },
        {
          "output_type": "stream",
          "text": [
            "Writing to ./images/img_176.jpg\n",
            "Writing to ./original_images/img_176.jpg\n",
            "Writing to ./images/img_177.jpg\n",
            "Writing to ./original_images/img_177.jpg\n"
          ],
          "name": "stdout"
        },
        {
          "output_type": "stream",
          "text": [
            "\n",
            " 44%|████▎     | 178/409 [00:35<00:50,  4.60it/s]\u001b[A\n",
            " 44%|████▍     | 179/409 [00:35<00:44,  5.21it/s]\u001b[A"
          ],
          "name": "stderr"
        },
        {
          "output_type": "stream",
          "text": [
            "Writing to ./images/img_178.jpg\n",
            "Writing to ./original_images/img_178.jpg\n",
            "Writing to ./images/img_179.jpg\n",
            "Writing to ./original_images/img_179.jpg\n"
          ],
          "name": "stdout"
        },
        {
          "output_type": "stream",
          "text": [
            "\n",
            " 44%|████▍     | 180/409 [00:35<00:40,  5.71it/s]\u001b[A\n",
            " 44%|████▍     | 181/409 [00:35<00:37,  6.07it/s]\u001b[A"
          ],
          "name": "stderr"
        },
        {
          "output_type": "stream",
          "text": [
            "Writing to ./images/img_180.jpg\n",
            "Writing to ./original_images/img_180.jpg\n",
            "Writing to ./images/img_181.jpg\n",
            "Writing to ./original_images/img_181.jpg\n"
          ],
          "name": "stdout"
        },
        {
          "output_type": "stream",
          "text": [
            "\n",
            " 44%|████▍     | 182/409 [00:36<00:38,  5.95it/s]\u001b[A\n",
            " 45%|████▍     | 183/409 [00:36<00:33,  6.77it/s]\u001b[A"
          ],
          "name": "stderr"
        },
        {
          "output_type": "stream",
          "text": [
            "Writing to ./images/img_182.jpg\n",
            "Writing to ./original_images/img_182.jpg\n",
            "Writing to ./images/img_183.jpg\n",
            "Writing to ./original_images/img_183.jpg\n"
          ],
          "name": "stdout"
        },
        {
          "output_type": "stream",
          "text": [
            "\n",
            " 45%|████▍     | 184/409 [00:36<00:33,  6.75it/s]\u001b[A\n",
            " 45%|████▌     | 185/409 [00:36<00:35,  6.37it/s]\u001b[A"
          ],
          "name": "stderr"
        },
        {
          "output_type": "stream",
          "text": [
            "Writing to ./images/img_184.jpg\n",
            "Writing to ./original_images/img_184.jpg\n",
            "Writing to ./images/img_185.jpg\n",
            "Writing to ./original_images/img_185.jpg\n"
          ],
          "name": "stdout"
        },
        {
          "output_type": "stream",
          "text": [
            "\n",
            " 45%|████▌     | 186/409 [00:36<00:32,  6.94it/s]\u001b[A\n",
            " 46%|████▌     | 187/409 [00:36<00:30,  7.23it/s]\u001b[A"
          ],
          "name": "stderr"
        },
        {
          "output_type": "stream",
          "text": [
            "Writing to ./images/img_186.jpg\n",
            "Writing to ./original_images/img_186.jpg\n",
            "Writing to ./images/img_187.jpg\n",
            "Writing to ./original_images/img_187.jpg\n"
          ],
          "name": "stdout"
        },
        {
          "output_type": "stream",
          "text": [
            "\n",
            " 46%|████▌     | 188/409 [00:36<00:34,  6.49it/s]\u001b[A"
          ],
          "name": "stderr"
        },
        {
          "output_type": "stream",
          "text": [
            "Writing to ./images/img_188.jpg\n",
            "Writing to ./original_images/img_188.jpg\n"
          ],
          "name": "stdout"
        },
        {
          "output_type": "stream",
          "text": [
            "\n",
            " 46%|████▌     | 189/409 [00:37<00:46,  4.78it/s]\u001b[A"
          ],
          "name": "stderr"
        },
        {
          "output_type": "stream",
          "text": [
            "Writing to ./images/img_189.jpg\n",
            "Writing to ./original_images/img_189.jpg\n"
          ],
          "name": "stdout"
        },
        {
          "output_type": "stream",
          "text": [
            "\n",
            " 46%|████▋     | 190/409 [00:37<00:42,  5.13it/s]\u001b[A\n",
            " 47%|████▋     | 191/409 [00:37<00:41,  5.31it/s]\u001b[A"
          ],
          "name": "stderr"
        },
        {
          "output_type": "stream",
          "text": [
            "Writing to ./images/img_190.jpg\n",
            "Writing to ./original_images/img_190.jpg\n",
            "Writing to ./images/img_191.jpg\n",
            "Writing to ./original_images/img_191.jpg\n"
          ],
          "name": "stdout"
        },
        {
          "output_type": "stream",
          "text": [
            "\n",
            " 47%|████▋     | 192/409 [00:37<00:40,  5.34it/s]\u001b[A"
          ],
          "name": "stderr"
        },
        {
          "output_type": "stream",
          "text": [
            "Writing to ./images/img_192.jpg\n",
            "Writing to ./original_images/img_192.jpg\n"
          ],
          "name": "stdout"
        },
        {
          "output_type": "stream",
          "text": [
            "\n",
            " 47%|████▋     | 193/409 [00:38<00:42,  5.09it/s]\u001b[A\n",
            " 47%|████▋     | 194/409 [00:38<00:37,  5.70it/s]\u001b[A"
          ],
          "name": "stderr"
        },
        {
          "output_type": "stream",
          "text": [
            "Writing to ./images/img_193.jpg\n",
            "Writing to ./original_images/img_193.jpg\n",
            "Writing to ./images/img_194.jpg\n",
            "Writing to ./original_images/img_194.jpg\n",
            "Writing to ./images/img_195.jpg\n",
            "Writing to ./original_images/img_195.jpg\n",
            "Writing to ./images/img_196.jpg\n"
          ],
          "name": "stdout"
        },
        {
          "output_type": "stream",
          "text": [
            "\n",
            " 48%|████▊     | 196/409 [00:39<01:02,  3.38it/s]\u001b[A\n",
            " 48%|████▊     | 197/409 [00:39<00:53,  3.98it/s]\u001b[A"
          ],
          "name": "stderr"
        },
        {
          "output_type": "stream",
          "text": [
            "Writing to ./original_images/img_196.jpg\n",
            "Writing to ./images/img_197.jpg\n",
            "Writing to ./original_images/img_197.jpg\n",
            "Writing to ./images/img_198.jpg\n",
            "Writing to ./original_images/img_198.jpg\n"
          ],
          "name": "stdout"
        },
        {
          "output_type": "stream",
          "text": [
            "\n",
            " 49%|████▊     | 199/409 [00:39<00:51,  4.05it/s]\u001b[A"
          ],
          "name": "stderr"
        },
        {
          "output_type": "stream",
          "text": [
            "Writing to ./images/img_199.jpg\n",
            "Writing to ./original_images/img_199.jpg\n"
          ],
          "name": "stdout"
        },
        {
          "output_type": "stream",
          "text": [
            "\n",
            " 49%|████▉     | 200/409 [00:40<00:47,  4.43it/s]\u001b[A"
          ],
          "name": "stderr"
        },
        {
          "output_type": "stream",
          "text": [
            "Writing to ./images/img_200.jpg\n",
            "Writing to ./original_images/img_200.jpg\n",
            "Writing to ./images/img_201.jpg\n",
            "Writing to ./original_images/img_201.jpg\n"
          ],
          "name": "stdout"
        },
        {
          "output_type": "stream",
          "text": [
            "\n",
            " 49%|████▉     | 202/409 [00:40<00:39,  5.25it/s]\u001b[A\n",
            " 50%|████▉     | 203/409 [00:40<00:37,  5.44it/s]\u001b[A"
          ],
          "name": "stderr"
        },
        {
          "output_type": "stream",
          "text": [
            "Writing to ./images/img_202.jpg\n",
            "Writing to ./original_images/img_202.jpg\n",
            "Writing to ./images/img_203.jpg\n",
            "Writing to ./original_images/img_203.jpg\n"
          ],
          "name": "stdout"
        },
        {
          "output_type": "stream",
          "text": [
            "\n",
            " 50%|████▉     | 204/409 [00:40<00:39,  5.17it/s]\u001b[A\n",
            " 50%|█████     | 205/409 [00:40<00:37,  5.41it/s]\u001b[A"
          ],
          "name": "stderr"
        },
        {
          "output_type": "stream",
          "text": [
            "Writing to ./images/img_204.jpg\n",
            "Writing to ./original_images/img_204.jpg\n",
            "Writing to ./images/img_205.jpg\n",
            "Writing to ./original_images/img_205.jpg\n"
          ],
          "name": "stdout"
        },
        {
          "output_type": "stream",
          "text": [
            "\n",
            " 50%|█████     | 206/409 [00:40<00:32,  6.22it/s]\u001b[A\n",
            " 51%|█████     | 208/409 [00:41<00:27,  7.28it/s]\u001b[A"
          ],
          "name": "stderr"
        },
        {
          "output_type": "stream",
          "text": [
            "Writing to ./images/img_206.jpg\n",
            "Writing to ./original_images/img_206.jpg\n",
            "Writing to ./images/img_207.jpg\n",
            "Writing to ./original_images/img_207.jpg\n",
            "Writing to ./images/img_208.jpg\n",
            "Writing to ./original_images/img_208.jpg\n"
          ],
          "name": "stdout"
        },
        {
          "output_type": "stream",
          "text": [
            "\n",
            " 51%|█████     | 209/409 [00:41<00:37,  5.40it/s]\u001b[A\n",
            " 51%|█████▏    | 210/409 [00:41<00:32,  6.21it/s]\u001b[A"
          ],
          "name": "stderr"
        },
        {
          "output_type": "stream",
          "text": [
            "Writing to ./images/img_209.jpg\n",
            "Writing to ./original_images/img_209.jpg\n",
            "Writing to ./images/img_210.jpg\n",
            "Writing to ./original_images/img_210.jpg\n"
          ],
          "name": "stdout"
        },
        {
          "output_type": "stream",
          "text": [
            "\n",
            " 52%|█████▏    | 211/409 [00:41<00:30,  6.42it/s]\u001b[A"
          ],
          "name": "stderr"
        },
        {
          "output_type": "stream",
          "text": [
            "Writing to ./images/img_211.jpg\n",
            "Writing to ./original_images/img_211.jpg\n"
          ],
          "name": "stdout"
        },
        {
          "output_type": "stream",
          "text": [
            "\n",
            " 52%|█████▏    | 212/409 [00:41<00:35,  5.54it/s]\u001b[A\n",
            " 52%|█████▏    | 213/409 [00:42<00:35,  5.48it/s]"
          ],
          "name": "stderr"
        },
        {
          "output_type": "stream",
          "text": [
            "Writing to ./images/img_212.jpg\n",
            "Writing to ./original_images/img_212.jpg\n",
            "Writing to ./images/img_213.jpg\n",
            "Writing to ./original_images/img_213.jpg\n"
          ],
          "name": "stdout"
        },
        {
          "output_type": "stream",
          "text": [
            "\u001b[A\n",
            " 52%|█████▏    | 214/409 [00:42<00:32,  6.01it/s]\u001b[A\n",
            " 53%|█████▎    | 215/409 [00:42<00:33,  5.77it/s]\u001b[A"
          ],
          "name": "stderr"
        },
        {
          "output_type": "stream",
          "text": [
            "Writing to ./images/img_214.jpg\n",
            "Writing to ./original_images/img_214.jpg\n",
            "Writing to ./images/img_215.jpg\n",
            "Writing to ./original_images/img_215.jpg\n"
          ],
          "name": "stdout"
        },
        {
          "output_type": "stream",
          "text": [
            "\n",
            " 53%|█████▎    | 216/409 [00:42<00:29,  6.56it/s]\u001b[A"
          ],
          "name": "stderr"
        },
        {
          "output_type": "stream",
          "text": [
            "Writing to ./images/img_216.jpg\n",
            "Writing to ./original_images/img_216.jpg\n"
          ],
          "name": "stdout"
        },
        {
          "output_type": "stream",
          "text": [
            "\n",
            " 53%|█████▎    | 217/409 [00:42<00:35,  5.39it/s]\u001b[A\n",
            " 53%|█████▎    | 218/409 [00:42<00:31,  6.01it/s]\u001b[A"
          ],
          "name": "stderr"
        },
        {
          "output_type": "stream",
          "text": [
            "Writing to ./images/img_217.jpg\n",
            "Writing to ./original_images/img_217.jpg\n",
            "Writing to ./images/img_218.jpg\n",
            "Writing to ./original_images/img_218.jpg\n"
          ],
          "name": "stdout"
        },
        {
          "output_type": "stream",
          "text": [
            "\n",
            " 54%|█████▎    | 219/409 [00:43<00:31,  6.08it/s]\u001b[A"
          ],
          "name": "stderr"
        },
        {
          "output_type": "stream",
          "text": [
            "Writing to ./images/img_219.jpg\n",
            "Writing to ./original_images/img_219.jpg\n",
            "Writing to ./images/img_220.jpg\n"
          ],
          "name": "stdout"
        },
        {
          "output_type": "stream",
          "text": [
            "\n",
            " 54%|█████▍    | 220/409 [00:43<00:34,  5.53it/s]\u001b[A"
          ],
          "name": "stderr"
        },
        {
          "output_type": "stream",
          "text": [
            "Writing to ./original_images/img_220.jpg\n"
          ],
          "name": "stdout"
        },
        {
          "output_type": "stream",
          "text": [
            "\n",
            " 54%|█████▍    | 221/409 [00:43<00:36,  5.13it/s]\u001b[A"
          ],
          "name": "stderr"
        },
        {
          "output_type": "stream",
          "text": [
            "Writing to ./images/img_221.jpg\n",
            "Writing to ./original_images/img_221.jpg\n",
            "Writing to ./images/img_222.jpg\n",
            "Writing to ./original_images/img_222.jpg\n"
          ],
          "name": "stdout"
        },
        {
          "output_type": "stream",
          "text": [
            "\n",
            " 55%|█████▍    | 223/409 [00:43<00:31,  5.85it/s]\u001b[A\n",
            " 55%|█████▍    | 224/409 [00:43<00:29,  6.36it/s]\u001b[A"
          ],
          "name": "stderr"
        },
        {
          "output_type": "stream",
          "text": [
            "Writing to ./images/img_223.jpg\n",
            "Writing to ./original_images/img_223.jpg\n",
            "Writing to ./images/img_224.jpg\n",
            "Writing to ./original_images/img_224.jpg\n"
          ],
          "name": "stdout"
        },
        {
          "output_type": "stream",
          "text": [
            "\n",
            " 55%|█████▌    | 225/409 [00:44<00:35,  5.24it/s]\u001b[A\n",
            " 55%|█████▌    | 226/409 [00:44<00:31,  5.84it/s]\u001b[A"
          ],
          "name": "stderr"
        },
        {
          "output_type": "stream",
          "text": [
            "Writing to ./images/img_225.jpg\n",
            "Writing to ./original_images/img_225.jpg\n",
            "Writing to ./images/img_226.jpg\n",
            "Writing to ./original_images/img_226.jpg\n",
            "Writing to ./images/img_227.jpg\n"
          ],
          "name": "stdout"
        },
        {
          "output_type": "stream",
          "text": [
            "\n",
            " 56%|█████▌    | 227/409 [00:45<01:48,  1.68it/s]\u001b[A\n",
            " 56%|█████▌    | 228/409 [00:45<01:23,  2.18it/s]\u001b[A"
          ],
          "name": "stderr"
        },
        {
          "output_type": "stream",
          "text": [
            "Writing to ./original_images/img_227.jpg\n",
            "Writing to ./images/img_228.jpg\n",
            "Writing to ./original_images/img_228.jpg\n"
          ],
          "name": "stdout"
        },
        {
          "output_type": "stream",
          "text": [
            "\n",
            " 56%|█████▌    | 229/409 [00:46<01:06,  2.71it/s]\u001b[A\n",
            " 56%|█████▌    | 230/409 [00:46<00:52,  3.42it/s]\u001b[A"
          ],
          "name": "stderr"
        },
        {
          "output_type": "stream",
          "text": [
            "Writing to ./images/img_229.jpg\n",
            "Writing to ./original_images/img_229.jpg\n",
            "Writing to ./images/img_230.jpg\n",
            "Writing to ./original_images/img_230.jpg\n"
          ],
          "name": "stdout"
        },
        {
          "output_type": "stream",
          "text": [
            "\n",
            " 57%|█████▋    | 232/409 [00:46<00:42,  4.13it/s]\u001b[A"
          ],
          "name": "stderr"
        },
        {
          "output_type": "stream",
          "text": [
            "Writing to ./images/img_231.jpg\n",
            "Writing to ./original_images/img_231.jpg\n",
            "Writing to ./images/img_232.jpg\n",
            "Writing to ./original_images/img_232.jpg\n"
          ],
          "name": "stdout"
        },
        {
          "output_type": "stream",
          "text": [
            "\n",
            " 57%|█████▋    | 234/409 [00:46<00:37,  4.72it/s]\u001b[A"
          ],
          "name": "stderr"
        },
        {
          "output_type": "stream",
          "text": [
            "Writing to ./images/img_233.jpg\n",
            "Writing to ./original_images/img_233.jpg\n",
            "Writing to ./images/img_234.jpg\n",
            "Writing to ./original_images/img_234.jpg\n"
          ],
          "name": "stdout"
        },
        {
          "output_type": "stream",
          "text": [
            "\n",
            " 57%|█████▋    | 235/409 [00:46<00:35,  4.89it/s]\u001b[A\n",
            " 58%|█████▊    | 237/409 [00:47<00:29,  5.92it/s]\u001b[A"
          ],
          "name": "stderr"
        },
        {
          "output_type": "stream",
          "text": [
            "Writing to ./images/img_235.jpg\n",
            "Writing to ./original_images/img_235.jpg\n",
            "Writing to ./images/img_236.jpg\n",
            "Writing to ./original_images/img_236.jpg\n",
            "Writing to ./images/img_237.jpg\n",
            "Writing to ./original_images/img_237.jpg\n"
          ],
          "name": "stdout"
        },
        {
          "output_type": "stream",
          "text": [
            "\n",
            " 58%|█████▊    | 239/409 [00:47<00:23,  7.18it/s]\u001b[A"
          ],
          "name": "stderr"
        },
        {
          "output_type": "stream",
          "text": [
            "Writing to ./images/img_238.jpg\n",
            "Writing to ./original_images/img_238.jpg\n",
            "Writing to ./images/img_239.jpg\n",
            "Writing to ./original_images/img_239.jpg\n",
            "Writing to ./images/img_240.jpg\n",
            "Writing to ./original_images/img_240.jpg\n"
          ],
          "name": "stdout"
        },
        {
          "output_type": "stream",
          "text": [
            "\n",
            " 59%|█████▉    | 241/409 [00:47<00:21,  7.96it/s]\u001b[A"
          ],
          "name": "stderr"
        },
        {
          "output_type": "stream",
          "text": [
            "Writing to ./images/img_241.jpg\n",
            "Writing to ./original_images/img_241.jpg\n",
            "Writing to ./images/img_242.jpg\n",
            "Writing to ./original_images/img_242.jpg\n"
          ],
          "name": "stdout"
        },
        {
          "output_type": "stream",
          "text": [
            "\n",
            " 59%|█████▉    | 243/409 [00:47<00:20,  7.96it/s]\u001b[A\n",
            " 60%|█████▉    | 244/409 [00:47<00:21,  7.70it/s]\u001b[A"
          ],
          "name": "stderr"
        },
        {
          "output_type": "stream",
          "text": [
            "Writing to ./images/img_243.jpg\n",
            "Writing to ./original_images/img_243.jpg\n",
            "Writing to ./images/img_244.jpg\n",
            "Writing to ./original_images/img_244.jpg\n"
          ],
          "name": "stdout"
        },
        {
          "output_type": "stream",
          "text": [
            "\n",
            " 60%|█████▉    | 245/409 [00:48<00:21,  7.54it/s]\u001b[A\n",
            " 60%|██████    | 246/409 [00:48<00:21,  7.52it/s]\u001b[A"
          ],
          "name": "stderr"
        },
        {
          "output_type": "stream",
          "text": [
            "Writing to ./images/img_245.jpg\n",
            "Writing to ./original_images/img_245.jpg\n",
            "Writing to ./images/img_246.jpg\n",
            "Writing to ./original_images/img_246.jpg\n"
          ],
          "name": "stdout"
        },
        {
          "output_type": "stream",
          "text": [
            "\n",
            " 60%|██████    | 247/409 [00:48<00:21,  7.43it/s]\u001b[A\n",
            " 61%|██████    | 248/409 [00:48<00:22,  7.20it/s]\u001b[A"
          ],
          "name": "stderr"
        },
        {
          "output_type": "stream",
          "text": [
            "Writing to ./images/img_247.jpg\n",
            "Writing to ./original_images/img_247.jpg\n",
            "Writing to ./images/img_248.jpg\n",
            "Writing to ./original_images/img_248.jpg\n"
          ],
          "name": "stdout"
        },
        {
          "output_type": "stream",
          "text": [
            "\n",
            " 61%|██████    | 249/409 [00:48<00:24,  6.51it/s]\u001b[A"
          ],
          "name": "stderr"
        },
        {
          "output_type": "stream",
          "text": [
            "Writing to ./images/img_249.jpg\n",
            "Writing to ./original_images/img_249.jpg\n"
          ],
          "name": "stdout"
        },
        {
          "output_type": "stream",
          "text": [
            "\n",
            " 61%|██████    | 250/409 [00:48<00:27,  5.80it/s]\u001b[A\n",
            " 61%|██████▏   | 251/409 [00:48<00:25,  6.08it/s]\u001b[A"
          ],
          "name": "stderr"
        },
        {
          "output_type": "stream",
          "text": [
            "Writing to ./images/img_250.jpg\n",
            "Writing to ./original_images/img_250.jpg\n",
            "Writing to ./images/img_251.jpg\n",
            "Writing to ./original_images/img_251.jpg\n"
          ],
          "name": "stdout"
        },
        {
          "output_type": "stream",
          "text": [
            "\n",
            " 62%|██████▏   | 252/409 [00:49<00:24,  6.53it/s]\u001b[A\n",
            " 62%|██████▏   | 253/409 [00:49<00:21,  7.09it/s]\u001b[A"
          ],
          "name": "stderr"
        },
        {
          "output_type": "stream",
          "text": [
            "Writing to ./images/img_252.jpg\n",
            "Writing to ./original_images/img_252.jpg\n",
            "Writing to ./images/img_253.jpg\n",
            "Writing to ./original_images/img_253.jpg\n"
          ],
          "name": "stdout"
        },
        {
          "output_type": "stream",
          "text": [
            "\n",
            " 62%|██████▏   | 254/409 [00:49<00:23,  6.53it/s]\u001b[A\n",
            " 62%|██████▏   | 255/409 [00:49<00:24,  6.29it/s]\u001b[A"
          ],
          "name": "stderr"
        },
        {
          "output_type": "stream",
          "text": [
            "Writing to ./images/img_254.jpg\n",
            "Writing to ./original_images/img_254.jpg\n",
            "Writing to ./images/img_255.jpg\n",
            "Writing to ./original_images/img_255.jpg\n"
          ],
          "name": "stdout"
        },
        {
          "output_type": "stream",
          "text": [
            "\n",
            " 63%|██████▎   | 256/409 [00:49<00:26,  5.75it/s]\u001b[A\n",
            " 63%|██████▎   | 257/409 [00:49<00:26,  5.82it/s]\u001b[A"
          ],
          "name": "stderr"
        },
        {
          "output_type": "stream",
          "text": [
            "Writing to ./images/img_256.jpg\n",
            "Writing to ./original_images/img_256.jpg\n",
            "Writing to ./images/img_257.jpg\n",
            "Writing to ./original_images/img_257.jpg\n"
          ],
          "name": "stdout"
        },
        {
          "output_type": "stream",
          "text": [
            "\n",
            " 63%|██████▎   | 258/409 [00:50<00:27,  5.54it/s]\u001b[A\n",
            " 63%|██████▎   | 259/409 [00:50<00:25,  5.82it/s]\u001b[A"
          ],
          "name": "stderr"
        },
        {
          "output_type": "stream",
          "text": [
            "Writing to ./images/img_258.jpg\n",
            "Writing to ./original_images/img_258.jpg\n",
            "Writing to ./images/img_259.jpg\n",
            "Writing to ./original_images/img_259.jpg\n"
          ],
          "name": "stdout"
        },
        {
          "output_type": "stream",
          "text": [
            "\n",
            " 64%|██████▎   | 260/409 [00:50<00:22,  6.51it/s]\u001b[A\n",
            " 64%|██████▍   | 261/409 [00:50<00:21,  6.96it/s]\u001b[A"
          ],
          "name": "stderr"
        },
        {
          "output_type": "stream",
          "text": [
            "Writing to ./images/img_260.jpg\n",
            "Writing to ./original_images/img_260.jpg\n",
            "Writing to ./images/img_261.jpg\n",
            "Writing to ./original_images/img_261.jpg\n"
          ],
          "name": "stdout"
        },
        {
          "output_type": "stream",
          "text": [
            "\n",
            " 64%|██████▍   | 263/409 [00:50<00:18,  8.02it/s]\u001b[A"
          ],
          "name": "stderr"
        },
        {
          "output_type": "stream",
          "text": [
            "Writing to ./images/img_262.jpg\n",
            "Writing to ./original_images/img_262.jpg\n",
            "Writing to ./images/img_263.jpg\n",
            "Writing to ./original_images/img_263.jpg\n"
          ],
          "name": "stdout"
        },
        {
          "output_type": "stream",
          "text": [
            "\n",
            " 65%|██████▍   | 264/409 [00:50<00:19,  7.30it/s]\u001b[A\n",
            " 65%|██████▍   | 265/409 [00:50<00:19,  7.44it/s]\u001b[A"
          ],
          "name": "stderr"
        },
        {
          "output_type": "stream",
          "text": [
            "Writing to ./images/img_264.jpg\n",
            "Writing to ./original_images/img_264.jpg\n",
            "Writing to ./images/img_265.jpg\n",
            "Writing to ./original_images/img_265.jpg\n"
          ],
          "name": "stdout"
        },
        {
          "output_type": "stream",
          "text": [
            "\n",
            " 65%|██████▌   | 266/409 [00:51<00:19,  7.21it/s]\u001b[A"
          ],
          "name": "stderr"
        },
        {
          "output_type": "stream",
          "text": [
            "Writing to ./images/img_266.jpg\n",
            "Writing to ./original_images/img_266.jpg\n"
          ],
          "name": "stdout"
        },
        {
          "output_type": "stream",
          "text": [
            "\n",
            " 65%|██████▌   | 267/409 [00:51<00:24,  5.79it/s]\u001b[A"
          ],
          "name": "stderr"
        },
        {
          "output_type": "stream",
          "text": [
            "Writing to ./images/img_267.jpg\n",
            "Writing to ./original_images/img_267.jpg\n",
            "Writing to ./images/img_268.jpg\n"
          ],
          "name": "stdout"
        },
        {
          "output_type": "stream",
          "text": [
            "\n",
            " 66%|██████▌   | 268/409 [00:51<00:24,  5.87it/s]\u001b[A\n",
            " 66%|██████▌   | 269/409 [00:51<00:22,  6.09it/s]\u001b[A"
          ],
          "name": "stderr"
        },
        {
          "output_type": "stream",
          "text": [
            "Writing to ./original_images/img_268.jpg\n",
            "Writing to ./images/img_269.jpg\n",
            "Writing to ./original_images/img_269.jpg\n"
          ],
          "name": "stdout"
        },
        {
          "output_type": "stream",
          "text": [
            "\n",
            " 66%|██████▌   | 270/409 [00:51<00:24,  5.67it/s]\u001b[A\n",
            " 66%|██████▋   | 271/409 [00:52<00:23,  5.75it/s]\u001b[A"
          ],
          "name": "stderr"
        },
        {
          "output_type": "stream",
          "text": [
            "Writing to ./images/img_270.jpg\n",
            "Writing to ./original_images/img_270.jpg\n",
            "Writing to ./images/img_271.jpg\n",
            "Writing to ./original_images/img_271.jpg\n"
          ],
          "name": "stdout"
        },
        {
          "output_type": "stream",
          "text": [
            "\n",
            " 67%|██████▋   | 273/409 [00:52<00:21,  6.38it/s]\u001b[A"
          ],
          "name": "stderr"
        },
        {
          "output_type": "stream",
          "text": [
            "Writing to ./images/img_272.jpg\n",
            "Writing to ./original_images/img_272.jpg\n",
            "Writing to ./images/img_273.jpg\n",
            "Writing to ./original_images/img_273.jpg\n"
          ],
          "name": "stdout"
        },
        {
          "output_type": "stream",
          "text": [
            "\n",
            " 67%|██████▋   | 274/409 [00:52<00:22,  6.00it/s]\u001b[A\n",
            " 67%|██████▋   | 275/409 [00:52<00:19,  6.80it/s]\u001b[A"
          ],
          "name": "stderr"
        },
        {
          "output_type": "stream",
          "text": [
            "Writing to ./images/img_274.jpg\n",
            "Writing to ./original_images/img_274.jpg\n",
            "Writing to ./images/img_275.jpg\n",
            "Writing to ./original_images/img_275.jpg\n"
          ],
          "name": "stdout"
        },
        {
          "output_type": "stream",
          "text": [
            "\n",
            " 67%|██████▋   | 276/409 [00:52<00:20,  6.39it/s]\u001b[A\n",
            " 68%|██████▊   | 277/409 [00:52<00:21,  6.19it/s]\u001b[A"
          ],
          "name": "stderr"
        },
        {
          "output_type": "stream",
          "text": [
            "Writing to ./images/img_276.jpg\n",
            "Writing to ./original_images/img_276.jpg\n",
            "Writing to ./images/img_277.jpg\n",
            "Writing to ./original_images/img_277.jpg\n"
          ],
          "name": "stdout"
        },
        {
          "output_type": "stream",
          "text": [
            "\n",
            " 68%|██████▊   | 278/409 [00:53<00:18,  6.92it/s]\u001b[A\n",
            " 68%|██████▊   | 279/409 [00:53<00:18,  7.11it/s]\u001b[A"
          ],
          "name": "stderr"
        },
        {
          "output_type": "stream",
          "text": [
            "Writing to ./images/img_278.jpg\n",
            "Writing to ./original_images/img_278.jpg\n",
            "Writing to ./images/img_279.jpg\n",
            "Writing to ./original_images/img_279.jpg\n"
          ],
          "name": "stdout"
        },
        {
          "output_type": "stream",
          "text": [
            "\n",
            " 68%|██████▊   | 280/409 [00:53<00:17,  7.24it/s]\u001b[A"
          ],
          "name": "stderr"
        },
        {
          "output_type": "stream",
          "text": [
            "Writing to ./images/img_280.jpg\n",
            "Writing to ./original_images/img_280.jpg\n",
            "Writing to ./images/img_281.jpg\n"
          ],
          "name": "stdout"
        },
        {
          "output_type": "stream",
          "text": [
            "\n",
            " 69%|██████▊   | 281/409 [00:53<00:19,  6.47it/s]\u001b[A\n",
            " 69%|██████▉   | 282/409 [00:53<00:18,  6.79it/s]\u001b[A"
          ],
          "name": "stderr"
        },
        {
          "output_type": "stream",
          "text": [
            "Writing to ./original_images/img_281.jpg\n",
            "Writing to ./images/img_282.jpg\n",
            "Writing to ./original_images/img_282.jpg\n"
          ],
          "name": "stdout"
        },
        {
          "output_type": "stream",
          "text": [
            "\n",
            " 69%|██████▉   | 283/409 [00:53<00:18,  6.96it/s]\u001b[A\n",
            " 69%|██████▉   | 284/409 [00:53<00:18,  6.80it/s]\u001b[A"
          ],
          "name": "stderr"
        },
        {
          "output_type": "stream",
          "text": [
            "Writing to ./images/img_283.jpg\n",
            "Writing to ./original_images/img_283.jpg\n",
            "Writing to ./images/img_284.jpg\n",
            "Writing to ./original_images/img_284.jpg\n"
          ],
          "name": "stdout"
        },
        {
          "output_type": "stream",
          "text": [
            "\n",
            " 70%|██████▉   | 285/409 [00:54<00:17,  7.07it/s]\u001b[A\n",
            " 70%|██████▉   | 286/409 [00:54<00:18,  6.49it/s]\u001b[A"
          ],
          "name": "stderr"
        },
        {
          "output_type": "stream",
          "text": [
            "Writing to ./images/img_285.jpg\n",
            "Writing to ./original_images/img_285.jpg\n",
            "Writing to ./images/img_286.jpg\n",
            "Writing to ./original_images/img_286.jpg\n"
          ],
          "name": "stdout"
        },
        {
          "output_type": "stream",
          "text": [
            "\n",
            " 70%|███████   | 287/409 [00:54<00:19,  6.39it/s]\u001b[A\n",
            " 70%|███████   | 288/409 [00:54<00:19,  6.13it/s]\u001b[A"
          ],
          "name": "stderr"
        },
        {
          "output_type": "stream",
          "text": [
            "Writing to ./images/img_287.jpg\n",
            "Writing to ./original_images/img_287.jpg\n",
            "Writing to ./images/img_288.jpg\n",
            "Writing to ./original_images/img_288.jpg\n"
          ],
          "name": "stdout"
        },
        {
          "output_type": "stream",
          "text": [
            "\n",
            " 71%|███████   | 289/409 [00:54<00:23,  5.19it/s]\u001b[A\n",
            " 71%|███████   | 290/409 [00:55<00:22,  5.34it/s]\u001b[A"
          ],
          "name": "stderr"
        },
        {
          "output_type": "stream",
          "text": [
            "Writing to ./images/img_289.jpg\n",
            "Writing to ./original_images/img_289.jpg\n",
            "Writing to ./images/img_290.jpg\n",
            "Writing to ./original_images/img_290.jpg\n"
          ],
          "name": "stdout"
        },
        {
          "output_type": "stream",
          "text": [
            "\n",
            " 71%|███████   | 291/409 [00:55<00:21,  5.61it/s]\u001b[A\n",
            " 71%|███████▏  | 292/409 [00:55<00:19,  5.92it/s]\u001b[A"
          ],
          "name": "stderr"
        },
        {
          "output_type": "stream",
          "text": [
            "Writing to ./images/img_291.jpg\n",
            "Writing to ./original_images/img_291.jpg\n",
            "Writing to ./images/img_292.jpg\n",
            "Writing to ./original_images/img_292.jpg\n"
          ],
          "name": "stdout"
        },
        {
          "output_type": "stream",
          "text": [
            "\n",
            " 72%|███████▏  | 293/409 [00:55<00:23,  4.93it/s]\u001b[A"
          ],
          "name": "stderr"
        },
        {
          "output_type": "stream",
          "text": [
            "Writing to ./images/img_293.jpg\n",
            "Writing to ./original_images/img_293.jpg\n",
            "Writing to ./images/img_294.jpg\n"
          ],
          "name": "stdout"
        },
        {
          "output_type": "stream",
          "text": [
            "\n",
            " 72%|███████▏  | 294/409 [00:55<00:23,  4.98it/s]\u001b[A"
          ],
          "name": "stderr"
        },
        {
          "output_type": "stream",
          "text": [
            "Writing to ./original_images/img_294.jpg\n",
            "Writing to ./images/img_295.jpg\n"
          ],
          "name": "stdout"
        },
        {
          "output_type": "stream",
          "text": [
            "\n",
            " 72%|███████▏  | 295/409 [00:56<00:23,  4.84it/s]\u001b[A\n",
            " 72%|███████▏  | 296/409 [00:56<00:21,  5.18it/s]\u001b[A"
          ],
          "name": "stderr"
        },
        {
          "output_type": "stream",
          "text": [
            "Writing to ./original_images/img_295.jpg\n",
            "Writing to ./images/img_296.jpg\n",
            "Writing to ./original_images/img_296.jpg\n"
          ],
          "name": "stdout"
        },
        {
          "output_type": "stream",
          "text": [
            "\n",
            " 73%|███████▎  | 297/409 [00:56<00:19,  5.74it/s]\u001b[A"
          ],
          "name": "stderr"
        },
        {
          "output_type": "stream",
          "text": [
            "Writing to ./images/img_297.jpg\n",
            "Writing to ./original_images/img_297.jpg\n",
            "Writing to ./images/img_298.jpg\n",
            "Writing to ./original_images/img_298.jpg\n"
          ],
          "name": "stdout"
        },
        {
          "output_type": "stream",
          "text": [
            "\n",
            " 73%|███████▎  | 299/409 [00:56<00:17,  6.42it/s]\u001b[A"
          ],
          "name": "stderr"
        },
        {
          "output_type": "stream",
          "text": [
            "Writing to ./images/img_299.jpg\n",
            "Writing to ./original_images/img_299.jpg\n"
          ],
          "name": "stdout"
        },
        {
          "output_type": "stream",
          "text": [
            "\n",
            " 73%|███████▎  | 300/409 [00:56<00:21,  5.01it/s]\u001b[A\n",
            " 74%|███████▎  | 301/409 [00:56<00:18,  5.75it/s]\u001b[A"
          ],
          "name": "stderr"
        },
        {
          "output_type": "stream",
          "text": [
            "Writing to ./images/img_300.jpg\n",
            "Writing to ./original_images/img_300.jpg\n",
            "Writing to ./images/img_301.jpg\n",
            "Writing to ./original_images/img_301.jpg\n"
          ],
          "name": "stdout"
        },
        {
          "output_type": "stream",
          "text": [
            "\n",
            " 74%|███████▍  | 302/409 [00:57<00:25,  4.22it/s]\u001b[A"
          ],
          "name": "stderr"
        },
        {
          "output_type": "stream",
          "text": [
            "Writing to ./images/img_302.jpg\n",
            "Writing to ./original_images/img_302.jpg\n",
            "Writing to ./images/img_303.jpg\n",
            "Writing to ./original_images/img_303.jpg\n"
          ],
          "name": "stdout"
        },
        {
          "output_type": "stream",
          "text": [
            "\n",
            " 74%|███████▍  | 304/409 [00:57<00:20,  5.05it/s]\u001b[A"
          ],
          "name": "stderr"
        },
        {
          "output_type": "stream",
          "text": [
            "Writing to ./images/img_304.jpg\n",
            "Writing to ./original_images/img_304.jpg\n"
          ],
          "name": "stdout"
        },
        {
          "output_type": "stream",
          "text": [
            "\n",
            " 75%|███████▍  | 305/409 [00:57<00:22,  4.52it/s]\u001b[A"
          ],
          "name": "stderr"
        },
        {
          "output_type": "stream",
          "text": [
            "Writing to ./images/img_305.jpg\n",
            "Writing to ./original_images/img_305.jpg\n",
            "Writing to ./images/img_306.jpg\n"
          ],
          "name": "stdout"
        },
        {
          "output_type": "stream",
          "text": [
            "\n",
            " 75%|███████▍  | 306/409 [00:57<00:21,  4.85it/s]\u001b[A"
          ],
          "name": "stderr"
        },
        {
          "output_type": "stream",
          "text": [
            "Writing to ./original_images/img_306.jpg\n"
          ],
          "name": "stdout"
        },
        {
          "output_type": "stream",
          "text": [
            "\n",
            " 75%|███████▌  | 307/409 [00:58<00:21,  4.67it/s]\u001b[A"
          ],
          "name": "stderr"
        },
        {
          "output_type": "stream",
          "text": [
            "Writing to ./images/img_307.jpg\n",
            "Writing to ./original_images/img_307.jpg\n"
          ],
          "name": "stdout"
        },
        {
          "output_type": "stream",
          "text": [
            "\n",
            " 75%|███████▌  | 308/409 [00:58<00:22,  4.55it/s]\u001b[A\n",
            " 76%|███████▌  | 309/409 [00:58<00:18,  5.32it/s]\u001b[A"
          ],
          "name": "stderr"
        },
        {
          "output_type": "stream",
          "text": [
            "Writing to ./images/img_308.jpg\n",
            "Writing to ./original_images/img_308.jpg\n",
            "Writing to ./images/img_309.jpg\n",
            "Writing to ./original_images/img_309.jpg\n"
          ],
          "name": "stdout"
        },
        {
          "output_type": "stream",
          "text": [
            "\n",
            " 76%|███████▌  | 310/409 [00:58<00:16,  5.88it/s]\u001b[A"
          ],
          "name": "stderr"
        },
        {
          "output_type": "stream",
          "text": [
            "Writing to ./images/img_310.jpg\n",
            "Writing to ./original_images/img_310.jpg\n"
          ],
          "name": "stdout"
        },
        {
          "output_type": "stream",
          "text": [
            "\n",
            " 76%|███████▌  | 311/409 [00:58<00:19,  5.09it/s]\u001b[A"
          ],
          "name": "stderr"
        },
        {
          "output_type": "stream",
          "text": [
            "Writing to ./images/img_311.jpg\n",
            "Writing to ./original_images/img_311.jpg\n"
          ],
          "name": "stdout"
        },
        {
          "output_type": "stream",
          "text": [
            "\n",
            " 76%|███████▋  | 312/409 [00:59<00:19,  4.98it/s]\u001b[A\n"
          ],
          "name": "stderr"
        },
        {
          "output_type": "stream",
          "text": [
            "Writing to ./images/img_312.jpg\n",
            "Writing to ./original_images/img_312.jpg\n",
            "Writing to ./images/img_313.jpg\n",
            "Writing to ./original_images/img_313.jpg\n",
            "Writing to ./images/img_314.jpg\n",
            "Writing to ./original_images/img_314.jpg\n"
          ],
          "name": "stdout"
        },
        {
          "output_type": "stream",
          "text": [
            " 77%|███████▋  | 314/409 [00:59<00:16,  5.89it/s]\u001b[A\n",
            " 77%|███████▋  | 316/409 [00:59<00:14,  6.38it/s]\u001b[A"
          ],
          "name": "stderr"
        },
        {
          "output_type": "stream",
          "text": [
            "Writing to ./images/img_315.jpg\n",
            "Writing to ./original_images/img_315.jpg\n",
            "Writing to ./images/img_316.jpg\n",
            "Writing to ./original_images/img_316.jpg\n"
          ],
          "name": "stdout"
        },
        {
          "output_type": "stream",
          "text": [
            "\n",
            " 78%|███████▊  | 317/409 [00:59<00:16,  5.48it/s]\u001b[A"
          ],
          "name": "stderr"
        },
        {
          "output_type": "stream",
          "text": [
            "Writing to ./images/img_317.jpg\n",
            "Writing to ./original_images/img_317.jpg\n"
          ],
          "name": "stdout"
        },
        {
          "output_type": "stream",
          "text": [
            "\n",
            " 78%|███████▊  | 318/409 [01:00<00:18,  4.98it/s]\u001b[A"
          ],
          "name": "stderr"
        },
        {
          "output_type": "stream",
          "text": [
            "Writing to ./images/img_318.jpg\n",
            "Writing to ./original_images/img_318.jpg\n",
            "Writing to ./images/img_319.jpg\n"
          ],
          "name": "stdout"
        },
        {
          "output_type": "stream",
          "text": [
            "\n",
            " 78%|███████▊  | 319/409 [01:00<00:17,  5.13it/s]\u001b[A\n",
            " 78%|███████▊  | 320/409 [01:00<00:15,  5.80it/s]\u001b[A"
          ],
          "name": "stderr"
        },
        {
          "output_type": "stream",
          "text": [
            "Writing to ./original_images/img_319.jpg\n",
            "Writing to ./images/img_320.jpg\n",
            "Writing to ./original_images/img_320.jpg\n"
          ],
          "name": "stdout"
        },
        {
          "output_type": "stream",
          "text": [
            "\n",
            " 78%|███████▊  | 321/409 [01:00<00:13,  6.59it/s]\u001b[A\n",
            " 79%|███████▊  | 322/409 [01:00<00:14,  6.18it/s]\u001b[A"
          ],
          "name": "stderr"
        },
        {
          "output_type": "stream",
          "text": [
            "Writing to ./images/img_321.jpg\n",
            "Writing to ./original_images/img_321.jpg\n",
            "Writing to ./images/img_322.jpg\n",
            "Writing to ./original_images/img_322.jpg\n"
          ],
          "name": "stdout"
        },
        {
          "output_type": "stream",
          "text": [
            "\n",
            " 79%|███████▉  | 323/409 [01:00<00:17,  5.04it/s]\u001b[A\n"
          ],
          "name": "stderr"
        },
        {
          "output_type": "stream",
          "text": [
            "Writing to ./images/img_323.jpg\n",
            "Writing to ./original_images/img_323.jpg\n",
            "Writing to ./images/img_324.jpg\n",
            "Writing to ./original_images/img_324.jpg\n"
          ],
          "name": "stdout"
        },
        {
          "output_type": "stream",
          "text": [
            " 79%|███████▉  | 324/409 [01:01<00:16,  5.19it/s]\u001b[A\n",
            " 79%|███████▉  | 325/409 [01:01<00:14,  5.75it/s]\u001b[A"
          ],
          "name": "stderr"
        },
        {
          "output_type": "stream",
          "text": [
            "Writing to ./images/img_325.jpg\n",
            "Writing to ./original_images/img_325.jpg\n"
          ],
          "name": "stdout"
        },
        {
          "output_type": "stream",
          "text": [
            "\n",
            " 80%|███████▉  | 326/409 [01:01<00:15,  5.33it/s]\u001b[A"
          ],
          "name": "stderr"
        },
        {
          "output_type": "stream",
          "text": [
            "Writing to ./images/img_326.jpg\n",
            "Writing to ./original_images/img_326.jpg\n",
            "Writing to ./images/img_327.jpg\n"
          ],
          "name": "stdout"
        },
        {
          "output_type": "stream",
          "text": [
            "\n",
            " 80%|███████▉  | 327/409 [01:01<00:16,  5.09it/s]\u001b[A\n",
            " 80%|████████  | 328/409 [01:01<00:15,  5.30it/s]\u001b[A"
          ],
          "name": "stderr"
        },
        {
          "output_type": "stream",
          "text": [
            "Writing to ./original_images/img_327.jpg\n",
            "Writing to ./images/img_328.jpg\n",
            "Writing to ./original_images/img_328.jpg\n"
          ],
          "name": "stdout"
        },
        {
          "output_type": "stream",
          "text": [
            "\n",
            " 81%|████████  | 330/409 [01:02<00:13,  5.71it/s]\u001b[A"
          ],
          "name": "stderr"
        },
        {
          "output_type": "stream",
          "text": [
            "Writing to ./images/img_329.jpg\n",
            "Writing to ./original_images/img_329.jpg\n",
            "Writing to ./images/img_330.jpg\n",
            "Writing to ./original_images/img_330.jpg\n"
          ],
          "name": "stdout"
        },
        {
          "output_type": "stream",
          "text": [
            "\n",
            " 81%|████████  | 331/409 [01:02<00:13,  5.68it/s]\u001b[A\n",
            " 81%|████████  | 332/409 [01:02<00:12,  5.98it/s]\u001b[A"
          ],
          "name": "stderr"
        },
        {
          "output_type": "stream",
          "text": [
            "Writing to ./images/img_331.jpg\n",
            "Writing to ./original_images/img_331.jpg\n",
            "Writing to ./images/img_332.jpg\n",
            "Writing to ./original_images/img_332.jpg\n"
          ],
          "name": "stdout"
        },
        {
          "output_type": "stream",
          "text": [
            "\n",
            " 81%|████████▏ | 333/409 [01:02<00:12,  6.18it/s]\u001b[A\n",
            " 82%|████████▏ | 334/409 [01:02<00:12,  5.95it/s]\u001b[A"
          ],
          "name": "stderr"
        },
        {
          "output_type": "stream",
          "text": [
            "Writing to ./images/img_333.jpg\n",
            "Writing to ./original_images/img_333.jpg\n",
            "Writing to ./images/img_334.jpg\n",
            "Writing to ./original_images/img_334.jpg\n"
          ],
          "name": "stdout"
        },
        {
          "output_type": "stream",
          "text": [
            "\n",
            " 82%|████████▏ | 335/409 [01:02<00:11,  6.27it/s]\u001b[A\n",
            " 82%|████████▏ | 336/409 [01:03<00:10,  6.75it/s]\u001b[A"
          ],
          "name": "stderr"
        },
        {
          "output_type": "stream",
          "text": [
            "Writing to ./images/img_335.jpg\n",
            "Writing to ./original_images/img_335.jpg\n",
            "Writing to ./images/img_336.jpg\n",
            "Writing to ./original_images/img_336.jpg\n"
          ],
          "name": "stdout"
        },
        {
          "output_type": "stream",
          "text": [
            "\n",
            " 82%|████████▏ | 337/409 [01:03<00:12,  5.80it/s]\u001b[A\n",
            " 83%|████████▎ | 338/409 [01:03<00:11,  5.95it/s]\u001b[A"
          ],
          "name": "stderr"
        },
        {
          "output_type": "stream",
          "text": [
            "Writing to ./images/img_337.jpg\n",
            "Writing to ./original_images/img_337.jpg\n",
            "Writing to ./images/img_338.jpg\n",
            "Writing to ./original_images/img_338.jpg\n"
          ],
          "name": "stdout"
        },
        {
          "output_type": "stream",
          "text": [
            "\n",
            " 83%|████████▎ | 339/409 [01:03<00:10,  6.43it/s]\u001b[A"
          ],
          "name": "stderr"
        },
        {
          "output_type": "stream",
          "text": [
            "Writing to ./images/img_339.jpg\n",
            "Writing to ./original_images/img_339.jpg\n"
          ],
          "name": "stdout"
        },
        {
          "output_type": "stream",
          "text": [
            "\n",
            " 83%|████████▎ | 340/409 [01:03<00:11,  5.82it/s]\u001b[A\n",
            " 83%|████████▎ | 341/409 [01:03<00:10,  6.41it/s]\u001b[A"
          ],
          "name": "stderr"
        },
        {
          "output_type": "stream",
          "text": [
            "Writing to ./images/img_340.jpg\n",
            "Writing to ./original_images/img_340.jpg\n",
            "Writing to ./images/img_341.jpg\n",
            "Writing to ./original_images/img_341.jpg\n"
          ],
          "name": "stdout"
        },
        {
          "output_type": "stream",
          "text": [
            "\n",
            " 84%|████████▎ | 342/409 [01:04<00:10,  6.11it/s]\u001b[A\n",
            " 84%|████████▍ | 343/409 [01:04<00:10,  6.57it/s]\u001b[A"
          ],
          "name": "stderr"
        },
        {
          "output_type": "stream",
          "text": [
            "Writing to ./images/img_342.jpg\n",
            "Writing to ./original_images/img_342.jpg\n",
            "Writing to ./images/img_343.jpg\n",
            "Writing to ./original_images/img_343.jpg\n"
          ],
          "name": "stdout"
        },
        {
          "output_type": "stream",
          "text": [
            "\n",
            " 84%|████████▍ | 344/409 [01:04<00:15,  4.15it/s]\u001b[A\n"
          ],
          "name": "stderr"
        },
        {
          "output_type": "stream",
          "text": [
            "Writing to ./images/img_344.jpg\n",
            "Writing to ./original_images/img_344.jpg\n",
            "Writing to ./images/img_345.jpg\n",
            "Writing to ./original_images/img_345.jpg\n",
            "Writing to ./images/img_346.jpg\n",
            "Writing to ./original_images/img_346.jpg\n"
          ],
          "name": "stdout"
        },
        {
          "output_type": "stream",
          "text": [
            " 85%|████████▍ | 346/409 [01:04<00:12,  5.08it/s]\u001b[A\n",
            " 85%|████████▍ | 347/409 [01:04<00:10,  5.85it/s]\u001b[A\n",
            " 85%|████████▌ | 348/409 [01:05<00:10,  5.86it/s]\u001b[A"
          ],
          "name": "stderr"
        },
        {
          "output_type": "stream",
          "text": [
            "Writing to ./images/img_347.jpg\n",
            "Writing to ./original_images/img_347.jpg\n",
            "Writing to ./images/img_348.jpg\n",
            "Writing to ./original_images/img_348.jpg\n"
          ],
          "name": "stdout"
        },
        {
          "output_type": "stream",
          "text": [
            "\n",
            " 85%|████████▌ | 349/409 [01:05<00:10,  5.97it/s]\u001b[A\n",
            " 86%|████████▌ | 350/409 [01:05<00:08,  6.69it/s]\u001b[A"
          ],
          "name": "stderr"
        },
        {
          "output_type": "stream",
          "text": [
            "Writing to ./images/img_349.jpg\n",
            "Writing to ./original_images/img_349.jpg\n",
            "Writing to ./images/img_350.jpg\n",
            "Writing to ./original_images/img_350.jpg\n"
          ],
          "name": "stdout"
        },
        {
          "output_type": "stream",
          "text": [
            "\n",
            " 86%|████████▌ | 351/409 [01:05<00:09,  6.40it/s]\u001b[A\n",
            " 86%|████████▌ | 352/409 [01:05<00:09,  6.01it/s]\u001b[A"
          ],
          "name": "stderr"
        },
        {
          "output_type": "stream",
          "text": [
            "Writing to ./images/img_351.jpg\n",
            "Writing to ./original_images/img_351.jpg\n",
            "Writing to ./images/img_352.jpg\n",
            "Writing to ./original_images/img_352.jpg\n"
          ],
          "name": "stdout"
        },
        {
          "output_type": "stream",
          "text": [
            "\n",
            " 86%|████████▋ | 353/409 [01:06<00:11,  5.05it/s]\u001b[A\n",
            " 87%|████████▋ | 354/409 [01:06<00:09,  5.70it/s]\u001b[A"
          ],
          "name": "stderr"
        },
        {
          "output_type": "stream",
          "text": [
            "Writing to ./images/img_353.jpg\n",
            "Writing to ./original_images/img_353.jpg\n",
            "Writing to ./images/img_354.jpg\n",
            "Writing to ./original_images/img_354.jpg\n"
          ],
          "name": "stdout"
        },
        {
          "output_type": "stream",
          "text": [
            "\n",
            " 87%|████████▋ | 355/409 [01:06<00:09,  5.42it/s]\u001b[A"
          ],
          "name": "stderr"
        },
        {
          "output_type": "stream",
          "text": [
            "Writing to ./images/img_355.jpg\n",
            "Writing to ./original_images/img_355.jpg\n"
          ],
          "name": "stdout"
        },
        {
          "output_type": "stream",
          "text": [
            "\n",
            " 87%|████████▋ | 356/409 [01:06<00:10,  5.08it/s]\u001b[A"
          ],
          "name": "stderr"
        },
        {
          "output_type": "stream",
          "text": [
            "Writing to ./images/img_356.jpg\n",
            "Writing to ./original_images/img_356.jpg\n",
            "Writing to ./images/img_357.jpg\n"
          ],
          "name": "stdout"
        },
        {
          "output_type": "stream",
          "text": [
            "\n",
            " 87%|████████▋ | 357/409 [01:06<00:10,  5.08it/s]\u001b[A"
          ],
          "name": "stderr"
        },
        {
          "output_type": "stream",
          "text": [
            "Writing to ./original_images/img_357.jpg\n"
          ],
          "name": "stdout"
        },
        {
          "output_type": "stream",
          "text": [
            "\n",
            " 88%|████████▊ | 358/409 [01:07<00:17,  2.91it/s]\u001b[A"
          ],
          "name": "stderr"
        },
        {
          "output_type": "stream",
          "text": [
            "Writing to ./images/img_358.jpg\n",
            "Writing to ./original_images/img_358.jpg\n"
          ],
          "name": "stdout"
        },
        {
          "output_type": "stream",
          "text": [
            "\n",
            " 88%|████████▊ | 359/409 [01:07<00:15,  3.26it/s]\u001b[A\n",
            " 88%|████████▊ | 360/409 [01:07<00:12,  3.77it/s]\u001b[A"
          ],
          "name": "stderr"
        },
        {
          "output_type": "stream",
          "text": [
            "Writing to ./images/img_359.jpg\n",
            "Writing to ./original_images/img_359.jpg\n",
            "Writing to ./images/img_360.jpg\n",
            "Writing to ./original_images/img_360.jpg\n"
          ],
          "name": "stdout"
        },
        {
          "output_type": "stream",
          "text": [
            "\n",
            " 89%|████████▊ | 362/409 [01:08<00:10,  4.52it/s]\u001b[A"
          ],
          "name": "stderr"
        },
        {
          "output_type": "stream",
          "text": [
            "Writing to ./images/img_361.jpg\n",
            "Writing to ./original_images/img_361.jpg\n",
            "Writing to ./images/img_362.jpg\n",
            "Writing to ./original_images/img_362.jpg\n"
          ],
          "name": "stdout"
        },
        {
          "output_type": "stream",
          "text": [
            "\n",
            " 89%|████████▉ | 363/409 [01:08<00:09,  4.60it/s]\u001b[A"
          ],
          "name": "stderr"
        },
        {
          "output_type": "stream",
          "text": [
            "Writing to ./images/img_363.jpg\n",
            "Writing to ./original_images/img_363.jpg\n",
            "Writing to ./images/img_364.jpg\n"
          ],
          "name": "stdout"
        },
        {
          "output_type": "stream",
          "text": [
            "\n",
            " 89%|████████▉ | 364/409 [01:09<00:17,  2.51it/s]\u001b[A"
          ],
          "name": "stderr"
        },
        {
          "output_type": "stream",
          "text": [
            "Writing to ./original_images/img_364.jpg\n"
          ],
          "name": "stdout"
        },
        {
          "output_type": "stream",
          "text": [
            "\n",
            " 89%|████████▉ | 365/409 [01:09<00:16,  2.67it/s]\u001b[A"
          ],
          "name": "stderr"
        },
        {
          "output_type": "stream",
          "text": [
            "Writing to ./images/img_365.jpg\n",
            "Writing to ./original_images/img_365.jpg\n"
          ],
          "name": "stdout"
        },
        {
          "output_type": "stream",
          "text": [
            "\n",
            " 89%|████████▉ | 366/409 [01:09<00:13,  3.19it/s]\u001b[A\n",
            " 90%|████████▉ | 367/409 [01:09<00:10,  3.92it/s]\u001b[A"
          ],
          "name": "stderr"
        },
        {
          "output_type": "stream",
          "text": [
            "Writing to ./images/img_366.jpg\n",
            "Writing to ./original_images/img_366.jpg\n",
            "Writing to ./images/img_367.jpg\n",
            "Writing to ./original_images/img_367.jpg\n"
          ],
          "name": "stdout"
        },
        {
          "output_type": "stream",
          "text": [
            "\n",
            " 90%|████████▉ | 368/409 [01:09<00:09,  4.44it/s]\u001b[A\n",
            " 90%|█████████ | 370/409 [01:10<00:07,  5.40it/s]\u001b[A"
          ],
          "name": "stderr"
        },
        {
          "output_type": "stream",
          "text": [
            "Writing to ./images/img_368.jpg\n",
            "Writing to ./original_images/img_368.jpg\n",
            "Writing to ./images/img_369.jpg\n",
            "Writing to ./original_images/img_369.jpg\n",
            "Writing to ./images/img_370.jpg\n",
            "Writing to ./original_images/img_370.jpg\n"
          ],
          "name": "stdout"
        },
        {
          "output_type": "stream",
          "text": [
            "\n",
            " 91%|█████████ | 371/409 [01:10<00:06,  5.95it/s]\u001b[A\n",
            " 91%|█████████ | 372/409 [01:10<00:05,  6.61it/s]\u001b[A"
          ],
          "name": "stderr"
        },
        {
          "output_type": "stream",
          "text": [
            "Writing to ./images/img_371.jpg\n",
            "Writing to ./original_images/img_371.jpg\n",
            "Writing to ./images/img_372.jpg\n",
            "Writing to ./original_images/img_372.jpg\n"
          ],
          "name": "stdout"
        },
        {
          "output_type": "stream",
          "text": [
            "\n",
            " 91%|█████████ | 373/409 [01:10<00:05,  6.84it/s]\u001b[A\n",
            " 92%|█████████▏| 375/409 [01:10<00:04,  7.66it/s]\u001b[A"
          ],
          "name": "stderr"
        },
        {
          "output_type": "stream",
          "text": [
            "Writing to ./images/img_373.jpg\n",
            "Writing to ./original_images/img_373.jpg\n",
            "Writing to ./images/img_374.jpg\n",
            "Writing to ./original_images/img_374.jpg\n",
            "Writing to ./images/img_375.jpg\n",
            "Writing to ./original_images/img_375.jpg\n"
          ],
          "name": "stdout"
        },
        {
          "output_type": "stream",
          "text": [
            "\n",
            " 92%|█████████▏| 376/409 [01:11<00:08,  3.83it/s]\u001b[A"
          ],
          "name": "stderr"
        },
        {
          "output_type": "stream",
          "text": [
            "Writing to ./images/img_376.jpg\n",
            "Writing to ./original_images/img_376.jpg\n"
          ],
          "name": "stdout"
        },
        {
          "output_type": "stream",
          "text": [
            "\n",
            " 92%|█████████▏| 377/409 [01:11<00:08,  3.86it/s]\u001b[A"
          ],
          "name": "stderr"
        },
        {
          "output_type": "stream",
          "text": [
            "Writing to ./images/img_377.jpg\n",
            "Writing to ./original_images/img_377.jpg\n"
          ],
          "name": "stdout"
        },
        {
          "output_type": "stream",
          "text": [
            "\n",
            " 92%|█████████▏| 378/409 [01:11<00:08,  3.65it/s]\u001b[A"
          ],
          "name": "stderr"
        },
        {
          "output_type": "stream",
          "text": [
            "Writing to ./images/img_378.jpg\n",
            "Writing to ./original_images/img_378.jpg\n",
            "Writing to ./images/img_379.jpg\n",
            "Writing to ./original_images/img_379.jpg\n"
          ],
          "name": "stdout"
        },
        {
          "output_type": "stream",
          "text": [
            "\n",
            " 93%|█████████▎| 380/409 [01:12<00:07,  4.06it/s]\u001b[A"
          ],
          "name": "stderr"
        },
        {
          "output_type": "stream",
          "text": [
            "Writing to ./images/img_380.jpg\n",
            "Writing to ./original_images/img_380.jpg\n",
            "Writing to ./images/img_381.jpg\n"
          ],
          "name": "stdout"
        },
        {
          "output_type": "stream",
          "text": [
            "\n",
            " 93%|█████████▎| 381/409 [01:12<00:06,  4.44it/s]\u001b[A"
          ],
          "name": "stderr"
        },
        {
          "output_type": "stream",
          "text": [
            "Writing to ./original_images/img_381.jpg\n",
            "Writing to ./images/img_382.jpg\n",
            "Writing to ./original_images/img_382.jpg\n"
          ],
          "name": "stdout"
        },
        {
          "output_type": "stream",
          "text": [
            "\n",
            " 94%|█████████▎| 383/409 [01:12<00:05,  5.07it/s]\u001b[A"
          ],
          "name": "stderr"
        },
        {
          "output_type": "stream",
          "text": [
            "Writing to ./images/img_383.jpg\n",
            "Writing to ./original_images/img_383.jpg\n"
          ],
          "name": "stdout"
        },
        {
          "output_type": "stream",
          "text": [
            "\n",
            " 94%|█████████▍| 384/409 [01:12<00:05,  4.92it/s]\u001b[A\n",
            " 94%|█████████▍| 386/409 [01:12<00:03,  5.95it/s]\u001b[A"
          ],
          "name": "stderr"
        },
        {
          "output_type": "stream",
          "text": [
            "Writing to ./images/img_384.jpg\n",
            "Writing to ./original_images/img_384.jpg\n",
            "Writing to ./images/img_385.jpg\n",
            "Writing to ./original_images/img_385.jpg\n",
            "Writing to ./images/img_386.jpg\n",
            "Writing to ./original_images/img_386.jpg\n"
          ],
          "name": "stdout"
        },
        {
          "output_type": "stream",
          "text": [
            "\n",
            " 95%|█████████▍| 388/409 [01:13<00:03,  6.90it/s]\u001b[A"
          ],
          "name": "stderr"
        },
        {
          "output_type": "stream",
          "text": [
            "Writing to ./images/img_387.jpg\n",
            "Writing to ./original_images/img_387.jpg\n",
            "Writing to ./images/img_388.jpg\n",
            "Writing to ./original_images/img_388.jpg\n"
          ],
          "name": "stdout"
        },
        {
          "output_type": "stream",
          "text": [
            "\n",
            " 95%|█████████▌| 389/409 [01:13<00:03,  6.14it/s]\u001b[A"
          ],
          "name": "stderr"
        },
        {
          "output_type": "stream",
          "text": [
            "Writing to ./images/img_389.jpg\n",
            "Writing to ./original_images/img_389.jpg\n"
          ],
          "name": "stdout"
        },
        {
          "output_type": "stream",
          "text": [
            "\n",
            " 95%|█████████▌| 390/409 [01:13<00:03,  5.54it/s]\u001b[A"
          ],
          "name": "stderr"
        },
        {
          "output_type": "stream",
          "text": [
            "Writing to ./images/img_390.jpg\n",
            "Writing to ./original_images/img_390.jpg\n"
          ],
          "name": "stdout"
        },
        {
          "output_type": "stream",
          "text": [
            "\n",
            " 96%|█████████▌| 391/409 [01:13<00:03,  5.34it/s]\u001b[A"
          ],
          "name": "stderr"
        },
        {
          "output_type": "stream",
          "text": [
            "Writing to ./images/img_391.jpg\n",
            "Writing to ./original_images/img_391.jpg\n",
            "Writing to ./images/img_392.jpg\n",
            "Writing to ./original_images/img_392.jpg\n"
          ],
          "name": "stdout"
        },
        {
          "output_type": "stream",
          "text": [
            "\n",
            " 96%|█████████▌| 393/409 [01:14<00:02,  5.82it/s]\u001b[A\n",
            " 96%|█████████▋| 394/409 [01:14<00:02,  6.17it/s]\u001b[A"
          ],
          "name": "stderr"
        },
        {
          "output_type": "stream",
          "text": [
            "Writing to ./images/img_393.jpg\n",
            "Writing to ./original_images/img_393.jpg\n",
            "Writing to ./images/img_394.jpg\n",
            "Writing to ./original_images/img_394.jpg\n"
          ],
          "name": "stdout"
        },
        {
          "output_type": "stream",
          "text": [
            "\n",
            " 97%|█████████▋| 395/409 [01:14<00:02,  5.83it/s]\u001b[A\n",
            " 97%|█████████▋| 396/409 [01:14<00:02,  6.09it/s]\u001b[A"
          ],
          "name": "stderr"
        },
        {
          "output_type": "stream",
          "text": [
            "Writing to ./images/img_395.jpg\n",
            "Writing to ./original_images/img_395.jpg\n",
            "Writing to ./images/img_396.jpg\n",
            "Writing to ./original_images/img_396.jpg\n"
          ],
          "name": "stdout"
        },
        {
          "output_type": "stream",
          "text": [
            "\n",
            " 97%|█████████▋| 397/409 [01:14<00:02,  5.81it/s]\u001b[A\n",
            " 97%|█████████▋| 398/409 [01:14<00:01,  5.82it/s]\u001b[A"
          ],
          "name": "stderr"
        },
        {
          "output_type": "stream",
          "text": [
            "Writing to ./images/img_397.jpg\n",
            "Writing to ./original_images/img_397.jpg\n",
            "Writing to ./images/img_398.jpg\n",
            "Writing to ./original_images/img_398.jpg\n"
          ],
          "name": "stdout"
        },
        {
          "output_type": "stream",
          "text": [
            "\n",
            " 98%|█████████▊| 399/409 [01:15<00:01,  6.19it/s]\u001b[A\n",
            " 98%|█████████▊| 400/409 [01:15<00:01,  6.39it/s]\u001b[A"
          ],
          "name": "stderr"
        },
        {
          "output_type": "stream",
          "text": [
            "Writing to ./images/img_399.jpg\n",
            "Writing to ./original_images/img_399.jpg\n",
            "Writing to ./images/img_400.jpg\n",
            "Writing to ./original_images/img_400.jpg\n"
          ],
          "name": "stdout"
        },
        {
          "output_type": "stream",
          "text": [
            "\n",
            " 98%|█████████▊| 401/409 [01:15<00:01,  5.27it/s]\u001b[A"
          ],
          "name": "stderr"
        },
        {
          "output_type": "stream",
          "text": [
            "Writing to ./images/img_401.jpg\n",
            "Writing to ./original_images/img_401.jpg\n",
            "Writing to ./images/img_402.jpg\n",
            "Writing to ./original_images/img_402.jpg\n"
          ],
          "name": "stdout"
        },
        {
          "output_type": "stream",
          "text": [
            "\n",
            " 99%|█████████▊| 403/409 [01:15<00:01,  5.75it/s]\u001b[A"
          ],
          "name": "stderr"
        },
        {
          "output_type": "stream",
          "text": [
            "Writing to ./images/img_403.jpg\n",
            "Writing to ./original_images/img_403.jpg\n"
          ],
          "name": "stdout"
        },
        {
          "output_type": "stream",
          "text": [
            "\n",
            " 99%|█████████▉| 404/409 [01:16<00:01,  4.41it/s]\u001b[A"
          ],
          "name": "stderr"
        },
        {
          "output_type": "stream",
          "text": [
            "Writing to ./images/img_404.jpg\n",
            "Writing to ./original_images/img_404.jpg\n"
          ],
          "name": "stdout"
        },
        {
          "output_type": "stream",
          "text": [
            "\n",
            " 99%|█████████▉| 405/409 [01:16<00:00,  4.71it/s]\u001b[A\n",
            " 99%|█████████▉| 406/409 [01:16<00:00,  5.02it/s]\u001b[A"
          ],
          "name": "stderr"
        },
        {
          "output_type": "stream",
          "text": [
            "Writing to ./images/img_405.jpg\n",
            "Writing to ./original_images/img_405.jpg\n",
            "Writing to ./images/img_406.jpg\n",
            "Writing to ./original_images/img_406.jpg\n"
          ],
          "name": "stdout"
        },
        {
          "output_type": "stream",
          "text": [
            "\n",
            "100%|█████████▉| 407/409 [01:16<00:00,  5.35it/s]\u001b[A\n",
            "100%|█████████▉| 408/409 [01:16<00:00,  5.76it/s]\u001b[A"
          ],
          "name": "stderr"
        },
        {
          "output_type": "stream",
          "text": [
            "Writing to ./images/img_407.jpg\n",
            "Writing to ./original_images/img_407.jpg\n",
            "Writing to ./images/img_408.jpg\n",
            "Writing to ./original_images/img_408.jpg\n"
          ],
          "name": "stdout"
        },
        {
          "output_type": "stream",
          "text": [
            "\n",
            "100%|██████████| 409/409 [01:16<00:00,  6.06it/s]\u001b[A\n",
            "\u001b[A"
          ],
          "name": "stderr"
        },
        {
          "output_type": "stream",
          "text": [
            "Writing to ./images/img_409.jpg\n",
            "Writing to ./original_images/img_409.jpg\n"
          ],
          "name": "stdout"
        }
      ]
    },
    {
      "cell_type": "code",
      "metadata": {
        "id": "wjCI6JV4vyB6",
        "colab_type": "code",
        "colab": {}
      },
      "source": [
        "!zip -r original_data.zip original_images/"
      ],
      "execution_count": 0,
      "outputs": []
    },
    {
      "cell_type": "code",
      "metadata": {
        "id": "V6cdxyqNE_07",
        "colab_type": "code",
        "colab": {}
      },
      "source": [
        "!zip -r data_400x400.zip images/"
      ],
      "execution_count": 0,
      "outputs": []
    },
    {
      "cell_type": "code",
      "metadata": {
        "id": "mqmbTHlhHrEP",
        "colab_type": "code",
        "colab": {}
      },
      "source": [
        "np.save('images.npy', images)"
      ],
      "execution_count": 0,
      "outputs": []
    },
    {
      "cell_type": "code",
      "metadata": {
        "id": "WCG7z0hvH769",
        "colab_type": "code",
        "colab": {}
      },
      "source": [
        "files.download(\"test3.npy\")"
      ],
      "execution_count": 0,
      "outputs": []
    },
    {
      "cell_type": "code",
      "metadata": {
        "id": "SRVth8-sZg7G",
        "colab_type": "code",
        "colab": {}
      },
      "source": [
        "from google.colab import drive\n",
        "drive.mount('/content/drive')"
      ],
      "execution_count": 0,
      "outputs": []
    },
    {
      "cell_type": "code",
      "metadata": {
        "id": "yIxWfGDVH9ue",
        "colab_type": "code",
        "colab": {}
      },
      "source": [
        "array_reloaded = np.load('images.npy', allow_pickle=True)\n"
      ],
      "execution_count": 0,
      "outputs": []
    },
    {
      "cell_type": "code",
      "metadata": {
        "id": "J4dM_l63WeM3",
        "colab_type": "code",
        "outputId": "aeb78634-e488-4fb1-8868-ec911b7b0d7c",
        "colab": {
          "base_uri": "https://localhost:8080/",
          "height": 34
        }
      },
      "source": [
        "type(array_reloaded)"
      ],
      "execution_count": 0,
      "outputs": [
        {
          "output_type": "execute_result",
          "data": {
            "text/plain": [
              "numpy.ndarray"
            ]
          },
          "metadata": {
            "tags": []
          },
          "execution_count": 53
        }
      ]
    },
    {
      "cell_type": "code",
      "metadata": {
        "id": "LWZA4CLKWcNo",
        "colab_type": "code",
        "colab": {}
      },
      "source": [
        "a = array_reloaded\n",
        "np.save('test3.npy', a)    # .npy extension is added if not given\n"
      ],
      "execution_count": 0,
      "outputs": []
    },
    {
      "cell_type": "code",
      "metadata": {
        "id": "6m16fDdgXE6l",
        "colab_type": "code",
        "colab": {}
      },
      "source": [
        "d = np.load('test3.npy', allow_pickle=True)"
      ],
      "execution_count": 0,
      "outputs": []
    },
    {
      "cell_type": "code",
      "metadata": {
        "id": "6szTLPIEWtRu",
        "colab_type": "code",
        "outputId": "0475d0f0-c592-4450-9448-0befc22e4845",
        "colab": {
          "base_uri": "https://localhost:8080/",
          "height": 34
        }
      },
      "source": [
        "d[0][0].shape"
      ],
      "execution_count": 0,
      "outputs": [
        {
          "output_type": "execute_result",
          "data": {
            "text/plain": [
              "(333, 650, 3)"
            ]
          },
          "metadata": {
            "tags": []
          },
          "execution_count": 65
        }
      ]
    },
    {
      "cell_type": "code",
      "metadata": {
        "id": "O0C5uFHmKXsF",
        "colab_type": "code",
        "outputId": "9e92d8b7-1208-4af2-80df-6eb239acf498",
        "colab": {
          "base_uri": "https://localhost:8080/",
          "height": 251
        }
      },
      "source": [
        "import matplotlib.pyplot as plt\n",
        "%matplotlib inline\n",
        "plt.imshow(array_reloaded[1][0])"
      ],
      "execution_count": 0,
      "outputs": [
        {
          "output_type": "execute_result",
          "data": {
            "text/plain": [
              "<matplotlib.image.AxesImage at 0x7fbaf801bac8>"
            ]
          },
          "metadata": {
            "tags": []
          },
          "execution_count": 38
        },
        {
          "output_type": "display_data",
          "data": {
            "image/png": "[encoded data removed]",
            "text/plain": [
              "<Figure size 432x288 with 1 Axes>"
            ]
          },
          "metadata": {
            "tags": []
          }
        }
      ]
    },
    {
      "cell_type": "code",
      "metadata": {
        "id": "zJQVAYadKk8D",
        "colab_type": "code",
        "colab": {}
      },
      "source": [
        ""
      ],
      "execution_count": 0,
      "outputs": []
    }
  ]
}