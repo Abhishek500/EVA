{
  "nbformat": 4,
  "nbformat_minor": 0,
  "metadata": {
    "colab": {
      "name": "Untitled0.ipynb",
      "version": "0.3.2",
      "provenance": [],
      "private_outputs": true,
      "collapsed_sections": [],
      "machine_shape": "hm",
      "include_colab_link": true
    },
    "kernelspec": {
      "name": "python3",
      "display_name": "Python 3"
    },
    "accelerator": "GPU"
  },
  "cells": [
    {
      "cell_type": "markdown",
      "metadata": {
        "id": "view-in-github",
        "colab_type": "text"
      },
      "source": [
        "<a href=\"https://colab.research.google.com/github/kkrunal77/EVA/blob/master/DN_with_aug.ipynb\" target=\"_parent\"><img src=\"https://colab.research.google.com/assets/colab-badge.svg\" alt=\"Open In Colab\"/></a>"
      ]
    },
    {
      "cell_type": "code",
      "metadata": {
        "id": "9plJz9Ueiomw",
        "colab_type": "code",
        "outputId": "c3ecd734-c724-48d1-c0ec-4c2689ce1f73",
        "colab": {
          "base_uri": "https://localhost:8080/",
          "height": 68
        }
      },
      "source": [
        "import numpy as np\n",
        "import skimage\n",
        "print(np.__version__)\n",
        "print(skimage.__version__)\n",
        "\n",
        "import time, math\n",
        "from tqdm import tqdm_notebook as tqdm\n",
        "\n",
        "import tensorflow as tf\n",
        "import tensorflow.contrib.eager as tfe\n",
        "import gc\n",
        "print(tf.__version__)\n",
        "\n",
        "import matplotlib.pyplot as plt\n",
        "% matplotlib inline\n",
        "%config InlineBackend.figure_format='retina'\n",
        "\n",
        "from IPython.core.interactiveshell import InteractiveShell\n",
        "InteractiveShell.ast_node_interactivity = \"all\"\n",
        "\n",
        "import imgaug.augmenters as iaa\n",
        "\n",
        "from PIL import Image\n",
        "import random"
      ],
      "execution_count": 1,
      "outputs": [
        {
          "output_type": "stream",
          "text": [
            "1.16.4\n",
            "0.15.0\n",
            "1.14.0\n"
          ],
          "name": "stdout"
        }
      ]
    },
    {
      "cell_type": "code",
      "metadata": {
        "id": "WEI8TQ9eGRdA",
        "colab_type": "code",
        "outputId": "081c1d18-4e95-4131-c162-f293fedefe7b",
        "colab": {
          "base_uri": "https://localhost:8080/",
          "height": 34
        }
      },
      "source": [
        "!git clone https://github.com/albu/albumentations.git"
      ],
      "execution_count": 2,
      "outputs": [
        {
          "output_type": "stream",
          "text": [
            "fatal: destination path 'albumentations' already exists and is not an empty directory.\n"
          ],
          "name": "stdout"
        }
      ]
    },
    {
      "cell_type": "code",
      "metadata": {
        "id": "OGx45acTxHzb",
        "colab_type": "code",
        "colab": {}
      },
      "source": [
        "# from albumentations.augmentations.transforms import RandomFog"
      ],
      "execution_count": 0,
      "outputs": []
    },
    {
      "cell_type": "code",
      "metadata": {
        "id": "UPgRnYS5vr0_",
        "colab_type": "code",
        "colab": {}
      },
      "source": [
        "from albumentations import (\n",
        "    Compose, HorizontalFlip, Rotate, CLAHE, HueSaturationValue,\n",
        "    RandomBrightness, RandomContrast, RandomGamma, JpegCompression,\n",
        "    ToFloat, ShiftScaleRotate, RGBShift,PadIfNeeded\n",
        ")\n",
        "import cv2"
      ],
      "execution_count": 0,
      "outputs": []
    },
    {
      "cell_type": "code",
      "metadata": {
        "id": "r4ggsV4dmkdV",
        "colab_type": "code",
        "colab": {}
      },
      "source": [
        "!ln -sf /opt/bin/nvidia-smi /usr/bin/nvidia-smi\n",
        "!pip install gputil\n",
        "!pip install psutil\n",
        "!pip install humanize\n",
        "import psutil\n",
        "import humanize\n",
        "import os\n",
        "import GPUtil as GPU\n",
        "GPUs = GPU.getGPUs()\n",
        "# XXX: only one GPU on Colab and isn’t guaranteed\n",
        "gpu = GPUs[0]\n",
        "def printm():\n",
        "    process = psutil.Process(os.getpid())\n",
        "    print(\"Gen RAM Free: \" + humanize.naturalsize( psutil.virtual_memory().available ), \" | Proc size: \" + humanize.naturalsize( process.memory_info().rss))\n",
        "    print(\"GPU RAM Free: {0:.0f}MB | Used: {1:.0f}MB | Util {2:3.0f}% | Total {3:.0f}MB\".format(gpu.memoryFree, gpu.memoryUsed, gpu.memoryUtil*100, gpu.memoryTotal))\n",
        "printm()"
      ],
      "execution_count": 0,
      "outputs": []
    },
    {
      "cell_type": "code",
      "metadata": {
        "id": "wzNBdJD-mWG6",
        "colab_type": "code",
        "colab": {}
      },
      "source": [
        "# !pip install -U git+https://github.com/albu/albumentations"
      ],
      "execution_count": 0,
      "outputs": []
    },
    {
      "cell_type": "code",
      "metadata": {
        "id": "i9oVMy99lJYm",
        "colab_type": "code",
        "colab": {}
      },
      "source": [
        "# from albumentations import (\n",
        "#     HorizontalFlip, IAAPerspective, ShiftScaleRotate, CLAHE, RandomRotate90,\n",
        "#     Transpose, ShiftScaleRotate, Blur, OpticalDistortion, GridDistortion, HueSaturationValue,\n",
        "#     IAAAdditiveGaussianNoise, GaussNoise, MotionBlur, MedianBlur, IAAPiecewiseAffine,RandomFog,\n",
        "#     IAASharpen, IAAEmboss, RandomBrightnessContrast, Flip, OneOf, Compose, ChannelDropout, ChannelShuffle,RandomContrast\n",
        "# )"
      ],
      "execution_count": 0,
      "outputs": []
    },
    {
      "cell_type": "code",
      "metadata": {
        "id": "3V7UTwOVmSvO",
        "colab_type": "code",
        "colab": {}
      },
      "source": [
        "from albumentations import (HorizontalFlip, IAAPerspective, ShiftScaleRotate, CLAHE, RandomRotate90,\n",
        "                            Transpose, ShiftScaleRotate, Blur, OpticalDistortion, GridDistortion, HueSaturationValue,\n",
        "                            IAAAdditiveGaussianNoise, GaussNoise, MotionBlur, MedianBlur, IAAPiecewiseAffine,\n",
        "                            IAASharpen, IAAEmboss, Flip, OneOf, Compose, ChannelShuffle,RandomContrast, RandomCrop)"
      ],
      "execution_count": 0,
      "outputs": []
    },
    {
      "cell_type": "code",
      "metadata": {
        "id": "8T5d_HaVlYfG",
        "colab_type": "code",
        "colab": {}
      },
      "source": [
        "tf.enable_eager_execution()"
      ],
      "execution_count": 0,
      "outputs": []
    },
    {
      "cell_type": "code",
      "metadata": {
        "id": "NWaJPNfhoxQA",
        "colab_type": "code",
        "colab": {}
      },
      "source": [
        "BATCH_SIZE = 512 #@param {type:\"integer\"}\n",
        "MOMENTUM = 0.9 #@param {type:\"number\"}\n",
        "LEARNING_RATE = 0.4 #@param {type:\"number\"}\n",
        "WEIGHT_DECAY = 0.125 #@param {type:\"number\"}\n",
        "EPOCHS = 24 #@param {type:\"integer\"}\n",
        "cutout_proba = 0.2\n",
        "ssr_proba = 0.15\n",
        "strong_aug_proba = 0.05\n",
        "\n",
        "start_reg_ssr = 5\n",
        "end_reg_ssr = 24\n",
        "start_reg_cutout = 6 # or 5\n",
        "end_reg_cutout = 24\n",
        "\n",
        "start_strong_aug = 3\n",
        "end_strong_aug = 12\n",
        "\n",
        "mixed_precision = False\n",
        "xla_enabled = False"
      ],
      "execution_count": 0,
      "outputs": []
    },
    {
      "cell_type": "code",
      "metadata": {
        "id": "ZPJ_4r99o1lt",
        "colab_type": "code",
        "outputId": "148d96f4-8a71-49f3-d69e-26fe9b6c11ff",
        "colab": {
          "base_uri": "https://localhost:8080/",
          "height": 51
        }
      },
      "source": [
        "# Half Precision Checks\n",
        "from tensorflow.python.client import device_lib\n",
        "\n",
        "def check_tensor_core_gpu_present():\n",
        "    local_device_protos = device_lib.list_local_devices()\n",
        "    for line in local_device_protos:\n",
        "        if \"compute capability\" in str(line):\n",
        "            compute_capability = float(line.physical_device_desc.split(\"compute capability: \")[-1])\n",
        "            if compute_capability>=7.0:\n",
        "                return True\n",
        "\n",
        "print(\"TensorFlow version is\", tf.__version__)\n",
        "\n",
        "try:\n",
        "    # check and assert TensorFlow >= 1.14\n",
        "    tf_version_list = tf.__version__.split(\".\")\n",
        "    if int(tf_version_list[0]) < 2:\n",
        "        assert int(tf_version_list[1]) >= 14\n",
        "except:\n",
        "    print(\"TensorFlow 1.14.0 or newer is required.\")\n",
        "    \n",
        "print(\"Tensor Core GPU Present:\", check_tensor_core_gpu_present())\n",
        "assert check_tensor_core_gpu_present() == True"
      ],
      "execution_count": 8,
      "outputs": [
        {
          "output_type": "stream",
          "text": [
            "TensorFlow version is 1.14.0\n",
            "Tensor Core GPU Present: True\n"
          ],
          "name": "stdout"
        }
      ]
    },
    {
      "cell_type": "code",
      "metadata": {
        "id": "tGsirxjMo4m2",
        "colab_type": "code",
        "colab": {}
      },
      "source": [
        "if xla_enabled:\n",
        "    config = tf.ConfigProto()\n",
        "    jit_level = tf.OptimizerOptions.ON_1\n",
        "    config.graph_options.optimizer_options.global_jit_level = jit_level\n",
        "\n",
        "    sess = tf.Session(config=config)\n",
        "    tf.keras.backend.set_session(sess)\n"
      ],
      "execution_count": 0,
      "outputs": []
    },
    {
      "cell_type": "code",
      "metadata": {
        "id": "zPmP9dN1o8G4",
        "colab_type": "code",
        "colab": {}
      },
      "source": [
        "def get_cutout_eraser(p=0.5, s_l=0.05, s_h=0.3, r_1=0.3, r_2=1 / 0.3, \n",
        "                      v_l=-1,v_h=1,\n",
        "                      max_erasures_per_image=1, pixel_level=True):\n",
        "    assert max_erasures_per_image >= 1\n",
        "\n",
        "    def eraser(input_img):\n",
        "        img_h, img_w, img_c = input_img.shape\n",
        "        shape = input_img.shape\n",
        "        p_1 = np.random.rand()\n",
        "\n",
        "        if p_1 > p:\n",
        "            return input_img\n",
        "        mx = np.random.randint(1, max_erasures_per_image + 1)\n",
        "        for i in range(mx):\n",
        "            while True:\n",
        "                s = np.random.uniform(s_l, s_h) * img_h * img_w\n",
        "                r = np.random.uniform(r_1, r_2)\n",
        "                w = int(np.sqrt(s / r))\n",
        "                h = int(np.sqrt(s * r))\n",
        "                left = np.random.randint(0, img_w)\n",
        "                top = np.random.randint(0, img_h)\n",
        "\n",
        "                if left + w <= img_w and top + h <= img_h:\n",
        "                    break\n",
        "\n",
        "            if pixel_level:\n",
        "                c = np.random.uniform(v_l, v_h, (h, w, img_c))\n",
        "            else:\n",
        "                c = np.random.uniform(v_l, v_h)\n",
        "\n",
        "            input_img[top:top + h, left:left + w, :] = c\n",
        "        return input_img\n",
        "\n",
        "    return eraser"
      ],
      "execution_count": 0,
      "outputs": []
    },
    {
      "cell_type": "code",
      "metadata": {
        "id": "s8vVefmZpZ2U",
        "colab_type": "code",
        "colab": {}
      },
      "source": [
        "def init_pytorch(shape, dtype=tf.float32, partition_info=None):\n",
        "    fan = np.prod(shape[:-1])\n",
        "    bound = 1 / math.sqrt(fan)\n",
        "    return tf.random.uniform(shape, minval=-bound, maxval=bound, dtype=dtype)\n",
        "\n",
        "\n",
        "class ConvBN(tf.keras.Model):\n",
        "    def __init__(self, c_out):\n",
        "        super().__init__()\n",
        "        self.conv = tf.keras.layers.Conv2D(filters=c_out, kernel_size=3, padding=\"SAME\", kernel_initializer=init_pytorch, use_bias=False)\n",
        "        self.bn = tf.keras.layers.BatchNormalization(momentum=0.9, epsilon=1e-5)\n",
        "\n",
        "    def call(self, inputs):\n",
        "        return tf.nn.relu(self.bn(self.conv(inputs)))\n",
        "    \n",
        "    \n",
        "class SepConvBN(tf.keras.Model):\n",
        "    def __init__(self,c):\n",
        "        super().__init__()\n",
        "        self.conv = tf.keras.layers.SeparableConv2D(filters=c, kernel_size=3, padding=\"SAME\", kernel_initializer=init_pytorch, use_bias=False)\n",
        "        self.bn = tf.keras.layers.BatchNormalization(momentum=0.9, epsilon=1e-5)\n",
        "\n",
        "    def call(self, inputs):\n",
        "        return tf.nn.relu(self.bn(self.conv(inputs)))\n",
        "    \n",
        "    \n",
        "class ResBlk(tf.keras.Model):\n",
        "    def __init__(self, c_out, pool, res = False):\n",
        "        super().__init__()\n",
        "        self.conv_bn = ConvBN(c_out)\n",
        "        self.pool = pool\n",
        "        self.res = res\n",
        "        if self.res:\n",
        "            self.res1 = ConvBN(c_out)\n",
        "            self.res2 = ConvBN(c_out)\n",
        "\n",
        "    def call(self, inputs):\n",
        "        h = self.pool(self.conv_bn(inputs))\n",
        "        if self.res:\n",
        "            h = h + self.res2(self.res1(h))\n",
        "        return h\n",
        "    \n",
        "    \n",
        "class DavidNet(tf.keras.Model):\n",
        "    def __init__(self, c=64, weight=0.125):\n",
        "        super().__init__()\n",
        "        pool = tf.keras.layers.MaxPooling2D()\n",
        "        self.init_conv_bn = ConvBN(c)\n",
        "        self.blk1 = ResBlk(c*2, pool, res = True)\n",
        "        self.drop1 = tf.keras.layers.Dropout(0.25)\n",
        "        self.blk2 = ResBlk(c*4, pool)\n",
        "        self.drop2 = tf.keras.layers.Dropout(0.2)\n",
        "        self.blk3 = ResBlk(c*4, pool, res = True)\n",
        "        self.pool = tf.keras.layers.GlobalMaxPool2D()\n",
        "        self.linear = tf.keras.layers.Dense(10, kernel_initializer=init_pytorch, use_bias=False)\n",
        "        self.weight = weight\n",
        "\n",
        "    def call(self, x, y):\n",
        "        h = self.pool(self.blk3(self.blk2(self.blk1(self.init_conv_bn(x)))))\n",
        "        h = self.linear(h) * self.weight\n",
        "        ce = tf.nn.sparse_softmax_cross_entropy_with_logits(logits=h, labels=y)\n",
        "        loss = tf.reduce_sum(ce)\n",
        "        correct = tf.reduce_sum(tf.cast(tf.math.equal(tf.argmax(h, axis = 1), y), tf.float32))\n",
        "        return loss, correct"
      ],
      "execution_count": 0,
      "outputs": []
    },
    {
      "cell_type": "code",
      "metadata": {
        "id": "sjrVwcNwpaxi",
        "colab_type": "code",
        "colab": {}
      },
      "source": [
        ""
      ],
      "execution_count": 0,
      "outputs": []
    },
    {
      "cell_type": "code",
      "metadata": {
        "id": "0Nq3_a7-pfG5",
        "colab_type": "code",
        "colab": {}
      },
      "source": [
        "(x_train, y_train), (x_test, y_test) = tf.keras.datasets.cifar10.load_data()\n",
        "classes = ['airplane','automobile','bird','cat','deer','dog','frog','horse','ship','truck']\n",
        "len_train, len_test = len(x_train), len(x_test)\n",
        "y_train = y_train.astype('int64').reshape(len_train)\n",
        "y_test = y_test.astype('int64').reshape(len_test)\n",
        "\n",
        "train_mean = np.mean(x_train, axis=(0,1,2))\n",
        "train_std = np.std(x_train, axis=(0,1,2))\n",
        "\n",
        "normalize = lambda x: ((x - train_mean) / train_std).astype('float32') # todo: check here\n",
        "pad4 = lambda x: np.pad(x, [(0, 0), (4, 4), (4, 4), (0, 0)], mode='reflect')\n",
        "\n",
        "x_train = normalize(pad4(x_train))\n",
        "x_test = normalize(x_test)"
      ],
      "execution_count": 0,
      "outputs": []
    },
    {
      "cell_type": "code",
      "metadata": {
        "id": "sqNTZQ8EjQmo",
        "colab_type": "code",
        "colab": {}
      },
      "source": [
        "# Cifar10 Augmentation Policy\n"
      ],
      "execution_count": 0,
      "outputs": []
    },
    {
      "cell_type": "code",
      "metadata": {
        "id": "1nK2r-_PU6yd",
        "colab_type": "code",
        "colab": {}
      },
      "source": [
        "from PIL import Image, ImageEnhance, ImageOps\n",
        "import numpy as np\n",
        "import random\n",
        "\n",
        "\n",
        "class ImageNetPolicy(object):\n",
        "    \"\"\" Randomly choose one of the best 24 Sub-policies on ImageNet.\n",
        "\n",
        "        Example:\n",
        "        >>> policy = ImageNetPolicy()\n",
        "        >>> transformed = policy(image)\n",
        "\n",
        "        Example as a PyTorch Transform:\n",
        "        >>> transform=transforms.Compose([\n",
        "        >>>     transforms.Resize(256),\n",
        "        >>>     ImageNetPolicy(),\n",
        "        >>>     transforms.ToTensor()])\n",
        "    \"\"\"\n",
        "    def __init__(self, fillcolor=(128, 128, 128)):\n",
        "        self.policies = [\n",
        "            SubPolicy(0.4, \"posterize\", 8, 0.6, \"rotate\", 9, fillcolor),\n",
        "            SubPolicy(0.6, \"solarize\", 5, 0.6, \"autocontrast\", 5, fillcolor),\n",
        "            SubPolicy(0.8, \"equalize\", 8, 0.6, \"equalize\", 3, fillcolor),\n",
        "            SubPolicy(0.6, \"posterize\", 7, 0.6, \"posterize\", 6, fillcolor),\n",
        "            SubPolicy(0.4, \"equalize\", 7, 0.2, \"solarize\", 4, fillcolor),\n",
        "\n",
        "            SubPolicy(0.4, \"equalize\", 4, 0.8, \"rotate\", 8, fillcolor),\n",
        "            SubPolicy(0.6, \"solarize\", 3, 0.6, \"equalize\", 7, fillcolor),\n",
        "            SubPolicy(0.8, \"posterize\", 5, 1.0, \"equalize\", 2, fillcolor),\n",
        "            SubPolicy(0.2, \"rotate\", 3, 0.6, \"solarize\", 8, fillcolor),\n",
        "            SubPolicy(0.6, \"equalize\", 8, 0.4, \"posterize\", 6, fillcolor),\n",
        "\n",
        "            SubPolicy(0.8, \"rotate\", 8, 0.4, \"color\", 0, fillcolor),\n",
        "            SubPolicy(0.4, \"rotate\", 9, 0.6, \"equalize\", 2, fillcolor),\n",
        "            SubPolicy(0.0, \"equalize\", 7, 0.8, \"equalize\", 8, fillcolor),\n",
        "            SubPolicy(0.6, \"invert\", 4, 1.0, \"equalize\", 8, fillcolor),\n",
        "            SubPolicy(0.6, \"color\", 4, 1.0, \"contrast\", 8, fillcolor),\n",
        "\n",
        "            SubPolicy(0.8, \"rotate\", 8, 1.0, \"color\", 2, fillcolor),\n",
        "            SubPolicy(0.8, \"color\", 8, 0.8, \"solarize\", 7, fillcolor),\n",
        "            SubPolicy(0.4, \"sharpness\", 7, 0.6, \"invert\", 8, fillcolor),\n",
        "            SubPolicy(0.6, \"shearX\", 5, 1.0, \"equalize\", 9, fillcolor),\n",
        "            SubPolicy(0.4, \"color\", 0, 0.6, \"equalize\", 3, fillcolor),\n",
        "\n",
        "            SubPolicy(0.4, \"equalize\", 7, 0.2, \"solarize\", 4, fillcolor),\n",
        "            SubPolicy(0.6, \"solarize\", 5, 0.6, \"autocontrast\", 5, fillcolor),\n",
        "            SubPolicy(0.6, \"invert\", 4, 1.0, \"equalize\", 8, fillcolor),\n",
        "            SubPolicy(0.6, \"color\", 4, 1.0, \"contrast\", 8, fillcolor),\n",
        "            SubPolicy(0.8, \"equalize\", 8, 0.6, \"equalize\", 3, fillcolor)\n",
        "        ]\n",
        "\n",
        "\n",
        "    def __call__(self, img):\n",
        "        policy_idx = random.randint(0, len(self.policies) - 1)\n",
        "        return self.policies[policy_idx](img)\n",
        "\n",
        "    def __repr__(self):\n",
        "        return \"AutoAugment ImageNet Policy\"\n",
        "\n",
        "\n",
        "class CIFAR10Policy(object):\n",
        "    \"\"\" Randomly choose one of the best 25 Sub-policies on CIFAR10.\n",
        "\n",
        "        Example:\n",
        "        >>> policy = CIFAR10Policy()\n",
        "        >>> transformed = policy(image)\n",
        "\n",
        "        Example as a PyTorch Transform:\n",
        "        >>> transform=transforms.Compose([\n",
        "        >>>     transforms.Resize(256),\n",
        "        >>>     CIFAR10Policy(),\n",
        "        >>>     transforms.ToTensor()])\n",
        "    \"\"\"\n",
        "    def __init__(self, fillcolor=(128, 128, 128)):\n",
        "        self.policies = [\n",
        "            SubPolicy(0.1, \"invert\", 7, 0.2, \"contrast\", 6, fillcolor),\n",
        "            SubPolicy(0.7, \"rotate\", 2, 0.3, \"translateX\", 9, fillcolor),\n",
        "            SubPolicy(0.8, \"sharpness\", 1, 0.9, \"sharpness\", 3, fillcolor),\n",
        "            SubPolicy(0.5, \"shearY\", 8, 0.7, \"translateY\", 9, fillcolor),\n",
        "            SubPolicy(0.5, \"autocontrast\", 8, 0.9, \"equalize\", 2, fillcolor),\n",
        "\n",
        "            SubPolicy(0.2, \"shearY\", 7, 0.3, \"posterize\", 7, fillcolor),\n",
        "            SubPolicy(0.4, \"color\", 3, 0.6, \"brightness\", 7, fillcolor),\n",
        "            SubPolicy(0.3, \"sharpness\", 9, 0.7, \"brightness\", 9, fillcolor),\n",
        "            SubPolicy(0.6, \"equalize\", 5, 0.5, \"equalize\", 1, fillcolor),\n",
        "            SubPolicy(0.6, \"contrast\", 7, 0.6, \"sharpness\", 5, fillcolor),\n",
        "\n",
        "            SubPolicy(0.7, \"color\", 7, 0.5, \"translateX\", 8, fillcolor),\n",
        "            SubPolicy(0.3, \"equalize\", 7, 0.4, \"autocontrast\", 8, fillcolor),\n",
        "            SubPolicy(0.4, \"translateY\", 3, 0.2, \"sharpness\", 6, fillcolor),\n",
        "            SubPolicy(0.9, \"brightness\", 6, 0.2, \"color\", 8, fillcolor),\n",
        "            SubPolicy(0.5, \"solarize\", 2, 0.0, \"invert\", 3, fillcolor),\n",
        "\n",
        "            SubPolicy(0.2, \"equalize\", 0, 0.6, \"autocontrast\", 0, fillcolor),\n",
        "            SubPolicy(0.2, \"equalize\", 8, 0.8, \"equalize\", 4, fillcolor),\n",
        "            SubPolicy(0.9, \"color\", 9, 0.6, \"equalize\", 6, fillcolor),\n",
        "            SubPolicy(0.8, \"autocontrast\", 4, 0.2, \"solarize\", 8, fillcolor),\n",
        "            SubPolicy(0.1, \"brightness\", 3, 0.7, \"color\", 0, fillcolor),\n",
        "\n",
        "            SubPolicy(0.4, \"solarize\", 5, 0.9, \"autocontrast\", 3, fillcolor),\n",
        "            SubPolicy(0.9, \"translateY\", 9, 0.7, \"translateY\", 9, fillcolor),\n",
        "            SubPolicy(0.9, \"autocontrast\", 2, 0.8, \"solarize\", 3, fillcolor),\n",
        "            SubPolicy(0.8, \"equalize\", 8, 0.1, \"invert\", 3, fillcolor),\n",
        "            SubPolicy(0.7, \"translateY\", 9, 0.9, \"autocontrast\", 1, fillcolor)\n",
        "        ]\n",
        "\n",
        "\n",
        "    def __call__(self, img):\n",
        "        policy_idx = random.randint(0, len(self.policies) - 1)\n",
        "        return self.policies[policy_idx](img)\n",
        "\n",
        "    def __repr__(self):\n",
        "        return \"AutoAugment CIFAR10 Policy\"\n",
        "\n",
        "\n",
        "class SVHNPolicy(object):\n",
        "    \"\"\" Randomly choose one of the best 25 Sub-policies on SVHN.\n",
        "\n",
        "        Example:\n",
        "        >>> policy = SVHNPolicy()\n",
        "        >>> transformed = policy(image)\n",
        "\n",
        "        Example as a PyTorch Transform:\n",
        "        >>> transform=transforms.Compose([\n",
        "        >>>     transforms.Resize(256),\n",
        "        >>>     SVHNPolicy(),\n",
        "        >>>     transforms.ToTensor()])\n",
        "    \"\"\"\n",
        "    def __init__(self, fillcolor=(128, 128, 128)):\n",
        "        self.policies = [\n",
        "            SubPolicy(0.9, \"shearX\", 4, 0.2, \"invert\", 3, fillcolor),\n",
        "            SubPolicy(0.9, \"shearY\", 8, 0.7, \"invert\", 5, fillcolor),\n",
        "            SubPolicy(0.6, \"equalize\", 5, 0.6, \"solarize\", 6, fillcolor),\n",
        "            SubPolicy(0.9, \"invert\", 3, 0.6, \"equalize\", 3, fillcolor),\n",
        "            SubPolicy(0.6, \"equalize\", 1, 0.9, \"rotate\", 3, fillcolor),\n",
        "\n",
        "            SubPolicy(0.9, \"shearX\", 4, 0.8, \"autocontrast\", 3, fillcolor),\n",
        "            SubPolicy(0.9, \"shearY\", 8, 0.4, \"invert\", 5, fillcolor),\n",
        "            SubPolicy(0.9, \"shearY\", 5, 0.2, \"solarize\", 6, fillcolor),\n",
        "            SubPolicy(0.9, \"invert\", 6, 0.8, \"autocontrast\", 1, fillcolor),\n",
        "            SubPolicy(0.6, \"equalize\", 3, 0.9, \"rotate\", 3, fillcolor),\n",
        "\n",
        "            SubPolicy(0.9, \"shearX\", 4, 0.3, \"solarize\", 3, fillcolor),\n",
        "            SubPolicy(0.8, \"shearY\", 8, 0.7, \"invert\", 4, fillcolor),\n",
        "            SubPolicy(0.9, \"equalize\", 5, 0.6, \"translateY\", 6, fillcolor),\n",
        "            SubPolicy(0.9, \"invert\", 4, 0.6, \"equalize\", 7, fillcolor),\n",
        "            SubPolicy(0.3, \"contrast\", 3, 0.8, \"rotate\", 4, fillcolor),\n",
        "\n",
        "            SubPolicy(0.8, \"invert\", 5, 0.0, \"translateY\", 2, fillcolor),\n",
        "            SubPolicy(0.7, \"shearY\", 6, 0.4, \"solarize\", 8, fillcolor),\n",
        "            SubPolicy(0.6, \"invert\", 4, 0.8, \"rotate\", 4, fillcolor),\n",
        "            SubPolicy(0.3, \"shearY\", 7, 0.9, \"translateX\", 3, fillcolor),\n",
        "            SubPolicy(0.1, \"shearX\", 6, 0.6, \"invert\", 5, fillcolor),\n",
        "\n",
        "            SubPolicy(0.7, \"solarize\", 2, 0.6, \"translateY\", 7, fillcolor),\n",
        "            SubPolicy(0.8, \"shearY\", 4, 0.8, \"invert\", 8, fillcolor),\n",
        "            SubPolicy(0.7, \"shearX\", 9, 0.8, \"translateY\", 3, fillcolor),\n",
        "            SubPolicy(0.8, \"shearY\", 5, 0.7, \"autocontrast\", 3, fillcolor),\n",
        "            SubPolicy(0.7, \"shearX\", 2, 0.1, \"invert\", 5, fillcolor)\n",
        "        ]\n",
        "\n",
        "\n",
        "    def __call__(self, img):\n",
        "        policy_idx = random.randint(0, len(self.policies) - 1)\n",
        "        return self.policies[policy_idx](img)\n",
        "\n",
        "    def __repr__(self):\n",
        "        return \"AutoAugment SVHN Policy\"\n",
        "\n",
        "\n",
        "class SubPolicy(object):\n",
        "    def __init__(self, p1, operation1, magnitude_idx1, p2, operation2, magnitude_idx2, fillcolor=(128, 128, 128)):\n",
        "        ranges = {\n",
        "            \"shearX\": np.linspace(0, 0.3, 10),\n",
        "            \"shearY\": np.linspace(0, 0.3, 10),\n",
        "            \"translateX\": np.linspace(0, 150 / 331, 10),\n",
        "            \"translateY\": np.linspace(0, 150 / 331, 10),\n",
        "            \"rotate\": np.linspace(0, 30, 10),\n",
        "            \"color\": np.linspace(0.0, 0.9, 10),\n",
        "            \"posterize\": np.round(np.linspace(8, 4, 10), 0).astype(np.int),\n",
        "            \"solarize\": np.linspace(256, 0, 10),\n",
        "            \"contrast\": np.linspace(0.0, 0.9, 10),\n",
        "            \"sharpness\": np.linspace(0.0, 0.9, 10),\n",
        "            \"brightness\": np.linspace(0.0, 0.9, 10),\n",
        "            \"autocontrast\": [0] * 10,\n",
        "            \"equalize\": [0] * 10,\n",
        "            \"invert\": [0] * 10\n",
        "        }\n",
        "\n",
        "        # from https://stackoverflow.com/questions/5252170/specify-image-filling-color-when-rotating-in-python-with-pil-and-setting-expand\n",
        "        def rotate_with_fill(img, magnitude):\n",
        "            rot = img.convert(\"RGBA\").rotate(magnitude)\n",
        "            return Image.composite(rot, Image.new(\"RGBA\", rot.size, (128,) * 4), rot).convert(img.mode)\n",
        "\n",
        "        func = {\n",
        "            \"shearX\": lambda img, magnitude: img.transform(\n",
        "                img.size, Image.AFFINE, (1, magnitude * random.choice([-1, 1]), 0, 0, 1, 0),\n",
        "                Image.BICUBIC),\n",
        "            \"shearY\": lambda img, magnitude: img.transform(\n",
        "                img.size, Image.AFFINE, (1, 0, 0, magnitude * random.choice([-1, 1]), 1, 0),\n",
        "                Image.BICUBIC),\n",
        "            \"translateX\": lambda img, magnitude: img.transform(\n",
        "                img.size, Image.AFFINE, (1, 0, magnitude * img.size[0] * random.choice([-1, 1]), 0, 1, 0)),\n",
        "            \"translateY\": lambda img, magnitude: img.transform(\n",
        "                img.size, Image.AFFINE, (1, 0, 0, 0, 1, magnitude * img.size[1] * random.choice([-1, 1]))),\n",
        "            \"rotate\": lambda img, magnitude: rotate_with_fill(img, magnitude),\n",
        "            # \"rotate\": lambda img, magnitude: img.rotate(magnitude * random.choice([-1, 1])),\n",
        "            \"color\": lambda img, magnitude: ImageEnhance.Color(img).enhance(1 + magnitude * random.choice([-1, 1])),\n",
        "            \"posterize\": lambda img, magnitude: ImageOps.posterize(img, magnitude),\n",
        "            \"solarize\": lambda img, magnitude: ImageOps.solarize(img, magnitude),\n",
        "            \"contrast\": lambda img, magnitude: ImageEnhance.Contrast(img).enhance(\n",
        "                1 + magnitude * random.choice([-1, 1])),\n",
        "            \"sharpness\": lambda img, magnitude: ImageEnhance.Sharpness(img).enhance(\n",
        "                1 + magnitude * random.choice([-1, 1])),\n",
        "            \"brightness\": lambda img, magnitude: ImageEnhance.Brightness(img).enhance(\n",
        "                1 + magnitude * random.choice([-1, 1])),\n",
        "            \"autocontrast\": lambda img, magnitude: ImageOps.autocontrast(img),\n",
        "            \"equalize\": lambda img, magnitude: ImageOps.equalize(img),\n",
        "            \"invert\": lambda img, magnitude: ImageOps.invert(img)\n",
        "        }\n",
        "\n",
        "        # self.name = \"{}_{:.2f}_and_{}_{:.2f}\".format(\n",
        "        #     operation1, ranges[operation1][magnitude_idx1],\n",
        "        #     operation2, ranges[operation2][magnitude_idx2])\n",
        "        self.p1 = p1\n",
        "        self.operation1 = func[operation1]\n",
        "        self.magnitude1 = ranges[operation1][magnitude_idx1]\n",
        "        self.p2 = p2\n",
        "        self.operation2 = func[operation2]\n",
        "        self.magnitude2 = ranges[operation2][magnitude_idx2]\n",
        "\n",
        "\n",
        "    def __call__(self, img):\n",
        "        if random.random() < self.p1: img = self.operation1(img, self.magnitude1)\n",
        "        if random.random() < self.p2: img = self.operation2(img, self.magnitude2)\n",
        "        return img"
      ],
      "execution_count": 0,
      "outputs": []
    },
    {
      "cell_type": "code",
      "metadata": {
        "id": "cA7iwpCuEIbK",
        "colab_type": "code",
        "colab": {}
      },
      "source": [
        ""
      ],
      "execution_count": 0,
      "outputs": []
    },
    {
      "cell_type": "code",
      "metadata": {
        "id": "-1-MHLRypjeM",
        "colab_type": "code",
        "outputId": "1057c13d-63cd-41e7-8999-86ddef6f7a52",
        "colab": {
          "base_uri": "https://localhost:8080/",
          "height": 34
        }
      },
      "source": [
        "print(gc.collect())\n",
        "\n",
        "model = DavidNet(weight=0.125)\n",
        "batches_per_epoch = len_train//BATCH_SIZE + 1\n",
        "\n",
        "# lr_schedule = lambda t: np.interp([t], [0, (EPOCHS+1)//5, EPOCHS], [0, LEARNING_RATE, 0])[0]\n",
        "\n",
        "# lr_schedule = lambda t: np.interp([t], [0.0001, (EPOCHS+1)//5, EPOCHS-3, EPOCHS-2,EPOCHS-1, EPOCHS], [0, LEARNING_RATE, 0.09,0.06,0.03,0.001])[0]\n",
        "# lr_schedule = lambda t: np.interp([t], [0.0001, (EPOCHS+1)//5, EPOCHS-3, EPOCHS-2,EPOCHS-1, EPOCHS], [0, 0.4, 0.08,0.07,0.03,0.001])[0]\n",
        "\n",
        "\n",
        "# lr_schedule = lambda t: np.interp([t], [0, 2, (EPOCHS+1)//5, EPOCHS-3, EPOCHS], [0.0001,0.3, LEARNING_RATE,0.1, 0.01])[0]\n",
        "\n",
        "# lr_schedule = lambda t: np.interp([t], \n",
        "#                                   [0, 2, 5,12, 15, EPOCHS-2, EPOCHS], \n",
        "#                                   [0.0001,0.3, LEARNING_RATE,0.001,0.005,0.01, 0.001])[0]\n",
        "\n",
        "# lr_schedule = lambda t: np.interp([t], [0, (EPOCHS+1)//5, EPOCHS-1, EPOCHS], [0, LEARNING_RATE,0.025, 0.01])[0]\n",
        "\n",
        "# lr_schedule = lambda t: np.interp([t], [0, (EPOCHS+1)//5, EPOCHS-1,EPOCHS], [0, LEARNING_RATE,0.05, 0.01])[0]\n",
        "\n",
        "# lr_schedule = lambda t: np.interp([t], [0, (EPOCHS+1)//5, EPOCHS-1,EPOCHS], [0, LEARNING_RATE, 0.01,0.01])[0]\n",
        "\n",
        "# lr_schedule = lambda t: np.interp([t], [0, (EPOCHS+1)//5, EPOCHS-1,EPOCHS], [0, LEARNING_RATE, 0.02,0.01])[0]\n",
        "\n",
        "\n",
        "\n",
        "global_step = tf.train.get_or_create_global_step()\n",
        "lr_func = lambda: lr_schedule(global_step/batches_per_epoch)/BATCH_SIZE\n",
        "opt = tf.train.MomentumOptimizer(lr_func, momentum=MOMENTUM, use_nesterov=True)\n",
        "\n",
        "if mixed_precision:\n",
        "    opt = tf.train.experimental.enable_mixed_precision_graph_rewrite(opt)\n",
        "\n",
        "# data_aug = lambda x, y: (tf.image.random_flip_left_right(tf.random_crop(x, [32, 32, 3])), y)\n",
        "# data_aug2 = lambda x,y: (tf.image.random_hue(tf.image.random_brightness(x,max_delta=0.1),max_delta=0.1),y)\n",
        "\n",
        "\n",
        "# data_aug1 = lambda x, y: (tf.image.random_flip_left_right(tf.random_crop(x, [32, 32, 3])), y)\n",
        "# data_aug2 = lambda x,y: (tf.image.random_hue(tf.image.random_brightness(x,max_delta=0.1),max_delta=0.1),y)\n",
        "# data_aug3 = lambda x, y: (tf.image.random_contrast(tf.image.random_saturation(x, 0.7, 1.3),0.7, 1.3), y)\n",
        "\n",
        "def multipe_aug(x, y):\n",
        "    x = tf.image.random_flip_left_right(tf.random_crop(x, [32, 32, 3]))\n",
        "    x = tf.image.random_hue(tf.image.random_brightness(x,max_delta=0.1),max_delta=0.1)\n",
        "    x = tf.image.random_contrast(tf.image.random_saturation(x, 0.7, 1.3),0.7, 1.3)\n",
        "    return x, y\n",
        "\n",
        "data_aug = lambda x, y: multipe_aug(x, y)\n",
        "# tf.image.random_contrast(image,lower,upper)\n",
        "\n",
        "\n",
        "# \n",
        "cutout_fn = get_cutout_eraser(p=1.0, pixel_level=True)\n",
        "\n",
        "def batch_cut(imgs, epoch):\n",
        "    if epoch>=end_reg_cutout or epoch<=start_reg_cutout:\n",
        "        return imgs\n",
        "    for i,im in enumerate(imgs):\n",
        "        p_1 = np.random.rand()\n",
        "        if p_1 > cutout_proba:\n",
        "            continue\n",
        "        else:\n",
        "            imgs[i] = cutout_fn(im)\n",
        "    return imgs\n",
        "\n",
        "# rotate_one = lambda x : tf.keras.preprocessing.image.random_rotation(x, rg=45, row_axis=0,col_axis=1,channel_axis=2)\n",
        "ssr = ShiftScaleRotate(p=ssr_proba)\n",
        "rotate_one = lambda x: ssr(image=x)['image']\n",
        "def rotate(imgs,epoch):\n",
        "    if epoch>=end_reg_ssr or epoch<=start_reg_ssr: # 15=93.4 # 10 =93.1 # 20=93.4\n",
        "        return imgs\n",
        "    for i,im in enumerate(imgs):\n",
        "        imgs[i] = rotate_one(im)\n",
        "    return imgs\n",
        "\n",
        "\n",
        "# AUGMENTATIONS_TRAIN = Compose([\n",
        "#     HorizontalFlip(p=0.5),#\n",
        "#     RandomContrast(limit=0.2, p=0.5),#\n",
        "#     RandomGamma(gamma_limit=(80, 120), p=0.5),#\n",
        "#     RandomBrightness(limit=0.2, p=0.5),#\n",
        "#     HueSaturationValue(hue_shift_limit=5, sat_shift_limit=20,\n",
        "#                        val_shift_limit=10, p=.9),\n",
        "#     CLAHE(p=1.0, clip_limit=2.0),\n",
        "#     ShiftScaleRotate(\n",
        "#         shift_limit=0.0625, scale_limit=0.1, \n",
        "#         rotate_limit=15, border_mode=cv2.BORDER_REFLECT_101, p=0.8), \n",
        "#     # Rotate(limit=15, border_mode=cv2.BORDER_REFLECT_101),\n",
        "#     # JpegCompression(quality_lower=50, quality_upper=100, p=0.5),\n",
        "#     ToFloat(max_value=255)\n",
        "# ])\n",
        "\n",
        "\n",
        "# AUGMENTATIONS_TEST = Compose([\n",
        "#     CLAHE(p=1.0, clip_limit=2.0),\n",
        "#     ToFloat(max_value=255)\n",
        "# ])\n",
        "\n",
        "\n",
        "AUGMENTATIONS_TRAIN = Compose([GaussNoise(p=0.25),\n",
        "                      RandomContrast(limit=0.2, p=0.5),\n",
        "                      HorizontalFlip(p=0.5),\n",
        "                      GridDistortion(num_steps=8, distort_limit=0.3,p=1.0),\n",
        "                      RandomCrop(40,40,p=1.0),\n",
        "                      PadIfNeeded(40,40),\n",
        "#                       RandomBrightness(limit=0.2, p=0.5),\n",
        "#                       RandomGamma(gamma_limit=(80, 120), p=0.5),\n",
        "#                       RandomContrast(p=0.25),\n",
        "#                       RGBShift(),\n",
        "#                       HueSaturationValue(hue_shift_limit=5, sat_shift_limit=20, \n",
        "#                                          val_shift_limit=10, p=.9),\n",
        "                      \n",
        "                      ShiftScaleRotate(shift_limit=0.052, scale_limit=0.1, \n",
        "                                       rotate_limit=0, border_mode=cv2.BORDER_REFLECT_101, p=0.8),\n",
        "                      \n",
        "                      ChannelShuffle(p=0.25),\n",
        "                      OneOf([MedianBlur(blur_limit=3, p=0.25),\n",
        "                             Blur(blur_limit=3, p=0.25),], \n",
        "                            p=0.5)],\n",
        "                     p=strong_aug_proba)\n",
        "\n",
        "\n",
        "mix_aug = lambda x: AUGMENTATIONS_TRAIN(image=x)['image']\n",
        "def strong_augs(imgs,epoch):\n",
        "    if epoch>=end_strong_aug or epoch<=start_strong_aug: # 15=93.4 # 10 =93.1 # 20=93.4\n",
        "        return imgs\n",
        "    for i,im in enumerate(imgs):\n",
        "        imgs[i] = mix_aug(im)\n",
        "    return imgs\n",
        "\n",
        "\n",
        "rendom_aug = lambda x: CIFAR10Policy()(Image.fromarray(x, 'RGB'))\n",
        "def cifar10policy(imgs,epoch):\n",
        "    if epoch>=12 or epoch<=0: # 15=93.4 # 10 =93.1 # 20=93.4\n",
        "        return imgs\n",
        "    for i,im in enumerate(imgs):\n",
        "        imgs[i] = rendom_aug(im)\n",
        "    return imgs\n",
        "\n",
        "\n",
        "def combined_aug(imgs,epoch):\n",
        "    imgs = np.copy(imgs)\n",
        "    imgs = rotate(imgs,epoch)\n",
        "    imgs = batch_cut(imgs,epoch)\n",
        "    imgs = strong_augs(imgs,epoch)\n",
        "#     imgs = cifar10policy(imgs,epoch) #working But Taking more time \n",
        "    return imgs\n",
        "\n",
        "# 19 - 93.6\n",
        "# 20 - 93.9\n"
      ],
      "execution_count": 14,
      "outputs": [
        {
          "output_type": "stream",
          "text": [
            "0\n"
          ],
          "name": "stdout"
        }
      ]
    },
    {
      "cell_type": "code",
      "metadata": {
        "id": "OtFRBeyT_G78",
        "colab_type": "code",
        "colab": {}
      },
      "source": [
        "# albumentations.augmentations.transforms.RandomFog\n",
        "# from albumentations.augmentations.transforms.albumentations.RGBShift()"
      ],
      "execution_count": 0,
      "outputs": []
    },
    {
      "cell_type": "code",
      "metadata": {
        "id": "wbOEL39CKV1h",
        "colab_type": "code",
        "colab": {}
      },
      "source": [
        "# lr_schedule = lambda t: np.interp([t], [0.0001, (EPOCHS+1)//5, EPOCHS-3, EPOCHS-2,EPOCHS-1, EPOCHS-0.1], [0, 0.4, 0.08,0.05,0.01,0.001])[0]\n",
        "# lr_schedule = lambda t: np.interp([t], [0,     3,    5,    10,    16,    19,   22,   23  ,24], \n",
        "#                                        [0.04,  0.3, 0.43,  0.16, 0.06, 0.04, 0.01, 0.001, 0.0001])[0]\n",
        "\n",
        "lr=[]\n",
        "ep=[]\n",
        "for i in range(25):\n",
        "    lr.append(lr_schedule(i))\n",
        "    ep.append(i)"
      ],
      "execution_count": 0,
      "outputs": []
    },
    {
      "cell_type": "code",
      "metadata": {
        "id": "IY89XRAyZ_KT",
        "colab_type": "code",
        "colab": {}
      },
      "source": [
        ""
      ],
      "execution_count": 0,
      "outputs": []
    },
    {
      "cell_type": "code",
      "metadata": {
        "id": "2_ubSGlGKtRf",
        "colab_type": "code",
        "outputId": "60bc7fa1-7450-4071-9b46-6749a2afdc0b",
        "colab": {
          "base_uri": "https://localhost:8080/",
          "height": 284
        }
      },
      "source": [
        "# This LR best 20 epoch\n",
        "lr_schedule = lambda t: np.interp([t], [0.001, 5, 18, 19, 22, 23, 24], [0, 0.43, 0.06, 0.05, 0.03,0.02,0.0001])[0]\n",
        "import matplotlib.pyplot as plt \n",
        "plt.plot(ep, lr)"
      ],
      "execution_count": 26,
      "outputs": [
        {
          "output_type": "execute_result",
          "data": {
            "text/plain": [
              "[<matplotlib.lines.Line2D at 0x7f08c604d588>]"
            ]
          },
          "metadata": {
            "tags": []
          },
          "execution_count": 26
        },
        {
          "output_type": "display_data",
          "data": {
            "image/png": "[encoded data removed]",
            "text/plain": [
              "<Figure size 432x288 with 1 Axes>"
            ]
          },
          "metadata": {
            "tags": [],
            "image/png": {
              "width": 376,
              "height": 250
            }
          }
        }
      ]
    },
    {
      "cell_type": "code",
      "metadata": {
        "id": "ARtu3XEEpoWG",
        "colab_type": "code",
        "colab": {}
      },
      "source": [
        "\n",
        "# t1 = time.time()\n",
        "# train_data = {}\n",
        "# for epoch in range(EPOCHS):\n",
        "#     xt = combined_aug(x_train, epoch)\n",
        "#     train_set = tf.data.Dataset.from_tensor_slices((xt, y_train)).map(data_aug, num_parallel_calls=tf.data.experimental.AUTOTUNE).map(data_aug2, num_parallel_calls=tf.data.experimental.AUTOTUNE).shuffle(len_train).batch(len_train).prefetch(len_train)\n",
        "# #     train_set = tf.data.Dataset.from_tensor_slices((xt, y_train)).map(data_aug, num_parallel_calls=tf.data.experimental.AUTOTUNE).shuffle(len_train).batch(BATCH_SIZE).prefetch(len_train)\n",
        "#     i = 0\n",
        "#     for x,y in train_set:\n",
        "#         assert x.numpy().shape[0]==len_train\n",
        "#         train_set = (x.numpy(),y.numpy())\n",
        "#         i = i+1\n",
        "#     assert i==1\n",
        "#     train_data[epoch] = train_set\n",
        "#     print(i)\n",
        "# t2 = time.time()\n",
        "# \"%.1f\" %(t2-t1)"
      ],
      "execution_count": 0,
      "outputs": []
    },
    {
      "cell_type": "code",
      "metadata": {
        "id": "Ss5ZO1yZD6cS",
        "colab_type": "code",
        "colab": {}
      },
      "source": [
        "print(gc.collect())\n",
        "t1 = time.time()\n",
        "train_data = {}\n",
        "print(\"Store data rpoch wise \")\n",
        "for epoch in range(EPOCHS):\n",
        "    \n",
        "    if epoch%2!=0:\n",
        "        print(\"Epoch = \",epoch,\" Time = \",(time.time()-t1))\n",
        "        \n",
        "    xt = combined_aug(x_train, epoch)\n",
        "    train_set = tf.data.Dataset.from_tensor_slices((xt, y_train)).map(data_aug, num_parallel_calls=tf.data.experimental.AUTOTUNE).shuffle(len_train).batch(len_train).prefetch(len_train)\n",
        "    i = 0\n",
        "    for x,y in train_set:\n",
        "        assert x.numpy().shape[0]==len_train\n",
        "        train_set = (x.numpy(),y.numpy())\n",
        "        i = i+1\n",
        "    assert i==1\n",
        "    train_data[epoch] = train_set\n",
        "t2 = time.time()\n",
        "\"%.1f\" %(t2-t1)"
      ],
      "execution_count": 0,
      "outputs": []
    },
    {
      "cell_type": "code",
      "metadata": {
        "id": "TGbNp8u6DS_V",
        "colab_type": "code",
        "colab": {}
      },
      "source": [
        "# print(train_data)"
      ],
      "execution_count": 0,
      "outputs": []
    },
    {
      "cell_type": "code",
      "metadata": {
        "id": "0PuJyqaocHvv",
        "colab_type": "code",
        "outputId": "7c1010b2-4fa2-4e37-9266-6caf7fc65e54",
        "colab": {
          "base_uri": "https://localhost:8080/",
          "height": 136
        }
      },
      "source": [
        "print(gc.collect())\n",
        "t = time.time()\n",
        "t_last = time.time()\n",
        "train_accs = []\n",
        "test_accs = []\n",
        "\n",
        "test_set = tf.data.Dataset.from_tensor_slices((x_test, y_test)).batch(BATCH_SIZE).prefetch(1)\n",
        "\n",
        "for epoch in range(EPOCHS):\n",
        "    train_loss = test_loss = train_acc = test_acc = 0.0\n",
        "    \n",
        "    train_set = train_data[epoch]\n",
        "    train_set = tf.data.Dataset.from_tensor_slices(train_set).batch(BATCH_SIZE).prefetch(1)\n",
        "    tf.keras.backend.set_learning_phase(1)\n",
        "#     xt = combined_aug(x_train, epoch)\n",
        "#     train_set = tf.data.Dataset.from_tensor_slices((xt, y_train)).map(data_aug, num_parallel_calls=tf.data.experimental.AUTOTUNE).map(data_aug2, num_parallel_calls=tf.data.experimental.AUTOTUNE).shuffle(len_train).batch(BATCH_SIZE).prefetch(len_train)\n",
        "#     train_set = tf.data.Dataset.from_tensor_slices((xt, y_train)).map(data_aug, num_parallel_calls=tf.data.experimental.AUTOTUNE).shuffle(len_train).batch(BATCH_SIZE).prefetch(len_train)\n",
        "\n",
        "    for (x, y) in train_set:\n",
        "        with tf.GradientTape() as tape:\n",
        "            loss, correct = model(x, y)\n",
        "\n",
        "        var = model.trainable_variables\n",
        "        grads = tape.gradient(loss, var)\n",
        "        for g, v in zip(grads, var):\n",
        "            g += v * (WEIGHT_DECAY/(epoch+1)) * BATCH_SIZE\n",
        "        opt.apply_gradients(zip(grads, var), global_step=global_step)\n",
        "\n",
        "        train_loss += loss.numpy()\n",
        "        train_acc += correct.numpy()\n",
        "\n",
        "    tf.keras.backend.set_learning_phase(0)\n",
        "    for (x, y) in test_set:\n",
        "        loss, correct = model(x, y)\n",
        "        test_loss += loss.numpy()\n",
        "        test_acc += correct.numpy()\n",
        "\n",
        "    t2 = time.time()\n",
        "    epoch_time = t2 - t_last\n",
        "    t_last = t2\n",
        "    train_accs.append(train_acc / len_train)\n",
        "    test_accs.append(test_acc / len_test)\n",
        "    print(\"epoch: %s\"%(epoch+1),'lr: %.4f' % (lr_schedule(epoch+1)), '| train loss: %.4f' %(train_loss / len_train), 'train acc: %.4f' % (train_acc / len_train), 'val loss: %.4f' % (test_loss / len_test), 'val acc: %.4f' %(test_acc / len_test),\"epoch time: %.2f\"%(epoch_time), 'time: %.2f'%(t2 - t))\n",
        "    \n",
        "    \n",
        "plt.figure()\n",
        "plt.plot(train_accs[3:])\n",
        "plt.plot(test_accs[3:])\n",
        "plt.show()"
      ],
      "execution_count": 0,
      "outputs": [
        {
          "output_type": "stream",
          "text": [
            "0\n",
            "epoch: 1 lr: 0.0859 | train loss: 0.1345 train acc: 0.9566 val loss: 0.2680 val acc: 0.9107 epoch time: 28.32 time: 28.32\n",
            "epoch: 2 lr: 0.1719 | train loss: 0.1336 train acc: 0.9568 val loss: 0.2679 val acc: 0.9109 epoch time: 28.55 time: 56.88\n",
            "epoch: 3 lr: 0.2580 | train loss: 0.1280 train acc: 0.9601 val loss: 0.2678 val acc: 0.9115 epoch time: 28.76 time: 85.63\n",
            "epoch: 4 lr: 0.3440 | train loss: 0.1233 train acc: 0.9619 val loss: 0.2683 val acc: 0.9109 epoch time: 28.32 time: 113.96\n",
            "epoch: 5 lr: 0.4300 | train loss: 0.1830 train acc: 0.9403 val loss: 0.2694 val acc: 0.9098 epoch time: 28.39 time: 142.35\n",
            "epoch: 6 lr: 0.4015 | train loss: 0.1756 train acc: 0.9423 val loss: 0.2691 val acc: 0.9105 epoch time: 28.37 time: 170.71\n"
          ],
          "name": "stdout"
        }
      ]
    },
    {
      "cell_type": "code",
      "metadata": {
        "id": "-cP0gyyJ4T1Q",
        "colab_type": "code",
        "colab": {}
      },
      "source": [
        ""
      ],
      "execution_count": 0,
      "outputs": []
    },
    {
      "cell_type": "code",
      "metadata": {
        "id": "c5d11ZHe3PcE",
        "colab_type": "code",
        "colab": {}
      },
      "source": [
        "# lr_schedule = lambda t: np.interp([t], [0.001, 5, 18, 19, 22, 23, 24], [0, 0.43, 0.06, 0.05, 0.03,0.02,0.0001])[0]"
      ],
      "execution_count": 0,
      "outputs": []
    },
    {
      "cell_type": "code",
      "metadata": {
        "id": "C2MgAqBE3Tn2",
        "colab_type": "code",
        "colab": {}
      },
      "source": [
        ""
      ],
      "execution_count": 0,
      "outputs": []
    },
    {
      "cell_type": "code",
      "metadata": {
        "id": "ESA7GblN3T1A",
        "colab_type": "code",
        "colab": {}
      },
      "source": [
        ""
      ],
      "execution_count": 0,
      "outputs": []
    },
    {
      "cell_type": "code",
      "metadata": {
        "id": "VRx12o9xp2CT",
        "colab_type": "code",
        "colab": {}
      },
      "source": [
        ""
      ],
      "execution_count": 0,
      "outputs": []
    },
    {
      "cell_type": "code",
      "metadata": {
        "id": "9nYvqfCN3Spp",
        "colab_type": "code",
        "colab": {}
      },
      "source": [
        "lr_schedule = lambda t: np.interp([t], [0.0001, (EPOCHS+1)//5, EPOCHS-3, EPOCHS-2,EPOCHS-1, EPOCHS], [0, LEARNING_RATE, 0.09,0.06,0.03,0.001])[0]\n",
        "global_step = tf.train.get_or_create_global_step()\n",
        "lr_func = lambda: lr_schedule(global_step/batches_per_epoch)/BATCH_SIZE"
      ],
      "execution_count": 0,
      "outputs": []
    },
    {
      "cell_type": "code",
      "metadata": {
        "id": "erLk7-cI3SqY",
        "colab_type": "code",
        "colab": {}
      },
      "source": [
        ""
      ],
      "execution_count": 0,
      "outputs": []
    }
  ]
}