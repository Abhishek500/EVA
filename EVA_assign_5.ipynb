{
  "nbformat": 4,
  "nbformat_minor": 0,
  "metadata": {
    "colab": {
      "name": "EVA_assign_5.ipynb",
      "version": "0.3.2",
      "provenance": [],
      "collapsed_sections": []
    },
    "kernelspec": {
      "name": "python3",
      "display_name": "Python 3"
    },
    "accelerator": "GPU"
  },
  "cells": [
    {
      "cell_type": "code",
      "metadata": {
        "id": "qGMyG0n-Iu0L",
        "colab_type": "code",
        "colab": {}
      },
      "source": [
        ""
      ],
      "execution_count": 0,
      "outputs": []
    },
    {
      "cell_type": "code",
      "metadata": {
        "id": "4CueT4tIllIP",
        "colab_type": "code",
        "colab": {}
      },
      "source": [
        "from keras.layers import Convolution2D, MaxPooling2D, LSTM, SeparableConv2D"
      ],
      "execution_count": 0,
      "outputs": []
    },
    {
      "cell_type": "code",
      "metadata": {
        "id": "en9lmAzTtnoL",
        "colab_type": "code",
        "colab": {}
      },
      "source": [
        "# Imports\n",
        "!pip install -q keras opencv-python\n",
        "import keras\n",
        "import cv2\n",
        "\n",
        "from keras.datasets import cifar10\n",
        "from keras.models import Model, Sequential\n",
        "from keras.layers import Dense, Dropout, Flatten, Input, AveragePooling2D, merge, Activation\n",
        "from keras.layers import Conv2D, MaxPooling2D, BatchNormalization, SeparableConv2D, regularizers\n",
        "from keras.layers import Concatenate\n",
        "from keras.optimizers import Adam, SGD, Nadam\n",
        "from keras.preprocessing.image import ImageDataGenerator\n",
        "from keras.callbacks import LearningRateScheduler, ModelCheckpoint\n",
        "from keras.initializers import VarianceScaling\n",
        "from keras.models import load_model\n",
        "import random\n",
        "import numpy as np\n",
        "from keras.datasets import mnist\n",
        "from keras.utils import np_utils"
      ],
      "execution_count": 0,
      "outputs": []
    },
    {
      "cell_type": "code",
      "metadata": {
        "id": "7bSkh6zpLbHg",
        "colab_type": "code",
        "colab": {}
      },
      "source": [
        "(X_train, y_train), (X_test, y_test) = mnist.load_data()"
      ],
      "execution_count": 0,
      "outputs": []
    },
    {
      "cell_type": "markdown",
      "metadata": {
        "id": "7YANjgPLLbrm",
        "colab_type": "text"
      },
      "source": [
        "# Connect to Google Drive"
      ]
    },
    {
      "cell_type": "code",
      "metadata": {
        "id": "1eV6Yv2gLZTW",
        "colab_type": "code",
        "colab": {}
      },
      "source": [
        "!apt-get install -y -qq software-properties-common python-software-properties module-init-tools\n",
        "!add-apt-repository -y ppa:alessandro-strada/ppa 2>&1 > /dev/null\n",
        "!apt-get update -qq 2>&1 > /dev/null\n",
        "!apt-get -y install -qq google-drive-ocamlfuse fuse\n",
        "from google.colab import auth\n",
        "auth.authenticate_user()\n",
        "from oauth2client.client import GoogleCredentials\n",
        "creds = GoogleCredentials.get_application_default()\n",
        "import getpass\n",
        "\n",
        "!google-drive-ocamlfuse -headless -id={creds.client_id} -secret={creds.client_secret} < /dev/null 2>&1 | grep URL\n",
        "vcode = getpass.getpass()\n",
        "!echo {vcode} | google-drive-ocamlfuse -headless -id={creds.client_id} -secret={creds.client_secret}"
      ],
      "execution_count": 0,
      "outputs": []
    },
    {
      "cell_type": "code",
      "metadata": {
        "id": "DvJK2HAyLYx2",
        "colab_type": "code",
        "colab": {}
      },
      "source": [
        ""
      ],
      "execution_count": 0,
      "outputs": []
    },
    {
      "cell_type": "code",
      "metadata": {
        "id": "cj7_azTeSFcL",
        "colab_type": "code",
        "outputId": "c3f8a661-0a47-467c-a97f-5cd3b2a975df",
        "colab": {
          "base_uri": "https://localhost:8080/",
          "height": 51
        }
      },
      "source": [
        "!mkdir -p drive\n",
        "!google-drive-ocamlfuse drive"
      ],
      "execution_count": 0,
      "outputs": [
        {
          "output_type": "stream",
          "text": [
            "fuse: mountpoint is not empty\n",
            "fuse: if you are sure this is safe, use the 'nonempty' mount option\n"
          ],
          "name": "stdout"
        }
      ]
    },
    {
      "cell_type": "code",
      "metadata": {
        "id": "1PvRLhLEOo5J",
        "colab_type": "code",
        "outputId": "d31e151a-f10b-4380-ed45-8d5396d7373b",
        "colab": {
          "base_uri": "https://localhost:8080/",
          "height": 68
        }
      },
      "source": [
        "!ls drive"
      ],
      "execution_count": 0,
      "outputs": [
        {
          "output_type": "stream",
          "text": [
            " 3A_Assignment.ipynb\t    4_Assignment.ipynb\t model_files32\n",
            " 3B_Assignment.ipynb\t   'Getting started'\t tiny-imagenet-200.zip\n",
            " 4_32x32_Assignment.ipynb   model_files\n"
          ],
          "name": "stdout"
        }
      ]
    },
    {
      "cell_type": "code",
      "metadata": {
        "id": "LxQoGBIfIolQ",
        "colab_type": "code",
        "colab": {}
      },
      "source": [
        ""
      ],
      "execution_count": 0,
      "outputs": []
    },
    {
      "cell_type": "markdown",
      "metadata": {
        "id": "0jv5HwJPIqbr",
        "colab_type": "text"
      },
      "source": [
        "# Load data-set "
      ]
    },
    {
      "cell_type": "code",
      "metadata": {
        "id": "Xq4-LZHEtrAt",
        "colab_type": "code",
        "colab": {}
      },
      "source": [
        "(X_train, y_train), (X_test, y_test) = mnist.load_data()"
      ],
      "execution_count": 0,
      "outputs": []
    },
    {
      "cell_type": "code",
      "metadata": {
        "id": "vyrZBeVPtszl",
        "colab_type": "code",
        "outputId": "2baa12eb-a7f5-47fe-dd66-c7d0c655f123",
        "colab": {
          "base_uri": "https://localhost:8080/",
          "height": 303
        }
      },
      "source": [
        "print (X_train.shape)\n",
        "from matplotlib import pyplot as plt\n",
        "%matplotlib inline\n",
        "plt.imshow(X_train[0])"
      ],
      "execution_count": 0,
      "outputs": [
        {
          "output_type": "stream",
          "text": [
            "(60000, 28, 28)\n"
          ],
          "name": "stdout"
        },
        {
          "output_type": "execute_result",
          "data": {
            "text/plain": [
              "<matplotlib.image.AxesImage at 0x7f06c5822be0>"
            ]
          },
          "metadata": {
            "tags": []
          },
          "execution_count": 382
        },
        {
          "output_type": "display_data",
          "data": {
            "image/png": "[encoded data removed]",
            "text/plain": [
              "<Figure size 432x288 with 1 Axes>"
            ]
          },
          "metadata": {
            "tags": []
          }
        }
      ]
    },
    {
      "cell_type": "code",
      "metadata": {
        "id": "glLPM0pbtu3Q",
        "colab_type": "code",
        "colab": {}
      },
      "source": [
        "X_train = X_train.reshape(X_train.shape[0], 28, 28,1)\n",
        "X_test = X_test.reshape(X_test.shape[0], 28, 28,1)"
      ],
      "execution_count": 0,
      "outputs": []
    },
    {
      "cell_type": "code",
      "metadata": {
        "id": "DcipbyqxtxH3",
        "colab_type": "code",
        "colab": {}
      },
      "source": [
        "X_train = X_train.astype('float32')\n",
        "X_test = X_test.astype('float32')\n",
        "X_train /= 255\n",
        "X_test /= 255"
      ],
      "execution_count": 0,
      "outputs": []
    },
    {
      "cell_type": "code",
      "metadata": {
        "id": "urGnpz1gty1k",
        "colab_type": "code",
        "outputId": "7e49cc79-5a09-4d31-8716-bca2f0cda6a4",
        "colab": {
          "base_uri": "https://localhost:8080/",
          "height": 34
        }
      },
      "source": [
        "y_train[:10]"
      ],
      "execution_count": 0,
      "outputs": [
        {
          "output_type": "execute_result",
          "data": {
            "text/plain": [
              "array([5, 0, 4, 1, 9, 2, 1, 3, 1, 4], dtype=uint8)"
            ]
          },
          "metadata": {
            "tags": []
          },
          "execution_count": 407
        }
      ]
    },
    {
      "cell_type": "code",
      "metadata": {
        "id": "f-1b6w6tt06q",
        "colab_type": "code",
        "colab": {}
      },
      "source": [
        "# Convert 1-dimensional class arrays to 10-dimensional class matrices\n",
        "Y_train = np_utils.to_categorical(y_train, 10)\n",
        "Y_test = np_utils.to_categorical(y_test, 10)\n",
        "\n",
        "\n",
        "# y_train = keras.utils.to_categorical(y_train, num_classes)\n",
        "# y_test = keras.utils.to_categorical(y_test, num_classes)"
      ],
      "execution_count": 0,
      "outputs": []
    },
    {
      "cell_type": "code",
      "metadata": {
        "id": "K-7gHTlVt3Y2",
        "colab_type": "code",
        "outputId": "0eb7e9e0-35d1-401b-a6cd-b0fafeee6e5e",
        "colab": {
          "base_uri": "https://localhost:8080/",
          "height": 187
        }
      },
      "source": [
        "Y_train[:10]\n"
      ],
      "execution_count": 0,
      "outputs": [
        {
          "output_type": "execute_result",
          "data": {
            "text/plain": [
              "array([[0., 0., 0., 0., 0., 1., 0., 0., 0., 0.],\n",
              "       [1., 0., 0., 0., 0., 0., 0., 0., 0., 0.],\n",
              "       [0., 0., 0., 0., 1., 0., 0., 0., 0., 0.],\n",
              "       [0., 1., 0., 0., 0., 0., 0., 0., 0., 0.],\n",
              "       [0., 0., 0., 0., 0., 0., 0., 0., 0., 1.],\n",
              "       [0., 0., 1., 0., 0., 0., 0., 0., 0., 0.],\n",
              "       [0., 1., 0., 0., 0., 0., 0., 0., 0., 0.],\n",
              "       [0., 0., 0., 1., 0., 0., 0., 0., 0., 0.],\n",
              "       [0., 1., 0., 0., 0., 0., 0., 0., 0., 0.],\n",
              "       [0., 0., 0., 0., 1., 0., 0., 0., 0., 0.]], dtype=float32)"
            ]
          },
          "metadata": {
            "tags": []
          },
          "execution_count": 409
        }
      ]
    },
    {
      "cell_type": "code",
      "metadata": {
        "id": "P6fQzBqat5H7",
        "colab_type": "code",
        "colab": {}
      },
      "source": [
        ""
      ],
      "execution_count": 0,
      "outputs": []
    },
    {
      "cell_type": "code",
      "metadata": {
        "id": "4BX35f9W2zem",
        "colab_type": "code",
        "colab": {}
      },
      "source": [
        ""
      ],
      "execution_count": 0,
      "outputs": []
    },
    {
      "cell_type": "code",
      "metadata": {
        "id": "yk1QkGcvORGw",
        "colab_type": "code",
        "outputId": "51a2927b-8000-4d91-ea12-a5d95967c051",
        "colab": {
          "base_uri": "https://localhost:8080/",
          "height": 139
        }
      },
      "source": [
        "# N/W activation after BN. \n",
        "from keras.layers import Activation\n",
        "model = Sequential()\n",
        "\n",
        "model.add(Convolution2D(10, 3, 3, input_shape=(28,28,1), kernel_regularizer=regularizers.l2(0.01))) # 26\n",
        "model.add(BatchNormalization())\n",
        "model.add(Activation('relu'))\n",
        "\n",
        "model.add(Convolution2D(16, 3, 3, kernel_regularizer=regularizers.l2(0.01))) # 24\n",
        "model.add(BatchNormalization())\n",
        "model.add(Activation('relu'))\n",
        "model.add(Dropout(0.20))\n",
        "\n",
        "\n",
        "model.add(MaxPooling2D(pool_size=(2, 2))) # 12\n",
        "model.add(Convolution2D(16, 3, 3, kernel_regularizer=regularizers.l2(0.01))) # 10\n",
        "model.add(BatchNormalization())\n",
        "model.add(Activation('relu'))\n",
        "model.add(Dropout(0.20))\n",
        "\n",
        "\n",
        "model.add(Convolution2D(16, 3, 3, activation='relu')) # 8\n",
        "model.add(Dropout(0.20))\n",
        "\n",
        "model.add(Convolution2D(10, 1, activation='relu')) #8\n",
        "\n",
        "model.add(Convolution2D(10, 8)) #seeing 7x7 receptive fild\n",
        "model.add(Flatten())\n",
        "model.add(Activation('softmax'))\n",
        "\n",
        "\n",
        "#tuning with learning rate\n",
        "# from keras.layers import Activation\n",
        "# model = Sequential()\n",
        "\n",
        "\n",
        "# model.add(Convolution2D(10, 3, 3, activation='relu', input_shape=(28,28,1))) # 26\n",
        "# model.add(BatchNormalization())\n",
        "\n",
        "# model.add(Convolution2D(16, 3, 3, activation='relu')) # 24\n",
        "# model.add(BatchNormalization())\n",
        "# model.add(Dropout(0.20))\n",
        "\n",
        "\n",
        "# model.add(MaxPooling2D(pool_size=(2, 2))) # 12\n",
        "# model.add(Convolution2D(16, 3, 3, activation='relu')) # 10\n",
        "# model.add(BatchNormalization())\n",
        "# model.add(Dropout(0.20))\n",
        "\n",
        "\n",
        "# model.add(Convolution2D(16, 3, 3, activation='relu')) # 8\n",
        "# model.add(Dropout(0.20))\n",
        "\n",
        "# model.add(Convolution2D(10, 1, activation='relu')) #8\n",
        "# # model.add(BatchNormalization())\n",
        "\n",
        "# model.add(Convolution2D(10, 8)) #seeing 7x7 receptive fild\n",
        "# model.add(Flatten())\n",
        "# model.add(Activation('softmax'))"
      ],
      "execution_count": 0,
      "outputs": [
        {
          "output_type": "stream",
          "text": [
            "/usr/local/lib/python3.6/dist-packages/ipykernel_launcher.py:6: UserWarning: Update your `Conv2D` call to the Keras 2 API: `Conv2D(10, (3, 3), input_shape=(28, 28, 1..., kernel_regularizer=<keras.reg...)`\n",
            "  \n",
            "/usr/local/lib/python3.6/dist-packages/ipykernel_launcher.py:10: UserWarning: Update your `Conv2D` call to the Keras 2 API: `Conv2D(16, (3, 3), kernel_regularizer=<keras.reg...)`\n",
            "  # Remove the CWD from sys.path while we load stuff.\n",
            "/usr/local/lib/python3.6/dist-packages/ipykernel_launcher.py:17: UserWarning: Update your `Conv2D` call to the Keras 2 API: `Conv2D(16, (3, 3), kernel_regularizer=<keras.reg...)`\n",
            "/usr/local/lib/python3.6/dist-packages/ipykernel_launcher.py:23: UserWarning: Update your `Conv2D` call to the Keras 2 API: `Conv2D(16, (3, 3), activation=\"relu\")`\n"
          ],
          "name": "stderr"
        }
      ]
    },
    {
      "cell_type": "code",
      "metadata": {
        "id": "KbXgerg3t7jl",
        "colab_type": "code",
        "outputId": "087c2080-9b26-4ee9-8760-1abed39483c3",
        "colab": {
          "base_uri": "https://localhost:8080/",
          "height": 748
        }
      },
      "source": [
        "model.summary()"
      ],
      "execution_count": 0,
      "outputs": [
        {
          "output_type": "stream",
          "text": [
            "_________________________________________________________________\n",
            "Layer (type)                 Output Shape              Param #   \n",
            "=================================================================\n",
            "conv2d_80 (Conv2D)           (None, 26, 26, 10)        100       \n",
            "_________________________________________________________________\n",
            "batch_normalization_41 (Batc (None, 26, 26, 10)        40        \n",
            "_________________________________________________________________\n",
            "activation_31 (Activation)   (None, 26, 26, 10)        0         \n",
            "_________________________________________________________________\n",
            "conv2d_81 (Conv2D)           (None, 24, 24, 16)        1456      \n",
            "_________________________________________________________________\n",
            "batch_normalization_42 (Batc (None, 24, 24, 16)        64        \n",
            "_________________________________________________________________\n",
            "activation_32 (Activation)   (None, 24, 24, 16)        0         \n",
            "_________________________________________________________________\n",
            "dropout_40 (Dropout)         (None, 24, 24, 16)        0         \n",
            "_________________________________________________________________\n",
            "max_pooling2d_14 (MaxPooling (None, 12, 12, 16)        0         \n",
            "_________________________________________________________________\n",
            "conv2d_82 (Conv2D)           (None, 10, 10, 16)        2320      \n",
            "_________________________________________________________________\n",
            "batch_normalization_43 (Batc (None, 10, 10, 16)        64        \n",
            "_________________________________________________________________\n",
            "activation_33 (Activation)   (None, 10, 10, 16)        0         \n",
            "_________________________________________________________________\n",
            "dropout_41 (Dropout)         (None, 10, 10, 16)        0         \n",
            "_________________________________________________________________\n",
            "conv2d_83 (Conv2D)           (None, 8, 8, 16)          2320      \n",
            "_________________________________________________________________\n",
            "dropout_42 (Dropout)         (None, 8, 8, 16)          0         \n",
            "_________________________________________________________________\n",
            "conv2d_84 (Conv2D)           (None, 8, 8, 10)          170       \n",
            "_________________________________________________________________\n",
            "conv2d_85 (Conv2D)           (None, 1, 1, 10)          6410      \n",
            "_________________________________________________________________\n",
            "flatten_14 (Flatten)         (None, 10)                0         \n",
            "_________________________________________________________________\n",
            "activation_34 (Activation)   (None, 10)                0         \n",
            "=================================================================\n",
            "Total params: 12,944\n",
            "Trainable params: 12,860\n",
            "Non-trainable params: 84\n",
            "_________________________________________________________________\n"
          ],
          "name": "stdout"
        }
      ]
    },
    {
      "cell_type": "code",
      "metadata": {
        "id": "Z8ogEi01Knqv",
        "colab_type": "code",
        "colab": {}
      },
      "source": [
        "# Arguments for Image genrator \n",
        "datagen = ImageDataGenerator(featurewise_center=True)\n"
      ],
      "execution_count": 0,
      "outputs": []
    },
    {
      "cell_type": "code",
      "metadata": {
        "id": "y-DumPb3Ko3q",
        "colab_type": "code",
        "colab": {}
      },
      "source": [
        "# Fitting Augumentation to train-data to data genrator.\n",
        "datagen.fit(X_train)\n",
        "x_aug = datagen.flow(X_train, Y_train, batch_size=32)"
      ],
      "execution_count": 0,
      "outputs": []
    },
    {
      "cell_type": "code",
      "metadata": {
        "id": "uo2bOi47K861",
        "colab_type": "code",
        "colab": {}
      },
      "source": [
        "# learninh ret on epoch wise.\n",
        "def lr_schedule(epoch):\n",
        "    lrate = 0.01\n",
        "    if epoch > 10:\n",
        "        lrate = 0.01\n",
        "    elif epoch > 20:\n",
        "        lrate = 0.01       \n",
        "    return lrate\n",
        "LR_scheduler = LearningRateScheduler(lr_schedule)"
      ],
      "execution_count": 0,
      "outputs": []
    },
    {
      "cell_type": "code",
      "metadata": {
        "id": "Mw33vDa7K1Cv",
        "colab_type": "code",
        "colab": {}
      },
      "source": [
        "\n",
        "#"
      ],
      "execution_count": 0,
      "outputs": []
    },
    {
      "cell_type": "code",
      "metadata": {
        "id": "iMhxJlT6uBbg",
        "colab_type": "code",
        "colab": {}
      },
      "source": [
        "#Complile model.\n",
        "# lr_rate = 0.001\n",
        "# optimizer = Nadam(lr_rate)\n",
        "# model.compile(loss='categorical_crossentropy',\n",
        "#              optimizer=optimizer,\n",
        "#              metrics=['accuracy'])\n",
        "\n",
        "\n",
        "model.compile(loss='categorical_crossentropy',\n",
        "              optimizer=SGD(lr=0.001, momentum=0.9, nesterov=True),\n",
        "              metrics=['accuracy'])"
      ],
      "execution_count": 0,
      "outputs": []
    },
    {
      "cell_type": "code",
      "metadata": {
        "id": "sARcWwDiPwLb",
        "colab_type": "code",
        "colab": {}
      },
      "source": [
        "# model.compile(loss='categorical_crossentropy',\n",
        "#              optimizer='adam',\n",
        "#              metrics=['accuracy'])"
      ],
      "execution_count": 0,
      "outputs": []
    },
    {
      "cell_type": "code",
      "metadata": {
        "id": "TYpK6IIAwtJ_",
        "colab_type": "code",
        "colab": {}
      },
      "source": [
        "from keras.callbacks import EarlyStopping, ModelCheckpoint\n",
        "early_stopping =EarlyStopping(monitor='val_loss', patience=5)"
      ],
      "execution_count": 0,
      "outputs": []
    },
    {
      "cell_type": "code",
      "metadata": {
        "id": "tJqGST7cNKZd",
        "colab_type": "code",
        "colab": {}
      },
      "source": [
        "# Save model file to google drive with best accuracy.\n",
        "filepath=\"drive/model_files32/EVA1assgn5.hdf5\"\n",
        "# filepath=\"drive/model_files32/1stbatch1assgn4-{epoch:02d}-{val_acc:.2f}.hdf5\"\n",
        "checkpoint = ModelCheckpoint(filepath, monitor='val_acc', verbose=1, save_best_only=True, mode='max')\n",
        "callbacks_list = [checkpoint, LR_scheduler]"
      ],
      "execution_count": 0,
      "outputs": []
    },
    {
      "cell_type": "code",
      "metadata": {
        "id": "YBRCes-eFEfm",
        "colab_type": "code",
        "colab": {}
      },
      "source": [
        "# model.fit(X_train, Y_train, batch_size=32, nb_epoch=30, verbose=1, validation_data=(X_test, Y_test), callbacks=callbacks_list)"
      ],
      "execution_count": 0,
      "outputs": []
    },
    {
      "cell_type": "code",
      "metadata": {
        "id": "hsJ1WnKtP0d6",
        "colab_type": "code",
        "outputId": "667ac0f2-eefc-4ce9-c5c6-4a54c89db6de",
        "colab": {
          "base_uri": "https://localhost:8080/",
          "height": 2074
        }
      },
      "source": [
        "#Fifing all augument to fit_genrator with validation data.\n",
        "\n",
        "model.fit_generator(\n",
        "    x_aug, steps_per_epoch=4000, epochs=30,\n",
        "    verbose=1, validation_data=(X_test, Y_test), callbacks=callbacks_list\n",
        ")"
      ],
      "execution_count": 0,
      "outputs": [
        {
          "output_type": "stream",
          "text": [
            "Epoch 1/30\n",
            "4000/4000 [==============================] - 37s 9ms/step - loss: 0.3726 - acc: 0.9315 - val_loss: 0.1795 - val_acc: 0.9652\n",
            "\n",
            "Epoch 00001: val_acc improved from -inf to 0.96520, saving model to drive/model_files32/EVA1assgn5.hdf5\n",
            "Epoch 2/30\n",
            "4000/4000 [==============================] - 34s 9ms/step - loss: 0.1229 - acc: 0.9755 - val_loss: 0.3712 - val_acc: 0.8748\n",
            "\n",
            "Epoch 00002: val_acc did not improve from 0.96520\n",
            "Epoch 3/30\n",
            "4000/4000 [==============================] - 34s 9ms/step - loss: 0.0880 - acc: 0.9787 - val_loss: 0.0930 - val_acc: 0.9757\n",
            "\n",
            "Epoch 00003: val_acc improved from 0.96520 to 0.97570, saving model to drive/model_files32/EVA1assgn5.hdf5\n",
            "Epoch 4/30\n",
            "4000/4000 [==============================] - 34s 9ms/step - loss: 0.0775 - acc: 0.9810 - val_loss: 0.0907 - val_acc: 0.9782\n",
            "\n",
            "Epoch 00004: val_acc improved from 0.97570 to 0.97820, saving model to drive/model_files32/EVA1assgn5.hdf5\n",
            "Epoch 5/30\n",
            "4000/4000 [==============================] - 35s 9ms/step - loss: 0.0729 - acc: 0.9822 - val_loss: 0.1920 - val_acc: 0.9423\n",
            "\n",
            "Epoch 00005: val_acc did not improve from 0.97820\n",
            "Epoch 6/30\n",
            "4000/4000 [==============================] - 31s 8ms/step - loss: 0.0686 - acc: 0.9834 - val_loss: 0.0697 - val_acc: 0.9845\n",
            "\n",
            "Epoch 00006: val_acc improved from 0.97820 to 0.98450, saving model to drive/model_files32/EVA1assgn5.hdf5\n",
            "Epoch 7/30\n",
            "4000/4000 [==============================] - 32s 8ms/step - loss: 0.0650 - acc: 0.9848 - val_loss: 0.0613 - val_acc: 0.9855\n",
            "\n",
            "Epoch 00007: val_acc improved from 0.98450 to 0.98550, saving model to drive/model_files32/EVA1assgn5.hdf5\n",
            "Epoch 8/30\n",
            "4000/4000 [==============================] - 34s 9ms/step - loss: 0.0626 - acc: 0.9850 - val_loss: 0.0589 - val_acc: 0.9882\n",
            "\n",
            "Epoch 00008: val_acc improved from 0.98550 to 0.98820, saving model to drive/model_files32/EVA1assgn5.hdf5\n",
            "Epoch 9/30\n",
            "4000/4000 [==============================] - 33s 8ms/step - loss: 0.0616 - acc: 0.9855 - val_loss: 0.0645 - val_acc: 0.9852\n",
            "\n",
            "Epoch 00009: val_acc did not improve from 0.98820\n",
            "Epoch 10/30\n",
            "4000/4000 [==============================] - 33s 8ms/step - loss: 0.0603 - acc: 0.9858 - val_loss: 0.0515 - val_acc: 0.9888\n",
            "\n",
            "Epoch 00010: val_acc improved from 0.98820 to 0.98880, saving model to drive/model_files32/EVA1assgn5.hdf5\n",
            "Epoch 11/30\n",
            "4000/4000 [==============================] - 32s 8ms/step - loss: 0.0588 - acc: 0.9861 - val_loss: 0.0767 - val_acc: 0.9811\n",
            "\n",
            "Epoch 00011: val_acc did not improve from 0.98880\n",
            "Epoch 12/30\n",
            "4000/4000 [==============================] - 32s 8ms/step - loss: 0.0568 - acc: 0.9863 - val_loss: 0.0637 - val_acc: 0.9841\n",
            "\n",
            "Epoch 00012: val_acc did not improve from 0.98880\n",
            "Epoch 13/30\n",
            "4000/4000 [==============================] - 34s 9ms/step - loss: 0.0556 - acc: 0.9868 - val_loss: 0.0518 - val_acc: 0.9896\n",
            "\n",
            "Epoch 00013: val_acc improved from 0.98880 to 0.98960, saving model to drive/model_files32/EVA1assgn5.hdf5\n",
            "Epoch 14/30\n",
            "4000/4000 [==============================] - 32s 8ms/step - loss: 0.0544 - acc: 0.9872 - val_loss: 0.0773 - val_acc: 0.9801\n",
            "\n",
            "Epoch 00014: val_acc did not improve from 0.98960\n",
            "Epoch 15/30\n",
            "4000/4000 [==============================] - 32s 8ms/step - loss: 0.0548 - acc: 0.9871 - val_loss: 0.1473 - val_acc: 0.9559\n",
            "\n",
            "Epoch 00015: val_acc did not improve from 0.98960\n",
            "Epoch 16/30\n",
            "4000/4000 [==============================] - 31s 8ms/step - loss: 0.0527 - acc: 0.9875 - val_loss: 0.0593 - val_acc: 0.9868\n",
            "\n",
            "Epoch 00016: val_acc did not improve from 0.98960\n",
            "Epoch 17/30\n",
            "4000/4000 [==============================] - 32s 8ms/step - loss: 0.0519 - acc: 0.9879 - val_loss: 0.0543 - val_acc: 0.9879\n",
            "\n",
            "Epoch 00017: val_acc did not improve from 0.98960\n",
            "Epoch 18/30\n",
            "4000/4000 [==============================] - 32s 8ms/step - loss: 0.0505 - acc: 0.9881 - val_loss: 0.0503 - val_acc: 0.9884\n",
            "\n",
            "Epoch 00018: val_acc did not improve from 0.98960\n",
            "Epoch 19/30\n",
            "4000/4000 [==============================] - 33s 8ms/step - loss: 0.0511 - acc: 0.9879 - val_loss: 0.0742 - val_acc: 0.9817\n",
            "\n",
            "Epoch 00019: val_acc did not improve from 0.98960\n",
            "Epoch 20/30\n",
            "4000/4000 [==============================] - 32s 8ms/step - loss: 0.0506 - acc: 0.9883 - val_loss: 0.0499 - val_acc: 0.9900\n",
            "\n",
            "Epoch 00020: val_acc improved from 0.98960 to 0.99000, saving model to drive/model_files32/EVA1assgn5.hdf5\n",
            "Epoch 21/30\n",
            "4000/4000 [==============================] - 32s 8ms/step - loss: 0.0496 - acc: 0.9883 - val_loss: 0.0493 - val_acc: 0.9894\n",
            "\n",
            "Epoch 00021: val_acc did not improve from 0.99000\n",
            "Epoch 22/30\n",
            "4000/4000 [==============================] - 32s 8ms/step - loss: 0.0497 - acc: 0.9882 - val_loss: 0.0656 - val_acc: 0.9849\n",
            "\n",
            "Epoch 00022: val_acc did not improve from 0.99000\n",
            "Epoch 23/30\n",
            "4000/4000 [==============================] - 32s 8ms/step - loss: 0.0483 - acc: 0.9890 - val_loss: 0.0664 - val_acc: 0.9859\n",
            "\n",
            "Epoch 00023: val_acc did not improve from 0.99000\n",
            "Epoch 24/30\n",
            "4000/4000 [==============================] - 33s 8ms/step - loss: 0.0480 - acc: 0.9891 - val_loss: 0.0590 - val_acc: 0.9855\n",
            "\n",
            "Epoch 00024: val_acc did not improve from 0.99000\n",
            "Epoch 25/30\n",
            "4000/4000 [==============================] - 33s 8ms/step - loss: 0.0485 - acc: 0.9887 - val_loss: 0.0860 - val_acc: 0.9805\n",
            "\n",
            "Epoch 00025: val_acc did not improve from 0.99000\n",
            "Epoch 26/30\n",
            "4000/4000 [==============================] - 33s 8ms/step - loss: 0.0469 - acc: 0.9893 - val_loss: 0.0459 - val_acc: 0.9901\n",
            "\n",
            "Epoch 00026: val_acc improved from 0.99000 to 0.99010, saving model to drive/model_files32/EVA1assgn5.hdf5\n",
            "Epoch 27/30\n",
            "4000/4000 [==============================] - 31s 8ms/step - loss: 0.0466 - acc: 0.9889 - val_loss: 0.0725 - val_acc: 0.9802\n",
            "\n",
            "Epoch 00027: val_acc did not improve from 0.99010\n",
            "Epoch 28/30\n",
            "4000/4000 [==============================] - 30s 8ms/step - loss: 0.0474 - acc: 0.9887 - val_loss: 0.0450 - val_acc: 0.9901\n",
            "\n",
            "Epoch 00028: val_acc did not improve from 0.99010\n",
            "Epoch 29/30\n",
            "4000/4000 [==============================] - 33s 8ms/step - loss: 0.0464 - acc: 0.9892 - val_loss: 0.0438 - val_acc: 0.9914\n",
            "\n",
            "Epoch 00029: val_acc improved from 0.99010 to 0.99140, saving model to drive/model_files32/EVA1assgn5.hdf5\n",
            "Epoch 30/30\n",
            "4000/4000 [==============================] - 32s 8ms/step - loss: 0.0461 - acc: 0.9892 - val_loss: 0.0411 - val_acc: 0.9912\n",
            "\n",
            "Epoch 00030: val_acc did not improve from 0.99140\n"
          ],
          "name": "stdout"
        },
        {
          "output_type": "execute_result",
          "data": {
            "text/plain": [
              "<keras.callbacks.History at 0x7f06ca736ef0>"
            ]
          },
          "metadata": {
            "tags": []
          },
          "execution_count": 253
        }
      ]
    },
    {
      "cell_type": "code",
      "metadata": {
        "id": "c6sjGoPcLVJf",
        "colab_type": "code",
        "colab": {}
      },
      "source": [
        ""
      ],
      "execution_count": 0,
      "outputs": []
    },
    {
      "cell_type": "code",
      "metadata": {
        "id": "h0KoVnZeLPma",
        "colab_type": "code",
        "colab": {}
      },
      "source": [
        ""
      ],
      "execution_count": 0,
      "outputs": []
    },
    {
      "cell_type": "code",
      "metadata": {
        "id": "fZormIL3LB9d",
        "colab_type": "code",
        "outputId": "0fb9a201-ad0e-4c7c-92de-235ee7a25e6a",
        "colab": {
          "base_uri": "https://localhost:8080/",
          "height": 714
        }
      },
      "source": [
        "model.fit_generator(\n",
        "    x_aug, steps_per_epoch=4000, epochs=10,\n",
        "    verbose=1, validation_data=(X_test, Y_test), callbacks=callbacks_list\n",
        ")"
      ],
      "execution_count": 0,
      "outputs": [
        {
          "output_type": "stream",
          "text": [
            "Epoch 1/10\n",
            "4000/4000 [==============================] - 30s 7ms/step - loss: 0.0451 - acc: 0.9896 - val_loss: 0.0547 - val_acc: 0.9873\n",
            "\n",
            "Epoch 00001: val_acc did not improve from 0.99140\n",
            "Epoch 2/10\n",
            "4000/4000 [==============================] - 30s 7ms/step - loss: 0.0446 - acc: 0.9895 - val_loss: 0.0485 - val_acc: 0.9890\n",
            "\n",
            "Epoch 00002: val_acc did not improve from 0.99140\n",
            "Epoch 3/10\n",
            "4000/4000 [==============================] - 29s 7ms/step - loss: 0.0436 - acc: 0.9898 - val_loss: 0.1440 - val_acc: 0.9531\n",
            "\n",
            "Epoch 00003: val_acc did not improve from 0.99140\n",
            "Epoch 4/10\n",
            "4000/4000 [==============================] - 29s 7ms/step - loss: 0.0434 - acc: 0.9901 - val_loss: 0.0581 - val_acc: 0.9855\n",
            "\n",
            "Epoch 00004: val_acc did not improve from 0.99140\n",
            "Epoch 5/10\n",
            "4000/4000 [==============================] - 30s 7ms/step - loss: 0.0435 - acc: 0.9898 - val_loss: 0.0469 - val_acc: 0.9905\n",
            "\n",
            "Epoch 00005: val_acc did not improve from 0.99140\n",
            "Epoch 6/10\n",
            "4000/4000 [==============================] - 29s 7ms/step - loss: 0.0444 - acc: 0.9895 - val_loss: 0.0378 - val_acc: 0.9930\n",
            "\n",
            "Epoch 00006: val_acc improved from 0.99140 to 0.99300, saving model to drive/model_files32/EVA1assgn5.hdf5\n",
            "Epoch 7/10\n",
            "4000/4000 [==============================] - 30s 7ms/step - loss: 0.0424 - acc: 0.9904 - val_loss: 0.0574 - val_acc: 0.9885\n",
            "\n",
            "Epoch 00007: val_acc did not improve from 0.99300\n",
            "Epoch 8/10\n",
            "4000/4000 [==============================] - 30s 7ms/step - loss: 0.0426 - acc: 0.9900 - val_loss: 0.0406 - val_acc: 0.9917\n",
            "\n",
            "Epoch 00008: val_acc did not improve from 0.99300\n",
            "Epoch 9/10\n",
            "4000/4000 [==============================] - 30s 7ms/step - loss: 0.0427 - acc: 0.9900 - val_loss: 0.0465 - val_acc: 0.9891\n",
            "\n",
            "Epoch 00009: val_acc did not improve from 0.99300\n",
            "Epoch 10/10\n",
            "4000/4000 [==============================] - 30s 7ms/step - loss: 0.0410 - acc: 0.9908 - val_loss: 0.0498 - val_acc: 0.9894\n",
            "\n",
            "Epoch 00010: val_acc did not improve from 0.99300\n"
          ],
          "name": "stdout"
        },
        {
          "output_type": "execute_result",
          "data": {
            "text/plain": [
              "<keras.callbacks.History at 0x7f06c818f278>"
            ]
          },
          "metadata": {
            "tags": []
          },
          "execution_count": 411
        }
      ]
    },
    {
      "cell_type": "markdown",
      "metadata": {
        "id": "RUxXdQxv1vOU",
        "colab_type": "text"
      },
      "source": [
        ""
      ]
    },
    {
      "cell_type": "code",
      "metadata": {
        "id": "PmokOEjm1vvW",
        "colab_type": "code",
        "outputId": "63a63a04-4213-44d9-e312-f1f22e3851da",
        "colab": {
          "base_uri": "https://localhost:8080/",
          "height": 34
        }
      },
      "source": [
        "score = model.evaluate(X_test, Y_test, verbose=0)\n",
        "print(score)"
      ],
      "execution_count": 0,
      "outputs": [
        {
          "output_type": "stream",
          "text": [
            "[0.041093995632231234, 0.9912]\n"
          ],
          "name": "stdout"
        }
      ]
    },
    {
      "cell_type": "code",
      "metadata": {
        "id": "c62ceGsB13kG",
        "colab_type": "code",
        "colab": {}
      },
      "source": [
        "predictions = model.predict(X_test)"
      ],
      "execution_count": 0,
      "outputs": []
    },
    {
      "cell_type": "code",
      "metadata": {
        "id": "M_ja2_LN1XjT",
        "colab_type": "code",
        "colab": {}
      },
      "source": [
        "# Taking all miss-clasified images index.\n",
        "import numpy as np \n",
        "import numpy\n",
        "import matplotlib.pyplot as plt\n",
        "index = 0\n",
        "misclassifiedIndexes = []\n",
        "for label, predict in zip(Y_test, predictions):\n",
        "#   print(label)  \n",
        "  predict = numpy.where(predict == numpy.amax(predict))[0][0]\n",
        "  label = numpy.where(label == numpy.amax(label))[0][0]\n",
        "  \n",
        "  if label != predict: \n",
        "#     print(predict, label)\n",
        "#     misclassifiedIndexes.append(index)\n",
        "    misclassifiedIndexes.append([index, (label, predict)])\n",
        "  index +=1"
      ],
      "execution_count": 0,
      "outputs": []
    },
    {
      "cell_type": "code",
      "metadata": {
        "id": "sChcnYQs9evh",
        "colab_type": "code",
        "outputId": "e04890b9-48a4-40bc-f5f6-82b16fb59b6c",
        "colab": {
          "base_uri": "https://localhost:8080/",
          "height": 136
        }
      },
      "source": [
        "Y_test"
      ],
      "execution_count": 0,
      "outputs": [
        {
          "output_type": "execute_result",
          "data": {
            "text/plain": [
              "array([[0., 0., 0., ..., 1., 0., 0.],\n",
              "       [0., 0., 1., ..., 0., 0., 0.],\n",
              "       [0., 1., 0., ..., 0., 0., 0.],\n",
              "       ...,\n",
              "       [0., 0., 0., ..., 0., 0., 0.],\n",
              "       [0., 0., 0., ..., 0., 0., 0.],\n",
              "       [0., 0., 0., ..., 0., 0., 0.]], dtype=float32)"
            ]
          },
          "metadata": {
            "tags": []
          },
          "execution_count": 347
        }
      ]
    },
    {
      "cell_type": "code",
      "metadata": {
        "id": "EDo6HIu82Mhq",
        "colab_type": "code",
        "outputId": "9061036e-2769-4613-8458-a30d6aa2fa67",
        "colab": {
          "base_uri": "https://localhost:8080/",
          "height": 1151
        }
      },
      "source": [
        "# ploating all images to 5 x 5 in dimenssion \n",
        "plt.figure(figsize=(20,20))\n",
        "for plotIndex, badIndex in enumerate(misclassifiedIndexes[0:25]):\n",
        "\n",
        "  plt.subplot(5, 5, plotIndex+1)\n",
        "#   nrows=2, ncols=2\n",
        "#   plt.subplot(nrows=1, ncols=1)\n",
        "  plt.imshow(np.reshape(X_test[badIndex[0]], (28,28)), cmap=plt.cm.gray)\n",
        "  kk = badIndex[1][0]\n",
        "  mm = badIndex[1][1]\n",
        "  plt.title(\"Predicted: {}, Actual: {}\".format(mm, kk, fontsize = 15))"
      ],
      "execution_count": 0,
      "outputs": [
        {
          "output_type": "display_data",
          "data": {
            "image/png": "[encoded data removed]",
            "text/plain": [
              "<Figure size 1440x1440 with 25 Axes>"
            ]
          },
          "metadata": {
            "tags": []
          }
        }
      ]
    },
    {
      "cell_type": "code",
      "metadata": {
        "id": "3xeNFVDTxy3X",
        "colab_type": "code",
        "colab": {}
      },
      "source": [
        ""
      ],
      "execution_count": 0,
      "outputs": []
    },
    {
      "cell_type": "markdown",
      "metadata": {
        "id": "ipk5tCVMyB_d",
        "colab_type": "text"
      },
      "source": [
        "[link text](https://alyxion.github.io/Udacity_IntroToSelfDrivingCarsNd//8_1_Day_Night_Classification_Mini_Projects/47_Accuracy%20and%20Misclassification.html)"
      ]
    }
  ]
}